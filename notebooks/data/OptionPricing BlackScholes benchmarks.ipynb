{
 "cells": [
  {
   "cell_type": "code",
   "execution_count": null,
   "metadata": {},
   "outputs": [],
   "source": [
    "%load_ext autoreload\n",
    "%autoreload 2\n",
    "%pylab inline"
   ]
  },
  {
   "cell_type": "code",
   "execution_count": null,
   "metadata": {},
   "outputs": [],
   "source": [
    "%load_ext Cython\n",
    "%load_ext line_profiler\n",
    "%load_ext memory_profiler"
   ]
  },
  {
   "cell_type": "code",
   "execution_count": null,
   "metadata": {},
   "outputs": [],
   "source": [
    "import sys, argparse, logging\n",
    "from datetime import datetime, time\n",
    "from decimal import Decimal\n",
    "import pymongo\n",
    "from pymongo import MongoClient\n",
    "from tqdm import tqdm, tnrange, tqdm_notebook\n",
    "import pandas as pd\n",
    "from tmqr.settings import *\n",
    "from tmqrfeed.assetsession import AssetSession\n",
    "import pickle\n",
    "import pytz\n",
    "try:\n",
    "    from tmqr.settings_local import *\n",
    "except:\n",
    "    pass\n",
    "import pyximport\n",
    "\n",
    "pyximport.install(setup_args={\"include_dirs\": np.get_include()})\n",
    "from tmqrfeed.quotes.compress_daily_ohlcv import compress_daily\n",
    "import os\n",
    "\n",
    "from tmqrfeed.assetsession import AssetSession\n",
    "from tmqrfeed.quotes.dataframegetter import DataFrameGetter\n",
    "from tmqrfeed.datafeed import DataFeed"
   ]
  },
  {
   "cell_type": "code",
   "execution_count": null,
   "metadata": {},
   "outputs": [],
   "source": [
    "%load_ext line_profiler\n",
    "import line_profiler\n",
    "#Set compiler directives (cf. http://docs.cython.org/src/reference/compilation.html)\n",
    "from Cython.Compiler import Options\n",
    "\n",
    "directive_defaults = Options.get_directive_defaults()\n",
    "directive_defaults['linetrace'] = True\n",
    "directive_defaults['binding'] = True"
   ]
  },
  {
   "cell_type": "code",
   "execution_count": null,
   "metadata": {},
   "outputs": [],
   "source": [
    "import math\n",
    "import numpy as np\n",
    "\n",
    "def cnd(d):\n",
    "    A1 = 0.31938153\n",
    "    A2 = -0.356563782\n",
    "    A3 = 1.781477937\n",
    "    A4 = -1.821255978\n",
    "    A5 = 1.330274429\n",
    "    RSQRT2PI = 0.39894228040143267793994605993438\n",
    "    K = 1.0 / (1.0 + 0.2316419 * np.abs(d))\n",
    "    ret_val = (RSQRT2PI * np.exp(-0.5 * d * d) *\n",
    "               (K * (A1 + K * (A2 + K * (A3 + K * (A4 + K * A5))))))\n",
    "    if d > 0:\n",
    "        return 1.0 - ret_val\n",
    "    else:\n",
    "        return ret_val\n",
    "\n",
    "def blackscholes(callputflag, ulprice, strike, toexpiry, riskfreerate, iv):\n",
    "    try:\n",
    "        if toexpiry <= 0:\n",
    "            # Calculate payoff at expiration\n",
    "            if callputflag == 'C' or callputflag == 'c':\n",
    "                return max(0.0, ulprice - strike)\n",
    "            else:\n",
    "                return max(0.0, strike - ulprice)\n",
    "\n",
    "        d1 = (math.log(ulprice / strike) + (riskfreerate + iv * iv / 2) * toexpiry) / (iv * math.sqrt(toexpiry))\n",
    "        d2 = d1 - iv * math.sqrt(toexpiry)\n",
    "\n",
    "        if callputflag == 'C' or callputflag == 'c':\n",
    "            bsPrice = ulprice * cnd(d1) - strike * math.exp(-riskfreerate * toexpiry) * cnd(d2)\n",
    "        else:\n",
    "            bsPrice = strike * math.exp(-riskfreerate * toexpiry) * cnd(-d2) - ulprice * cnd(-d1)\n",
    "        return bsPrice\n",
    "    except:\n",
    "        return 0.0\n",
    "\n",
    "def blackscholes_greeks(callputflag, ulprice, strike, toexpiry, riskfreerate, iv):\n",
    "    try:\n",
    "        if toexpiry <= 0:\n",
    "            # Calculate greeks at expiration\n",
    "            if callputflag == 'C' or callputflag == 'c':\n",
    "                delta = 1.0 if ulprice > strike else 0.0\n",
    "            else:\n",
    "                delta = -1.0 if ulprice < strike else 0.0\n",
    "            return (delta, )\n",
    "\n",
    "        d1 = (math.log(ulprice / strike) + (riskfreerate + iv * iv / 2) * toexpiry) / (iv * math.sqrt(toexpiry))\n",
    "        d2 = d1 - iv * math.sqrt(toexpiry)\n",
    "        if callputflag == 'C' or callputflag == 'c':\n",
    "            # Call greeks\n",
    "            call_delta = cnd(d1)\n",
    "            return (call_delta, )\n",
    "        else:\n",
    "            # put greeks\n",
    "            put_delta = -cnd(-d1)\n",
    "            return (put_delta, )\n",
    "    except:\n",
    "        return (0.0,)"
   ]
  },
  {
   "cell_type": "code",
   "execution_count": null,
   "metadata": {},
   "outputs": [],
   "source": [
    "%%cython -a -f --compile-args=-DCYTHON_TRACE=1\n",
    "from libc.math cimport exp, log, sqrt, abs\n",
    "import numpy as np\n",
    "import cython\n",
    "\n",
    "@cython.cdivision(True)\n",
    "cdef float cnd(float d):\n",
    "    cdef float A1 = 0.31938153\n",
    "    cdef float A2 = -0.356563782\n",
    "    cdef float A3 = 1.781477937\n",
    "    cdef float A4 = -1.821255978\n",
    "    cdef float A5 = 1.330274429\n",
    "    cdef float RSQRT2PI = 0.39894228040143267793994605993438\n",
    "    cdef float K = 1.0 / (1.0 + 0.2316419 * abs(d))\n",
    "    cdef float ret_val = (RSQRT2PI * exp(-0.5 * d * d) *\n",
    "               (K * (A1 + K * (A2 + K * (A3 + K * (A4 + K * A5))))))\n",
    "    if d > 0:\n",
    "        return 1.0 - ret_val\n",
    "    else:\n",
    "        return ret_val\n",
    "\n",
    "@cython.cdivision(True)\n",
    "def blackscholes_fast(int iscall,float ulprice, float strike, float toexpiry, float riskfreerate,float iv):\n",
    "    cdef float  bsPrice = 0.0\n",
    "    cdef float d1\n",
    "    cdef float d2\n",
    "    if toexpiry <= 0:\n",
    "        # Calculate payoff at expiration\n",
    "        if iscall == 1:\n",
    "            return max(0.0, ulprice - strike)\n",
    "        else:\n",
    "            return max(0.0, strike - ulprice)\n",
    "\n",
    "    d1 = (log(ulprice / strike) + (riskfreerate + iv * iv / 2) * toexpiry) / (iv * sqrt(toexpiry))\n",
    "    d2 = d1 - iv * sqrt(toexpiry)\n",
    "\n",
    "    if iscall == 1:\n",
    "        bsPrice = ulprice * cnd(d1) - strike * exp(-riskfreerate * toexpiry) * cnd(d2)\n",
    "    else:\n",
    "        bsPrice = strike * exp(-riskfreerate * toexpiry) * cnd(-d2) - ulprice * cnd(-d1)\n",
    "    return bsPrice\n",
    "\n",
    "@cython.cdivision(True)\n",
    "def blackscholes_greeks(int iscall,float ulprice, float strike, float toexpiry, float riskfreerate,float iv):\n",
    "    if toexpiry <= 0:\n",
    "        # Calculate greeks at expiration\n",
    "        if iscall == 1:\n",
    "            delta = 1.0 if ulprice > strike else 0.0\n",
    "        else:\n",
    "            delta = -1.0 if ulprice < strike else 0.0\n",
    "        return (delta, )\n",
    "\n",
    "    d1 = (log(ulprice / strike) + (riskfreerate + iv * iv / 2) * toexpiry) / (iv * sqrt(toexpiry))\n",
    "    d2 = d1 - iv * sqrt(toexpiry)\n",
    "    if iscall == 1:\n",
    "        # Call greeks\n",
    "        call_delta = cnd(d1)\n",
    "        return (call_delta, )\n",
    "    else:\n",
    "        # put greeks\n",
    "        put_delta = -cnd(-d1)\n",
    "        return (put_delta, )"
   ]
  },
  {
   "cell_type": "code",
   "execution_count": null,
   "metadata": {},
   "outputs": [],
   "source": [
    "%lprun -f get_quote_fast get_quote_fast(DataFrameGetter(df), [tz.localize(pd.Timestamp('2012-07-15 16:59:00.000'))])"
   ]
  },
  {
   "cell_type": "code",
   "execution_count": null,
   "metadata": {},
   "outputs": [],
   "source": [
    "%timeit blackscholes('C', 100.0, 100.0, 0.24, 0.0, 0.3)"
   ]
  },
  {
   "cell_type": "code",
   "execution_count": null,
   "metadata": {},
   "outputs": [],
   "source": [
    "%timeit blackscholes_fast(1, 100.0, 100.0, 0.24, 0.0, 0.3)"
   ]
  },
  {
   "cell_type": "code",
   "execution_count": null,
   "metadata": {},
   "outputs": [],
   "source": [
    "%lprun -f blackscholes_fast blackscholes_fast(1, 100.0, 100.0, 0.24, 0.0, 0.3)"
   ]
  },
  {
   "cell_type": "code",
   "execution_count": null,
   "metadata": {},
   "outputs": [],
   "source": []
  }
 ],
 "metadata": {
  "kernelspec": {
   "display_name": "Python 3",
   "language": "python",
   "name": "python3"
  },
  "language_info": {
   "codemirror_mode": {
    "name": "ipython",
    "version": 3.0
   },
   "file_extension": ".py",
   "mimetype": "text/x-python",
   "name": "python",
   "nbconvert_exporter": "python",
   "pygments_lexer": "ipython3",
   "version": "3.6.0"
  }
 },
 "nbformat": 4,
 "nbformat_minor": 0
}
