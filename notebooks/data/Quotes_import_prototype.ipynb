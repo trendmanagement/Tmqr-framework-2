{
 "cells": [
  {
   "cell_type": "code",
   "execution_count": null,
   "metadata": {},
   "outputs": [],
   "source": [
    "import sys, argparse, logging\n",
    "import pymssql\n",
    "import _mssql\n",
    "import datetime\n",
    "from decimal import Decimal\n",
    "import pymongo\n",
    "from pymongo import MongoClient\n",
    "from tqdm import tqdm, tnrange, tqdm_notebook\n",
    "\n",
    "from tmqr.settings import *\n",
    "\n",
    "try:\n",
    "    from tmqr.settings_local import *\n",
    "except:\n",
    "    pass\n",
    "\n",
    "\n",
    "\n",
    "# SQL Server credentials\n",
    "SQL_HOST = 'h9ggwlagd1.database.windows.net'\n",
    "SQL_USER = 'modelread'\n",
    "SQL_PASS = '4fSHRXwd4u'"
   ]
  },
  {
   "cell_type": "code",
   "execution_count": null,
   "metadata": {},
   "outputs": [],
   "source": [
    "sql_conn = pymssql.connect(SQL_HOST, SQL_USER + \"@\" + SQL_HOST, SQL_PASS, 'TMLDB')"
   ]
  },
  {
   "cell_type": "code",
   "execution_count": null,
   "metadata": {},
   "outputs": [],
   "source": [
    "def convert_dates(values):\n",
    "    k,v = values\n",
    "    if type(v) == datetime.date:\n",
    "        return k, datetime.datetime.combine(\n",
    "                v,\n",
    "                datetime.datetime.min.time())\n",
    "    if type(v) == Decimal:\n",
    "        return k, float(v)\n",
    "    if k == 'datetime' and type(v) == str:\n",
    "        return k, datetime.datetime.strptime(v, '%Y-%m-%d %H:%M:%S')\n",
    "    else:\n",
    "        return k, v"
   ]
  },
  {
   "cell_type": "code",
   "execution_count": null,
   "metadata": {},
   "outputs": [],
   "source": []
  },
  {
   "cell_type": "code",
   "execution_count": null,
   "metadata": {},
   "outputs": [],
   "source": [
    "# Init mongo asset index\n",
    "client = MongoClient(MONGO_CONNSTR)\n",
    "mongo_db = client[MONGO_DB]\n"
   ]
  },
  {
   "cell_type": "code",
   "execution_count": null,
   "metadata": {},
   "outputs": [],
   "source": [
    "# Storing futures\n",
    "mongo_collection = mongo_db['tmp_bardata']\n",
    "mongo_collection.create_index([('idbardata', pymongo.ASCENDING)], unique=True)\n",
    "mongo_collection.create_index([('idcontract', pymongo.ASCENDING), ('datetime', pymongo.ASCENDING)], unique=True)"
   ]
  },
  {
   "cell_type": "code",
   "execution_count": null,
   "metadata": {},
   "outputs": [],
   "source": []
  },
  {
   "cell_type": "code",
   "execution_count": null,
   "metadata": {},
   "outputs": [],
   "source": [
    "try:\n",
    "    _bardata = mongo_collection.find({}).sort([('idbardata',-1)]).limit(1).next()\n",
    "    print(_bardata)\n",
    "    last_id = _bardata['idbardata']\n",
    "except StopIteration:\n",
    "    last_id = 0\n",
    "print('Starting from idbardata: {0}'.format(last_id))    \n",
    "\n",
    "qry = 'SELECT * FROM cqgdb.tblbardata where idbardata > {0}'.format(last_id)\n",
    "logging.debug(qry)\n",
    "\n",
    "max_steps = 154521767\n",
    "pbar = tqdm_notebook(desc=\"Progress\", total=max_steps)\n",
    "\n",
    "c2 = sql_conn.cursor(as_dict=True)\n",
    "c2.execute(qry)\n",
    "for row in c2:\n",
    "    data = dict(map(convert_dates, row.items()))\n",
    "    #print(data)\n",
    "    mongo_collection.insert_one(data)\n",
    "    pbar.update(1)\n",
    "    #break\n",
    "pbar.close()\n",
    "    "
   ]
  },
  {
   "cell_type": "code",
   "execution_count": null,
   "metadata": {},
   "outputs": [],
   "source": [
    "instruments"
   ]
  },
  {
   "cell_type": "code",
   "execution_count": null,
   "metadata": {},
   "outputs": [],
   "source": [
    "qry = 'SELECT count(*) FROM cqgdb.tblbardata'\n",
    "logging.debug(qry)\n",
    "c2 = sql_conn.cursor()\n",
    "c2.execute(qry)\n",
    "for row in c2:\n",
    "    print(row)"
   ]
  },
  {
   "cell_type": "code",
   "execution_count": null,
   "metadata": {},
   "outputs": [],
   "source": []
  }
 ],
 "metadata": {
  "anaconda-cloud": {},
  "kernelspec": {
   "display_name": "Python [Root]",
   "language": "python",
   "name": "Python [Root]"
  },
  "language_info": {
   "codemirror_mode": {
    "name": "ipython",
    "version": 3
   },
   "file_extension": ".py",
   "mimetype": "text/x-python",
   "name": "python",
   "nbconvert_exporter": "python",
   "pygments_lexer": "ipython3",
   "version": "3.5.2"
  }
 },
 "nbformat": 4,
 "nbformat_minor": 0
}
