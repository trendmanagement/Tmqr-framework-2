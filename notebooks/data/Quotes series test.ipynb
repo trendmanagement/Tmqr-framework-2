{
 "cells": [
  {
   "cell_type": "code",
   "execution_count": null,
   "metadata": {},
   "outputs": [],
   "source": [
    "%load_ext autoreload\n",
    "%autoreload 2\n",
    "%pylab inline"
   ]
  },
  {
   "cell_type": "code",
   "execution_count": null,
   "metadata": {},
   "outputs": [],
   "source": [
    "%load_ext Cython\n",
    "%load_ext line_profiler\n",
    "%load_ext memory_profiler\n"
   ]
  },
  {
   "cell_type": "code",
   "execution_count": null,
   "metadata": {},
   "outputs": [],
   "source": [
    "import sys, argparse, logging\n",
    "import pymssql\n",
    "import _mssql\n",
    "from datetime import datetime, time\n",
    "from decimal import Decimal\n",
    "import pymongo\n",
    "from pymongo import MongoClient\n",
    "from tqdm import tqdm, tnrange, tqdm_notebook\n",
    "import pandas as pd\n",
    "from tmqr.settings import *\n",
    "from tmqrfeed.assetsession import AssetSession\n",
    "import pickle\n",
    "import pytz\n",
    "try:\n",
    "    from tmqr.settings_local import *\n",
    "except:\n",
    "    pass\n",
    "\n",
    "from tmqrfeed.datafeed import DataFeed\n",
    "from tmqrfeed.quotes.dataframegetter import DataFrameGetter"
   ]
  },
  {
   "cell_type": "code",
   "execution_count": null,
   "metadata": {},
   "outputs": [],
   "source": [
    "feed = DataFeed()"
   ]
  },
  {
   "cell_type": "code",
   "execution_count": null,
   "metadata": {},
   "outputs": [],
   "source": [
    "chain = feed.get_fut_chain(\"US.CL\")\n",
    "chain_values = chain.get_list(datetime(2011, 1, 1))"
   ]
  },
  {
   "cell_type": "code",
   "execution_count": null,
   "metadata": {},
   "outputs": [],
   "source": [
    "%load_ext line_profiler\n",
    "import line_profiler\n",
    "#Set compiler directives (cf. http://docs.cython.org/src/reference/compilation.html)\n",
    "from Cython.Compiler.Options import directive_defaults\n",
    "\n",
    "directive_defaults['linetrace'] = True\n",
    "directive_defaults['binding'] = True"
   ]
  },
  {
   "cell_type": "code",
   "execution_count": null,
   "metadata": {},
   "outputs": [],
   "source": []
  },
  {
   "cell_type": "code",
   "execution_count": null,
   "metadata": {},
   "outputs": [],
   "source": [
    "%%cython -a -f --compile-args=-DCYTHON_TRACE=1\n",
    "cimport numpy as np\n",
    "import cython\n",
    "import numpy as np\n",
    "\n",
    "DTYPE = np.float\n",
    "ctypedef np.float64_t DTYPE_t\n",
    "import pandas as pd\n",
    "\n",
    "\n",
    "@cython.boundscheck(False) # turn off bounds-checking for entire function\n",
    "@cython.wraparound(False)  # turn off negative index wrapping for entire function\n",
    "def compress_daily(dfg, asset):\n",
    "    \"\"\"\n",
    "    Calculate OHLCV based on 1-min data from PreProcessor\n",
    "    :param dfg: DataFrameGetter instance\n",
    "    :return:\n",
    "    \"\"\"\n",
    "\n",
    "    cdef DTYPE_t _o, _h, _l, _c, _v, _exec_px\n",
    "\n",
    "    npdate_buf = dfg.index.values.astype('datetime64[D]')\n",
    "\n",
    "    cdef np.uint64_t[:] npdate = npdate_buf.view(np.uint64)\n",
    "    cdef np.uint64_t[:] npdatetime = dfg.index.values.astype('datetime64[s]').view(np.uint64)\n",
    "\n",
    "    cdef np.ndarray[DTYPE_t, ndim=2] data = dfg.data\n",
    "\n",
    "    cdef int io = dfg.cols['o']\n",
    "    cdef int ih = dfg.cols['h']\n",
    "    cdef int il = dfg.cols['l']\n",
    "    cdef int ic = dfg.cols['c']\n",
    "    cdef int iv = dfg.cols['v']\n",
    "    cdef int count = data.shape[1]\n",
    "    cdef int i = 0\n",
    "    cdef int exec_i = 0\n",
    "    cdef np.uint64_t last_date = -1\n",
    "    cdef int last_date_idx = -1\n",
    "    values = []\n",
    "    values_index = []\n",
    "\n",
    "    exec_values = []\n",
    "    exec_values_index = []\n",
    "\n",
    "    # Session filter settings\n",
    "    asset_session = asset.instrument_info.session\n",
    "    cdef np.uint64_t sess_start = -1\n",
    "    cdef np.uint64_t sess_decision = -1\n",
    "    cdef np.uint64_t sess_execution = -1\n",
    "    cdef np.uint64_t sess_next_date = -1\n",
    "    \n",
    "    cdef np.uint64_t current_date = -1\n",
    "    cdef np.uint64_t current_datetime = -1\n",
    "    \n",
    "    dt_sess_start = dt_sess_decision = dt_sess_exec = dt_sess_next = None\n",
    "\n",
    "    cdef int is_newday = 1 #\n",
    "\n",
    "    for i in range(count):\n",
    "        current_date = npdate[i]\n",
    "        current_datetime = npdatetime[i]\n",
    "        \n",
    "        # If new day occurred\n",
    "        if last_date != current_date:\n",
    "            if not is_newday:\n",
    "                # Store previous OHLCV values\n",
    "                values.append(\n",
    "                    {\n",
    "                        'o': _o,\n",
    "                        'h': _h,\n",
    "                        'l': _l,\n",
    "                        'c': _c,\n",
    "                        'v': _v,\n",
    "                        'exec': _exec_px,\n",
    "                    }\n",
    "                )\n",
    "                values_index.append(dt_sess_decision)\n",
    "\n",
    "                # Store exec values\n",
    "                exec_values.append({\n",
    "                    'date': dt_sess_decision,\n",
    "                    'exec_time': dt_sess_exec,\n",
    "                    'quote_time': asset_session.tz.localize(dfg.index[exec_i]),\n",
    "                    'px': _exec_px,\n",
    "                    'qty': 1,\n",
    "                    'asset': asset,\n",
    "                    }\n",
    "                )\n",
    "\n",
    "            # Calculate trading session params\n",
    "            dt_sess_start, dt_sess_decision, dt_sess_exec, dt_sess_next = asset_session.get(dfg.index[i])\n",
    "            sess_start = np.datetime64(dt_sess_start.replace(tzinfo=None)).astype('datetime64[s]').view(np.uint64)\n",
    "            sess_decision = np.datetime64(dt_sess_decision.replace(tzinfo=None)).astype('datetime64[s]').view(np.uint64)\n",
    "            sess_execution = np.datetime64(dt_sess_exec.replace(tzinfo=None)).astype('datetime64[s]').view(np.uint64)\n",
    "\n",
    "            last_date = current_date\n",
    "            last_date_idx = i\n",
    "            is_newday = 1\n",
    "\n",
    "\n",
    "        if current_datetime < sess_start or current_datetime >= sess_execution:\n",
    "            continue\n",
    "\n",
    "\n",
    "\n",
    "        if is_newday:\n",
    "            _o = data[io, i]\n",
    "            _h = data[ih, i]\n",
    "            _l = data[il, i]\n",
    "            _c = data[ic, i]\n",
    "            _v = data[iv, i]\n",
    "            _exec_px = _c\n",
    "            exec_i = i\n",
    "            is_newday = 0\n",
    "        else:\n",
    "            if current_datetime < sess_decision:\n",
    "                _h = max(_h, data[ih, i])\n",
    "                _l = min(_l, data[il, i])\n",
    "                _c = data[ic, i]\n",
    "                _v += data[iv, i]\n",
    "                _exec_px = _c\n",
    "                exec_i = i\n",
    "            else:\n",
    "                _exec_px = data[ic, i]\n",
    "                exec_i = i\n",
    "\n",
    "    if not is_newday:\n",
    "        # Process last values\n",
    "        values.append(\n",
    "            {\n",
    "                'o': _o,\n",
    "                'h': _h,\n",
    "                'l': _l,\n",
    "                'c': _c,\n",
    "                'v': _v,\n",
    "                'exec': _exec_px,\n",
    "            }\n",
    "        )\n",
    "        # Store exec values\n",
    "        exec_values.append({\n",
    "            'date': dt_sess_decision,\n",
    "            'quote_time': asset_session.tz.localize(dfg.index[exec_i]),\n",
    "            'exec_time': dt_sess_exec,\n",
    "            'px': _exec_px,\n",
    "            'qty': 1,\n",
    "            'asset': asset,\n",
    "        }\n",
    "        )\n",
    "        values_index.append(dt_sess_decision)\n",
    "\n",
    "    df_result = pd.DataFrame(values, index=values_index)\n",
    "    df_result.index.rename('dt', inplace=True)\n",
    "    return df_result, pd.DataFrame(exec_values)\n"
   ]
  },
  {
   "cell_type": "code",
   "execution_count": null,
   "metadata": {},
   "outputs": [],
   "source": [
    "fut = chain.get_contract(datetime(2012, 1, 1))\n",
    "series = fut.get_series()\n",
    "%timeit compress_daily(DataFrameGetter(series), fut)"
   ]
  },
  {
   "cell_type": "code",
   "execution_count": null,
   "metadata": {},
   "outputs": [],
   "source": [
    "%lprun -f compress_daily compress_daily(DataFrameGetter(series), fut)\n",
    "\n",
    "    "
   ]
  },
  {
   "cell_type": "code",
   "execution_count": null,
   "metadata": {},
   "outputs": [],
   "source": [
    "fut = chain.get_contract(datetime(2012, 1, 1))\n",
    "fut2 = chain.get_contract(datetime(2012, 1, 1), offset=1)"
   ]
  },
  {
   "cell_type": "code",
   "execution_count": null,
   "metadata": {},
   "outputs": [],
   "source": [
    "series = fut.get_series()"
   ]
  },
  {
   "cell_type": "code",
   "execution_count": null,
   "metadata": {},
   "outputs": [],
   "source": [
    "series.index"
   ]
  },
  {
   "cell_type": "code",
   "execution_count": null,
   "metadata": {},
   "outputs": [],
   "source": [
    "series.index.tz_localize(None).values"
   ]
  },
  {
   "cell_type": "code",
   "execution_count": null,
   "metadata": {},
   "outputs": [],
   "source": [
    "np.datetime64(datetime.now()).view('uint64').view('datetime64[us]')"
   ]
  },
  {
   "cell_type": "code",
   "execution_count": null,
   "metadata": {},
   "outputs": [],
   "source": [
    "fut.instrument_info.session.sessions"
   ]
  },
  {
   "cell_type": "code",
   "execution_count": null,
   "metadata": {},
   "outputs": [],
   "source": [
    "test_ser = series.ix['2011-12-20'].between_time('00:32', '10:39')"
   ]
  },
  {
   "cell_type": "code",
   "execution_count": null,
   "metadata": {},
   "outputs": [],
   "source": [
    "res_ser = compress_daily(DataFrameGetter(series), fut).ix['2011-12-20']"
   ]
  },
  {
   "cell_type": "code",
   "execution_count": null,
   "metadata": {},
   "outputs": [],
   "source": [
    "assert res_ser['o'] == test_ser['o'][0]\n",
    "assert res_ser['c'] == test_ser['c'][-1]\n",
    "assert res_ser['h'] == test_ser['h'].max()\n",
    "assert res_ser['l'] == test_ser['l'].min()\n",
    "assert res_ser['v'] == test_ser['v'].sum()"
   ]
  },
  {
   "cell_type": "code",
   "execution_count": null,
   "metadata": {},
   "outputs": [],
   "source": [
    "from unittest.mock import MagicMock"
   ]
  },
  {
   "cell_type": "code",
   "execution_count": null,
   "metadata": {},
   "outputs": [],
   "source": [
    "m = MagicMock()"
   ]
  },
  {
   "cell_type": "code",
   "execution_count": null,
   "metadata": {},
   "outputs": [],
   "source": [
    "m.asset.info = 'x'"
   ]
  },
  {
   "cell_type": "code",
   "execution_count": null,
   "metadata": {},
   "outputs": [],
   "source": [
    "m.asset.info"
   ]
  },
  {
   "cell_type": "code",
   "execution_count": null,
   "metadata": {},
   "outputs": [],
   "source": [
    "def get_series():\n",
    "    df_data = []\n",
    "    for row in chain_values.iterrows():\n",
    "        fut_contract, fut_range = row\n",
    "        try:\n",
    "            series = fut_contract.get_series()\n",
    "            df_data.append(series.resample('D').apply(resampleer).dropna())    \n",
    "        except:\n",
    "            continue        \n",
    "            "
   ]
  },
  {
   "cell_type": "code",
   "execution_count": null,
   "metadata": {},
   "outputs": [],
   "source": [
    "def get_series_fast():\n",
    "    df_data = []\n",
    "    for row in chain_values.iterrows():\n",
    "        fut_contract, fut_range = row\n",
    "        try:\n",
    "            series = fut_contract.get_series()\n",
    "            df_data.append(compress_daily(DataFrameGetter(series)))    \n",
    "        except:\n",
    "            continue        "
   ]
  },
  {
   "cell_type": "code",
   "execution_count": null,
   "metadata": {},
   "outputs": [],
   "source": [
    "def get_series2():\n",
    "    df_data = []\n",
    "    for row in chain_values.iterrows():\n",
    "        fut_contract, fut_range = row\n",
    "        try:\n",
    "            series = fut_contract.get_series()\n",
    "            df_data.append(compress_daily(DataFrameGetter(series)))    \n",
    "        except:\n",
    "            continue      \n",
    "    return series, fut_contract"
   ]
  },
  {
   "cell_type": "code",
   "execution_count": null,
   "metadata": {},
   "outputs": [],
   "source": [
    "ser, fut = get_series2()"
   ]
  },
  {
   "cell_type": "code",
   "execution_count": null,
   "metadata": {},
   "outputs": [],
   "source": [
    "fut.instrument_info.session.get(ser.index[0], numpy_dtype=True)"
   ]
  },
  {
   "cell_type": "code",
   "execution_count": null,
   "metadata": {},
   "outputs": [],
   "source": [
    "tz = pytz.timezone(\"US/Pacific\")\n",
    "datetime(2015, 7, 15, 18, 30, 12, tzinfo=tz)"
   ]
  },
  {
   "cell_type": "code",
   "execution_count": null,
   "metadata": {},
   "outputs": [],
   "source": [
    "datetime.utcfromtimestamp(1437035100000000 / 1000000)"
   ]
  },
  {
   "cell_type": "code",
   "execution_count": null,
   "metadata": {},
   "outputs": [],
   "source": [
    "compress_daily(DataFrameGetter(series), fut)"
   ]
  },
  {
   "cell_type": "code",
   "execution_count": null,
   "metadata": {},
   "outputs": [],
   "source": [
    "np.datetime64(numpy.datetime64('2010-01-01T23:00:00'))"
   ]
  },
  {
   "cell_type": "code",
   "execution_count": null,
   "metadata": {},
   "outputs": [],
   "source": [
    "compress_daily(fut.instrument_info.session.filter_dataframe(ser))"
   ]
  },
  {
   "cell_type": "code",
   "execution_count": null,
   "metadata": {},
   "outputs": [],
   "source": [
    "%timeit get_series()"
   ]
  },
  {
   "cell_type": "code",
   "execution_count": null,
   "metadata": {},
   "outputs": [],
   "source": [
    "%timeit get_series_fast()"
   ]
  },
  {
   "cell_type": "code",
   "execution_count": null,
   "metadata": {},
   "outputs": [],
   "source": [
    "%lprun -f get_series get_series()"
   ]
  },
  {
   "cell_type": "code",
   "execution_count": null,
   "metadata": {},
   "outputs": [],
   "source": [
    "%lprun -f get_series_fast get_series_fast()"
   ]
  },
  {
   "cell_type": "code",
   "execution_count": null,
   "metadata": {},
   "outputs": [],
   "source": [
    "%lprun -m tmqrfeed.datafeed get_series()"
   ]
  },
  {
   "cell_type": "code",
   "execution_count": null,
   "metadata": {},
   "outputs": [],
   "source": []
  }
 ],
 "metadata": {
  "anaconda-cloud": {},
  "kernelspec": {
   "display_name": "Python 3",
   "language": "python",
   "name": "python3"
  },
  "language_info": {
   "codemirror_mode": {
    "name": "ipython",
    "version": 3
   },
   "file_extension": ".py",
   "mimetype": "text/x-python",
   "name": "python",
   "nbconvert_exporter": "python",
   "pygments_lexer": "ipython3",
   "version": "3.6.0"
  }
 },
 "nbformat": 4,
 "nbformat_minor": 0
}
