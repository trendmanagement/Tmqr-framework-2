{
 "cells": [
  {
   "cell_type": "code",
   "execution_count": 1,
   "metadata": {
    "collapsed": false
   },
   "outputs": [
    {
     "name": "stdout",
     "output_type": "stream",
     "text": [
      "Populating the interactive namespace from numpy and matplotlib\n"
     ]
    }
   ],
   "source": [
    "%load_ext autoreload\n",
    "%autoreload 2\n",
    "%pylab inline"
   ]
  },
  {
   "cell_type": "code",
   "execution_count": 2,
   "metadata": {
    "collapsed": false
   },
   "outputs": [],
   "source": [
    "%load_ext Cython\n",
    "#%load_ext line_profiler\n",
    "#%load_ext memory_profiler\n"
   ]
  },
  {
   "cell_type": "code",
   "execution_count": 3,
   "metadata": {
    "collapsed": true
   },
   "outputs": [],
   "source": [
    "import sys, argparse, logging\n",
    "import pymssql\n",
    "import _mssql\n",
    "from datetime import datetime, time\n",
    "from decimal import Decimal\n",
    "import pymongo\n",
    "from pymongo import MongoClient\n",
    "from tqdm import tqdm, tnrange, tqdm_notebook\n",
    "import pandas as pd\n",
    "from tmqr.settings import *\n",
    "from tmqrfeed.assetsession import AssetSession\n",
    "import pickle\n",
    "import pytz\n",
    "try:\n",
    "    from tmqr.settings_local import *\n",
    "except:\n",
    "    pass\n",
    "\n",
    "from tmqrfeed.datafeed import DataFeed"
   ]
  },
  {
   "cell_type": "code",
   "execution_count": 4,
   "metadata": {
    "collapsed": true
   },
   "outputs": [],
   "source": [
    "feed = DataFeed()"
   ]
  },
  {
   "cell_type": "code",
   "execution_count": 13,
   "metadata": {
    "collapsed": false
   },
   "outputs": [],
   "source": [
    "chain = feed.get_fut_chain(\"US.CL\")\n",
    "chain_values = chain.get_list(datetime(2011, 1, 1))"
   ]
  },
  {
   "cell_type": "code",
   "execution_count": 14,
   "metadata": {
    "collapsed": false,
    "scrolled": true
   },
   "outputs": [],
   "source": [
    "FNAN = float('nan')\n",
    "def resampleer(x):\n",
    "    if x.name == 'o':\n",
    "        #print(x)\n",
    "        if len(x) == 0:\n",
    "            return FNAN\n",
    "        else:\n",
    "            return x[0]\n",
    "    if x.name == 'h':\n",
    "        return np.max(x)\n",
    "    if x.name == 'l':\n",
    "        return np.min(x)\n",
    "    if x.name == 'c':\n",
    "        if len(x) == 0:\n",
    "            return FNAN\n",
    "        else:                       \n",
    "            return x[-1]\n",
    "    if x.name == 'v':\n",
    "        return np.sum(x)\n",
    "    \n",
    "    return FNAN\n",
    "    \n"
   ]
  },
  {
   "cell_type": "code",
   "execution_count": 16,
   "metadata": {
    "collapsed": false
   },
   "outputs": [],
   "source": [
    "tz = pytz.timezone('US/Pacific')\n",
    "d = datetime(2012, 1, 1)"
   ]
  },
  {
   "cell_type": "code",
   "execution_count": 17,
   "metadata": {
    "collapsed": false
   },
   "outputs": [
    {
     "data": {
      "text/plain": [
       "numpy.datetime64('2012-01-01T08:00:00.000000')"
      ]
     },
     "execution_count": 17,
     "metadata": {},
     "output_type": "execute_result"
    }
   ],
   "source": [
    "np.datetime64(tz.localize(d).astimezone(pytz.utc).replace(tzinfo=None))"
   ]
  },
  {
   "cell_type": "code",
   "execution_count": 28,
   "metadata": {
    "collapsed": false,
    "scrolled": true
   },
   "outputs": [],
   "source": [
    "\n",
    "\n",
    "    "
   ]
  },
  {
   "cell_type": "code",
   "execution_count": 22,
   "metadata": {
    "collapsed": false
   },
   "outputs": [],
   "source": [
    "fut = chain.get_contract(datetime(2012, 1, 1))\n",
    "fut2 = chain.get_contract(datetime(2012, 1, 1), offset=1)"
   ]
  },
  {
   "cell_type": "code",
   "execution_count": 24,
   "metadata": {
    "collapsed": false
   },
   "outputs": [],
   "source": [
    "series = fut.get_series()"
   ]
  },
  {
   "cell_type": "code",
   "execution_count": 25,
   "metadata": {
    "collapsed": false,
    "scrolled": true
   },
   "outputs": [
    {
     "data": {
      "text/html": [
       "<div>\n",
       "<table border=\"1\" class=\"dataframe\">\n",
       "  <thead>\n",
       "    <tr style=\"text-align: right;\">\n",
       "      <th></th>\n",
       "      <th></th>\n",
       "      <th>px</th>\n",
       "      <th>qty</th>\n",
       "      <th>quote_time</th>\n",
       "    </tr>\n",
       "    <tr>\n",
       "      <th>date</th>\n",
       "      <th>asset</th>\n",
       "      <th></th>\n",
       "      <th></th>\n",
       "      <th></th>\n",
       "    </tr>\n",
       "  </thead>\n",
       "  <tbody>\n",
       "    <tr>\n",
       "      <th rowspan=\"2\" valign=\"top\">2011-12-19</th>\n",
       "      <th>US.F.CL.G12.120120</th>\n",
       "      <td>94.06</td>\n",
       "      <td>1</td>\n",
       "      <td>2011-12-19 10:44:00-08:00</td>\n",
       "    </tr>\n",
       "    <tr>\n",
       "      <th>US.F.CL.H12.120222</th>\n",
       "      <td>94.06</td>\n",
       "      <td>1</td>\n",
       "      <td>2011-12-19 10:44:00-08:00</td>\n",
       "    </tr>\n",
       "    <tr>\n",
       "      <th rowspan=\"2\" valign=\"top\">2011-12-20</th>\n",
       "      <th>US.F.CL.G12.120120</th>\n",
       "      <td>97.48</td>\n",
       "      <td>1</td>\n",
       "      <td>2011-12-20 10:44:00-08:00</td>\n",
       "    </tr>\n",
       "    <tr>\n",
       "      <th>US.F.CL.H12.120222</th>\n",
       "      <td>97.48</td>\n",
       "      <td>1</td>\n",
       "      <td>2011-12-20 10:44:00-08:00</td>\n",
       "    </tr>\n",
       "    <tr>\n",
       "      <th rowspan=\"2\" valign=\"top\">2011-12-21</th>\n",
       "      <th>US.F.CL.G12.120120</th>\n",
       "      <td>98.66</td>\n",
       "      <td>1</td>\n",
       "      <td>2011-12-21 10:44:00-08:00</td>\n",
       "    </tr>\n",
       "    <tr>\n",
       "      <th>US.F.CL.H12.120222</th>\n",
       "      <td>98.66</td>\n",
       "      <td>1</td>\n",
       "      <td>2011-12-21 10:44:00-08:00</td>\n",
       "    </tr>\n",
       "    <tr>\n",
       "      <th rowspan=\"2\" valign=\"top\">2011-12-22</th>\n",
       "      <th>US.F.CL.G12.120120</th>\n",
       "      <td>99.73</td>\n",
       "      <td>1</td>\n",
       "      <td>2011-12-22 10:44:00-08:00</td>\n",
       "    </tr>\n",
       "    <tr>\n",
       "      <th>US.F.CL.H12.120222</th>\n",
       "      <td>99.73</td>\n",
       "      <td>1</td>\n",
       "      <td>2011-12-22 10:44:00-08:00</td>\n",
       "    </tr>\n",
       "    <tr>\n",
       "      <th rowspan=\"2\" valign=\"top\">2011-12-23</th>\n",
       "      <th>US.F.CL.G12.120120</th>\n",
       "      <td>99.69</td>\n",
       "      <td>1</td>\n",
       "      <td>2011-12-23 10:44:00-08:00</td>\n",
       "    </tr>\n",
       "    <tr>\n",
       "      <th>US.F.CL.H12.120222</th>\n",
       "      <td>99.69</td>\n",
       "      <td>1</td>\n",
       "      <td>2011-12-23 10:44:00-08:00</td>\n",
       "    </tr>\n",
       "    <tr>\n",
       "      <th rowspan=\"2\" valign=\"top\">2011-12-26</th>\n",
       "      <th>US.F.CL.G12.120120</th>\n",
       "      <td>99.69</td>\n",
       "      <td>1</td>\n",
       "      <td>2011-12-23 10:44:00-08:00</td>\n",
       "    </tr>\n",
       "    <tr>\n",
       "      <th>US.F.CL.H12.120222</th>\n",
       "      <td>99.69</td>\n",
       "      <td>1</td>\n",
       "      <td>2011-12-23 10:44:00-08:00</td>\n",
       "    </tr>\n",
       "    <tr>\n",
       "      <th rowspan=\"2\" valign=\"top\">2011-12-27</th>\n",
       "      <th>US.F.CL.G12.120120</th>\n",
       "      <td>101.20</td>\n",
       "      <td>1</td>\n",
       "      <td>2011-12-27 10:44:00-08:00</td>\n",
       "    </tr>\n",
       "    <tr>\n",
       "      <th>US.F.CL.H12.120222</th>\n",
       "      <td>101.20</td>\n",
       "      <td>1</td>\n",
       "      <td>2011-12-27 10:44:00-08:00</td>\n",
       "    </tr>\n",
       "    <tr>\n",
       "      <th rowspan=\"2\" valign=\"top\">2011-12-28</th>\n",
       "      <th>US.F.CL.G12.120120</th>\n",
       "      <td>99.70</td>\n",
       "      <td>1</td>\n",
       "      <td>2011-12-28 10:44:00-08:00</td>\n",
       "    </tr>\n",
       "    <tr>\n",
       "      <th>US.F.CL.H12.120222</th>\n",
       "      <td>99.70</td>\n",
       "      <td>1</td>\n",
       "      <td>2011-12-28 10:44:00-08:00</td>\n",
       "    </tr>\n",
       "    <tr>\n",
       "      <th rowspan=\"2\" valign=\"top\">2011-12-29</th>\n",
       "      <th>US.F.CL.G12.120120</th>\n",
       "      <td>99.68</td>\n",
       "      <td>1</td>\n",
       "      <td>2011-12-29 10:44:00-08:00</td>\n",
       "    </tr>\n",
       "    <tr>\n",
       "      <th>US.F.CL.H12.120222</th>\n",
       "      <td>99.68</td>\n",
       "      <td>1</td>\n",
       "      <td>2011-12-29 10:44:00-08:00</td>\n",
       "    </tr>\n",
       "    <tr>\n",
       "      <th rowspan=\"2\" valign=\"top\">2011-12-30</th>\n",
       "      <th>US.F.CL.G12.120120</th>\n",
       "      <td>99.72</td>\n",
       "      <td>1</td>\n",
       "      <td>2011-12-30 10:44:00-08:00</td>\n",
       "    </tr>\n",
       "    <tr>\n",
       "      <th>US.F.CL.H12.120222</th>\n",
       "      <td>99.72</td>\n",
       "      <td>1</td>\n",
       "      <td>2011-12-30 10:44:00-08:00</td>\n",
       "    </tr>\n",
       "    <tr>\n",
       "      <th rowspan=\"2\" valign=\"top\">2012-01-02</th>\n",
       "      <th>US.F.CL.G12.120120</th>\n",
       "      <td>99.72</td>\n",
       "      <td>1</td>\n",
       "      <td>2011-12-30 10:44:00-08:00</td>\n",
       "    </tr>\n",
       "    <tr>\n",
       "      <th>US.F.CL.H12.120222</th>\n",
       "      <td>99.72</td>\n",
       "      <td>1</td>\n",
       "      <td>2011-12-30 10:44:00-08:00</td>\n",
       "    </tr>\n",
       "    <tr>\n",
       "      <th rowspan=\"2\" valign=\"top\">2012-01-03</th>\n",
       "      <th>US.F.CL.G12.120120</th>\n",
       "      <td>102.40</td>\n",
       "      <td>1</td>\n",
       "      <td>2012-01-03 10:44:00-08:00</td>\n",
       "    </tr>\n",
       "    <tr>\n",
       "      <th>US.F.CL.H12.120222</th>\n",
       "      <td>102.40</td>\n",
       "      <td>1</td>\n",
       "      <td>2012-01-03 10:44:00-08:00</td>\n",
       "    </tr>\n",
       "    <tr>\n",
       "      <th rowspan=\"2\" valign=\"top\">2012-01-04</th>\n",
       "      <th>US.F.CL.G12.120120</th>\n",
       "      <td>102.74</td>\n",
       "      <td>1</td>\n",
       "      <td>2012-01-04 10:44:00-08:00</td>\n",
       "    </tr>\n",
       "    <tr>\n",
       "      <th>US.F.CL.H12.120222</th>\n",
       "      <td>102.74</td>\n",
       "      <td>1</td>\n",
       "      <td>2012-01-04 10:44:00-08:00</td>\n",
       "    </tr>\n",
       "    <tr>\n",
       "      <th rowspan=\"2\" valign=\"top\">2012-01-05</th>\n",
       "      <th>US.F.CL.G12.120120</th>\n",
       "      <td>103.19</td>\n",
       "      <td>1</td>\n",
       "      <td>2012-01-05 10:44:00-08:00</td>\n",
       "    </tr>\n",
       "    <tr>\n",
       "      <th>US.F.CL.H12.120222</th>\n",
       "      <td>103.19</td>\n",
       "      <td>1</td>\n",
       "      <td>2012-01-05 10:44:00-08:00</td>\n",
       "    </tr>\n",
       "    <tr>\n",
       "      <th rowspan=\"2\" valign=\"top\">2012-01-06</th>\n",
       "      <th>US.F.CL.G12.120120</th>\n",
       "      <td>101.28</td>\n",
       "      <td>1</td>\n",
       "      <td>2012-01-06 10:44:00-08:00</td>\n",
       "    </tr>\n",
       "    <tr>\n",
       "      <th>US.F.CL.H12.120222</th>\n",
       "      <td>101.28</td>\n",
       "      <td>1</td>\n",
       "      <td>2012-01-06 10:44:00-08:00</td>\n",
       "    </tr>\n",
       "    <tr>\n",
       "      <th rowspan=\"2\" valign=\"top\">2012-01-08</th>\n",
       "      <th>US.F.CL.G12.120120</th>\n",
       "      <td>101.28</td>\n",
       "      <td>1</td>\n",
       "      <td>2012-01-06 10:44:00-08:00</td>\n",
       "    </tr>\n",
       "    <tr>\n",
       "      <th>US.F.CL.H12.120222</th>\n",
       "      <td>101.28</td>\n",
       "      <td>1</td>\n",
       "      <td>2012-01-06 10:44:00-08:00</td>\n",
       "    </tr>\n",
       "    <tr>\n",
       "      <th rowspan=\"2\" valign=\"top\">2012-01-09</th>\n",
       "      <th>US.F.CL.G12.120120</th>\n",
       "      <td>100.61</td>\n",
       "      <td>1</td>\n",
       "      <td>2012-01-09 10:44:00-08:00</td>\n",
       "    </tr>\n",
       "    <tr>\n",
       "      <th>US.F.CL.H12.120222</th>\n",
       "      <td>100.61</td>\n",
       "      <td>1</td>\n",
       "      <td>2012-01-09 10:44:00-08:00</td>\n",
       "    </tr>\n",
       "    <tr>\n",
       "      <th rowspan=\"2\" valign=\"top\">2012-01-10</th>\n",
       "      <th>US.F.CL.G12.120120</th>\n",
       "      <td>102.64</td>\n",
       "      <td>1</td>\n",
       "      <td>2012-01-10 10:44:00-08:00</td>\n",
       "    </tr>\n",
       "    <tr>\n",
       "      <th>US.F.CL.H12.120222</th>\n",
       "      <td>102.64</td>\n",
       "      <td>1</td>\n",
       "      <td>2012-01-10 10:44:00-08:00</td>\n",
       "    </tr>\n",
       "    <tr>\n",
       "      <th rowspan=\"2\" valign=\"top\">2012-01-11</th>\n",
       "      <th>US.F.CL.G12.120120</th>\n",
       "      <td>101.88</td>\n",
       "      <td>1</td>\n",
       "      <td>2012-01-11 10:44:00-08:00</td>\n",
       "    </tr>\n",
       "    <tr>\n",
       "      <th>US.F.CL.H12.120222</th>\n",
       "      <td>101.88</td>\n",
       "      <td>1</td>\n",
       "      <td>2012-01-11 10:44:00-08:00</td>\n",
       "    </tr>\n",
       "    <tr>\n",
       "      <th rowspan=\"2\" valign=\"top\">2012-01-12</th>\n",
       "      <th>US.F.CL.G12.120120</th>\n",
       "      <td>101.31</td>\n",
       "      <td>1</td>\n",
       "      <td>2012-01-12 10:44:00-08:00</td>\n",
       "    </tr>\n",
       "    <tr>\n",
       "      <th>US.F.CL.H12.120222</th>\n",
       "      <td>101.31</td>\n",
       "      <td>1</td>\n",
       "      <td>2012-01-12 10:44:00-08:00</td>\n",
       "    </tr>\n",
       "    <tr>\n",
       "      <th rowspan=\"2\" valign=\"top\">2012-01-13</th>\n",
       "      <th>US.F.CL.G12.120120</th>\n",
       "      <td>98.29</td>\n",
       "      <td>1</td>\n",
       "      <td>2012-01-13 10:44:00-08:00</td>\n",
       "    </tr>\n",
       "    <tr>\n",
       "      <th>US.F.CL.H12.120222</th>\n",
       "      <td>98.29</td>\n",
       "      <td>1</td>\n",
       "      <td>2012-01-13 10:44:00-08:00</td>\n",
       "    </tr>\n",
       "    <tr>\n",
       "      <th rowspan=\"2\" valign=\"top\">2012-01-15</th>\n",
       "      <th>US.F.CL.G12.120120</th>\n",
       "      <td>98.29</td>\n",
       "      <td>1</td>\n",
       "      <td>2012-01-13 10:44:00-08:00</td>\n",
       "    </tr>\n",
       "    <tr>\n",
       "      <th>US.F.CL.H12.120222</th>\n",
       "      <td>98.29</td>\n",
       "      <td>1</td>\n",
       "      <td>2012-01-13 10:44:00-08:00</td>\n",
       "    </tr>\n",
       "    <tr>\n",
       "      <th rowspan=\"2\" valign=\"top\">2012-01-16</th>\n",
       "      <th>US.F.CL.G12.120120</th>\n",
       "      <td>99.69</td>\n",
       "      <td>1</td>\n",
       "      <td>2012-01-16 10:14:00-08:00</td>\n",
       "    </tr>\n",
       "    <tr>\n",
       "      <th>US.F.CL.H12.120222</th>\n",
       "      <td>99.69</td>\n",
       "      <td>1</td>\n",
       "      <td>2012-01-16 10:14:00-08:00</td>\n",
       "    </tr>\n",
       "    <tr>\n",
       "      <th rowspan=\"2\" valign=\"top\">2012-01-17</th>\n",
       "      <th>US.F.CL.G12.120120</th>\n",
       "      <td>100.46</td>\n",
       "      <td>1</td>\n",
       "      <td>2012-01-17 10:44:00-08:00</td>\n",
       "    </tr>\n",
       "    <tr>\n",
       "      <th>US.F.CL.H12.120222</th>\n",
       "      <td>100.46</td>\n",
       "      <td>1</td>\n",
       "      <td>2012-01-17 10:44:00-08:00</td>\n",
       "    </tr>\n",
       "    <tr>\n",
       "      <th>2012-01-18</th>\n",
       "      <th>US.F.CL.G12.120120</th>\n",
       "      <td>100.64</td>\n",
       "      <td>1</td>\n",
       "      <td>2012-01-18 10:44:00-08:00</td>\n",
       "    </tr>\n",
       "  </tbody>\n",
       "</table>\n",
       "</div>"
      ],
      "text/plain": [
       "                                   px  qty                quote_time\n",
       "date       asset                                                    \n",
       "2011-12-19 US.F.CL.G12.120120   94.06    1 2011-12-19 10:44:00-08:00\n",
       "           US.F.CL.H12.120222   94.06    1 2011-12-19 10:44:00-08:00\n",
       "2011-12-20 US.F.CL.G12.120120   97.48    1 2011-12-20 10:44:00-08:00\n",
       "           US.F.CL.H12.120222   97.48    1 2011-12-20 10:44:00-08:00\n",
       "2011-12-21 US.F.CL.G12.120120   98.66    1 2011-12-21 10:44:00-08:00\n",
       "           US.F.CL.H12.120222   98.66    1 2011-12-21 10:44:00-08:00\n",
       "2011-12-22 US.F.CL.G12.120120   99.73    1 2011-12-22 10:44:00-08:00\n",
       "           US.F.CL.H12.120222   99.73    1 2011-12-22 10:44:00-08:00\n",
       "2011-12-23 US.F.CL.G12.120120   99.69    1 2011-12-23 10:44:00-08:00\n",
       "           US.F.CL.H12.120222   99.69    1 2011-12-23 10:44:00-08:00\n",
       "2011-12-26 US.F.CL.G12.120120   99.69    1 2011-12-23 10:44:00-08:00\n",
       "           US.F.CL.H12.120222   99.69    1 2011-12-23 10:44:00-08:00\n",
       "2011-12-27 US.F.CL.G12.120120  101.20    1 2011-12-27 10:44:00-08:00\n",
       "           US.F.CL.H12.120222  101.20    1 2011-12-27 10:44:00-08:00\n",
       "2011-12-28 US.F.CL.G12.120120   99.70    1 2011-12-28 10:44:00-08:00\n",
       "           US.F.CL.H12.120222   99.70    1 2011-12-28 10:44:00-08:00\n",
       "2011-12-29 US.F.CL.G12.120120   99.68    1 2011-12-29 10:44:00-08:00\n",
       "           US.F.CL.H12.120222   99.68    1 2011-12-29 10:44:00-08:00\n",
       "2011-12-30 US.F.CL.G12.120120   99.72    1 2011-12-30 10:44:00-08:00\n",
       "           US.F.CL.H12.120222   99.72    1 2011-12-30 10:44:00-08:00\n",
       "2012-01-02 US.F.CL.G12.120120   99.72    1 2011-12-30 10:44:00-08:00\n",
       "           US.F.CL.H12.120222   99.72    1 2011-12-30 10:44:00-08:00\n",
       "2012-01-03 US.F.CL.G12.120120  102.40    1 2012-01-03 10:44:00-08:00\n",
       "           US.F.CL.H12.120222  102.40    1 2012-01-03 10:44:00-08:00\n",
       "2012-01-04 US.F.CL.G12.120120  102.74    1 2012-01-04 10:44:00-08:00\n",
       "           US.F.CL.H12.120222  102.74    1 2012-01-04 10:44:00-08:00\n",
       "2012-01-05 US.F.CL.G12.120120  103.19    1 2012-01-05 10:44:00-08:00\n",
       "           US.F.CL.H12.120222  103.19    1 2012-01-05 10:44:00-08:00\n",
       "2012-01-06 US.F.CL.G12.120120  101.28    1 2012-01-06 10:44:00-08:00\n",
       "           US.F.CL.H12.120222  101.28    1 2012-01-06 10:44:00-08:00\n",
       "2012-01-08 US.F.CL.G12.120120  101.28    1 2012-01-06 10:44:00-08:00\n",
       "           US.F.CL.H12.120222  101.28    1 2012-01-06 10:44:00-08:00\n",
       "2012-01-09 US.F.CL.G12.120120  100.61    1 2012-01-09 10:44:00-08:00\n",
       "           US.F.CL.H12.120222  100.61    1 2012-01-09 10:44:00-08:00\n",
       "2012-01-10 US.F.CL.G12.120120  102.64    1 2012-01-10 10:44:00-08:00\n",
       "           US.F.CL.H12.120222  102.64    1 2012-01-10 10:44:00-08:00\n",
       "2012-01-11 US.F.CL.G12.120120  101.88    1 2012-01-11 10:44:00-08:00\n",
       "           US.F.CL.H12.120222  101.88    1 2012-01-11 10:44:00-08:00\n",
       "2012-01-12 US.F.CL.G12.120120  101.31    1 2012-01-12 10:44:00-08:00\n",
       "           US.F.CL.H12.120222  101.31    1 2012-01-12 10:44:00-08:00\n",
       "2012-01-13 US.F.CL.G12.120120   98.29    1 2012-01-13 10:44:00-08:00\n",
       "           US.F.CL.H12.120222   98.29    1 2012-01-13 10:44:00-08:00\n",
       "2012-01-15 US.F.CL.G12.120120   98.29    1 2012-01-13 10:44:00-08:00\n",
       "           US.F.CL.H12.120222   98.29    1 2012-01-13 10:44:00-08:00\n",
       "2012-01-16 US.F.CL.G12.120120   99.69    1 2012-01-16 10:14:00-08:00\n",
       "           US.F.CL.H12.120222   99.69    1 2012-01-16 10:14:00-08:00\n",
       "2012-01-17 US.F.CL.G12.120120  100.46    1 2012-01-17 10:44:00-08:00\n",
       "           US.F.CL.H12.120222  100.46    1 2012-01-17 10:44:00-08:00\n",
       "2012-01-18 US.F.CL.G12.120120  100.64    1 2012-01-18 10:44:00-08:00"
      ]
     },
     "execution_count": 25,
     "metadata": {},
     "output_type": "execute_result"
    }
   ],
   "source": [
    "compress_daily(DataFrameGetter(series), fut, fut2)[1]"
   ]
  },
  {
   "cell_type": "code",
   "execution_count": 12,
   "metadata": {
    "collapsed": false
   },
   "outputs": [
    {
     "data": {
      "text/plain": [
       "[{'decision': datetime.time(10, 40),\n",
       "  'dt': datetime.datetime(1900, 1, 1, 0, 0, tzinfo=<DstTzInfo 'US/Pacific' LMT-1 day, 16:07:00 STD>),\n",
       "  'execution': datetime.time(10, 45),\n",
       "  'start': datetime.time(0, 32)}]"
      ]
     },
     "execution_count": 12,
     "metadata": {},
     "output_type": "execute_result"
    }
   ],
   "source": [
    "fut.instrument_info.session.sessions"
   ]
  },
  {
   "cell_type": "code",
   "execution_count": 46,
   "metadata": {
    "collapsed": false
   },
   "outputs": [],
   "source": [
    "test_ser = series.ix['2011-12-20'].between_time('00:32', '10:39')"
   ]
  },
  {
   "cell_type": "code",
   "execution_count": 42,
   "metadata": {
    "collapsed": false
   },
   "outputs": [],
   "source": [
    "res_ser = compress_daily(DataFrameGetter(series), fut).ix['2011-12-20']"
   ]
  },
  {
   "cell_type": "code",
   "execution_count": 55,
   "metadata": {
    "collapsed": false
   },
   "outputs": [],
   "source": [
    "assert res_ser['o'] == test_ser['o'][0]\n",
    "assert res_ser['c'] == test_ser['c'][-1]\n",
    "assert res_ser['h'] == test_ser['h'].max()\n",
    "assert res_ser['l'] == test_ser['l'].min()\n",
    "assert res_ser['v'] == test_ser['v'].sum()"
   ]
  },
  {
   "cell_type": "code",
   "execution_count": 47,
   "metadata": {
    "collapsed": false,
    "scrolled": true
   },
   "outputs": [
    {
     "data": {
      "text/plain": [
       "dt\n",
       "2011-12-20 00:32:00-08:00    94.77\n",
       "2011-12-20 00:33:00-08:00    94.82\n",
       "2011-12-20 00:34:00-08:00    94.80\n",
       "2011-12-20 00:35:00-08:00    94.84\n",
       "2011-12-20 00:36:00-08:00    94.92\n",
       "2011-12-20 00:37:00-08:00    94.92\n",
       "2011-12-20 00:38:00-08:00    94.91\n",
       "2011-12-20 00:39:00-08:00    94.95\n",
       "2011-12-20 00:40:00-08:00    94.85\n",
       "2011-12-20 00:41:00-08:00    94.92\n",
       "2011-12-20 00:42:00-08:00    94.96\n",
       "2011-12-20 00:43:00-08:00    94.98\n",
       "2011-12-20 00:44:00-08:00    94.96\n",
       "2011-12-20 00:45:00-08:00    95.00\n",
       "2011-12-20 00:46:00-08:00    95.01\n",
       "2011-12-20 00:47:00-08:00    94.99\n",
       "2011-12-20 00:48:00-08:00    95.05\n",
       "2011-12-20 00:49:00-08:00    95.06\n",
       "2011-12-20 00:50:00-08:00    95.03\n",
       "2011-12-20 00:51:00-08:00    95.07\n",
       "2011-12-20 00:52:00-08:00    95.06\n",
       "2011-12-20 00:53:00-08:00    95.07\n",
       "2011-12-20 00:54:00-08:00    95.06\n",
       "2011-12-20 00:55:00-08:00    95.06\n",
       "2011-12-20 00:56:00-08:00    95.07\n",
       "2011-12-20 00:57:00-08:00    95.07\n",
       "2011-12-20 00:58:00-08:00    95.03\n",
       "2011-12-20 00:59:00-08:00    95.06\n",
       "2011-12-20 01:00:00-08:00    95.04\n",
       "2011-12-20 01:01:00-08:00    95.05\n",
       "                             ...  \n",
       "2011-12-20 10:10:00-08:00    97.31\n",
       "2011-12-20 10:11:00-08:00    97.40\n",
       "2011-12-20 10:12:00-08:00    97.44\n",
       "2011-12-20 10:13:00-08:00    97.42\n",
       "2011-12-20 10:14:00-08:00    97.44\n",
       "2011-12-20 10:15:00-08:00    97.41\n",
       "2011-12-20 10:16:00-08:00    97.42\n",
       "2011-12-20 10:17:00-08:00    97.39\n",
       "2011-12-20 10:18:00-08:00    97.39\n",
       "2011-12-20 10:19:00-08:00    97.33\n",
       "2011-12-20 10:20:00-08:00    97.34\n",
       "2011-12-20 10:21:00-08:00    97.38\n",
       "2011-12-20 10:22:00-08:00    97.43\n",
       "2011-12-20 10:23:00-08:00    97.40\n",
       "2011-12-20 10:24:00-08:00    97.43\n",
       "2011-12-20 10:25:00-08:00    97.43\n",
       "2011-12-20 10:26:00-08:00    97.46\n",
       "2011-12-20 10:27:00-08:00    97.40\n",
       "2011-12-20 10:28:00-08:00    97.50\n",
       "2011-12-20 10:29:00-08:00    97.48\n",
       "2011-12-20 10:30:00-08:00    97.43\n",
       "2011-12-20 10:31:00-08:00    97.42\n",
       "2011-12-20 10:32:00-08:00    97.43\n",
       "2011-12-20 10:33:00-08:00    97.42\n",
       "2011-12-20 10:34:00-08:00    97.43\n",
       "2011-12-20 10:35:00-08:00    97.46\n",
       "2011-12-20 10:36:00-08:00    97.48\n",
       "2011-12-20 10:37:00-08:00    97.44\n",
       "2011-12-20 10:38:00-08:00    97.48\n",
       "2011-12-20 10:39:00-08:00    97.48\n",
       "Name: o, dtype: float64"
      ]
     },
     "execution_count": 47,
     "metadata": {},
     "output_type": "execute_result"
    }
   ],
   "source": []
  },
  {
   "cell_type": "code",
   "execution_count": 26,
   "metadata": {
    "collapsed": false
   },
   "outputs": [],
   "source": [
    "def get_series():\n",
    "    df_data = []\n",
    "    for row in chain_values.iterrows():\n",
    "        fut_contract, fut_range = row\n",
    "        try:\n",
    "            series = fut_contract.get_series()\n",
    "            df_data.append(series.resample('D').apply(resampleer).dropna())    \n",
    "        except:\n",
    "            continue        \n",
    "            "
   ]
  },
  {
   "cell_type": "code",
   "execution_count": 26,
   "metadata": {
    "collapsed": true
   },
   "outputs": [],
   "source": [
    "def get_series_fast():\n",
    "    df_data = []\n",
    "    for row in chain_values.iterrows():\n",
    "        fut_contract, fut_range = row\n",
    "        try:\n",
    "            series = fut_contract.get_series()\n",
    "            df_data.append(compress_daily(DataFrameGetter(series)))    \n",
    "        except:\n",
    "            continue        "
   ]
  },
  {
   "cell_type": "code",
   "execution_count": null,
   "metadata": {
    "collapsed": true
   },
   "outputs": [],
   "source": [
    "def get_series2():\n",
    "    df_data = []\n",
    "    for row in chain_values.iterrows():\n",
    "        fut_contract, fut_range = row\n",
    "        try:\n",
    "            series = fut_contract.get_series()\n",
    "            df_data.append(compress_daily(DataFrameGetter(series)))    \n",
    "        except:\n",
    "            continue      \n",
    "    return series, fut_contract"
   ]
  },
  {
   "cell_type": "code",
   "execution_count": null,
   "metadata": {
    "collapsed": false
   },
   "outputs": [],
   "source": [
    "ser, fut = get_series2()"
   ]
  },
  {
   "cell_type": "code",
   "execution_count": null,
   "metadata": {
    "collapsed": false
   },
   "outputs": [],
   "source": [
    "fut.instrument_info.session.get(ser.index[0], numpy_dtype=True)"
   ]
  },
  {
   "cell_type": "code",
   "execution_count": null,
   "metadata": {
    "collapsed": false
   },
   "outputs": [],
   "source": [
    "tz = pytz.timezone(\"US/Pacific\")\n",
    "datetime(2015, 7, 15, 18, 30, 12, tzinfo=tz)"
   ]
  },
  {
   "cell_type": "code",
   "execution_count": null,
   "metadata": {
    "collapsed": false
   },
   "outputs": [],
   "source": [
    "datetime.utcfromtimestamp(1437035100000000 / 1000000)"
   ]
  },
  {
   "cell_type": "code",
   "execution_count": null,
   "metadata": {
    "collapsed": false
   },
   "outputs": [],
   "source": [
    "compress_daily(DataFrameGetter(series), fut)"
   ]
  },
  {
   "cell_type": "code",
   "execution_count": null,
   "metadata": {
    "collapsed": false
   },
   "outputs": [],
   "source": [
    "np.datetime64(numpy.datetime64('2010-01-01T23:00:00'))"
   ]
  },
  {
   "cell_type": "code",
   "execution_count": null,
   "metadata": {
    "collapsed": false
   },
   "outputs": [],
   "source": [
    "compress_daily(fut.instrument_info.session.filter_dataframe(ser))"
   ]
  },
  {
   "cell_type": "code",
   "execution_count": null,
   "metadata": {
    "collapsed": false
   },
   "outputs": [],
   "source": [
    "%timeit get_series()"
   ]
  },
  {
   "cell_type": "code",
   "execution_count": 27,
   "metadata": {
    "collapsed": false
   },
   "outputs": [
    {
     "name": "stdout",
     "output_type": "stream",
     "text": [
      "1 loop, best of 3: 1.01 s per loop\n"
     ]
    }
   ],
   "source": [
    "%timeit get_series_fast()"
   ]
  },
  {
   "cell_type": "code",
   "execution_count": null,
   "metadata": {
    "collapsed": false
   },
   "outputs": [],
   "source": [
    "%lprun -f get_series get_series()"
   ]
  },
  {
   "cell_type": "code",
   "execution_count": null,
   "metadata": {
    "collapsed": true
   },
   "outputs": [],
   "source": [
    "%lprun -f get_series_fast get_series_fast()"
   ]
  },
  {
   "cell_type": "code",
   "execution_count": null,
   "metadata": {
    "collapsed": true
   },
   "outputs": [],
   "source": [
    "%lprun -m tmqrfeed.datafeed get_series()"
   ]
  },
  {
   "cell_type": "code",
   "execution_count": null,
   "metadata": {
    "collapsed": true
   },
   "outputs": [],
   "source": []
  }
 ],
 "metadata": {
  "anaconda-cloud": {},
  "kernelspec": {
   "display_name": "Python 3",
   "language": "python",
   "name": "python3"
  },
  "language_info": {
   "codemirror_mode": {
    "name": "ipython",
    "version": 3
   },
   "file_extension": ".py",
   "mimetype": "text/x-python",
   "name": "python",
   "nbconvert_exporter": "python",
   "pygments_lexer": "ipython3",
   "version": "3.5.2"
  }
 },
 "nbformat": 4,
 "nbformat_minor": 0
}
