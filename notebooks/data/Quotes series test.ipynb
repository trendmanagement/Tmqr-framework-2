{
 "cells": [
  {
   "cell_type": "code",
   "execution_count": 37,
   "metadata": {
    "collapsed": false
   },
   "outputs": [
    {
     "name": "stdout",
     "output_type": "stream",
     "text": [
      "The autoreload extension is already loaded. To reload it, use:\n",
      "  %reload_ext autoreload\n",
      "Populating the interactive namespace from numpy and matplotlib\n"
     ]
    },
    {
     "name": "stderr",
     "output_type": "stream",
     "text": [
      "/usr/local/lib/python3.5/dist-packages/IPython/core/magics/pylab.py:161: UserWarning: pylab import has clobbered these variables: ['datetime']\n",
      "`%matplotlib` prevents importing * from pylab and numpy\n",
      "  \"\\n`%matplotlib` prevents importing * from pylab and numpy\"\n"
     ]
    }
   ],
   "source": [
    "%load_ext autoreload\n",
    "%autoreload 2\n",
    "%pylab inline"
   ]
  },
  {
   "cell_type": "code",
   "execution_count": 2,
   "metadata": {
    "collapsed": false
   },
   "outputs": [],
   "source": [
    "%load_ext Cython\n",
    "#%load_ext line_profiler\n",
    "#%load_ext memory_profiler\n"
   ]
  },
  {
   "cell_type": "code",
   "execution_count": 39,
   "metadata": {
    "collapsed": true
   },
   "outputs": [],
   "source": [
    "import sys, argparse, logging\n",
    "import pymssql\n",
    "import _mssql\n",
    "from datetime import datetime, time\n",
    "from decimal import Decimal\n",
    "import pymongo\n",
    "from pymongo import MongoClient\n",
    "from tqdm import tqdm, tnrange, tqdm_notebook\n",
    "import pandas as pd\n",
    "from tmqr.settings import *\n",
    "from tmqrfeed.assetsession import AssetSession\n",
    "import pickle\n",
    "import pytz\n",
    "try:\n",
    "    from tmqr.settings_local import *\n",
    "except:\n",
    "    pass\n",
    "\n",
    "from tmqrfeed.datafeed import DataFeed"
   ]
  },
  {
   "cell_type": "code",
   "execution_count": 40,
   "metadata": {
    "collapsed": true
   },
   "outputs": [],
   "source": [
    "feed = DataFeed()"
   ]
  },
  {
   "cell_type": "code",
   "execution_count": 41,
   "metadata": {
    "collapsed": false
   },
   "outputs": [],
   "source": [
    "chain = feed.get_fut_chain(\"US.CL\")\n",
    "chain_values = chain.get_list(datetime(2011, 1, 1))"
   ]
  },
  {
   "cell_type": "code",
   "execution_count": 42,
   "metadata": {
    "collapsed": false,
    "scrolled": true
   },
   "outputs": [],
   "source": [
    "FNAN = float('nan')\n",
    "def resampleer(x):\n",
    "    if x.name == 'o':\n",
    "        #print(x)\n",
    "        if len(x) == 0:\n",
    "            return FNAN\n",
    "        else:\n",
    "            return x[0]\n",
    "    if x.name == 'h':\n",
    "        return np.max(x)\n",
    "    if x.name == 'l':\n",
    "        return np.min(x)\n",
    "    if x.name == 'c':\n",
    "        if len(x) == 0:\n",
    "            return FNAN\n",
    "        else:                       \n",
    "            return x[-1]\n",
    "    if x.name == 'v':\n",
    "        return np.sum(x)\n",
    "    \n",
    "    return FNAN\n",
    "    \n"
   ]
  },
  {
   "cell_type": "code",
   "execution_count": 43,
   "metadata": {
    "collapsed": false
   },
   "outputs": [],
   "source": [
    "tz = pytz.timezone('US/Pacific')\n",
    "d = datetime(2012, 1, 1)"
   ]
  },
  {
   "cell_type": "code",
   "execution_count": 44,
   "metadata": {
    "collapsed": false
   },
   "outputs": [
    {
     "data": {
      "text/plain": [
       "numpy.datetime64('2012-01-01T08:00:00.000000')"
      ]
     },
     "execution_count": 44,
     "metadata": {},
     "output_type": "execute_result"
    }
   ],
   "source": [
    "np.datetime64(tz.localize(d).astimezone(pytz.utc).replace(tzinfo=None))"
   ]
  },
  {
   "cell_type": "code",
   "execution_count": null,
   "metadata": {
    "collapsed": false,
    "scrolled": true
   },
   "outputs": [],
   "source": [
    "\n",
    "\n",
    "    "
   ]
  },
  {
   "cell_type": "code",
   "execution_count": 45,
   "metadata": {
    "collapsed": false
   },
   "outputs": [],
   "source": [
    "fut = chain.get_contract(datetime(2012, 1, 1))\n",
    "fut2 = chain.get_contract(datetime(2012, 1, 1), offset=1)"
   ]
  },
  {
   "cell_type": "code",
   "execution_count": 46,
   "metadata": {
    "collapsed": false
   },
   "outputs": [],
   "source": [
    "series = fut.get_series()"
   ]
  },
  {
   "cell_type": "code",
   "execution_count": 47,
   "metadata": {
    "collapsed": false
   },
   "outputs": [
    {
     "data": {
      "text/plain": [
       "DatetimeIndex(['2011-12-18 16:00:00-08:00', '2011-12-18 16:02:00-08:00',\n",
       "               '2011-12-18 16:03:00-08:00', '2011-12-18 16:04:00-08:00',\n",
       "               '2011-12-18 16:05:00-08:00', '2011-12-18 16:09:00-08:00',\n",
       "               '2011-12-18 16:10:00-08:00', '2011-12-18 16:11:00-08:00',\n",
       "               '2011-12-18 16:12:00-08:00', '2011-12-18 16:13:00-08:00',\n",
       "               ...\n",
       "               '2012-01-18 15:47:00-08:00', '2012-01-18 15:48:00-08:00',\n",
       "               '2012-01-18 15:49:00-08:00', '2012-01-18 15:50:00-08:00',\n",
       "               '2012-01-18 15:51:00-08:00', '2012-01-18 15:52:00-08:00',\n",
       "               '2012-01-18 15:54:00-08:00', '2012-01-18 15:55:00-08:00',\n",
       "               '2012-01-18 15:58:00-08:00', '2012-01-18 15:59:00-08:00'],\n",
       "              dtype='datetime64[ns, US/Pacific]', name='dt', length=27668, freq=None)"
      ]
     },
     "execution_count": 47,
     "metadata": {},
     "output_type": "execute_result"
    }
   ],
   "source": [
    "series.index"
   ]
  },
  {
   "cell_type": "code",
   "execution_count": 49,
   "metadata": {
    "collapsed": false
   },
   "outputs": [
    {
     "data": {
      "text/plain": [
       "array(['2011-12-18T16:00:00.000000000', '2011-12-18T16:02:00.000000000',\n",
       "       '2011-12-18T16:03:00.000000000', ...,\n",
       "       '2012-01-18T15:55:00.000000000', '2012-01-18T15:58:00.000000000',\n",
       "       '2012-01-18T15:59:00.000000000'], dtype='datetime64[ns]')"
      ]
     },
     "execution_count": 49,
     "metadata": {},
     "output_type": "execute_result"
    }
   ],
   "source": [
    "series.index.tz_localize(None).values"
   ]
  },
  {
   "cell_type": "code",
   "execution_count": 58,
   "metadata": {
    "collapsed": false,
    "scrolled": true
   },
   "outputs": [
    {
     "data": {
      "text/plain": [
       "numpy.datetime64('2017-03-18T13:23:34.728882')"
      ]
     },
     "execution_count": 58,
     "metadata": {},
     "output_type": "execute_result"
    }
   ],
   "source": [
    "np.datetime64(datetime.now()).view('uint64').view('datetime64[us]')"
   ]
  },
  {
   "cell_type": "code",
   "execution_count": 12,
   "metadata": {
    "collapsed": false
   },
   "outputs": [
    {
     "data": {
      "text/plain": [
       "[{'decision': datetime.time(10, 40),\n",
       "  'dt': datetime.datetime(1900, 1, 1, 0, 0, tzinfo=<DstTzInfo 'US/Pacific' LMT-1 day, 16:07:00 STD>),\n",
       "  'execution': datetime.time(10, 45),\n",
       "  'start': datetime.time(0, 32)}]"
      ]
     },
     "execution_count": 12,
     "metadata": {},
     "output_type": "execute_result"
    }
   ],
   "source": [
    "fut.instrument_info.session.sessions"
   ]
  },
  {
   "cell_type": "code",
   "execution_count": 46,
   "metadata": {
    "collapsed": false
   },
   "outputs": [],
   "source": [
    "test_ser = series.ix['2011-12-20'].between_time('00:32', '10:39')"
   ]
  },
  {
   "cell_type": "code",
   "execution_count": 42,
   "metadata": {
    "collapsed": false
   },
   "outputs": [],
   "source": [
    "res_ser = compress_daily(DataFrameGetter(series), fut).ix['2011-12-20']"
   ]
  },
  {
   "cell_type": "code",
   "execution_count": 55,
   "metadata": {
    "collapsed": false
   },
   "outputs": [],
   "source": [
    "assert res_ser['o'] == test_ser['o'][0]\n",
    "assert res_ser['c'] == test_ser['c'][-1]\n",
    "assert res_ser['h'] == test_ser['h'].max()\n",
    "assert res_ser['l'] == test_ser['l'].min()\n",
    "assert res_ser['v'] == test_ser['v'].sum()"
   ]
  },
  {
   "cell_type": "code",
   "execution_count": 29,
   "metadata": {
    "collapsed": false,
    "scrolled": true
   },
   "outputs": [],
   "source": [
    "from unittest.mock import MagicMock"
   ]
  },
  {
   "cell_type": "code",
   "execution_count": 30,
   "metadata": {
    "collapsed": true
   },
   "outputs": [],
   "source": [
    "m = MagicMock()"
   ]
  },
  {
   "cell_type": "code",
   "execution_count": 34,
   "metadata": {
    "collapsed": true
   },
   "outputs": [],
   "source": [
    "m.asset.info = 'x'"
   ]
  },
  {
   "cell_type": "code",
   "execution_count": 36,
   "metadata": {
    "collapsed": false
   },
   "outputs": [
    {
     "data": {
      "text/plain": [
       "'x'"
      ]
     },
     "execution_count": 36,
     "metadata": {},
     "output_type": "execute_result"
    }
   ],
   "source": [
    "m.asset.info"
   ]
  },
  {
   "cell_type": "code",
   "execution_count": 26,
   "metadata": {
    "collapsed": false
   },
   "outputs": [],
   "source": [
    "def get_series():\n",
    "    df_data = []\n",
    "    for row in chain_values.iterrows():\n",
    "        fut_contract, fut_range = row\n",
    "        try:\n",
    "            series = fut_contract.get_series()\n",
    "            df_data.append(series.resample('D').apply(resampleer).dropna())    \n",
    "        except:\n",
    "            continue        \n",
    "            "
   ]
  },
  {
   "cell_type": "code",
   "execution_count": 26,
   "metadata": {
    "collapsed": true
   },
   "outputs": [],
   "source": [
    "def get_series_fast():\n",
    "    df_data = []\n",
    "    for row in chain_values.iterrows():\n",
    "        fut_contract, fut_range = row\n",
    "        try:\n",
    "            series = fut_contract.get_series()\n",
    "            df_data.append(compress_daily(DataFrameGetter(series)))    \n",
    "        except:\n",
    "            continue        "
   ]
  },
  {
   "cell_type": "code",
   "execution_count": null,
   "metadata": {
    "collapsed": true
   },
   "outputs": [],
   "source": [
    "def get_series2():\n",
    "    df_data = []\n",
    "    for row in chain_values.iterrows():\n",
    "        fut_contract, fut_range = row\n",
    "        try:\n",
    "            series = fut_contract.get_series()\n",
    "            df_data.append(compress_daily(DataFrameGetter(series)))    \n",
    "        except:\n",
    "            continue      \n",
    "    return series, fut_contract"
   ]
  },
  {
   "cell_type": "code",
   "execution_count": null,
   "metadata": {
    "collapsed": false
   },
   "outputs": [],
   "source": [
    "ser, fut = get_series2()"
   ]
  },
  {
   "cell_type": "code",
   "execution_count": null,
   "metadata": {
    "collapsed": false
   },
   "outputs": [],
   "source": [
    "fut.instrument_info.session.get(ser.index[0], numpy_dtype=True)"
   ]
  },
  {
   "cell_type": "code",
   "execution_count": null,
   "metadata": {
    "collapsed": false
   },
   "outputs": [],
   "source": [
    "tz = pytz.timezone(\"US/Pacific\")\n",
    "datetime(2015, 7, 15, 18, 30, 12, tzinfo=tz)"
   ]
  },
  {
   "cell_type": "code",
   "execution_count": null,
   "metadata": {
    "collapsed": false
   },
   "outputs": [],
   "source": [
    "datetime.utcfromtimestamp(1437035100000000 / 1000000)"
   ]
  },
  {
   "cell_type": "code",
   "execution_count": null,
   "metadata": {
    "collapsed": false
   },
   "outputs": [],
   "source": [
    "compress_daily(DataFrameGetter(series), fut)"
   ]
  },
  {
   "cell_type": "code",
   "execution_count": null,
   "metadata": {
    "collapsed": false
   },
   "outputs": [],
   "source": [
    "np.datetime64(numpy.datetime64('2010-01-01T23:00:00'))"
   ]
  },
  {
   "cell_type": "code",
   "execution_count": null,
   "metadata": {
    "collapsed": false
   },
   "outputs": [],
   "source": [
    "compress_daily(fut.instrument_info.session.filter_dataframe(ser))"
   ]
  },
  {
   "cell_type": "code",
   "execution_count": null,
   "metadata": {
    "collapsed": false
   },
   "outputs": [],
   "source": [
    "%timeit get_series()"
   ]
  },
  {
   "cell_type": "code",
   "execution_count": 27,
   "metadata": {
    "collapsed": false
   },
   "outputs": [
    {
     "name": "stdout",
     "output_type": "stream",
     "text": [
      "1 loop, best of 3: 1.01 s per loop\n"
     ]
    }
   ],
   "source": [
    "%timeit get_series_fast()"
   ]
  },
  {
   "cell_type": "code",
   "execution_count": null,
   "metadata": {
    "collapsed": false
   },
   "outputs": [],
   "source": [
    "%lprun -f get_series get_series()"
   ]
  },
  {
   "cell_type": "code",
   "execution_count": null,
   "metadata": {
    "collapsed": true
   },
   "outputs": [],
   "source": [
    "%lprun -f get_series_fast get_series_fast()"
   ]
  },
  {
   "cell_type": "code",
   "execution_count": null,
   "metadata": {
    "collapsed": true
   },
   "outputs": [],
   "source": [
    "%lprun -m tmqrfeed.datafeed get_series()"
   ]
  },
  {
   "cell_type": "code",
   "execution_count": null,
   "metadata": {
    "collapsed": true
   },
   "outputs": [],
   "source": []
  }
 ],
 "metadata": {
  "anaconda-cloud": {},
  "kernelspec": {
   "display_name": "Python 3",
   "language": "python",
   "name": "python3"
  },
  "language_info": {
   "codemirror_mode": {
    "name": "ipython",
    "version": 3
   },
   "file_extension": ".py",
   "mimetype": "text/x-python",
   "name": "python",
   "nbconvert_exporter": "python",
   "pygments_lexer": "ipython3",
   "version": "3.5.2"
  }
 },
 "nbformat": 4,
 "nbformat_minor": 0
}
