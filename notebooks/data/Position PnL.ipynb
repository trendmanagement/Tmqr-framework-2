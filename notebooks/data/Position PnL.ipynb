{
 "cells": [
  {
   "cell_type": "code",
   "execution_count": null,
   "metadata": {},
   "outputs": [],
   "source": [
    "%load_ext autoreload\n",
    "%autoreload 2"
   ]
  },
  {
   "cell_type": "code",
   "execution_count": null,
   "metadata": {},
   "outputs": [],
   "source": [
    "from tmqr.errors import SettingsError, ArgumentError\n",
    "import pandas as pd\n",
    "from tmqrfeed.manager import DataManager\n",
    "from tmqrfeed.position import Position\n",
    "from datetime import datetime\n",
    "import pytz\n",
    "from tmqrfeed.costs import Costs"
   ]
  },
  {
   "cell_type": "code",
   "execution_count": null,
   "metadata": {},
   "outputs": [],
   "source": [
    "dm = DataManager()"
   ]
  },
  {
   "cell_type": "code",
   "execution_count": null,
   "metadata": {},
   "outputs": [],
   "source": [
    "dm.costs_set(\"US\", Costs())"
   ]
  },
  {
   "cell_type": "code",
   "execution_count": null,
   "metadata": {},
   "outputs": [],
   "source": [
    "tz = pytz.timezone('US/Pacific')\n",
    "dt = tz.localize(datetime(2017, 1, 3, 12, 45))"
   ]
  },
  {
   "cell_type": "code",
   "execution_count": null,
   "metadata": {},
   "outputs": [],
   "source": [
    "dt"
   ]
  },
  {
   "cell_type": "code",
   "execution_count": null,
   "metadata": {},
   "outputs": [],
   "source": [
    "fut, opt_chain = dm.chains_options_get('US.ES', dt, opt_codes=['', 'EW'])"
   ]
  },
  {
   "cell_type": "code",
   "execution_count": null,
   "metadata": {},
   "outputs": [],
   "source": [
    "fut.contract_info.extra('name')"
   ]
  },
  {
   "cell_type": "code",
   "execution_count": null,
   "metadata": {},
   "outputs": [],
   "source": [
    "opt_chain"
   ]
  },
  {
   "cell_type": "code",
   "execution_count": null,
   "metadata": {},
   "outputs": [],
   "source": []
  },
  {
   "cell_type": "markdown",
   "metadata": {},
   "source": [
    "# BullishCollarBW code"
   ]
  },
  {
   "cell_type": "raw",
   "metadata": {},
   "source": [
    "put_dn5 = opt_chain[-5].P\n",
    "call_up5 = opt_chain[5].C\n",
    "call_up9 = opt_chain[9].C\n",
    "\n",
    "\n",
    "return [\n",
    "    Transaction(put_dn5, self.date, 1.0, put_dn5.price, leg_name='opt_otm_leg'),\n",
    "    Transaction(fut, self.date, 1.0, fut.price, leg_name='fut_leg'),\n",
    "    Transaction(call_up5, self.date, -1.0, call_up5.price, leg_name='call_up5_short_leg'),\n",
    "    Transaction(call_up9, self.date, 1.0, call_up9.price, leg_name='call_up9_long_leg'),\n",
    "]"
   ]
  },
  {
   "cell_type": "code",
   "execution_count": null,
   "metadata": {},
   "outputs": [],
   "source": [
    "pos = Position(dm)\n",
    "\n",
    "pos.add_transaction(dt, opt_chain.find(dt, -5, 'P'), 1)\n",
    "pos.add_transaction(dt, opt_chain.find(dt, 5, 'C'), -1)\n",
    "pos.add_transaction(dt, opt_chain.find(dt, 9, 'C'), 1)\n",
    "pos.add_transaction(dt, fut, 1)\n"
   ]
  },
  {
   "cell_type": "code",
   "execution_count": null,
   "metadata": {},
   "outputs": [],
   "source": [
    "opt_chain.find(dt, -5, 'P').contract_info.extra('name')"
   ]
  },
  {
   "cell_type": "code",
   "execution_count": null,
   "metadata": {},
   "outputs": [],
   "source": [
    "dm.price_get(fut, dt)"
   ]
  },
  {
   "cell_type": "code",
   "execution_count": null,
   "metadata": {},
   "outputs": [],
   "source": [
    "pos"
   ]
  },
  {
   "cell_type": "code",
   "execution_count": null,
   "metadata": {},
   "outputs": [],
   "source": [
    "dt2 = tz.localize(datetime(2017, 1, 4, 12, 45))"
   ]
  },
  {
   "cell_type": "code",
   "execution_count": null,
   "metadata": {},
   "outputs": [],
   "source": [
    "pos.keep_previous_position(dt2)"
   ]
  },
  {
   "cell_type": "code",
   "execution_count": null,
   "metadata": {},
   "outputs": [],
   "source": [
    "pos"
   ]
  },
  {
   "cell_type": "code",
   "execution_count": null,
   "metadata": {},
   "outputs": [],
   "source": [
    "pos.get_pnl_series()"
   ]
  },
  {
   "cell_type": "code",
   "execution_count": null,
   "metadata": {},
   "outputs": [],
   "source": []
  }
 ],
 "metadata": {
  "kernelspec": {
   "display_name": "Python 3",
   "language": "python",
   "name": "python3"
  },
  "language_info": {
   "codemirror_mode": {
    "name": "ipython",
    "version": 3
   },
   "file_extension": ".py",
   "mimetype": "text/x-python",
   "name": "python",
   "nbconvert_exporter": "python",
   "pygments_lexer": "ipython3",
   "version": "3.6.0"
  }
 },
 "nbformat": 4,
 "nbformat_minor": 2
}
