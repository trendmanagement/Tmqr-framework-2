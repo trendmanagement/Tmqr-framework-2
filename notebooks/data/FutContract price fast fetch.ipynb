{
 "cells": [
  {
   "cell_type": "code",
   "execution_count": null,
   "metadata": {},
   "outputs": [],
   "source": [
    "%load_ext autoreload\n",
    "%autoreload 2\n",
    "%pylab inline"
   ]
  },
  {
   "cell_type": "code",
   "execution_count": null,
   "metadata": {},
   "outputs": [],
   "source": [
    "%load_ext Cython\n",
    "%load_ext line_profiler\n",
    "%load_ext memory_profiler"
   ]
  },
  {
   "cell_type": "code",
   "execution_count": null,
   "metadata": {},
   "outputs": [],
   "source": [
    "import sys, argparse, logging\n",
    "from datetime import datetime, time\n",
    "from decimal import Decimal\n",
    "import pymongo\n",
    "from pymongo import MongoClient\n",
    "from tqdm import tqdm, tnrange, tqdm_notebook\n",
    "import pandas as pd\n",
    "from tmqr.settings import *\n",
    "from tmqrfeed.assetsession import AssetSession\n",
    "import pickle\n",
    "import pytz\n",
    "try:\n",
    "    from tmqr.settings_local import *\n",
    "except:\n",
    "    pass\n",
    "import pyximport\n",
    "\n",
    "pyximport.install(setup_args={\"include_dirs\": np.get_include()})\n",
    "from tmqrfeed.quotes.compress_daily_ohlcv import compress_daily\n",
    "import os\n",
    "\n",
    "from tmqrfeed.assetsession import AssetSession\n",
    "from tmqrfeed.quotes.dataframegetter import DataFrameGetter\n",
    "from tmqrfeed.datafeed import DataFeed"
   ]
  },
  {
   "cell_type": "code",
   "execution_count": null,
   "metadata": {},
   "outputs": [],
   "source": [
    "client = MongoClient(MONGO_CONNSTR)"
   ]
  },
  {
   "cell_type": "code",
   "execution_count": null,
   "metadata": {},
   "outputs": [],
   "source": [
    "db = client[MONGO_DB]\n"
   ]
  },
  {
   "cell_type": "code",
   "execution_count": null,
   "metadata": {},
   "outputs": [],
   "source": [
    "data = db[SRC_INTRADAY].find_one({'tckr': 'US.F.CL.Q12.120720', 'dt': pd.Timestamp('2012-07-16 00:00:00.000Z')})\n",
    "df = pickle.loads(data['ohlc'])"
   ]
  },
  {
   "cell_type": "code",
   "execution_count": null,
   "metadata": {},
   "outputs": [],
   "source": []
  },
  {
   "cell_type": "code",
   "execution_count": null,
   "metadata": {},
   "outputs": [],
   "source": [
    "tz = pytz.timezone(\"US/Pacific\")\n",
    "df = df.tz_convert(tz)"
   ]
  },
  {
   "cell_type": "code",
   "execution_count": null,
   "metadata": {},
   "outputs": [],
   "source": [
    "tz.zone"
   ]
  },
  {
   "cell_type": "code",
   "execution_count": null,
   "metadata": {},
   "outputs": [],
   "source": [
    "d = tz.localize(pd.Timestamp('2012-07-16 16:59:00.000'))\n"
   ]
  },
  {
   "cell_type": "code",
   "execution_count": null,
   "metadata": {},
   "outputs": [],
   "source": [
    "len(df)"
   ]
  },
  {
   "cell_type": "code",
   "execution_count": null,
   "metadata": {},
   "outputs": [],
   "source": [
    "%load_ext line_profiler\n",
    "import line_profiler\n",
    "#Set compiler directives (cf. http://docs.cython.org/src/reference/compilation.html)\n",
    "from Cython.Compiler import Options\n",
    "\n",
    "directive_defaults = Options.get_directive_defaults()\n",
    "directive_defaults['linetrace'] = True\n",
    "directive_defaults['binding'] = True"
   ]
  },
  {
   "cell_type": "code",
   "execution_count": null,
   "metadata": {},
   "outputs": [],
   "source": [
    "%%cython -a -f --compile-args=-DCYTHON_TRACE=1\n",
    "cimport numpy as np\n",
    "import cython\n",
    "import numpy as np\n",
    "\n",
    "DTYPE = np.float\n",
    "ctypedef np.float64_t DTYPE_t\n",
    "import pandas as pd\n",
    "\n",
    "\n",
    "@cython.boundscheck(False) # turn off bounds-checking for entire function\n",
    "@cython.wraparound(False)  # turn off negative index wrapping for entire function\n",
    "def get_quote_fast(dfg, timestamps_list):\n",
    "\n",
    "    cdef DTYPE_t _last_px\n",
    "    cdef np.uint64_t[:] npdatetime = dfg.index.values.astype('datetime64[s]').view(np.uint64)\n",
    "\n",
    "    cdef np.ndarray[DTYPE_t, ndim=2] data = dfg.data\n",
    "\n",
    "    cdef int ic = dfg.cols['c']\n",
    "    cdef int count = data.shape[1]\n",
    "    cdef int i = 0\n",
    "    cdef int ts_idx = 0\n",
    "    values = []\n",
    "    \n",
    "    if len(timestamps_list) == 0:\n",
    "        return []\n",
    "    \n",
    "    dates = []\n",
    "    for t in timestamps_list:\n",
    "        # Make sure that timezones are equal\n",
    "        if t.tzinfo.zone != dfg.tz.zone:\n",
    "            # TODO: change to argument error\n",
    "            raise ValueError(\"timestamps_list's and quotes dataframe timezones are inequal\")\n",
    "        \n",
    "        dates.append(np.datetime64(t.replace(tzinfo=None)))\n",
    "    \n",
    "    # Create Numpy sorted dates array\n",
    "    cdef np.uint64_t[:] target_timestamps = np.array(dates, dtype='datetime64[s]').view(np.uint64)\n",
    "        \n",
    "\n",
    "    cdef np.ndarray[np.int64_t, ndim=1] ts_indexes = np.searchsorted(npdatetime, target_timestamps)\n",
    "    \n",
    "    return ts_indexes       \n",
    "\n"
   ]
  },
  {
   "cell_type": "code",
   "execution_count": null,
   "metadata": {},
   "outputs": [],
   "source": [
    "%lprun -f get_quote_fast get_quote_fast(DataFrameGetter(df), [tz.localize(pd.Timestamp('2012-07-15 16:59:00.000'))])"
   ]
  },
  {
   "cell_type": "code",
   "execution_count": null,
   "metadata": {},
   "outputs": [],
   "source": []
  },
  {
   "cell_type": "code",
   "execution_count": null,
   "metadata": {},
   "outputs": [],
   "source": [
    "%%timeit\n",
    "data = db[SRC_INTRADAY].find_one({'tckr': 'US.F.CL.Q12.120720', 'dt': pd.Timestamp('2012-07-16 00:00:00.000Z')})\n",
    "df = pickle.loads(data['ohlc'])\n",
    "df = df.tz_convert(tz)\n",
    "get_quote_fast(DataFrameGetter(df), [tz.localize(pd.Timestamp('2012-07-16 16:59:00.000')),\n",
    "                                     tz.localize(pd.Timestamp('2012-07-17 16:59:00.000'))])"
   ]
  },
  {
   "cell_type": "code",
   "execution_count": null,
   "metadata": {},
   "outputs": [],
   "source": [
    "%timeit df.index.values.astype('datetime64[s]')"
   ]
  },
  {
   "cell_type": "code",
   "execution_count": null,
   "metadata": {},
   "outputs": [],
   "source": [
    "dfg  = DataFrameGetter(df)"
   ]
  },
  {
   "cell_type": "code",
   "execution_count": null,
   "metadata": {},
   "outputs": [],
   "source": [
    "df.index"
   ]
  },
  {
   "cell_type": "code",
   "execution_count": null,
   "metadata": {},
   "outputs": [],
   "source": [
    "v = []\n",
    "v.append(np.datetime64(tz.localize(pd.Timestamp('2012-07-15 16:59:00.000')).replace(tzinfo=None)))\n",
    "v.append(np.datetime64(tz.localize(pd.Timestamp('2012-07-15 16:39:00.000')).replace(tzinfo=None)))"
   ]
  },
  {
   "cell_type": "code",
   "execution_count": null,
   "metadata": {},
   "outputs": [],
   "source": [
    "np.sort(np.array(v, dtype='datetime64[s]')).view(np.uint64)"
   ]
  },
  {
   "cell_type": "code",
   "execution_count": null,
   "metadata": {},
   "outputs": [],
   "source": [
    "np.searchsorted(df.index.values, tz.localize(pd.Timestamp('2012-07-15 16:59:00.000')).value)"
   ]
  },
  {
   "cell_type": "code",
   "execution_count": null,
   "metadata": {},
   "outputs": [],
   "source": [
    "t.date()"
   ]
  },
  {
   "cell_type": "code",
   "execution_count": null,
   "metadata": {},
   "outputs": [],
   "source": []
  }
 ],
 "metadata": {
  "kernelspec": {
   "display_name": "Python 3",
   "language": "python",
   "name": "python3"
  },
  "language_info": {
   "codemirror_mode": {
    "name": "ipython",
    "version": 3
   },
   "file_extension": ".py",
   "mimetype": "text/x-python",
   "name": "python",
   "nbconvert_exporter": "python",
   "pygments_lexer": "ipython3",
   "version": "3.6.0"
  }
 },
 "nbformat": 4,
 "nbformat_minor": 2
}
