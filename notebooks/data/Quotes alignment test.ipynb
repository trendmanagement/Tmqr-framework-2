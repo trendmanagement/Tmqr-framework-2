{
 "cells": [
  {
   "cell_type": "code",
   "execution_count": null,
   "metadata": {},
   "outputs": [],
   "source": [
    "%load_ext autoreload\n",
    "%autoreload 2\n",
    "%pylab inline"
   ]
  },
  {
   "cell_type": "code",
   "execution_count": null,
   "metadata": {},
   "outputs": [],
   "source": [
    "%load_ext Cython\n",
    "%load_ext line_profiler\n",
    "%load_ext memory_profiler\n"
   ]
  },
  {
   "cell_type": "code",
   "execution_count": null,
   "metadata": {},
   "outputs": [],
   "source": [
    "import sys, argparse, logging\n",
    "from datetime import datetime, time\n",
    "from decimal import Decimal\n",
    "import pymongo\n",
    "from pymongo import MongoClient\n",
    "from tqdm import tqdm, tnrange, tqdm_notebook\n",
    "import pandas as pd\n",
    "from tmqr.settings import *\n",
    "from tmqrfeed.assetsession import AssetSession\n",
    "import pickle\n",
    "import pytz\n",
    "try:\n",
    "    from tmqr.settings_local import *\n",
    "except:\n",
    "    pass\n",
    "import pyximport\n",
    "\n",
    "pyximport.install(setup_args={\"include_dirs\": np.get_include()})\n",
    "from tmqrfeed.quotes.compress_daily_ohlcv import compress_daily\n",
    "import os\n",
    "\n",
    "from tmqrfeed.assetsession import AssetSession\n",
    "from tmqrfeed.quotes.dataframegetter import DataFrameGetter\n",
    "from tmqrfeed.datafeed import DataFeed\n",
    "from tmqrfeed.manager import DataManager"
   ]
  },
  {
   "cell_type": "code",
   "execution_count": null,
   "metadata": {},
   "outputs": [],
   "source": [
    "dm = DataManager()\n",
    "feed = dm.datafeed"
   ]
  },
  {
   "cell_type": "code",
   "execution_count": null,
   "metadata": {},
   "outputs": [],
   "source": [
    "from tmqrfeed.quotes.quote_contfut import QuoteContFut"
   ]
  },
  {
   "cell_type": "code",
   "execution_count": null,
   "metadata": {},
   "outputs": [],
   "source": [
    "qcont_fut = QuoteContFut('US.CL', datamanager=dm, timeframe='D')"
   ]
  },
  {
   "cell_type": "code",
   "execution_count": null,
   "metadata": {},
   "outputs": [],
   "source": [
    "quotes_cl, position = qcont_fut.build()"
   ]
  },
  {
   "cell_type": "code",
   "execution_count": null,
   "metadata": {},
   "outputs": [],
   "source": [
    "quotes_cl"
   ]
  },
  {
   "cell_type": "code",
   "execution_count": null,
   "metadata": {},
   "outputs": [],
   "source": [
    "qcont_fut_es = QuoteContFut('US.CL', datamanager=dm, timeframe='D', decision_time_shift=25,\n",
    "                            date_start=datetime(2012, 1, 1),\n",
    "                            date_end=datetime(2026, 1, 1))"
   ]
  },
  {
   "cell_type": "code",
   "execution_count": null,
   "metadata": {},
   "outputs": [],
   "source": [
    "quotes_cl_shifted, position = qcont_fut_es.build()"
   ]
  },
  {
   "cell_type": "code",
   "execution_count": null,
   "metadata": {},
   "outputs": [],
   "source": [
    "quotes_cl_shifted"
   ]
  },
  {
   "cell_type": "code",
   "execution_count": null,
   "metadata": {},
   "outputs": [],
   "source": [
    "quotes_cl.reindex(quotes_cl_shifted.index, method='ffill')"
   ]
  },
  {
   "cell_type": "code",
   "execution_count": null,
   "metadata": {},
   "outputs": [],
   "source": []
  }
 ],
 "metadata": {
  "anaconda-cloud": {},
  "kernelspec": {
   "display_name": "Python 3",
   "language": "python",
   "name": "python3"
  },
  "language_info": {
   "codemirror_mode": {
    "name": "ipython",
    "version": 3
   },
   "file_extension": ".py",
   "mimetype": "text/x-python",
   "name": "python",
   "nbconvert_exporter": "python",
   "pygments_lexer": "ipython3",
   "version": "3.6.0"
  }
 },
 "nbformat": 4,
 "nbformat_minor": 1
}
