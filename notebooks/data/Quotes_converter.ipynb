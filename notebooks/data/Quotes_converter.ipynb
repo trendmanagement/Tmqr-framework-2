{
 "cells": [
  {
   "cell_type": "code",
   "execution_count": null,
   "metadata": {},
   "outputs": [],
   "source": [
    "%load_ext autoreload\n",
    "%autoreload 2"
   ]
  },
  {
   "cell_type": "code",
   "execution_count": null,
   "metadata": {},
   "outputs": [],
   "source": [
    "%pylab inline"
   ]
  },
  {
   "cell_type": "code",
   "execution_count": null,
   "metadata": {},
   "outputs": [],
   "source": [
    "import sys, argparse, logging\n",
    "import pymssql\n",
    "import _mssql\n",
    "from datetime import datetime, time\n",
    "from decimal import Decimal\n",
    "import pymongo\n",
    "from pymongo import MongoClient\n",
    "from tqdm import tqdm, tnrange, tqdm_notebook\n",
    "import pandas as pd\n",
    "from tmqr.settings import *\n",
    "import pickle\n",
    "try:\n",
    "    from tmqr.settings_local import *\n",
    "except:\n",
    "    pass\n",
    "\n",
    "from tmqrfeed.datafeed import DataFeed\n",
    "\n"
   ]
  },
  {
   "cell_type": "code",
   "execution_count": null,
   "metadata": {},
   "outputs": [],
   "source": [
    "# Init mongo asset index\n",
    "client = MongoClient(MONGO_CONNSTR)\n",
    "mongo_db = client[MONGO_DB]\n"
   ]
  },
  {
   "cell_type": "code",
   "execution_count": null,
   "metadata": {},
   "outputs": [],
   "source": [
    "feed = DataFeed()"
   ]
  },
  {
   "cell_type": "code",
   "execution_count": null,
   "metadata": {},
   "outputs": [],
   "source": [
    "chain = feed.get_fut_chain('US.CL')"
   ]
  },
  {
   "cell_type": "code",
   "execution_count": null,
   "metadata": {},
   "outputs": [],
   "source": [
    "futures = chain.get_all()"
   ]
  },
  {
   "cell_type": "code",
   "execution_count": null,
   "metadata": {},
   "outputs": [],
   "source": [
    "fut = futures[0]"
   ]
  },
  {
   "cell_type": "code",
   "execution_count": null,
   "metadata": {},
   "outputs": [],
   "source": [
    "print('Contract: {0} SqlID: {1}'.format(fut, fut.contract_info.extra('sqlid')))"
   ]
  },
  {
   "cell_type": "code",
   "execution_count": null,
   "metadata": {},
   "outputs": [],
   "source": [
    "# Storing futures\n",
    "mongo_collection = mongo_db['tmp_bardata']\n",
    "mongo_collection.create_index([('idcontract', pymongo.ASCENDING), ('datetime', pymongo.ASCENDING)])"
   ]
  },
  {
   "cell_type": "code",
   "execution_count": null,
   "metadata": {},
   "outputs": [],
   "source": [
    "quotes_collection = mongo_db['quotes_intraday']\n",
    "quotes_collection.create_index([('tckr', pymongo.ASCENDING), ('dt',pymongo.ASCENDING)], unique=True)"
   ]
  },
  {
   "cell_type": "code",
   "execution_count": null,
   "metadata": {},
   "outputs": [],
   "source": [
    "for fut in tqdm_notebook(futures):\n",
    "    data = list(mongo_collection.find({'idcontract': fut.contract_info.extra('sqlid')}))\n",
    "    if len(data) == 0:\n",
    "        print(\"Empty contract series for {0} ... skipping\".format(fut))\n",
    "        continue\n",
    "    df = pd.DataFrame(data)\n",
    "    df = df[['datetime', 'open', 'high', 'low', 'close', 'volume']]\n",
    "    df.rename(columns={'datetime': 'dt', 'open': 'o', 'high': 'h', 'low':'l', 'close': 'c', 'volume': 'v'}, inplace=True)\n",
    "    df.set_index('dt', inplace=True)\n",
    "    df.index = df.index.tz_localize(fut.instrument_info.timezone).tz_convert('UTC')\n",
    "    \n",
    "    for idx_dt, df_value in df.groupby(by=df.index.date):\n",
    "        dt = datetime.combine(idx_dt, time(0,0,0))\n",
    "        rec = {\n",
    "            'dt': dt,\n",
    "            'tckr': fut.ticker,\n",
    "            'ohlc': pickle.dumps(df_value)\n",
    "            }\n",
    "        quotes_collection.replace_one({'dt': dt, 'tckr': fut.ticker}, rec, upsert=True)    \n"
   ]
  },
  {
   "cell_type": "code",
   "execution_count": null,
   "metadata": {},
   "outputs": [],
   "source": [
    "\n",
    "    "
   ]
  },
  {
   "cell_type": "code",
   "execution_count": null,
   "metadata": {},
   "outputs": [],
   "source": []
  }
 ],
 "metadata": {
  "anaconda-cloud": {},
  "kernelspec": {
   "display_name": "Python [Root]",
   "language": "python",
   "name": "Python [Root]"
  },
  "language_info": {
   "codemirror_mode": {
    "name": "ipython",
    "version": 3
   },
   "file_extension": ".py",
   "mimetype": "text/x-python",
   "name": "python",
   "nbconvert_exporter": "python",
   "pygments_lexer": "ipython3",
   "version": "3.5.2"
  }
 },
 "nbformat": 4,
 "nbformat_minor": 0
}
