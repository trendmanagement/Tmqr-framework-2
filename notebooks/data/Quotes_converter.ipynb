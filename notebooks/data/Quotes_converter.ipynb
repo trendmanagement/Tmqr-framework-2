{
 "cells": [
  {
   "cell_type": "code",
   "execution_count": 1,
   "metadata": {
    "collapsed": true
   },
   "outputs": [],
   "source": [
    "%load_ext autoreload\n",
    "%autoreload 2"
   ]
  },
  {
   "cell_type": "code",
   "execution_count": 37,
   "metadata": {
    "collapsed": false
   },
   "outputs": [
    {
     "name": "stdout",
     "output_type": "stream",
     "text": [
      "Populating the interactive namespace from numpy and matplotlib\n"
     ]
    }
   ],
   "source": [
    "%pylab inline"
   ]
  },
  {
   "cell_type": "code",
   "execution_count": 60,
   "metadata": {
    "collapsed": false
   },
   "outputs": [],
   "source": [
    "import sys, argparse, logging\n",
    "import pymssql\n",
    "import _mssql\n",
    "from datetime import datetime, time\n",
    "from decimal import Decimal\n",
    "import pymongo\n",
    "from pymongo import MongoClient\n",
    "from tqdm import tqdm, tnrange, tqdm_notebook\n",
    "import pandas as pd\n",
    "from tmqr.settings import *\n",
    "import pickle\n",
    "try:\n",
    "    from tmqr.settings_local import *\n",
    "except:\n",
    "    pass\n",
    "\n",
    "from tmqrfeed.datafeed import DataFeed\n",
    "\n"
   ]
  },
  {
   "cell_type": "code",
   "execution_count": 3,
   "metadata": {
    "collapsed": true
   },
   "outputs": [],
   "source": [
    "# Init mongo asset index\n",
    "client = MongoClient(MONGO_CONNSTR)\n",
    "mongo_db = client[MONGO_DB]\n"
   ]
  },
  {
   "cell_type": "code",
   "execution_count": 4,
   "metadata": {
    "collapsed": true
   },
   "outputs": [],
   "source": [
    "feed = DataFeed()"
   ]
  },
  {
   "cell_type": "code",
   "execution_count": 5,
   "metadata": {
    "collapsed": false
   },
   "outputs": [],
   "source": [
    "chain = feed.get_fut_chain('US.CL')"
   ]
  },
  {
   "cell_type": "code",
   "execution_count": 6,
   "metadata": {
    "collapsed": false
   },
   "outputs": [],
   "source": [
    "futures = chain.get_all()"
   ]
  },
  {
   "cell_type": "code",
   "execution_count": 66,
   "metadata": {
    "collapsed": false
   },
   "outputs": [],
   "source": [
    "fut = futures[0]"
   ]
  },
  {
   "cell_type": "code",
   "execution_count": 67,
   "metadata": {
    "collapsed": false
   },
   "outputs": [
    {
     "name": "stdout",
     "output_type": "stream",
     "text": [
      "Contract: US.F.CL.N83.830622 SqlID: 2.0\n"
     ]
    }
   ],
   "source": [
    "print('Contract: {0} SqlID: {1}'.format(fut, fut.contract_info.extra('sqlid')))"
   ]
  },
  {
   "cell_type": "code",
   "execution_count": 20,
   "metadata": {
    "collapsed": false
   },
   "outputs": [
    {
     "data": {
      "text/plain": [
       "'idcontract_1_datetime_1'"
      ]
     },
     "execution_count": 20,
     "metadata": {},
     "output_type": "execute_result"
    }
   ],
   "source": [
    "# Storing futures\n",
    "mongo_collection = mongo_db['tmp_bardata']\n",
    "mongo_collection.create_index([('idcontract', pymongo.ASCENDING), ('datetime', pymongo.ASCENDING)])"
   ]
  },
  {
   "cell_type": "code",
   "execution_count": 62,
   "metadata": {
    "collapsed": false
   },
   "outputs": [
    {
     "data": {
      "text/plain": [
       "'tckr_1_dt_1'"
      ]
     },
     "execution_count": 62,
     "metadata": {},
     "output_type": "execute_result"
    }
   ],
   "source": [
    "quotes_collection = mongo_db['quotes_intraday']\n",
    "quotes_collection.create_index([('tckr', pymongo.ASCENDING), ('dt',pymongo.ASCENDING)], unique=True)"
   ]
  },
  {
   "cell_type": "code",
   "execution_count": 71,
   "metadata": {
    "collapsed": false,
    "scrolled": true
   },
   "outputs": [
    {
     "name": "stdout",
     "output_type": "stream",
     "text": [
      "Empty contract series for US.F.CL.N83.830622 ... skipping\n",
      "Empty contract series for US.F.CL.Q83.830720 ... skipping\n",
      "Empty contract series for US.F.CL.U83.830822 ... skipping\n",
      "Empty contract series for US.F.CL.V83.830921 ... skipping\n",
      "Empty contract series for US.F.CL.X83.831020 ... skipping\n",
      "Empty contract series for US.F.CL.F84.831221 ... skipping\n",
      "Empty contract series for US.F.CL.G84.840120 ... skipping\n",
      "Empty contract series for US.F.CL.H84.840222 ... skipping\n",
      "Empty contract series for US.F.CL.J84.840321 ... skipping\n",
      "Empty contract series for US.F.CL.K84.840419 ... skipping\n",
      "Empty contract series for US.F.CL.M84.840522 ... skipping\n",
      "Empty contract series for US.F.CL.N84.840620 ... skipping\n",
      "Empty contract series for US.F.CL.Q84.840720 ... skipping\n",
      "Empty contract series for US.F.CL.U84.840822 ... skipping\n",
      "Empty contract series for US.F.CL.V84.840920 ... skipping\n",
      "Empty contract series for US.F.CL.X84.841022 ... skipping\n",
      "Empty contract series for US.F.CL.F85.841220 ... skipping\n",
      "Empty contract series for US.F.CL.G85.850122 ... skipping\n",
      "Empty contract series for US.F.CL.H85.850220 ... skipping\n",
      "Empty contract series for US.F.CL.J85.850320 ... skipping\n",
      "Empty contract series for US.F.CL.K85.850422 ... skipping\n",
      "Empty contract series for US.F.CL.M85.850522 ... skipping\n",
      "Empty contract series for US.F.CL.N85.850620 ... skipping\n",
      "Empty contract series for US.F.CL.Q85.850722 ... skipping\n",
      "Empty contract series for US.F.CL.U85.850821 ... skipping\n",
      "Empty contract series for US.F.CL.V85.850920 ... skipping\n",
      "Empty contract series for US.F.CL.X85.851022 ... skipping\n",
      "Empty contract series for US.F.CL.F86.851220 ... skipping\n",
      "Empty contract series for US.F.CL.G86.860122 ... skipping\n",
      "Empty contract series for US.F.CL.H86.860220 ... skipping\n",
      "Empty contract series for US.F.CL.J86.860320 ... skipping\n",
      "Empty contract series for US.F.CL.K86.860422 ... skipping\n",
      "Empty contract series for US.F.CL.M86.860521 ... skipping\n",
      "Empty contract series for US.F.CL.N86.860620 ... skipping\n",
      "Empty contract series for US.F.CL.Q86.860722 ... skipping\n",
      "Empty contract series for US.F.CL.U86.860820 ... skipping\n",
      "Empty contract series for US.F.CL.V86.860922 ... skipping\n",
      "Empty contract series for US.F.CL.X86.861022 ... skipping\n",
      "Empty contract series for US.F.CL.F87.861222 ... skipping\n",
      "Empty contract series for US.F.CL.G87.870121 ... skipping\n",
      "Empty contract series for US.F.CL.H87.870220 ... skipping\n",
      "Empty contract series for US.F.CL.J87.870320 ... skipping\n",
      "Empty contract series for US.F.CL.K87.870422 ... skipping\n",
      "Empty contract series for US.F.CL.M87.870520 ... skipping\n",
      "Empty contract series for US.F.CL.N87.870622 ... skipping\n",
      "Empty contract series for US.F.CL.Q87.870722 ... skipping\n",
      "Empty contract series for US.F.CL.U87.870820 ... skipping\n",
      "Empty contract series for US.F.CL.V87.870922 ... skipping\n",
      "Empty contract series for US.F.CL.X87.871021 ... skipping\n",
      "Empty contract series for US.F.CL.F88.871222 ... skipping\n",
      "Empty contract series for US.F.CL.G88.880120 ... skipping\n",
      "Empty contract series for US.F.CL.H88.880222 ... skipping\n",
      "Empty contract series for US.F.CL.J88.880322 ... skipping\n",
      "Empty contract series for US.F.CL.K88.880420 ... skipping\n",
      "Empty contract series for US.F.CL.M88.880520 ... skipping\n",
      "Empty contract series for US.F.CL.N88.880622 ... skipping\n",
      "Empty contract series for US.F.CL.Q88.880720 ... skipping\n",
      "Empty contract series for US.F.CL.U88.880822 ... skipping\n",
      "Empty contract series for US.F.CL.V88.880921 ... skipping\n",
      "Empty contract series for US.F.CL.X88.881020 ... skipping\n",
      "Empty contract series for US.F.CL.F89.881221 ... skipping\n",
      "Empty contract series for US.F.CL.G89.890120 ... skipping\n",
      "Empty contract series for US.F.CL.H89.890222 ... skipping\n",
      "Empty contract series for US.F.CL.J89.890321 ... skipping\n",
      "Empty contract series for US.F.CL.K89.890420 ... skipping\n",
      "Empty contract series for US.F.CL.M89.890522 ... skipping\n",
      "Empty contract series for US.F.CL.N89.890621 ... skipping\n",
      "Empty contract series for US.F.CL.Q89.890720 ... skipping\n",
      "Empty contract series for US.F.CL.U89.890822 ... skipping\n",
      "Empty contract series for US.F.CL.V89.890920 ... skipping\n",
      "Empty contract series for US.F.CL.X89.891020 ... skipping\n",
      "Empty contract series for US.F.CL.F90.891220 ... skipping\n",
      "Empty contract series for US.F.CL.G90.900122 ... skipping\n",
      "Empty contract series for US.F.CL.H90.900221 ... skipping\n",
      "Empty contract series for US.F.CL.J90.900321 ... skipping\n",
      "Empty contract series for US.F.CL.K90.900420 ... skipping\n",
      "Empty contract series for US.F.CL.M90.900522 ... skipping\n",
      "Empty contract series for US.F.CL.N90.900620 ... skipping\n",
      "Empty contract series for US.F.CL.Q90.900720 ... skipping\n",
      "Empty contract series for US.F.CL.U90.900822 ... skipping\n",
      "Empty contract series for US.F.CL.V90.900920 ... skipping\n",
      "Empty contract series for US.F.CL.X90.901022 ... skipping\n",
      "Empty contract series for US.F.CL.F91.901220 ... skipping\n",
      "Empty contract series for US.F.CL.G91.910122 ... skipping\n",
      "Empty contract series for US.F.CL.H91.910220 ... skipping\n",
      "Empty contract series for US.F.CL.J91.910320 ... skipping\n",
      "Empty contract series for US.F.CL.K91.910422 ... skipping\n",
      "Empty contract series for US.F.CL.M91.910522 ... skipping\n",
      "Empty contract series for US.F.CL.N91.910620 ... skipping\n",
      "Empty contract series for US.F.CL.Q91.910722 ... skipping\n",
      "Empty contract series for US.F.CL.U91.910821 ... skipping\n",
      "Empty contract series for US.F.CL.V91.910920 ... skipping\n",
      "Empty contract series for US.F.CL.X91.911022 ... skipping\n",
      "Empty contract series for US.F.CL.F92.911220 ... skipping\n",
      "Empty contract series for US.F.CL.G92.920122 ... skipping\n",
      "Empty contract series for US.F.CL.H92.920220 ... skipping\n",
      "Empty contract series for US.F.CL.J92.920320 ... skipping\n",
      "Empty contract series for US.F.CL.K92.920422 ... skipping\n",
      "Empty contract series for US.F.CL.M92.920520 ... skipping\n",
      "Empty contract series for US.F.CL.N92.920622 ... skipping\n",
      "Empty contract series for US.F.CL.Q92.920722 ... skipping\n",
      "Empty contract series for US.F.CL.U92.920820 ... skipping\n",
      "Empty contract series for US.F.CL.V92.920922 ... skipping\n",
      "Empty contract series for US.F.CL.X92.921021 ... skipping\n",
      "Empty contract series for US.F.CL.F93.921222 ... skipping\n",
      "Empty contract series for US.F.CL.G93.930120 ... skipping\n",
      "Empty contract series for US.F.CL.H93.930222 ... skipping\n",
      "Empty contract series for US.F.CL.J93.930322 ... skipping\n",
      "Empty contract series for US.F.CL.K93.930421 ... skipping\n",
      "Empty contract series for US.F.CL.M93.930520 ... skipping\n",
      "Empty contract series for US.F.CL.N93.930622 ... skipping\n",
      "Empty contract series for US.F.CL.Q93.930721 ... skipping\n",
      "Empty contract series for US.F.CL.U93.930820 ... skipping\n",
      "Empty contract series for US.F.CL.V93.930922 ... skipping\n",
      "Empty contract series for US.F.CL.X93.931020 ... skipping\n",
      "Empty contract series for US.F.CL.F94.931221 ... skipping\n",
      "Empty contract series for US.F.CL.G94.940120 ... skipping\n",
      "Empty contract series for US.F.CL.H94.940222 ... skipping\n",
      "Empty contract series for US.F.CL.J94.940322 ... skipping\n",
      "Empty contract series for US.F.CL.K94.940420 ... skipping\n",
      "Empty contract series for US.F.CL.M94.940520 ... skipping\n",
      "Empty contract series for US.F.CL.N94.940622 ... skipping\n",
      "Empty contract series for US.F.CL.Q94.940720 ... skipping\n",
      "Empty contract series for US.F.CL.U94.940822 ... skipping\n",
      "Empty contract series for US.F.CL.V94.940921 ... skipping\n",
      "Empty contract series for US.F.CL.X94.941020 ... skipping\n",
      "Empty contract series for US.F.CL.F95.941221 ... skipping\n",
      "Empty contract series for US.F.CL.G95.950120 ... skipping\n",
      "Empty contract series for US.F.CL.H95.950222 ... skipping\n",
      "Empty contract series for US.F.CL.J95.950322 ... skipping\n",
      "Empty contract series for US.F.CL.K95.950420 ... skipping\n",
      "Empty contract series for US.F.CL.M95.950522 ... skipping\n",
      "Empty contract series for US.F.CL.N95.950621 ... skipping\n",
      "Empty contract series for US.F.CL.Q95.950720 ... skipping\n",
      "Empty contract series for US.F.CL.U95.950822 ... skipping\n",
      "Empty contract series for US.F.CL.V95.950920 ... skipping\n",
      "Empty contract series for US.F.CL.X95.951020 ... skipping\n",
      "Empty contract series for US.F.CL.F96.951220 ... skipping\n",
      "Empty contract series for US.F.CL.G96.960122 ... skipping\n",
      "Empty contract series for US.F.CL.H96.960221 ... skipping\n",
      "Empty contract series for US.F.CL.J96.960320 ... skipping\n",
      "Empty contract series for US.F.CL.K96.960422 ... skipping\n",
      "Empty contract series for US.F.CL.M96.960522 ... skipping\n",
      "Empty contract series for US.F.CL.N96.960620 ... skipping\n",
      "Empty contract series for US.F.CL.Q96.960722 ... skipping\n",
      "Empty contract series for US.F.CL.U96.960821 ... skipping\n",
      "Empty contract series for US.F.CL.V96.960920 ... skipping\n",
      "Empty contract series for US.F.CL.X96.961022 ... skipping\n",
      "Empty contract series for US.F.CL.F97.961220 ... skipping\n",
      "Empty contract series for US.F.CL.G97.970122 ... skipping\n",
      "Empty contract series for US.F.CL.H97.970220 ... skipping\n",
      "Empty contract series for US.F.CL.J97.970320 ... skipping\n",
      "Empty contract series for US.F.CL.K97.970422 ... skipping\n",
      "Empty contract series for US.F.CL.M97.970521 ... skipping\n",
      "Empty contract series for US.F.CL.N97.970620 ... skipping\n",
      "Empty contract series for US.F.CL.Q97.970722 ... skipping\n",
      "Empty contract series for US.F.CL.U97.970820 ... skipping\n",
      "Empty contract series for US.F.CL.V97.970922 ... skipping\n",
      "Empty contract series for US.F.CL.X97.971022 ... skipping\n",
      "Empty contract series for US.F.CL.F98.971222 ... skipping\n",
      "Empty contract series for US.F.CL.G98.980121 ... skipping\n",
      "Empty contract series for US.F.CL.H98.980220 ... skipping\n",
      "Empty contract series for US.F.CL.J98.980320 ... skipping\n",
      "Empty contract series for US.F.CL.K98.980422 ... skipping\n",
      "Empty contract series for US.F.CL.M98.980520 ... skipping\n",
      "Empty contract series for US.F.CL.N98.980622 ... skipping\n",
      "Empty contract series for US.F.CL.Q98.980722 ... skipping\n",
      "Empty contract series for US.F.CL.U98.980820 ... skipping\n",
      "Empty contract series for US.F.CL.V98.980922 ... skipping\n",
      "Empty contract series for US.F.CL.X98.981021 ... skipping\n",
      "Empty contract series for US.F.CL.F99.981222 ... skipping\n",
      "Empty contract series for US.F.CL.G99.990120 ... skipping\n",
      "Empty contract series for US.F.CL.H99.990222 ... skipping\n",
      "Empty contract series for US.F.CL.J99.990322 ... skipping\n",
      "Empty contract series for US.F.CL.K99.990421 ... skipping\n",
      "Empty contract series for US.F.CL.M99.990520 ... skipping\n",
      "Empty contract series for US.F.CL.N99.990622 ... skipping\n",
      "Empty contract series for US.F.CL.Q99.990721 ... skipping\n",
      "Empty contract series for US.F.CL.U99.990820 ... skipping\n",
      "Empty contract series for US.F.CL.V99.990922 ... skipping\n",
      "Empty contract series for US.F.CL.X99.991020 ... skipping\n",
      "Empty contract series for US.F.CL.F00.991221 ... skipping\n",
      "Empty contract series for US.F.CL.G00.000120 ... skipping\n",
      "Empty contract series for US.F.CL.H00.000222 ... skipping\n",
      "Empty contract series for US.F.CL.J00.000322 ... skipping\n",
      "Empty contract series for US.F.CL.K00.000419 ... skipping\n",
      "Empty contract series for US.F.CL.M00.000522 ... skipping\n",
      "Empty contract series for US.F.CL.N00.000621 ... skipping\n",
      "Empty contract series for US.F.CL.Q00.000720 ... skipping\n",
      "Empty contract series for US.F.CL.U00.000822 ... skipping\n",
      "Empty contract series for US.F.CL.V00.000920 ... skipping\n",
      "Empty contract series for US.F.CL.X00.001020 ... skipping\n",
      "Empty contract series for US.F.CL.F01.001220 ... skipping\n",
      "Empty contract series for US.F.CL.G01.010122 ... skipping\n",
      "Empty contract series for US.F.CL.H01.010221 ... skipping\n",
      "Empty contract series for US.F.CL.J01.010321 ... skipping\n",
      "Empty contract series for US.F.CL.K01.010420 ... skipping\n",
      "Empty contract series for US.F.CL.M01.010522 ... skipping\n",
      "Empty contract series for US.F.CL.N01.010620 ... skipping\n",
      "Empty contract series for US.F.CL.Q01.010720 ... skipping\n",
      "Empty contract series for US.F.CL.U01.010822 ... skipping\n",
      "Empty contract series for US.F.CL.V01.010920 ... skipping\n",
      "Empty contract series for US.F.CL.X01.011022 ... skipping\n",
      "Empty contract series for US.F.CL.F02.011220 ... skipping\n",
      "Empty contract series for US.F.CL.G02.020122 ... skipping\n",
      "Empty contract series for US.F.CL.H02.020220 ... skipping\n",
      "Empty contract series for US.F.CL.J02.020320 ... skipping\n",
      "Empty contract series for US.F.CL.K02.020422 ... skipping\n",
      "Empty contract series for US.F.CL.M02.020522 ... skipping\n",
      "Empty contract series for US.F.CL.N02.020620 ... skipping\n",
      "Empty contract series for US.F.CL.Q02.020722 ... skipping\n",
      "Empty contract series for US.F.CL.U02.020821 ... skipping\n",
      "Empty contract series for US.F.CL.V02.020920 ... skipping\n",
      "Empty contract series for US.F.CL.X02.021022 ... skipping\n",
      "Empty contract series for US.F.CL.F03.021220 ... skipping\n",
      "Empty contract series for US.F.CL.G03.030122 ... skipping\n",
      "Empty contract series for US.F.CL.H03.030220 ... skipping\n",
      "Empty contract series for US.F.CL.J03.030320 ... skipping\n",
      "Empty contract series for US.F.CL.K03.030422 ... skipping\n",
      "Empty contract series for US.F.CL.M03.030521 ... skipping\n",
      "Empty contract series for US.F.CL.N03.030620 ... skipping\n",
      "Empty contract series for US.F.CL.Q03.030722 ... skipping\n",
      "Empty contract series for US.F.CL.U03.030820 ... skipping\n",
      "Empty contract series for US.F.CL.V03.030922 ... skipping\n",
      "Empty contract series for US.F.CL.X03.031022 ... skipping\n",
      "Empty contract series for US.F.CL.F04.031222 ... skipping\n",
      "Empty contract series for US.F.CL.G04.040121 ... skipping\n",
      "Empty contract series for US.F.CL.H04.040220 ... skipping\n",
      "Empty contract series for US.F.CL.J04.040322 ... skipping\n",
      "Empty contract series for US.F.CL.K04.040421 ... skipping\n",
      "Empty contract series for US.F.CL.M04.040520 ... skipping\n",
      "Empty contract series for US.F.CL.N04.040622 ... skipping\n",
      "Empty contract series for US.F.CL.Q04.040721 ... skipping\n",
      "Empty contract series for US.F.CL.U04.040820 ... skipping\n",
      "Empty contract series for US.F.CL.V04.040922 ... skipping\n",
      "Empty contract series for US.F.CL.X04.041020 ... skipping\n",
      "Empty contract series for US.F.CL.F05.041221 ... skipping\n",
      "Empty contract series for US.F.CL.G05.050120 ... skipping\n",
      "Empty contract series for US.F.CL.H05.050222 ... skipping\n",
      "Empty contract series for US.F.CL.J05.050322 ... skipping\n",
      "Empty contract series for US.F.CL.K05.050420 ... skipping\n",
      "Empty contract series for US.F.CL.M05.050520 ... skipping\n",
      "Empty contract series for US.F.CL.N05.050622 ... skipping\n",
      "Empty contract series for US.F.CL.Q05.050720 ... skipping\n",
      "Empty contract series for US.F.CL.U05.050822 ... skipping\n",
      "Empty contract series for US.F.CL.V05.050921 ... skipping\n",
      "Empty contract series for US.F.CL.X05.051020 ... skipping\n",
      "Empty contract series for US.F.CL.F06.051221 ... skipping\n",
      "Empty contract series for US.F.CL.G06.060120 ... skipping\n",
      "Empty contract series for US.F.CL.H06.060222 ... skipping\n",
      "Empty contract series for US.F.CL.J06.060322 ... skipping\n",
      "Empty contract series for US.F.CL.K06.060420 ... skipping\n",
      "Empty contract series for US.F.CL.M06.060522 ... skipping\n",
      "Empty contract series for US.F.CL.N06.060621 ... skipping\n",
      "Empty contract series for US.F.CL.Q06.060720 ... skipping\n",
      "Empty contract series for US.F.CL.U06.060822 ... skipping\n",
      "Empty contract series for US.F.CL.V06.060920 ... skipping\n",
      "Empty contract series for US.F.CL.X06.061020 ... skipping\n",
      "Empty contract series for US.F.CL.F07.061220 ... skipping\n",
      "Empty contract series for US.F.CL.G07.070122 ... skipping\n",
      "Empty contract series for US.F.CL.H07.070221 ... skipping\n",
      "Empty contract series for US.F.CL.J07.070321 ... skipping\n",
      "Empty contract series for US.F.CL.K07.070420 ... skipping\n",
      "Empty contract series for US.F.CL.M07.070522 ... skipping\n",
      "Empty contract series for US.F.CL.N07.070620 ... skipping\n",
      "Empty contract series for US.F.CL.Q07.070720 ... skipping\n",
      "Empty contract series for US.F.CL.U07.070822 ... skipping\n",
      "Empty contract series for US.F.CL.V07.070920 ... skipping\n",
      "Empty contract series for US.F.CL.X07.071022 ... skipping\n",
      "Empty contract series for US.F.CL.F08.071220 ... skipping\n",
      "Empty contract series for US.F.CL.G08.080122 ... skipping\n",
      "Empty contract series for US.F.CL.H08.080220 ... skipping\n",
      "Empty contract series for US.F.CL.J08.080319 ... skipping\n",
      "Empty contract series for US.F.CL.K08.080422 ... skipping\n",
      "Empty contract series for US.F.CL.M08.080521 ... skipping\n",
      "Empty contract series for US.F.CL.N08.080620 ... skipping\n",
      "Empty contract series for US.F.CL.Q08.080722 ... skipping\n",
      "Empty contract series for US.F.CL.U08.080820 ... skipping\n",
      "Empty contract series for US.F.CL.V08.080922 ... skipping\n",
      "Empty contract series for US.F.CL.X08.081022 ... skipping\n",
      "Empty contract series for US.F.CL.F09.081222 ... skipping\n",
      "Empty contract series for US.F.CL.G09.090121 ... skipping\n",
      "Empty contract series for US.F.CL.H09.090220 ... skipping\n",
      "Empty contract series for US.F.CL.J09.090320 ... skipping\n",
      "Empty contract series for US.F.CL.K09.090422 ... skipping\n",
      "Empty contract series for US.F.CL.M09.090520 ... skipping\n",
      "Empty contract series for US.F.CL.N09.090622 ... skipping\n",
      "Empty contract series for US.F.CL.Q09.090722 ... skipping\n",
      "Empty contract series for US.F.CL.U09.090820 ... skipping\n",
      "Empty contract series for US.F.CL.V09.090922 ... skipping\n",
      "Empty contract series for US.F.CL.X09.091021 ... skipping\n",
      "Empty contract series for US.F.CL.F10.091222 ... skipping\n",
      "Empty contract series for US.F.CL.X10.101020 ... skipping\n",
      "297/|/ 80%|| 297/370 [00:20<00:04, 14.63it/s]\n"
     ]
    }
   ],
   "source": [
    "for fut in tqdm_notebook(futures):\n",
    "    data = list(mongo_collection.find({'idcontract': fut.contract_info.extra('sqlid')}))\n",
    "    if len(data) == 0:\n",
    "        print(\"Empty contract series for {0} ... skipping\".format(fut))\n",
    "        continue\n",
    "    df = pd.DataFrame(data)\n",
    "    df = df[['datetime', 'open', 'high', 'low', 'close', 'volume']]\n",
    "    df.rename(columns={'datetime': 'dt', 'open': 'o', 'high': 'h', 'low':'l', 'close': 'c', 'volume': 'v'}, inplace=True)\n",
    "    df.set_index('dt', inplace=True)\n",
    "    df.index = df.index.tz_localize(fut.instrument_info.timezone).tz_convert('UTC')\n",
    "    \n",
    "    for idx_dt, df_value in df.groupby(by=df.index.date):\n",
    "        dt = datetime.combine(idx_dt, time(0,0,0))\n",
    "        rec = {\n",
    "            'dt': dt,\n",
    "            'tckr': fut.ticker,\n",
    "            'ohlc': pickle.dumps(df_value)\n",
    "            }\n",
    "        quotes_collection.replace_one({'dt': dt, 'tckr': fut.ticker}, rec, upsert=True)    \n"
   ]
  },
  {
   "cell_type": "code",
   "execution_count": 65,
   "metadata": {
    "collapsed": false
   },
   "outputs": [],
   "source": [
    "\n",
    "    "
   ]
  },
  {
   "cell_type": "code",
   "execution_count": null,
   "metadata": {
    "collapsed": true
   },
   "outputs": [],
   "source": []
  }
 ],
 "metadata": {
  "anaconda-cloud": {},
  "kernelspec": {
   "display_name": "Python [Root]",
   "language": "python",
   "name": "Python [Root]"
  },
  "language_info": {
   "codemirror_mode": {
    "name": "ipython",
    "version": 3
   },
   "file_extension": ".py",
   "mimetype": "text/x-python",
   "name": "python",
   "nbconvert_exporter": "python",
   "pygments_lexer": "ipython3",
   "version": "3.5.2"
  }
 },
 "nbformat": 4,
 "nbformat_minor": 0
}
