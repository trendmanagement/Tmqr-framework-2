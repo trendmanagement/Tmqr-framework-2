{
 "cells": [
  {
   "cell_type": "code",
   "execution_count": null,
   "metadata": {},
   "outputs": [],
   "source": [
    "import numpy as np\n",
    "import pandas as pd\n",
    "from collections import OrderedDict\n",
    "from datetime import datetime, timedelta\n",
    "from unittest.mock import MagicMock, patch"
   ]
  },
  {
   "cell_type": "code",
   "execution_count": null,
   "metadata": {},
   "outputs": [],
   "source": []
  },
  {
   "cell_type": "code",
   "execution_count": null,
   "metadata": {},
   "outputs": [],
   "source": [
    "%load_ext Cython\n",
    "%load_ext line_profiler\n",
    "%load_ext memory_profiler"
   ]
  },
  {
   "cell_type": "code",
   "execution_count": null,
   "metadata": {},
   "outputs": [],
   "source": [
    "                                  # asset: (decision_px, exec_px, qty)\n",
    "positions = OrderedDict()\n",
    "\n",
    "positions[datetime(2011, 1, 1)] = {'Asset1': (100, 101, 2)}\n",
    "positions[datetime(2011, 1, 2)] = {\n",
    "                                    'Asset1': (101, 102, 1), \n",
    "                                    'Asset2': (201, 202, 3),\n",
    "                                    'Asset3': (301, 302, 4)\n",
    "                                  }\n",
    "\n",
    "positions[datetime(2011, 1, 3)] = {'Asset1': (102, 103, 1), 'Asset2': (202, 203, 0)}\n"
   ]
  },
  {
   "cell_type": "code",
   "execution_count": null,
   "metadata": {},
   "outputs": [],
   "source": [
    "for dt, pos_list in positions.items():\n",
    "    print(f'{dt}: {pos_list}')"
   ]
  },
  {
   "cell_type": "markdown",
   "metadata": {},
   "source": [
    "# Calculation of transactions"
   ]
  },
  {
   "cell_type": "code",
   "execution_count": null,
   "metadata": {},
   "outputs": [],
   "source": [
    "%%timeit \n",
    "transactions = OrderedDict()\n",
    "prev_pos = None\n",
    "for dt, pos_list in positions.items():\n",
    "    if prev_pos is None:\n",
    "        transactions[dt] = pos_list\n",
    "    else:\n",
    "        for p_asset, p_values in pos_list.items():\n",
    "            prev_values = prev_pos.get(p_asset, None)\n",
    "            t_dict = transactions.setdefault(dt, {})\n",
    "            \n",
    "            if prev_values:\n",
    "                # Calculating transactions for existing position\n",
    "                t_qty = p_values[2] - prev_values[2]\n",
    "                if t_qty != 0:\n",
    "                    t_dict[p_asset] = (p_values[0], p_values[1], t_qty)\n",
    "                pass\n",
    "            else:\n",
    "                \n",
    "                t_dict[p_asset] = p_values\n",
    "    \n",
    "    prev_pos = pos_list\n",
    "        "
   ]
  },
  {
   "cell_type": "code",
   "execution_count": null,
   "metadata": {},
   "outputs": [],
   "source": [
    "[print(f'{dt}: {pos_list}') for dt,pos_list in transactions.items()];"
   ]
  },
  {
   "cell_type": "code",
   "execution_count": null,
   "metadata": {},
   "outputs": [],
   "source": [
    "class PosRec(object):\n",
    "    __slots__ = ['decision_px', 'exec_px', 'qty']\n",
    "    def __init__(self, decision_px, exec_px, qty):\n",
    "        self.decision_px = decision_px\n",
    "        self.exec_px = exec_px\n",
    "        self.qty = qty"
   ]
  },
  {
   "cell_type": "code",
   "execution_count": null,
   "metadata": {},
   "outputs": [],
   "source": [
    "def calc_transactions(current_pos, prev_pos):\n",
    "    result = {}\n",
    "    if prev_pos is None:\n",
    "        intersected_assets = set(current_pos)\n",
    "    else:\n",
    "        intersected_assets = set(current_pos) | set(prev_pos)\n",
    "        \n",
    "    for asset in intersected_assets:        \n",
    "        prev_values = prev_pos.get(asset, None) if prev_pos is not None else None\n",
    "        curr_values = current_pos.get(asset, None)\n",
    "        \n",
    "        if prev_values is None:\n",
    "            result[asset] = (curr_values[0], curr_values[1], curr_values[2], 0.0, 0.0)\n",
    "        elif curr_values is None:\n",
    "            # TODO: call get price from DM here!\n",
    "            result[asset] = (0, 0, -prev_values[2], 0.0, 0)\n",
    "        else:\n",
    "            # Calculating transactions for existing position\n",
    "            # TODO: replace by asset static method\n",
    "            pnl_decision = (curr_values[0] - prev_values[0]) * prev_values[2]\n",
    "            pnl_execution = (curr_values[1] - prev_values[1]) * prev_values[2]\n",
    "            \n",
    "            result[asset] = (curr_values[0], curr_values[1], curr_values[2] - prev_values[2], pnl_decision, pnl_execution)\n",
    "        \n",
    "    return result\n",
    "        "
   ]
  },
  {
   "cell_type": "code",
   "execution_count": null,
   "metadata": {},
   "outputs": [],
   "source": [
    "%lprun -f calc_transactions calc_transactions(positions[datetime(2011, 1, 3)], positions[datetime(2011, 1, 2)])"
   ]
  },
  {
   "cell_type": "code",
   "execution_count": null,
   "metadata": {},
   "outputs": [],
   "source": [
    "\n",
    "transactions = OrderedDict()\n",
    "prev_pos = None\n",
    "for dt, pos_list in positions.items():\n",
    "    transactions[dt] = calc_transactions(pos_list, prev_pos)    \n",
    "    prev_pos = pos_list"
   ]
  },
  {
   "cell_type": "code",
   "execution_count": null,
   "metadata": {},
   "outputs": [],
   "source": [
    "[print(f'{dt}: {pos_list}') for dt,pos_list in positions.items()];"
   ]
  },
  {
   "cell_type": "code",
   "execution_count": null,
   "metadata": {},
   "outputs": [],
   "source": [
    "[print(f'{dt}: {pos_list}') for dt,pos_list in transactions.items()];"
   ]
  },
  {
   "cell_type": "code",
   "execution_count": null,
   "metadata": {},
   "outputs": [],
   "source": [
    "def transactions_stats(trans_dict):\n",
    "    pnl_change_decision = 0.0\n",
    "    pnl_change_execution = 0.0\n",
    "    nfutures_executed = 0.0\n",
    "    noptions_executed = 0.0\n",
    "    \n",
    "    for asset, trans in trans_dict.items():\n",
    "        pnl_change_decision += trans[3]\n",
    "        pnl_change_execution += trans[4]\n",
    "        \n",
    "        if asset == 'Asset1':\n",
    "            nfutures_executed += abs(trans[2])\n",
    "        else:\n",
    "            noptions_executed += abs(trans[2])\n",
    "            \n",
    "    return {\n",
    "        'pnl_change_decision': pnl_change_decision,\n",
    "        'pnl_change_execution': pnl_change_execution,\n",
    "        'nfutures_executed': nfutures_executed,\n",
    "        'noptions_executed': noptions_executed,\n",
    "    }\n",
    "        \n",
    "def merge_actual_position(actual_position, trans_dict):\n",
    "    for asset, trans in trans_dict.items():\n",
    "        t_dpx, t_epx, t_qty, _, _ = trans\n",
    "        act_pos = actual_position.get(asset, None)\n",
    "        \n",
    "        if not act_pos:\n",
    "            if t_qty != 0:\n",
    "                actual_position[asset] = (t_dpx, t_epx, t_qty, t_dpx*t_qty, t_epx*t_qty)\n",
    "        else:\n",
    "            p_wavg_decision, p_wavg_exec, p_qty, p_wsum_decision, p_wsum_exec = act_pos\n",
    "            p_wsum_decision += t_dpx*t_qty\n",
    "            p_wsum_exec += t_epx*t_qty\n",
    "            p_qty += t_qty\n",
    "            if p_qty == 0:\n",
    "                del actual_position[asset]\n",
    "            else:\n",
    "                p_wavg_decision = p_wsum_decision / p_qty \n",
    "                p_wavg_exec = p_wsum_exec / p_qty\n",
    "\n",
    "                actual_position[asset] = (p_wavg_decision, p_wavg_exec, p_qty, p_wsum_decision, p_wsum_exec)\n",
    "            "
   ]
  },
  {
   "cell_type": "code",
   "execution_count": null,
   "metadata": {},
   "outputs": [],
   "source": [
    "#%%timeit \n",
    "pnl_result = []\n",
    "actual_position_result = {}\n",
    "prev_pos = None\n",
    "\n",
    "for dt, pos_list in positions.items():\n",
    "    transactions = calc_transactions(pos_list, prev_pos)    \n",
    "    \n",
    "    stats = transactions_stats(transactions)\n",
    "    \n",
    "    merge_actual_position(actual_position_result, transactions)\n",
    "    print(f\"Actual position for {dt}: \")\n",
    "    print(actual_position_result)\n",
    "    \n",
    "    res = {'dt': dt}\n",
    "    res.update(stats)\n",
    "    \n",
    "    pnl_result.append(res)    \n",
    "    prev_pos = pos_list"
   ]
  },
  {
   "cell_type": "code",
   "execution_count": null,
   "metadata": {},
   "outputs": [],
   "source": [
    "pd.DataFrame(pnl_result)"
   ]
  },
  {
   "cell_type": "code",
   "execution_count": null,
   "metadata": {},
   "outputs": [],
   "source": [
    "%timeit (20, 10 ,10 )"
   ]
  },
  {
   "cell_type": "code",
   "execution_count": null,
   "metadata": {},
   "outputs": [],
   "source": [
    "from array import array\n",
    "%timeit array('f', (20, 10 ,10 ,10 ,10))"
   ]
  },
  {
   "cell_type": "code",
   "execution_count": null,
   "metadata": {},
   "outputs": [],
   "source": [
    "arr = array('f', (20, 10 ,10 ,10 ,10))\n",
    "%timeit arr[0]\n"
   ]
  },
  {
   "cell_type": "code",
   "execution_count": null,
   "metadata": {},
   "outputs": [],
   "source": [
    "pos_dict1 = OrderedDict()\n",
    "for i in range(3000):\n",
    "    pos_dict1[datetime(2011, 1, 1) + timedelta(days=i)] = (1, 2, 3)"
   ]
  },
  {
   "cell_type": "code",
   "execution_count": null,
   "metadata": {},
   "outputs": [],
   "source": [
    "%timeit pos_dict1[datetime(2012, 1, 1)]"
   ]
  },
  {
   "cell_type": "code",
   "execution_count": null,
   "metadata": {},
   "outputs": [],
   "source": [
    "%timeit pos_dict1.keys()"
   ]
  },
  {
   "cell_type": "code",
   "execution_count": null,
   "metadata": {},
   "outputs": [],
   "source": [
    "from bisect import bisect_right"
   ]
  },
  {
   "cell_type": "code",
   "execution_count": null,
   "metadata": {},
   "outputs": [],
   "source": [
    "bisect_right(pos_dict1.keys(), datetime(2012, 1, 1))"
   ]
  },
  {
   "cell_type": "code",
   "execution_count": null,
   "metadata": {},
   "outputs": [],
   "source": [
    "d = {'d': 'ds'}"
   ]
  },
  {
   "cell_type": "code",
   "execution_count": null,
   "metadata": {},
   "outputs": [],
   "source": [
    "if d:\n",
    "    print('ok')"
   ]
  },
  {
   "cell_type": "code",
   "execution_count": null,
   "metadata": {},
   "outputs": [],
   "source": []
  }
 ],
 "metadata": {
  "kernelspec": {
   "display_name": "Python 3",
   "language": "python",
   "name": "python3"
  },
  "language_info": {
   "codemirror_mode": {
    "name": "ipython",
    "version": 3
   },
   "file_extension": ".py",
   "mimetype": "text/x-python",
   "name": "python",
   "nbconvert_exporter": "python",
   "pygments_lexer": "ipython3",
   "version": "3.6.0"
  }
 },
 "nbformat": 4,
 "nbformat_minor": 2
}
