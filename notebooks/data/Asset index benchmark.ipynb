{
 "cells": [
  {
   "cell_type": "code",
   "execution_count": null,
   "metadata": {},
   "outputs": [],
   "source": [
    "import sys, argparse, logging\n",
    "import pymssql\n",
    "import _mssql\n",
    "import datetime\n",
    "from decimal import Decimal\n",
    "import pymongo\n",
    "from pymongo import MongoClient\n",
    "import re\n",
    "\n",
    "from tmqr.settings import *\n",
    "\n",
    "try:\n",
    "    from tmqr.settings_local import *\n",
    "except:\n",
    "    pass\n"
   ]
  },
  {
   "cell_type": "code",
   "execution_count": null,
   "metadata": {},
   "outputs": [],
   "source": [
    "# Init mongo asset index\n",
    "client = MongoClient(MONGO_CONNSTR)\n",
    "mongo_db = client[MONGO_DB]\n",
    "mongo_collection = mongo_db['asset_index']"
   ]
  },
  {
   "cell_type": "code",
   "execution_count": null,
   "metadata": {},
   "outputs": [],
   "source": [
    "mongo_collection.create_index([('contr', pymongo.ASCENDING), \n",
    "                               ('mkt', pymongo.ASCENDING), \n",
    "                               ('type', pymongo.ASCENDING)])"
   ]
  },
  {
   "cell_type": "code",
   "execution_count": null,
   "metadata": {},
   "outputs": [],
   "source": [
    "mongo_collection.create_index([('instr', pymongo.ASCENDING), \n",
    "                               ('type', pymongo.ASCENDING),\n",
    "                               ('exp', pymongo.ASCENDING)])"
   ]
  },
  {
   "cell_type": "code",
   "execution_count": null,
   "metadata": {},
   "outputs": [],
   "source": [
    "%%timeit\n",
    "mongo_collection.find_one({'tckr': 'US.F.CLM83.830520'})"
   ]
  },
  {
   "cell_type": "code",
   "execution_count": null,
   "metadata": {},
   "outputs": [],
   "source": [
    "%%timeit\n",
    "mongo_collection.find_one({'tckr': 'US.P.F-GCM18-180627.180425@860.0'})"
   ]
  },
  {
   "cell_type": "code",
   "execution_count": null,
   "metadata": {},
   "outputs": [],
   "source": [
    "len('US.P.F-GCM18-180627.180425@860.0')"
   ]
  },
  {
   "cell_type": "code",
   "execution_count": null,
   "metadata": {},
   "outputs": [],
   "source": [
    "%%timeit\n",
    "regx = re.compile(\"^US.F.CLM83.*\", re.IGNORECASE)\n",
    "mongo_collection.find_one({'contr':  \"GCM18\", 'mkt': 'US', 'type': 'F'})\n",
    "#mongo_collection.find_one({'tickr':  regx})"
   ]
  },
  {
   "cell_type": "code",
   "execution_count": null,
   "metadata": {},
   "outputs": [],
   "source": [
    "%%timeit\n",
    "mongo_collection.find({'instr': 'US.CL', 'mkt': 'US', 'type': 'P', 'exp': {'$gt': datetime.datetime(2015, 5, 20, 0, 0)}}).count()"
   ]
  },
  {
   "cell_type": "code",
   "execution_count": null,
   "metadata": {},
   "outputs": [],
   "source": [
    "mongo_collection.explain().find({'instr': 'US.CL', 'mkt': 'US', 'type': 'P', 'exp': {'$gt': datetime.datetime(2015, 5, 20, 0, 0)}}).count()"
   ]
  },
  {
   "cell_type": "markdown",
   "metadata": {},
   "source": [
    "# Getting futures chains"
   ]
  },
  {
   "cell_type": "code",
   "execution_count": null,
   "metadata": {},
   "outputs": [],
   "source": [
    "%timeit list(mongo_collection.find({'type':'F', 'instr': 'US.CL'}).sort('exp', 1))"
   ]
  },
  {
   "cell_type": "code",
   "execution_count": null,
   "metadata": {},
   "outputs": [],
   "source": [
    "[x['tckr'] for x in mongo_collection.find({'type':'F', \n",
    "                                           'instr': 'US.CL', \n",
    "                                           'exp': {'$gt': datetime.datetime(2011, 1, 1)}}, \n",
    "                                          projection=['tckr']).sort('exp', 1)]"
   ]
  },
  {
   "cell_type": "code",
   "execution_count": null,
   "metadata": {},
   "outputs": [],
   "source": []
  }
 ],
 "metadata": {
  "anaconda-cloud": {},
  "kernelspec": {
   "display_name": "Python [Root]",
   "language": "python",
   "name": "Python [Root]"
  },
  "language_info": {
   "codemirror_mode": {
    "name": "ipython",
    "version": 3
   },
   "file_extension": ".py",
   "mimetype": "text/x-python",
   "name": "python",
   "nbconvert_exporter": "python",
   "pygments_lexer": "ipython3",
   "version": "3.5.2"
  }
 },
 "nbformat": 4,
 "nbformat_minor": 0
}
