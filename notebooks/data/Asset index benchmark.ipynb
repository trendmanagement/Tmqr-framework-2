{
 "cells": [
  {
   "cell_type": "code",
   "execution_count": 2,
   "metadata": {
    "collapsed": true
   },
   "outputs": [],
   "source": [
    "import sys, argparse, logging\n",
    "import pymssql\n",
    "import _mssql\n",
    "import datetime\n",
    "from decimal import Decimal\n",
    "import pymongo\n",
    "from pymongo import MongoClient\n",
    "import re\n",
    "\n",
    "from tmqr.settings import *\n",
    "\n",
    "try:\n",
    "    from tmqr.settings_local import *\n",
    "except:\n",
    "    pass\n"
   ]
  },
  {
   "cell_type": "code",
   "execution_count": 3,
   "metadata": {
    "collapsed": true
   },
   "outputs": [],
   "source": [
    "# Init mongo asset index\n",
    "client = MongoClient(MONGO_CONNSTR)\n",
    "mongo_db = client[MONGO_DB]\n",
    "mongo_collection = mongo_db['asset_index']"
   ]
  },
  {
   "cell_type": "code",
   "execution_count": 3,
   "metadata": {
    "collapsed": false
   },
   "outputs": [
    {
     "data": {
      "text/plain": [
       "'contr_1_mkt_1_type_1'"
      ]
     },
     "execution_count": 3,
     "metadata": {},
     "output_type": "execute_result"
    }
   ],
   "source": [
    "mongo_collection.create_index([('contr', pymongo.ASCENDING), \n",
    "                               ('mkt', pymongo.ASCENDING), \n",
    "                               ('type', pymongo.ASCENDING)])"
   ]
  },
  {
   "cell_type": "code",
   "execution_count": 4,
   "metadata": {
    "collapsed": false
   },
   "outputs": [
    {
     "data": {
      "text/plain": [
       "'instr_1_type_1_exp_1'"
      ]
     },
     "execution_count": 4,
     "metadata": {},
     "output_type": "execute_result"
    }
   ],
   "source": [
    "mongo_collection.create_index([('instr', pymongo.ASCENDING), \n",
    "                               ('type', pymongo.ASCENDING),\n",
    "                               ('exp', pymongo.ASCENDING)])"
   ]
  },
  {
   "cell_type": "code",
   "execution_count": 6,
   "metadata": {
    "collapsed": false
   },
   "outputs": [
    {
     "name": "stdout",
     "output_type": "stream",
     "text": [
      "1000 loops, best of 3: 837 µs per loop\n"
     ]
    }
   ],
   "source": [
    "%%timeit\n",
    "mongo_collection.find_one({'tckr': 'US.F.CLM83.830520'})"
   ]
  },
  {
   "cell_type": "code",
   "execution_count": 10,
   "metadata": {
    "collapsed": false
   },
   "outputs": [
    {
     "name": "stdout",
     "output_type": "stream",
     "text": [
      "1000 loops, best of 3: 800 µs per loop\n"
     ]
    }
   ],
   "source": [
    "%%timeit\n",
    "mongo_collection.find_one({'tckr': 'US.P.F-GCM18-180627.180425@860.0'})"
   ]
  },
  {
   "cell_type": "code",
   "execution_count": 11,
   "metadata": {
    "collapsed": false
   },
   "outputs": [
    {
     "data": {
      "text/plain": [
       "32"
      ]
     },
     "execution_count": 11,
     "metadata": {},
     "output_type": "execute_result"
    }
   ],
   "source": [
    "len('US.P.F-GCM18-180627.180425@860.0')"
   ]
  },
  {
   "cell_type": "code",
   "execution_count": 9,
   "metadata": {
    "collapsed": false
   },
   "outputs": [
    {
     "name": "stdout",
     "output_type": "stream",
     "text": [
      "The slowest run took 8.53 times longer than the fastest. This could mean that an intermediate result is being cached.\n",
      "1000 loops, best of 3: 833 µs per loop\n"
     ]
    }
   ],
   "source": [
    "%%timeit\n",
    "regx = re.compile(\"^US.F.CLM83.*\", re.IGNORECASE)\n",
    "mongo_collection.find_one({'contr':  \"GCM18\", 'mkt': 'US', 'type': 'F'})\n",
    "#mongo_collection.find_one({'tickr':  regx})"
   ]
  },
  {
   "cell_type": "code",
   "execution_count": 40,
   "metadata": {
    "collapsed": false
   },
   "outputs": [
    {
     "name": "stdout",
     "output_type": "stream",
     "text": [
      "100 loops, best of 3: 2.96 ms per loop\n"
     ]
    }
   ],
   "source": [
    "%%timeit\n",
    "mongo_collection.find({'instr': 'US.CL', 'mkt': 'US', 'type': 'P', 'exp': {'$gt': datetime.datetime(2015, 5, 20, 0, 0)}}).count()"
   ]
  },
  {
   "cell_type": "code",
   "execution_count": 42,
   "metadata": {
    "collapsed": false
   },
   "outputs": [
    {
     "ename": "TypeError",
     "evalue": "'Collection' object is not callable. If you meant to call the 'explain' method on a 'Collection' object it is failing because no such method exists.",
     "output_type": "error",
     "traceback": [
      "\u001b[0;31m---------------------------------------------------------------------------\u001b[0m",
      "\u001b[0;31mTypeError\u001b[0m                                 Traceback (most recent call last)",
      "\u001b[0;32m<ipython-input-42-21dba0081654>\u001b[0m in \u001b[0;36m<module>\u001b[0;34m()\u001b[0m\n\u001b[0;32m----> 1\u001b[0;31m \u001b[0mmongo_collection\u001b[0m\u001b[0;34m.\u001b[0m\u001b[0mexplain\u001b[0m\u001b[0;34m(\u001b[0m\u001b[0;34m)\u001b[0m\u001b[0;34m.\u001b[0m\u001b[0mfind\u001b[0m\u001b[0;34m(\u001b[0m\u001b[0;34m{\u001b[0m\u001b[0;34m'instr'\u001b[0m\u001b[0;34m:\u001b[0m \u001b[0;34m'US.CL'\u001b[0m\u001b[0;34m,\u001b[0m \u001b[0;34m'mkt'\u001b[0m\u001b[0;34m:\u001b[0m \u001b[0;34m'US'\u001b[0m\u001b[0;34m,\u001b[0m \u001b[0;34m'type'\u001b[0m\u001b[0;34m:\u001b[0m \u001b[0;34m'P'\u001b[0m\u001b[0;34m,\u001b[0m \u001b[0;34m'exp'\u001b[0m\u001b[0;34m:\u001b[0m \u001b[0;34m{\u001b[0m\u001b[0;34m'$gt'\u001b[0m\u001b[0;34m:\u001b[0m \u001b[0mdatetime\u001b[0m\u001b[0;34m.\u001b[0m\u001b[0mdatetime\u001b[0m\u001b[0;34m(\u001b[0m\u001b[0;36m2015\u001b[0m\u001b[0;34m,\u001b[0m \u001b[0;36m5\u001b[0m\u001b[0;34m,\u001b[0m \u001b[0;36m20\u001b[0m\u001b[0;34m,\u001b[0m \u001b[0;36m0\u001b[0m\u001b[0;34m,\u001b[0m \u001b[0;36m0\u001b[0m\u001b[0;34m)\u001b[0m\u001b[0;34m}\u001b[0m\u001b[0;34m}\u001b[0m\u001b[0;34m)\u001b[0m\u001b[0;34m.\u001b[0m\u001b[0mcount\u001b[0m\u001b[0;34m(\u001b[0m\u001b[0;34m)\u001b[0m\u001b[0;34m\u001b[0m\u001b[0m\n\u001b[0m",
      "\u001b[0;32m/home/ubertrader/anaconda3/lib/python3.5/site-packages/pymongo/collection.py\u001b[0m in \u001b[0;36m__call__\u001b[0;34m(self, *args, **kwargs)\u001b[0m\n\u001b[1;32m   2358\u001b[0m                         \u001b[0;34m\"call the '%s' method on a 'Collection' object it is \"\u001b[0m\u001b[0;34m\u001b[0m\u001b[0m\n\u001b[1;32m   2359\u001b[0m                         \u001b[0;34m\"failing because no such method exists.\"\u001b[0m \u001b[0;34m%\u001b[0m\u001b[0;34m\u001b[0m\u001b[0m\n\u001b[0;32m-> 2360\u001b[0;31m                         self.__name.split(\".\")[-1])\n\u001b[0m",
      "\u001b[0;31mTypeError\u001b[0m: 'Collection' object is not callable. If you meant to call the 'explain' method on a 'Collection' object it is failing because no such method exists."
     ]
    }
   ],
   "source": [
    "mongo_collection.explain().find({'instr': 'US.CL', 'mkt': 'US', 'type': 'P', 'exp': {'$gt': datetime.datetime(2015, 5, 20, 0, 0)}}).count()"
   ]
  },
  {
   "cell_type": "markdown",
   "metadata": {
    "collapsed": true
   },
   "source": [
    "# Getting futures chains"
   ]
  },
  {
   "cell_type": "code",
   "execution_count": 10,
   "metadata": {
    "collapsed": false
   },
   "outputs": [
    {
     "name": "stdout",
     "output_type": "stream",
     "text": [
      "100 loops, best of 3: 7.71 ms per loop\n"
     ]
    }
   ],
   "source": [
    "%timeit list(mongo_collection.find({'type':'F', 'instr': 'US.CL'}).sort('exp', 1))"
   ]
  },
  {
   "cell_type": "code",
   "execution_count": 15,
   "metadata": {
    "collapsed": false
   },
   "outputs": [
    {
     "data": {
      "text/plain": [
       "[{'_id': ObjectId('58ad3f7833b18260b69d9f7a'), 'tckr': 'US.F.CL.G11.110120'},\n",
       " {'_id': ObjectId('58ad3f7833b18260b69d9f7b'), 'tckr': 'US.F.CL.H11.110222'},\n",
       " {'_id': ObjectId('58ad3f7833b18260b69d9f7c'), 'tckr': 'US.F.CL.J11.110322'},\n",
       " {'_id': ObjectId('58ad3f7833b18260b69d9f7d'), 'tckr': 'US.F.CL.K11.110419'},\n",
       " {'_id': ObjectId('58ad3f7833b18260b69d9f7e'), 'tckr': 'US.F.CL.M11.110520'},\n",
       " {'_id': ObjectId('58ad3f7833b18260b69d9f7f'), 'tckr': 'US.F.CL.N11.110622'},\n",
       " {'_id': ObjectId('58ad3f7833b18260b69d9f80'), 'tckr': 'US.F.CL.Q11.110720'},\n",
       " {'_id': ObjectId('58ad3f7833b18260b69d9f81'), 'tckr': 'US.F.CL.U11.110822'},\n",
       " {'_id': ObjectId('58ad3f7833b18260b69d9f82'), 'tckr': 'US.F.CL.V11.110921'},\n",
       " {'_id': ObjectId('58ad3f7833b18260b69d9f83'), 'tckr': 'US.F.CL.X11.111020'},\n",
       " {'_id': ObjectId('58ad3f7833b18260b69d9f84'), 'tckr': 'US.F.CL.Z11.111121'},\n",
       " {'_id': ObjectId('58ad3f7833b18260b69d9f85'), 'tckr': 'US.F.CL.F12.111221'},\n",
       " {'_id': ObjectId('58ad3f7833b18260b69d9f86'), 'tckr': 'US.F.CL.G12.120120'},\n",
       " {'_id': ObjectId('58ad3f7833b18260b69d9f87'), 'tckr': 'US.F.CL.H12.120222'},\n",
       " {'_id': ObjectId('58ad3f7833b18260b69d9f88'), 'tckr': 'US.F.CL.J12.120321'},\n",
       " {'_id': ObjectId('58ad3f7833b18260b69d9f89'), 'tckr': 'US.F.CL.K12.120420'},\n",
       " {'_id': ObjectId('58ad3f7833b18260b69d9f8a'), 'tckr': 'US.F.CL.M12.120522'},\n",
       " {'_id': ObjectId('58ad3f7833b18260b69d9f8b'), 'tckr': 'US.F.CL.N12.120620'},\n",
       " {'_id': ObjectId('58ad3f7833b18260b69d9f8c'), 'tckr': 'US.F.CL.Q12.120720'},\n",
       " {'_id': ObjectId('58ad3f7833b18260b69d9f8d'), 'tckr': 'US.F.CL.U12.120822'},\n",
       " {'_id': ObjectId('58ad3f7833b18260b69d9f8e'), 'tckr': 'US.F.CL.V12.120920'},\n",
       " {'_id': ObjectId('58ad3f7833b18260b69d9f8f'), 'tckr': 'US.F.CL.X12.121022'},\n",
       " {'_id': ObjectId('58ad3f7833b18260b69d9f90'), 'tckr': 'US.F.CL.Z12.121120'},\n",
       " {'_id': ObjectId('58ad3f7833b18260b69d9f91'), 'tckr': 'US.F.CL.F13.121220'},\n",
       " {'_id': ObjectId('58ad3f7833b18260b69d9f92'), 'tckr': 'US.F.CL.G13.130122'},\n",
       " {'_id': ObjectId('58ad3f7833b18260b69d9f93'), 'tckr': 'US.F.CL.H13.130220'},\n",
       " {'_id': ObjectId('58ad3f7833b18260b69d9f94'), 'tckr': 'US.F.CL.J13.130320'},\n",
       " {'_id': ObjectId('58ad3f7833b18260b69d9f95'), 'tckr': 'US.F.CL.K13.130422'},\n",
       " {'_id': ObjectId('58ad3f7833b18260b69d9f96'), 'tckr': 'US.F.CL.M13.130522'},\n",
       " {'_id': ObjectId('58ad3f7833b18260b69d9f97'), 'tckr': 'US.F.CL.N13.130620'},\n",
       " {'_id': ObjectId('58ad3f7833b18260b69d9f98'), 'tckr': 'US.F.CL.Q13.130722'},\n",
       " {'_id': ObjectId('58ad3f7833b18260b69d9f99'), 'tckr': 'US.F.CL.U13.130821'},\n",
       " {'_id': ObjectId('58ad3f7833b18260b69d9f9a'), 'tckr': 'US.F.CL.V13.130920'},\n",
       " {'_id': ObjectId('58ad3f7833b18260b69d9f9b'), 'tckr': 'US.F.CL.X13.131022'},\n",
       " {'_id': ObjectId('58ad3f7833b18260b69d9f9c'), 'tckr': 'US.F.CL.Z13.131120'},\n",
       " {'_id': ObjectId('58ad3f7833b18260b69d9f9d'), 'tckr': 'US.F.CL.F14.131220'},\n",
       " {'_id': ObjectId('58ad3f7833b18260b69d9f9e'), 'tckr': 'US.F.CL.G14.140122'},\n",
       " {'_id': ObjectId('58ad3f7833b18260b69d9f9f'), 'tckr': 'US.F.CL.H14.140220'},\n",
       " {'_id': ObjectId('58ad3f7833b18260b69d9fa0'), 'tckr': 'US.F.CL.J14.140320'},\n",
       " {'_id': ObjectId('58ad3f7833b18260b69d9fa1'), 'tckr': 'US.F.CL.K14.140422'},\n",
       " {'_id': ObjectId('58ad3f7833b18260b69d9fa2'), 'tckr': 'US.F.CL.M14.140521'},\n",
       " {'_id': ObjectId('58ad3f7833b18260b69d9fa3'), 'tckr': 'US.F.CL.N14.140620'},\n",
       " {'_id': ObjectId('58ad3f7833b18260b69d9fa4'), 'tckr': 'US.F.CL.Q14.140722'},\n",
       " {'_id': ObjectId('58ad3f7833b18260b69d9fa5'), 'tckr': 'US.F.CL.U14.140820'},\n",
       " {'_id': ObjectId('58ad3f7833b18260b69d9fa6'), 'tckr': 'US.F.CL.V14.140922'},\n",
       " {'_id': ObjectId('58ad3f7833b18260b69d9fa7'), 'tckr': 'US.F.CL.X14.141022'},\n",
       " {'_id': ObjectId('58ad3f7833b18260b69d9fa8'), 'tckr': 'US.F.CL.Z14.141120'},\n",
       " {'_id': ObjectId('58ad3f7833b18260b69d9fa9'), 'tckr': 'US.F.CL.F15.141219'},\n",
       " {'_id': ObjectId('58ad3f7833b18260b69d9faa'), 'tckr': 'US.F.CL.G15.150120'},\n",
       " {'_id': ObjectId('58ad3f7833b18260b69d9fab'), 'tckr': 'US.F.CL.H15.150220'},\n",
       " {'_id': ObjectId('58ad3f7833b18260b69d9fac'), 'tckr': 'US.F.CL.J15.150320'},\n",
       " {'_id': ObjectId('58ad3f7833b18260b69d9fad'), 'tckr': 'US.F.CL.K15.150421'},\n",
       " {'_id': ObjectId('58ad3f7833b18260b69d9fae'), 'tckr': 'US.F.CL.M15.150519'},\n",
       " {'_id': ObjectId('58ad3f7833b18260b69d9faf'), 'tckr': 'US.F.CL.N15.150622'},\n",
       " {'_id': ObjectId('58ad3f7833b18260b69d9fb0'), 'tckr': 'US.F.CL.Q15.150721'},\n",
       " {'_id': ObjectId('58ad3f7833b18260b69d9fb1'), 'tckr': 'US.F.CL.U15.150820'},\n",
       " {'_id': ObjectId('58ad3f7833b18260b69d9fb2'), 'tckr': 'US.F.CL.V15.150922'},\n",
       " {'_id': ObjectId('58ad3f7833b18260b69d9fb3'), 'tckr': 'US.F.CL.X15.151020'},\n",
       " {'_id': ObjectId('58ad3f7833b18260b69d9fb4'), 'tckr': 'US.F.CL.Z15.151120'},\n",
       " {'_id': ObjectId('58ad3f7a33b18260b69daade'), 'tckr': 'US.F.CL.F16.151221'},\n",
       " {'_id': ObjectId('58ad3f7a33b18260b69daadf'), 'tckr': 'US.F.CL.G16.160120'},\n",
       " {'_id': ObjectId('58ad3f7a33b18260b69daae0'), 'tckr': 'US.F.CL.H16.160222'},\n",
       " {'_id': ObjectId('58ad3f7a33b18260b69daae1'), 'tckr': 'US.F.CL.J16.160321'},\n",
       " {'_id': ObjectId('58ad3f7a33b18260b69daae2'), 'tckr': 'US.F.CL.K16.160420'},\n",
       " {'_id': ObjectId('58ad3f7833b18260b69d9fb5'), 'tckr': 'US.F.CL.M16.160520'},\n",
       " {'_id': ObjectId('58ad3f7a33b18260b69daae3'), 'tckr': 'US.F.CL.N16.160621'},\n",
       " {'_id': ObjectId('58ad3f7a33b18260b69daae4'), 'tckr': 'US.F.CL.Q16.160720'},\n",
       " {'_id': ObjectId('58ad3f7a33b18260b69daae5'), 'tckr': 'US.F.CL.U16.160822'},\n",
       " {'_id': ObjectId('58ad3f7a33b18260b69daae6'), 'tckr': 'US.F.CL.V16.160920'},\n",
       " {'_id': ObjectId('58ad3f7a33b18260b69daae7'), 'tckr': 'US.F.CL.X16.161020'},\n",
       " {'_id': ObjectId('58ad3f7833b18260b69d9fb6'), 'tckr': 'US.F.CL.Z16.161121'},\n",
       " {'_id': ObjectId('58ad3f7833b18260b69d9fb7'), 'tckr': 'US.F.CL.M17.170522'},\n",
       " {'_id': ObjectId('58ad3f7833b18260b69d9fb8'), 'tckr': 'US.F.CL.Z17.171121'},\n",
       " {'_id': ObjectId('58ad3f7833b18260b69d9fb9'), 'tckr': 'US.F.CL.M18.180522'},\n",
       " {'_id': ObjectId('58ad3f7833b18260b69d9fba'), 'tckr': 'US.F.CL.Z18.181119'},\n",
       " {'_id': ObjectId('58ad3f7a33b18260b69da982'), 'tckr': 'US.F.CL.Z19.191120'}]"
      ]
     },
     "execution_count": 15,
     "metadata": {},
     "output_type": "execute_result"
    }
   ],
   "source": [
    "list(mongo_collection.find({'type':'F', 'instr': 'US.CL', 'exp': {'$gt': datetime.datetime(2011, 1, 1)}}, projection=['tckr']).sort('exp', 1))"
   ]
  },
  {
   "cell_type": "code",
   "execution_count": null,
   "metadata": {
    "collapsed": true
   },
   "outputs": [],
   "source": []
  }
 ],
 "metadata": {
  "anaconda-cloud": {},
  "kernelspec": {
   "display_name": "Python [Root]",
   "language": "python",
   "name": "Python [Root]"
  },
  "language_info": {
   "codemirror_mode": {
    "name": "ipython",
    "version": 3
   },
   "file_extension": ".py",
   "mimetype": "text/x-python",
   "name": "python",
   "nbconvert_exporter": "python",
   "pygments_lexer": "ipython3",
   "version": "3.5.2"
  }
 },
 "nbformat": 4,
 "nbformat_minor": 0
}
