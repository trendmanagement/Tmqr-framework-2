{
 "cells": [
  {
   "cell_type": "code",
   "execution_count": 2,
   "metadata": {
    "collapsed": true
   },
   "outputs": [],
   "source": [
    "import sys, argparse, logging\n",
    "import pymssql\n",
    "import _mssql\n",
    "import datetime\n",
    "from decimal import Decimal\n",
    "import pymongo\n",
    "from pymongo import MongoClient\n",
    "import re\n",
    "\n",
    "from tmqr.settings import *\n",
    "\n",
    "try:\n",
    "    from tmqr.settings_local import *\n",
    "except:\n",
    "    pass\n"
   ]
  },
  {
   "cell_type": "code",
   "execution_count": 3,
   "metadata": {
    "collapsed": true
   },
   "outputs": [],
   "source": [
    "# Init mongo asset index\n",
    "client = MongoClient(MONGO_CONNSTR)\n",
    "mongo_db = client[MONGO_DB]\n",
    "mongo_collection = mongo_db['asset_index']"
   ]
  },
  {
   "cell_type": "code",
   "execution_count": 3,
   "metadata": {
    "collapsed": false
   },
   "outputs": [
    {
     "data": {
      "text/plain": [
       "'contr_1_mkt_1_type_1'"
      ]
     },
     "execution_count": 3,
     "metadata": {},
     "output_type": "execute_result"
    }
   ],
   "source": [
    "mongo_collection.create_index([('contr', pymongo.ASCENDING), \n",
    "                               ('mkt', pymongo.ASCENDING), \n",
    "                               ('type', pymongo.ASCENDING)])"
   ]
  },
  {
   "cell_type": "code",
   "execution_count": 4,
   "metadata": {
    "collapsed": false
   },
   "outputs": [
    {
     "data": {
      "text/plain": [
       "'instr_1_type_1_exp_1'"
      ]
     },
     "execution_count": 4,
     "metadata": {},
     "output_type": "execute_result"
    }
   ],
   "source": [
    "mongo_collection.create_index([('instr', pymongo.ASCENDING), \n",
    "                               ('type', pymongo.ASCENDING),\n",
    "                               ('exp', pymongo.ASCENDING)])"
   ]
  },
  {
   "cell_type": "code",
   "execution_count": 6,
   "metadata": {
    "collapsed": false
   },
   "outputs": [
    {
     "name": "stdout",
     "output_type": "stream",
     "text": [
      "1000 loops, best of 3: 837 µs per loop\n"
     ]
    }
   ],
   "source": [
    "%%timeit\n",
    "mongo_collection.find_one({'tckr': 'US.F.CLM83.830520'})"
   ]
  },
  {
   "cell_type": "code",
   "execution_count": 10,
   "metadata": {
    "collapsed": false
   },
   "outputs": [
    {
     "name": "stdout",
     "output_type": "stream",
     "text": [
      "1000 loops, best of 3: 800 µs per loop\n"
     ]
    }
   ],
   "source": [
    "%%timeit\n",
    "mongo_collection.find_one({'tckr': 'US.P.F-GCM18-180627.180425@860.0'})"
   ]
  },
  {
   "cell_type": "code",
   "execution_count": 11,
   "metadata": {
    "collapsed": false
   },
   "outputs": [
    {
     "data": {
      "text/plain": [
       "32"
      ]
     },
     "execution_count": 11,
     "metadata": {},
     "output_type": "execute_result"
    }
   ],
   "source": [
    "len('US.P.F-GCM18-180627.180425@860.0')"
   ]
  },
  {
   "cell_type": "code",
   "execution_count": 9,
   "metadata": {
    "collapsed": false
   },
   "outputs": [
    {
     "name": "stdout",
     "output_type": "stream",
     "text": [
      "The slowest run took 8.53 times longer than the fastest. This could mean that an intermediate result is being cached.\n",
      "1000 loops, best of 3: 833 µs per loop\n"
     ]
    }
   ],
   "source": [
    "%%timeit\n",
    "regx = re.compile(\"^US.F.CLM83.*\", re.IGNORECASE)\n",
    "mongo_collection.find_one({'contr':  \"GCM18\", 'mkt': 'US', 'type': 'F'})\n",
    "#mongo_collection.find_one({'tickr':  regx})"
   ]
  },
  {
   "cell_type": "code",
   "execution_count": 40,
   "metadata": {
    "collapsed": false
   },
   "outputs": [
    {
     "name": "stdout",
     "output_type": "stream",
     "text": [
      "100 loops, best of 3: 2.96 ms per loop\n"
     ]
    }
   ],
   "source": [
    "%%timeit\n",
    "mongo_collection.find({'instr': 'US.CL', 'mkt': 'US', 'type': 'P', 'exp': {'$gt': datetime.datetime(2015, 5, 20, 0, 0)}}).count()"
   ]
  },
  {
   "cell_type": "code",
   "execution_count": 42,
   "metadata": {
    "collapsed": false
   },
   "outputs": [
    {
     "ename": "TypeError",
     "evalue": "'Collection' object is not callable. If you meant to call the 'explain' method on a 'Collection' object it is failing because no such method exists.",
     "output_type": "error",
     "traceback": [
      "\u001b[0;31m---------------------------------------------------------------------------\u001b[0m",
      "\u001b[0;31mTypeError\u001b[0m                                 Traceback (most recent call last)",
      "\u001b[0;32m<ipython-input-42-21dba0081654>\u001b[0m in \u001b[0;36m<module>\u001b[0;34m()\u001b[0m\n\u001b[0;32m----> 1\u001b[0;31m \u001b[0mmongo_collection\u001b[0m\u001b[0;34m.\u001b[0m\u001b[0mexplain\u001b[0m\u001b[0;34m(\u001b[0m\u001b[0;34m)\u001b[0m\u001b[0;34m.\u001b[0m\u001b[0mfind\u001b[0m\u001b[0;34m(\u001b[0m\u001b[0;34m{\u001b[0m\u001b[0;34m'instr'\u001b[0m\u001b[0;34m:\u001b[0m \u001b[0;34m'US.CL'\u001b[0m\u001b[0;34m,\u001b[0m \u001b[0;34m'mkt'\u001b[0m\u001b[0;34m:\u001b[0m \u001b[0;34m'US'\u001b[0m\u001b[0;34m,\u001b[0m \u001b[0;34m'type'\u001b[0m\u001b[0;34m:\u001b[0m \u001b[0;34m'P'\u001b[0m\u001b[0;34m,\u001b[0m \u001b[0;34m'exp'\u001b[0m\u001b[0;34m:\u001b[0m \u001b[0;34m{\u001b[0m\u001b[0;34m'$gt'\u001b[0m\u001b[0;34m:\u001b[0m \u001b[0mdatetime\u001b[0m\u001b[0;34m.\u001b[0m\u001b[0mdatetime\u001b[0m\u001b[0;34m(\u001b[0m\u001b[0;36m2015\u001b[0m\u001b[0;34m,\u001b[0m \u001b[0;36m5\u001b[0m\u001b[0;34m,\u001b[0m \u001b[0;36m20\u001b[0m\u001b[0;34m,\u001b[0m \u001b[0;36m0\u001b[0m\u001b[0;34m,\u001b[0m \u001b[0;36m0\u001b[0m\u001b[0;34m)\u001b[0m\u001b[0;34m}\u001b[0m\u001b[0;34m}\u001b[0m\u001b[0;34m)\u001b[0m\u001b[0;34m.\u001b[0m\u001b[0mcount\u001b[0m\u001b[0;34m(\u001b[0m\u001b[0;34m)\u001b[0m\u001b[0;34m\u001b[0m\u001b[0m\n\u001b[0m",
      "\u001b[0;32m/home/ubertrader/anaconda3/lib/python3.5/site-packages/pymongo/collection.py\u001b[0m in \u001b[0;36m__call__\u001b[0;34m(self, *args, **kwargs)\u001b[0m\n\u001b[1;32m   2358\u001b[0m                         \u001b[0;34m\"call the '%s' method on a 'Collection' object it is \"\u001b[0m\u001b[0;34m\u001b[0m\u001b[0m\n\u001b[1;32m   2359\u001b[0m                         \u001b[0;34m\"failing because no such method exists.\"\u001b[0m \u001b[0;34m%\u001b[0m\u001b[0;34m\u001b[0m\u001b[0m\n\u001b[0;32m-> 2360\u001b[0;31m                         self.__name.split(\".\")[-1])\n\u001b[0m",
      "\u001b[0;31mTypeError\u001b[0m: 'Collection' object is not callable. If you meant to call the 'explain' method on a 'Collection' object it is failing because no such method exists."
     ]
    }
   ],
   "source": [
    "mongo_collection.explain().find({'instr': 'US.CL', 'mkt': 'US', 'type': 'P', 'exp': {'$gt': datetime.datetime(2015, 5, 20, 0, 0)}}).count()"
   ]
  },
  {
   "cell_type": "markdown",
   "metadata": {
    "collapsed": true
   },
   "source": [
    "# Getting futures chains"
   ]
  },
  {
   "cell_type": "code",
   "execution_count": 10,
   "metadata": {
    "collapsed": false
   },
   "outputs": [
    {
     "name": "stdout",
     "output_type": "stream",
     "text": [
      "100 loops, best of 3: 7.71 ms per loop\n"
     ]
    }
   ],
   "source": [
    "%timeit list(mongo_collection.find({'type':'F', 'instr': 'US.CL'}).sort('exp', 1))"
   ]
  },
  {
   "cell_type": "code",
   "execution_count": 7,
   "metadata": {
    "collapsed": false
   },
   "outputs": [
    {
     "data": {
      "text/plain": [
       "['US.F.CL.G11.110120',\n",
       " 'US.F.CL.H11.110222',\n",
       " 'US.F.CL.J11.110322',\n",
       " 'US.F.CL.K11.110419',\n",
       " 'US.F.CL.M11.110520',\n",
       " 'US.F.CL.N11.110622',\n",
       " 'US.F.CL.Q11.110720',\n",
       " 'US.F.CL.U11.110822',\n",
       " 'US.F.CL.V11.110921',\n",
       " 'US.F.CL.X11.111020',\n",
       " 'US.F.CL.Z11.111121',\n",
       " 'US.F.CL.F12.111221',\n",
       " 'US.F.CL.G12.120120',\n",
       " 'US.F.CL.H12.120222',\n",
       " 'US.F.CL.J12.120321',\n",
       " 'US.F.CL.K12.120420',\n",
       " 'US.F.CL.M12.120522',\n",
       " 'US.F.CL.N12.120620',\n",
       " 'US.F.CL.Q12.120720',\n",
       " 'US.F.CL.U12.120822',\n",
       " 'US.F.CL.V12.120920',\n",
       " 'US.F.CL.X12.121022',\n",
       " 'US.F.CL.Z12.121120',\n",
       " 'US.F.CL.F13.121220',\n",
       " 'US.F.CL.G13.130122',\n",
       " 'US.F.CL.H13.130220',\n",
       " 'US.F.CL.J13.130320',\n",
       " 'US.F.CL.K13.130422',\n",
       " 'US.F.CL.M13.130522',\n",
       " 'US.F.CL.N13.130620',\n",
       " 'US.F.CL.Q13.130722',\n",
       " 'US.F.CL.U13.130821',\n",
       " 'US.F.CL.V13.130920',\n",
       " 'US.F.CL.X13.131022',\n",
       " 'US.F.CL.Z13.131120',\n",
       " 'US.F.CL.F14.131220',\n",
       " 'US.F.CL.G14.140122',\n",
       " 'US.F.CL.H14.140220',\n",
       " 'US.F.CL.J14.140320',\n",
       " 'US.F.CL.K14.140422',\n",
       " 'US.F.CL.M14.140521',\n",
       " 'US.F.CL.N14.140620',\n",
       " 'US.F.CL.Q14.140722',\n",
       " 'US.F.CL.U14.140820',\n",
       " 'US.F.CL.V14.140922',\n",
       " 'US.F.CL.X14.141022',\n",
       " 'US.F.CL.Z14.141120',\n",
       " 'US.F.CL.F15.141219',\n",
       " 'US.F.CL.G15.150120',\n",
       " 'US.F.CL.H15.150220',\n",
       " 'US.F.CL.J15.150320',\n",
       " 'US.F.CL.K15.150421',\n",
       " 'US.F.CL.M15.150519',\n",
       " 'US.F.CL.N15.150622',\n",
       " 'US.F.CL.Q15.150721',\n",
       " 'US.F.CL.U15.150820',\n",
       " 'US.F.CL.V15.150922',\n",
       " 'US.F.CL.X15.151020',\n",
       " 'US.F.CL.Z15.151120',\n",
       " 'US.F.CL.F16.151221',\n",
       " 'US.F.CL.G16.160120',\n",
       " 'US.F.CL.H16.160222',\n",
       " 'US.F.CL.J16.160321',\n",
       " 'US.F.CL.K16.160420',\n",
       " 'US.F.CL.M16.160520',\n",
       " 'US.F.CL.N16.160621',\n",
       " 'US.F.CL.Q16.160720',\n",
       " 'US.F.CL.U16.160822',\n",
       " 'US.F.CL.V16.160920',\n",
       " 'US.F.CL.X16.161020',\n",
       " 'US.F.CL.Z16.161121',\n",
       " 'US.F.CL.M17.170522',\n",
       " 'US.F.CL.Z17.171121',\n",
       " 'US.F.CL.M18.180522',\n",
       " 'US.F.CL.Z18.181119',\n",
       " 'US.F.CL.Z19.191120']"
      ]
     },
     "execution_count": 7,
     "metadata": {},
     "output_type": "execute_result"
    }
   ],
   "source": [
    "[x['tckr'] for x in mongo_collection.find({'type':'F', \n",
    "                                           'instr': 'US.CL', \n",
    "                                           'exp': {'$gt': datetime.datetime(2011, 1, 1)}}, \n",
    "                                          projection=['tckr']).sort('exp', 1)]"
   ]
  },
  {
   "cell_type": "code",
   "execution_count": null,
   "metadata": {
    "collapsed": true
   },
   "outputs": [],
   "source": []
  }
 ],
 "metadata": {
  "anaconda-cloud": {},
  "kernelspec": {
   "display_name": "Python [Root]",
   "language": "python",
   "name": "Python [Root]"
  },
  "language_info": {
   "codemirror_mode": {
    "name": "ipython",
    "version": 3
   },
   "file_extension": ".py",
   "mimetype": "text/x-python",
   "name": "python",
   "nbconvert_exporter": "python",
   "pygments_lexer": "ipython3",
   "version": "3.5.2"
  }
 },
 "nbformat": 4,
 "nbformat_minor": 0
}
