{
 "cells": [
  {
   "cell_type": "code",
   "execution_count": null,
   "metadata": {},
   "outputs": [],
   "source": [
    "%load_ext autoreload\n",
    "%autoreload 2\n",
    "%pylab inline"
   ]
  },
  {
   "cell_type": "code",
   "execution_count": null,
   "metadata": {},
   "outputs": [],
   "source": [
    "%load_ext Cython\n",
    "%load_ext line_profiler\n",
    "%load_ext memory_profiler\n"
   ]
  },
  {
   "cell_type": "code",
   "execution_count": null,
   "metadata": {},
   "outputs": [],
   "source": [
    "import sys, argparse, logging\n",
    "from datetime import datetime, time\n",
    "from decimal import Decimal\n",
    "import pymongo\n",
    "from pymongo import MongoClient\n",
    "from tqdm import tqdm, tnrange, tqdm_notebook\n",
    "import pandas as pd\n",
    "from tmqr.settings import *\n",
    "from tmqrfeed.assetsession import AssetSession\n",
    "import pickle\n",
    "import pytz\n",
    "try:\n",
    "    from tmqr.settings_local import *\n",
    "except:\n",
    "    pass\n",
    "import pyximport\n",
    "\n",
    "pyximport.install(setup_args={\"include_dirs\": np.get_include()})\n",
    "from tmqrfeed.quotes.compress_daily_ohlcv import compress_daily\n",
    "import os\n",
    "import pickle\n",
    "\n",
    "from tmqrfeed.assetsession import AssetSession\n",
    "from tmqrfeed.quotes.dataframegetter import DataFrameGetter\n",
    "from tmqrfeed.datafeed import DataFeed\n",
    "from tmqrfeed.manager import DataManager\n",
    "from tmqrfeed.position import Position\n",
    "from tmqr.errors import *\n",
    "from tmqrfeed.costs import Costs"
   ]
  },
  {
   "cell_type": "code",
   "execution_count": null,
   "metadata": {},
   "outputs": [],
   "source": [
    "dm = DataManager()\n",
    "feed = dm.datafeed"
   ]
  },
  {
   "cell_type": "code",
   "execution_count": null,
   "metadata": {},
   "outputs": [],
   "source": [
    "from tmqrfeed.quotes.quote_contfut import QuoteContFut"
   ]
  },
  {
   "cell_type": "code",
   "execution_count": null,
   "metadata": {},
   "outputs": [],
   "source": [
    "dm.series_primary_set(QuoteContFut, 'US.CL',\n",
    "                                   timeframe='D', decision_time_shift=5)\n",
    "\n",
    "dm.costs_set('US', Costs() )"
   ]
  },
  {
   "cell_type": "code",
   "execution_count": null,
   "metadata": {},
   "outputs": [],
   "source": [
    "ohlc = dm.quotes()"
   ]
  },
  {
   "cell_type": "raw",
   "metadata": {},
   "source": [
    "\n",
    "Find option contract in chain using 'how' criteria\n",
    ":param dt: analysis date\n",
    ":param item: search value\n",
    ":param opttype: option type 'C' or 'P'\n",
    ":param how: search method\n",
    "            - 'offset' - by strike offset from ATM\n",
    "            - 'strike' - by strike absolute value\n",
    "            - 'delta'  - by delta        \n",
    "                Search option contract by delta value:\n",
    "                If delta ==  0.5 - returns ATM call/put\n",
    "                If delta > 0.5 - returns ITM call/put near target delta\n",
    "                If delta < 0.5 - returns OTM call/put near target delta\n",
    ":param kwargs:\n",
    "    * how == 'offset' kwargs:\n",
    "        - error_limit - how many QuoteNotFound errors occurred before raising exception (default: 5) \n",
    "    * how == 'delta' kwargs:\n",
    "        - error_limit - how many QuoteNotFound errors occurred before raising exception (default: 5)\n",
    "        - strike_limit - how many strikes to analyse from ATM (default: 30)\n",
    ":return: OptionContract\n",
    "        "
   ]
  },
  {
   "cell_type": "code",
   "execution_count": null,
   "metadata": {},
   "outputs": [],
   "source": [
    "\n",
    "pos = Position(dm)\n",
    "\n",
    "for dt in ohlc.index[1000:]:\n",
    "    #print(dt)\n",
    "    try:\n",
    "        fut, opt_chain = dm.chains_options_get(\"US.CL\", dt)\n",
    "        pos.keep_previous_position(dt)\n",
    "        \n",
    "        if pos.almost_expired_ratio(dt) == 1:\n",
    "            pos.close(dt)\n",
    "        \n",
    "        if not pos.has_position(dt):\n",
    "            pos.add_transaction(dt, opt_chain.find(dt, 0, 'C'), 1.0)\n",
    "        \n",
    "    except ChainNotFoundError:\n",
    "        print(f\"ChainNotFoundError: {dt}\")\n",
    "        pass\n",
    "    #except QuoteNotFoundError:\n",
    "    #    print(f\"QuoteNotFoundError: {dt}\")\n",
    "    "
   ]
  },
  {
   "cell_type": "code",
   "execution_count": null,
   "metadata": {},
   "outputs": [],
   "source": [
    "pos"
   ]
  },
  {
   "cell_type": "code",
   "execution_count": null,
   "metadata": {},
   "outputs": [],
   "source": [
    "pos_pnl = pos.get_pnl_series()"
   ]
  },
  {
   "cell_type": "code",
   "execution_count": null,
   "metadata": {},
   "outputs": [],
   "source": [
    "pos_pnl['equity_execution'].plot()"
   ]
  },
  {
   "cell_type": "code",
   "execution_count": null,
   "metadata": {},
   "outputs": [],
   "source": [
    "ohlc.c.plot()"
   ]
  },
  {
   "cell_type": "code",
   "execution_count": null,
   "metadata": {},
   "outputs": [],
   "source": []
  }
 ],
 "metadata": {
  "kernelspec": {
   "display_name": "Python 3",
   "language": "python",
   "name": "python3"
  },
  "language_info": {
   "codemirror_mode": {
    "name": "ipython",
    "version": 3
   },
   "file_extension": ".py",
   "mimetype": "text/x-python",
   "name": "python",
   "nbconvert_exporter": "python",
   "pygments_lexer": "ipython3",
   "version": "3.6.0"
  }
 },
 "nbformat": 4,
 "nbformat_minor": 2
}
