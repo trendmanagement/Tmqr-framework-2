{
 "cells": [
  {
   "cell_type": "code",
   "execution_count": null,
   "metadata": {},
   "outputs": [],
   "source": [
    "%load_ext autoreload\n",
    "\n",
    "%autoreload 2"
   ]
  },
  {
   "cell_type": "code",
   "execution_count": null,
   "metadata": {},
   "outputs": [],
   "source": [
    "%load_ext line_profiler\n",
    "%load_ext memory_profiler\n",
    "%load_ext Cython"
   ]
  },
  {
   "cell_type": "code",
   "execution_count": null,
   "metadata": {},
   "outputs": [],
   "source": [
    "%pylab inline"
   ]
  },
  {
   "cell_type": "code",
   "execution_count": null,
   "metadata": {},
   "outputs": [],
   "source": [
    "import sys, argparse, logging\n",
    "import pymssql\n",
    "import _mssql\n",
    "from datetime import datetime, time\n",
    "from decimal import Decimal\n",
    "import pymongo\n",
    "from pymongo import MongoClient\n",
    "from tqdm import tqdm, tnrange, tqdm_notebook\n",
    "import pandas as pd\n",
    "from tmqr.settings import *\n",
    "from tmqrfeed.assetsession import AssetSession\n",
    "import pickle\n",
    "import pytz\n",
    "try:\n",
    "    from tmqr.settings_local import *\n",
    "except:\n",
    "    pass\n",
    "\n",
    "from tmqrfeed.datafeed import DataFeed\n",
    "\n"
   ]
  },
  {
   "cell_type": "code",
   "execution_count": null,
   "metadata": {},
   "outputs": [],
   "source": [
    "# Init mongo asset index\n",
    "client = MongoClient(MONGO_CONNSTR)\n",
    "mongo_db = client[MONGO_DB]\n"
   ]
  },
  {
   "cell_type": "code",
   "execution_count": null,
   "metadata": {},
   "outputs": [],
   "source": [
    "session_settings = [{\n",
    "                                    'decision': '10:40',\n",
    "                                    'dt': datetime(1900, 1, 1),\n",
    "                                    'execution': '10:45',\n",
    "                                    'start': '00:32'},\n",
    "\n",
    "                                {\n",
    "                                    'decision': '11:40',\n",
    "                                    'dt': datetime(2011, 9, 30),\n",
    "                                    'execution': '11:45',\n",
    "                                    'start': '01:32'},\n",
    "\n",
    "                                {\n",
    "                                    'decision': '12:40',\n",
    "                                    'dt': datetime(2012, 1, 1),\n",
    "                                    'execution': '12:45',\n",
    "                                    'start': '02:32'},\n",
    "                                ]\n",
    "tz = pytz.timezone('US/Pacific')\n",
    "sess = AssetSession(session_settings, tz)"
   ]
  },
  {
   "cell_type": "code",
   "execution_count": null,
   "metadata": {},
   "outputs": [],
   "source": [
    "feed = DataFeed()"
   ]
  },
  {
   "cell_type": "code",
   "execution_count": null,
   "metadata": {},
   "outputs": [],
   "source": [
    "def load_case1():\n",
    "    dframes_list = []\n",
    "    for data in mongo_db['quotes_intraday'].find({'tckr': 'US.F.CL.Q12.120720'}):\n",
    "        df = pickle.loads(data['ohlc'])\n",
    "        dframes_list.append(df)    \n",
    "\n",
    "    result = pd.concat(dframes_list)"
   ]
  },
  {
   "cell_type": "code",
   "execution_count": null,
   "metadata": {},
   "outputs": [],
   "source": [
    "def load_case2():\n",
    "    result_df = pd.DataFrame()\n",
    "    for data in mongo_db['quotes_intraday'].find({'tckr': 'US.F.CL.Q12.120720'}):\n",
    "        df = pickle.loads(data['ohlc'])\n",
    "        result_df = pd.concat([result_df, df])    \n",
    "\n",
    "    return result_df"
   ]
  },
  {
   "cell_type": "code",
   "execution_count": null,
   "metadata": {},
   "outputs": [],
   "source": [
    "%timeit load_case1()"
   ]
  },
  {
   "cell_type": "code",
   "execution_count": null,
   "metadata": {},
   "outputs": [],
   "source": [
    "%timeit load_case2()"
   ]
  },
  {
   "cell_type": "code",
   "execution_count": null,
   "metadata": {},
   "outputs": [],
   "source": [
    "%lprun -f load_case1 load_case1()"
   ]
  },
  {
   "cell_type": "code",
   "execution_count": null,
   "metadata": {},
   "outputs": [],
   "source": [
    "%lprun -f load_case2 load_case2()"
   ]
  },
  {
   "cell_type": "code",
   "execution_count": null,
   "metadata": {},
   "outputs": [],
   "source": [
    "df = load_case2()\n",
    "df.tz_convert('US/Pacific', copy=False)"
   ]
  },
  {
   "cell_type": "code",
   "execution_count": null,
   "metadata": {},
   "outputs": [],
   "source": [
    "%mprun -f df.tz_convert df.tz_convert('US/Pacific', copy=True)"
   ]
  },
  {
   "cell_type": "code",
   "execution_count": null,
   "metadata": {},
   "outputs": [],
   "source": []
  },
  {
   "cell_type": "code",
   "execution_count": null,
   "metadata": {},
   "outputs": [],
   "source": [
    "dt1 = df.index[-1]\n"
   ]
  },
  {
   "cell_type": "code",
   "execution_count": null,
   "metadata": {},
   "outputs": [],
   "source": [
    "%lprun -f sess.date_is_insession df.index.map(lambda x: sess.date_is_insession(x))"
   ]
  },
  {
   "cell_type": "code",
   "execution_count": null,
   "metadata": {},
   "outputs": [],
   "source": [
    "%lprun -f sess.date_is_insession sess.date_is_insession(dt1)"
   ]
  },
  {
   "cell_type": "code",
   "execution_count": null,
   "metadata": {},
   "outputs": [],
   "source": [
    "%timeit df.between_time('9:30', '10:45')"
   ]
  },
  {
   "cell_type": "code",
   "execution_count": null,
   "metadata": {},
   "outputs": [],
   "source": [
    "%timeit df.index.map(lambda x: sess.date_is_insession(x))"
   ]
  },
  {
   "cell_type": "code",
   "execution_count": null,
   "metadata": {},
   "outputs": [],
   "source": [
    "%mprun -f sess.filter_dataframe sess.filter_dataframe(df)"
   ]
  },
  {
   "cell_type": "code",
   "execution_count": null,
   "metadata": {},
   "outputs": [],
   "source": [
    "%timeit sess.filter_dataframe(df)"
   ]
  },
  {
   "cell_type": "code",
   "execution_count": null,
   "metadata": {},
   "outputs": [],
   "source": [
    "date_start = datetime(2012, 1, 1)\n",
    "date_end = datetime(2013, 1, 1)\n",
    "\n",
    "%timeit df[(df.index >= date_start) & (df.index < date_end)]"
   ]
  },
  {
   "cell_type": "code",
   "execution_count": null,
   "metadata": {},
   "outputs": [],
   "source": [
    "%timeit df.ix[date_start:date_end]"
   ]
  },
  {
   "cell_type": "code",
   "execution_count": null,
   "metadata": {},
   "outputs": [],
   "source": [
    "pd.Timestamp(np_date).date()"
   ]
  },
  {
   "cell_type": "code",
   "execution_count": null,
   "metadata": {},
   "outputs": [],
   "source": [
    "def datetime64_to_time_of_day(datetime64_array):\n",
    "    \"\"\"\n",
    "    Return a new array. For every element in datetime64_array return the time of day (since midnight).\n",
    "    >>> datetime64_to_time_of_day(np.array(['2012-01-02T01:01:01.001Z'],dtype='datetime64[ms]'))\n",
    "    array([3661001], dtype='timedelta64[ms]')\n",
    "    >>> datetime64_to_time_of_day(np.datetime64('2012-01-02T01:01:01.001Z','[ms]'))\n",
    "    numpy.timedelta64(3661001,'ms')\n",
    "    \"\"\"\n",
    "    day = datetime64_array.astype('datetime64[D]').astype(datetime64_array.dtype)\n",
    "    time_of_day = datetime64_array - day\n",
    "    return time_of_day"
   ]
  },
  {
   "cell_type": "code",
   "execution_count": null,
   "metadata": {},
   "outputs": [],
   "source": [
    "%timeit datetime64_to_time_of_day(df.index.values)"
   ]
  },
  {
   "cell_type": "code",
   "execution_count": null,
   "metadata": {},
   "outputs": [],
   "source": [
    "(datetime(2010, 1, 1, 18, 29) - datetime(2010, 1, 1)).seconds * 1000000000"
   ]
  },
  {
   "cell_type": "code",
   "execution_count": null,
   "metadata": {},
   "outputs": [],
   "source": [
    " datetime64_to_time_of_day(df.index.values)"
   ]
  },
  {
   "cell_type": "code",
   "execution_count": null,
   "metadata": {},
   "outputs": [],
   "source": [
    "np.datetime64(datetime(2011, 1,1))"
   ]
  },
  {
   "cell_type": "code",
   "execution_count": null,
   "metadata": {},
   "outputs": [],
   "source": [
    "sess_params = [x for x in sess.sessions]"
   ]
  },
  {
   "cell_type": "code",
   "execution_count": null,
   "metadata": {},
   "outputs": [],
   "source": [
    "sess_params"
   ]
  },
  {
   "cell_type": "code",
   "execution_count": null,
   "metadata": {},
   "outputs": [],
   "source": [
    "%%cython -a\n",
    "import numpy as np\n",
    "import pandas as pd\n",
    "from datetime import datetime\n",
    "\n",
    "def filter_index(self, dataframe_index, sess_params):\n",
    "    \"\"\"\n",
    "    Creates boolean filter array used to filter dataframe from out-of-session datapoints\n",
    "    :param dataframe_index:\n",
    "    :return:\n",
    "    \"\"\"\n",
    "\n",
    "    flt = np.empty(len(dataframe_index))\n",
    "    flt.fill(False)\n",
    "    start_time = 0\n",
    "    end_time = 0\n",
    "    next_sess_date = 0\n",
    "\n",
    "    \n",
    "    date_array = dataframe_index.values\n",
    "    time_array = date_array.view('datetime64[D]')\n",
    "    \n",
    "    date = date_array[0]\n",
    "    for sess_idx, sess in enumerate(reversed(sess_params)):\n",
    "        if date >= sess['dt']:\n",
    "            start_datetime = np.datetime64(datetime.combine(date, sess['start']))\n",
    "            end_datetime = np.datetime64(datetime.combine(date, sess['decision']))\n",
    "            \n",
    "            \n",
    "\n",
    "            if sess_idx > 0:\n",
    "                next_sess_date = np.datetime64(sess_params[len(sess_params) - sess_idx]['dt'])\n",
    "            else:\n",
    "                next_sess_date = 0\n",
    "    \n",
    "        \n",
    "    for i in range(len(dataframe_index)):\n",
    "        dt = date_array[i]\n",
    "        t = time_array[i]\n",
    "\n",
    "        if t >= start_time and t <= end_time:\n",
    "            flt[i] = 1\n",
    "\n",
    "    return flt"
   ]
  },
  {
   "cell_type": "code",
   "execution_count": null,
   "metadata": {},
   "outputs": [],
   "source": [
    "sess_params[0]['start']"
   ]
  },
  {
   "cell_type": "code",
   "execution_count": null,
   "metadata": {},
   "outputs": [],
   "source": [
    "%timeit df.index.values.astype('datetime64[D]')"
   ]
  },
  {
   "cell_type": "code",
   "execution_count": null,
   "metadata": {},
   "outputs": [],
   "source": [
    "%timeit df.index.values.view('datetime64[D]')"
   ]
  },
  {
   "cell_type": "code",
   "execution_count": null,
   "metadata": {},
   "outputs": [],
   "source": [
    "dt = df.index.values"
   ]
  },
  {
   "cell_type": "code",
   "execution_count": null,
   "metadata": {},
   "outputs": [],
   "source": [
    "date_arr = dt.astype('datetime64[D]').view('uint64')"
   ]
  },
  {
   "cell_type": "code",
   "execution_count": null,
   "metadata": {},
   "outputs": [],
   "source": [
    "date_arr"
   ]
  },
  {
   "cell_type": "code",
   "execution_count": null,
   "metadata": {},
   "outputs": [],
   "source": [
    "date_arr2 = dt.view('uint64')"
   ]
  },
  {
   "cell_type": "code",
   "execution_count": null,
   "metadata": {},
   "outputs": [],
   "source": [
    "date_arr2"
   ]
  },
  {
   "cell_type": "code",
   "execution_count": null,
   "metadata": {},
   "outputs": [],
   "source": [
    "datetime.fromtimestamp(, tz=pytz.timezone(\"UTC\"))"
   ]
  },
  {
   "cell_type": "code",
   "execution_count": null,
   "metadata": {},
   "outputs": [],
   "source": [
    "sess_params"
   ]
  },
  {
   "cell_type": "code",
   "execution_count": null,
   "metadata": {},
   "outputs": [],
   "source": [
    "def sess_filt():\n",
    "    df_list = []\n",
    "    for i in range(1, len(sess_params)):\n",
    "        if i < len(sess_params)-1:\n",
    "            date_start = sess_params[i-1]['dt']\n",
    "            date_end = sess_params[i]['dt']\n",
    "            time_start = sess_params[i-1]['start']\n",
    "            time_end = sess_params[i-1]['decision']\n",
    "        else:\n",
    "            date_start = sess_params[i-1]['dt']        \n",
    "            date_end = datetime(2100, 1, 1)        \n",
    "            time_start = sess_params[i-1]['start']\n",
    "            time_end = sess_params[i-1]['decision']\n",
    "\n",
    "        print('DateStart: {0} DateEnd: {1}'.format(date_start, date_end))\n",
    "        print('TimeStart: {0} TimeEnd: {1}'.format(time_start, time_end))\n",
    "        tmp_df = df[(df.index >= date_start) & (df.index < date_end)]\n",
    "        df_list.append(tmp_df.between_time(time_start, time_end))\n",
    "\n",
    "    df_sess = pd.concat(df_list)"
   ]
  },
  {
   "cell_type": "code",
   "execution_count": null,
   "metadata": {},
   "outputs": [],
   "source": [
    "%timeit sess_filt()"
   ]
  },
  {
   "cell_type": "code",
   "execution_count": null,
   "metadata": {},
   "outputs": [],
   "source": [
    "[x.utcoffset().seconds/3600 for x in df.index]"
   ]
  },
  {
   "cell_type": "code",
   "execution_count": null,
   "metadata": {},
   "outputs": [],
   "source": [
    "[print(x) for x in df.index]"
   ]
  },
  {
   "cell_type": "code",
   "execution_count": null,
   "metadata": {},
   "outputs": [],
   "source": []
  }
 ],
 "metadata": {
  "anaconda-cloud": {},
  "kernelspec": {
   "display_name": "Python [Root]",
   "language": "python",
   "name": "Python [Root]"
  },
  "language_info": {
   "codemirror_mode": {
    "name": "ipython",
    "version": 3
   },
   "file_extension": ".py",
   "mimetype": "text/x-python",
   "name": "python",
   "nbconvert_exporter": "python",
   "pygments_lexer": "ipython3",
   "version": "3.5.2"
  }
 },
 "nbformat": 4,
 "nbformat_minor": 0
}
