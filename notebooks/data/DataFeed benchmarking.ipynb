{
 "cells": [
  {
   "cell_type": "code",
   "execution_count": null,
   "metadata": {},
   "outputs": [],
   "source": [
    "%load_ext autoreload\n",
    "%autoreload 2\n",
    "%pylab inline"
   ]
  },
  {
   "cell_type": "code",
   "execution_count": null,
   "metadata": {},
   "outputs": [],
   "source": [
    "%load_ext Cython\n",
    "%load_ext line_profiler\n",
    "%load_ext memory_profiler"
   ]
  },
  {
   "cell_type": "code",
   "execution_count": null,
   "metadata": {},
   "outputs": [],
   "source": [
    "import sys, argparse, logging\n",
    "from datetime import datetime, time\n",
    "from decimal import Decimal\n",
    "import pymongo\n",
    "from pymongo import MongoClient\n",
    "from tqdm import tqdm, tnrange, tqdm_notebook\n",
    "import pandas as pd\n",
    "from tmqr.settings import *\n",
    "from tmqrfeed.assetsession import AssetSession\n",
    "import pickle\n",
    "import pytz\n",
    "try:\n",
    "    from tmqr.settings_local import *\n",
    "except:\n",
    "    pass\n",
    "import pyximport\n",
    "\n",
    "pyximport.install(setup_args={\"include_dirs\": np.get_include()})\n",
    "from tmqrfeed.quotes.compress_daily_ohlcv import compress_daily\n",
    "import os\n",
    "\n",
    "from tmqrfeed.assetsession import AssetSession\n",
    "from tmqrfeed.quotes.dataframegetter import DataFrameGetter\n",
    "from tmqrfeed.datafeed import DataFeed\n",
    "from tmqrfeed.manager import DataManager\n",
    "from tmqrfeed.contracts import FutureContract, OptionContract\n",
    "from tmqrfeed.quotes.quote_contfut import QuoteContFut\n",
    "from tmqr.errors import *"
   ]
  },
  {
   "cell_type": "code",
   "execution_count": null,
   "metadata": {},
   "outputs": [],
   "source": [
    "%load_ext line_profiler\n",
    "import line_profiler\n",
    "#Set compiler directives (cf. http://docs.cython.org/src/reference/compilation.html)\n",
    "from Cython.Compiler import Options\n",
    "\n",
    "directive_defaults = Options.get_directive_defaults()\n",
    "directive_defaults['linetrace'] = True\n",
    "directive_defaults['binding'] = True"
   ]
  },
  {
   "cell_type": "code",
   "execution_count": null,
   "metadata": {},
   "outputs": [],
   "source": [
    "%memit"
   ]
  },
  {
   "cell_type": "code",
   "execution_count": null,
   "metadata": {},
   "outputs": [],
   "source": [
    "dm = DataManager()"
   ]
  },
  {
   "cell_type": "markdown",
   "metadata": {},
   "source": [
    "# DataManager chain getting"
   ]
  },
  {
   "cell_type": "code",
   "execution_count": null,
   "metadata": {},
   "outputs": [],
   "source": [
    "dt = datetime(2011, 12, 21)\n",
    "dm.chains_futures_get('US.CL', dt, offset=0)"
   ]
  },
  {
   "cell_type": "code",
   "execution_count": null,
   "metadata": {},
   "outputs": [],
   "source": [
    "%memit"
   ]
  },
  {
   "cell_type": "code",
   "execution_count": null,
   "metadata": {},
   "outputs": [],
   "source": [
    "dm.series_primary_set(QuoteContFut, 'US.CL', datamanager=dm, timeframe='D' )"
   ]
  },
  {
   "cell_type": "code",
   "execution_count": null,
   "metadata": {},
   "outputs": [],
   "source": [
    "%memit"
   ]
  },
  {
   "cell_type": "code",
   "execution_count": null,
   "metadata": {},
   "outputs": [],
   "source": [
    "quotes = dm._primary_quotes\n",
    "\n",
    "dates = quotes.ix['2011-12': '2012-01-15'].index"
   ]
  },
  {
   "cell_type": "code",
   "execution_count": null,
   "metadata": {},
   "outputs": [],
   "source": [
    "def request_quotes():\n",
    "    for dt in dates:\n",
    "        try: \n",
    "            fut, opt_chain = dm.chains_options_get('US.CL', dt, opt_offset=0)\n",
    "            #opt = opt_chain.find(dt, 0, 'C', how='offset')\n",
    "            opt = opt_chain.find(dt, 0.2, 'C', how='delta')            \n",
    "            #opt = opt_chain.find(dt, 0.5, 'C', how='delta')\n",
    "            #opt = opt_chain.find(dt, 0.8, 'C', how='delta')\n",
    "        except NotFoundError as exc:\n",
    "            print(f\"{type(exc)}: {str(exc)}\")"
   ]
  },
  {
   "cell_type": "code",
   "execution_count": null,
   "metadata": {},
   "outputs": [],
   "source": [
    "%lprun -f dm.price_get request_quotes()"
   ]
  },
  {
   "cell_type": "code",
   "execution_count": null,
   "metadata": {},
   "outputs": [],
   "source": [
    "%lprun -m tmqrfeed.datafeed request_quotes()"
   ]
  },
  {
   "cell_type": "code",
   "execution_count": null,
   "metadata": {},
   "outputs": [],
   "source": [
    "%lprun -m tmqrfeed.chains request_quotes()"
   ]
  },
  {
   "cell_type": "code",
   "execution_count": null,
   "metadata": {},
   "outputs": [],
   "source": [
    "%lprun -f request_quotes request_quotes()"
   ]
  },
  {
   "cell_type": "code",
   "execution_count": null,
   "metadata": {},
   "outputs": [],
   "source": [
    "%timeit request_quotes()"
   ]
  },
  {
   "cell_type": "code",
   "execution_count": null,
   "metadata": {},
   "outputs": [],
   "source": [
    "%memit request_quotes()"
   ]
  },
  {
   "cell_type": "markdown",
   "metadata": {},
   "source": [
    "### Timings (dm.chains_options_get) without caching - per hit 134ms"
   ]
  },
  {
   "cell_type": "raw",
   "metadata": {},
   "source": [
    "1 loop, best of 3: 3.85 s per loop\n",
    "peak memory: 146.91 MiB, increment: 0.07 MiB   \n",
    "        \n",
    "Function: request_quotes at line 1\n",
    "\n",
    "Line #      Hits         Time  Per Hit   % Time  Line Contents\n",
    "==============================================================\n",
    "     1                                           def request_quotes():\n",
    "     2        31         1149     37.1      0.0      for dt in dates:\n",
    "     3        30           32      1.1      0.0          try: \n",
    "     4        30      4028546 134284.9     63.9              fut, opt_chain = dm.chains_options_get('US.CL', dt, opt_offset=0)\n",
    "     5        30      2279012  75967.1     36.1              opt = opt_chain.find(dt, 0.2, 'C', how='delta')\n",
    "     6                                                   except NotFoundError as exc:\n",
    "     7                                                       print(f\"{type(exc)}: {str(exc)}\")"
   ]
  },
  {
   "cell_type": "markdown",
   "metadata": {},
   "source": [
    "### Timings (dm.chains_options_get) fut_chain caching - per hit 27ms (5x speed up)"
   ]
  },
  {
   "cell_type": "raw",
   "metadata": {},
   "source": [
    "1 loop, best of 3: 1.85 s per loop\n",
    "peak memory: 139.32 MiB, increment: 0.02 MiB\n",
    "        \n",
    "Line #      Hits         Time  Per Hit   % Time  Line Contents\n",
    "==============================================================\n",
    "     1                                           def request_quotes():\n",
    "     2        31          618     19.9      0.0      for dt in dates:\n",
    "     3        30           32      1.1      0.0          try: \n",
    "     4        30       770104  25670.1     22.2              fut, opt_chain = dm.chains_options_get('US.CL', dt, opt_offset=0)\n",
    "     5        30      2691015  89700.5     77.7              opt = opt_chain.find(dt, 0.2, 'C', how='delta')\n",
    "     6                                                   except NotFoundError as exc:\n",
    "     7                                                       print(f\"{type(exc)}: {str(exc)}\")"
   ]
  },
  {
   "cell_type": "markdown",
   "metadata": {},
   "source": [
    "### Timings (dm.chains_options_get) opt_chain caching - per hit 3ms (45x speed up)"
   ]
  },
  {
   "cell_type": "raw",
   "metadata": {},
   "source": [
    "1 loop, best of 3: 1.48 s per loop\n",
    "    Line #      Hits         Time  Per Hit   % Time  Line Contents\n",
    "==============================================================\n",
    "     1                                           def request_quotes():\n",
    "     2        31          746     24.1      0.0      for dt in dates:\n",
    "     3        30           28      0.9      0.0          try: \n",
    "     4        30       117996   3933.2      4.7              fut, opt_chain = dm.chains_options_get('US.CL', dt, opt_offset=0)\n",
    "     5        30      2417407  80580.2     95.3              opt = opt_chain.find(dt, 0.2, 'C', how='delta')\n",
    "     6                                                   except NotFoundError as exc:\n",
    "    7                                                       print(f\"{type(exc)}: {str(exc)}\")"
   ]
  },
  {
   "cell_type": "markdown",
   "metadata": {},
   "source": [
    "### Timings (dm.chains_options_get) fut_chain_get_contract refactored - per hit 78nanosec (1700x speed up)"
   ]
  },
  {
   "cell_type": "raw",
   "metadata": {},
   "source": [
    "1 loop, best of 3: 1.33 s per loop\n",
    "\n",
    "Total time: 2.38057 s\n",
    "File: <ipython-input-17-590d608ecd48>\n",
    "Function: request_quotes at line 1\n",
    "\n",
    "Line #      Hits         Time  Per Hit   % Time  Line Contents\n",
    "==============================================================\n",
    "     1                                           def request_quotes():\n",
    "     2        31          759     24.5      0.0      for dt in dates:\n",
    "     3        30           39      1.3      0.0          try: \n",
    "     4        30         2368     78.9      0.1              fut, opt_chain = dm.chains_options_get('US.CL', dt, opt_offset=0)\n",
    "     5        30      2377401  79246.7     99.9              opt = opt_chain.find(dt, 0.2, 'C', how='delta')\n",
    "     6                                                   except NotFoundError as exc:\n",
    "     7                                                       print(f\"{type(exc)}: {str(exc)}\")"
   ]
  },
  {
   "cell_type": "code",
   "execution_count": null,
   "metadata": {},
   "outputs": [],
   "source": [
    "### Timings (dm.chains_options_find) opt_chain.find - datafeed cache added - per hit 16ms was 79 (5x speed up)"
   ]
  },
  {
   "cell_type": "raw",
   "metadata": {},
   "source": [
    "1 loop, best of 3: 248 ms per loop\n",
    "    \n",
    "Line #      Hits         Time  Per Hit   % Time  Line Contents\n",
    "==============================================================\n",
    "     1                                           def request_quotes():\n",
    "     2        31          404     13.0      0.1      for dt in dates:\n",
    "     3        30           29      1.0      0.0          try: \n",
    "     4        30        42852   1428.4      7.9              fut, opt_chain = dm.chains_options_get('US.CL', dt, opt_offset=0)\n",
    "     5        30       496954  16565.1     92.0              opt = opt_chain.find(dt, 0.2, 'C', how='delta')\n",
    "     6                                                   except NotFoundError as exc:\n",
    "     7                                                       print(f\"{type(exc)}: {str(exc)}\")"
   ]
  },
  {
   "cell_type": "markdown",
   "metadata": {},
   "source": [
    "# Overall speed up "
   ]
  },
  {
   "cell_type": "code",
   "execution_count": null,
   "metadata": {},
   "outputs": [],
   "source": [
    "slow = 3850 # Initial version without caching and with bottlenecks\n",
    "last = 226\n",
    "print(f\"Speedup: {slow/last:0.2f} times\")"
   ]
  }
 ],
 "metadata": {
  "kernelspec": {
   "display_name": "Python 3",
   "language": "python",
   "name": "python3"
  },
  "language_info": {
   "codemirror_mode": {
    "name": "ipython",
    "version": 3
   },
   "file_extension": ".py",
   "mimetype": "text/x-python",
   "name": "python",
   "nbconvert_exporter": "python",
   "pygments_lexer": "ipython3",
   "version": "3.6.0"
  }
 },
 "nbformat": 4,
 "nbformat_minor": 2
}
