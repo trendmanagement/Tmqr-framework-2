{
 "cells": [
  {
   "cell_type": "code",
   "execution_count": 121,
   "metadata": {
    "collapsed": true
   },
   "outputs": [],
   "source": [
    "from pymongo import MongoClient\n",
    "import pymongo\n",
    "import numpy as np\n",
    "import pandas as pd\n",
    "from datetime import datetime, timedelta\n",
    "import pickle\n",
    "from tmqr.settings import *"
   ]
  },
  {
   "cell_type": "code",
   "execution_count": 122,
   "metadata": {
    "collapsed": true
   },
   "outputs": [],
   "source": [
    "instrument = 'TST'\n",
    "market = 'T'\n",
    "future = 'F-TST-H11-110322'\n",
    "opt_expiration = '110322'"
   ]
  },
  {
   "cell_type": "code",
   "execution_count": 123,
   "metadata": {
    "collapsed": true
   },
   "outputs": [],
   "source": [
    "options = ['C', 'P']\n",
    "N = 60"
   ]
  },
  {
   "cell_type": "code",
   "execution_count": 124,
   "metadata": {
    "collapsed": false
   },
   "outputs": [],
   "source": [
    "strikes = list(np.arange(50.0, 100.0, 1.0))"
   ]
  },
  {
   "cell_type": "code",
   "execution_count": null,
   "metadata": {
    "collapsed": false
   },
   "outputs": [],
   "source": []
  },
  {
   "cell_type": "code",
   "execution_count": 125,
   "metadata": {
    "collapsed": false
   },
   "outputs": [],
   "source": [
    "options_tickers_list = []\n",
    "for opt_type in options:\n",
    "    for s in strikes:\n",
    "        #US.C.F-CL-H11-110322.110121@89.0\n",
    "        options_tickers_list.append(\"{0}.{1}.{2}.{3}@{4}\".format(market, opt_type, future,  opt_expiration, s))        "
   ]
  },
  {
   "cell_type": "code",
   "execution_count": 126,
   "metadata": {
    "collapsed": false
   },
   "outputs": [],
   "source": [
    "dates = [datetime(2011, 1, 2) + timedelta(days=x) for x in range(N)]\n",
    "\n",
    "client = MongoClient(MONGO_CONNSTR)\n",
    "db = client[MONGO_DB]"
   ]
  },
  {
   "cell_type": "code",
   "execution_count": 97,
   "metadata": {
    "collapsed": false
   },
   "outputs": [],
   "source": [
    "\n",
    "\n",
    "for i, opt in enumerate(options_tickers_list):\n",
    "    iv_arr = np.random.random(size=N)\n",
    "    price_arr = np.random.random(size=N)\n",
    "    to_exp = np.arange(N)\n",
    "    \n",
    "    df = pd.DataFrame({'iv': iv_arr, 'px': price_arr, 'toexp': to_exp}, index=dates)\n",
    "    #\n",
    "    # Writing bundled quotes\n",
    "    # \n",
    "    db['quotes_options_eod_bundled'].create_index([('tckr', pymongo.ASCENDING)])\n",
    "    db['quotes_options_eod_bundled'].create_index([('idx', pymongo.ASCENDING)])\n",
    "    db['quotes_options_eod_bundled'].replace_one({'tckr': opt},\n",
    "                                                 {'tckr': opt, \n",
    "                                                  'data': pickle.dumps(df),\n",
    "                                                  'idx': i,\n",
    "                                                 },\n",
    "                                                 upsert=True\n",
    "    )\n",
    "    #\n",
    "    # Writing single records\n",
    "    # \n",
    "    db['quotes_options_eod_single'].create_index([('tckr', pymongo.ASCENDING), ('dt', pymongo.ASCENDING)])\n",
    "    db['quotes_options_eod_single'].create_index([('idx', pymongo.ASCENDING)])\n",
    "    for i, dt in enumerate(dates):\n",
    "        \"\"\"print({\n",
    "            'tckr': opt,\n",
    "            'dt': dt,\n",
    "            'iv': iv_arr[i],\n",
    "            'px': price_arr[i],\n",
    "            'to_exp': to_exp[i]\n",
    "        })\n",
    "        \"\"\"\n",
    "        db['quotes_options_eod_single'].replace_one({'tckr': opt, 'dt': dt},\n",
    "            {\n",
    "                'tckr': opt,\n",
    "                'dt': dt,\n",
    "                'iv': iv_arr[i],\n",
    "                'px': price_arr[i],\n",
    "                'idx': i,\n",
    "                #'to_exp': to_exp[i]\n",
    "            }, upsert=True)\n",
    "    \n",
    "    \n",
    "    \n",
    "    "
   ]
  },
  {
   "cell_type": "code",
   "execution_count": 119,
   "metadata": {
    "collapsed": false
   },
   "outputs": [],
   "source": [
    "class ChainSingle:\n",
    "    def __init__(self, opt_tickers):\n",
    "        client = MongoClient(MONGO_CONNSTR)\n",
    "        self.db = client[MONGO_DB]\n",
    "        self.tickers = opt_tickers\n",
    "        \n",
    "    def compose(self, date):\n",
    "        result = db['quotes_options_eod_single'].find({'tckr': {'$in': self.tickers}, 'dt': date})\n",
    "        #result = db['quotes_options_eod_single'].find({'idx': {'$in': list(range(len(self.tickers)))}, 'dt': date})\n",
    "        return pd.DataFrame(list(result))\n",
    "    \n",
    "    def get_one(self, tckr, date):\n",
    "        result = db['quotes_options_eod_single'].find({'tckr': tckr, 'dt': date})\n",
    "        return pd.DataFrame(list(result))\n",
    "        \n",
    "class ChainBundled:\n",
    "    def __init__(self, opt_tickers):\n",
    "        client = MongoClient(MONGO_CONNSTR)\n",
    "        self.db = client[MONGO_DB]\n",
    "        self.tickers = opt_tickers\n",
    "        self.panel = None\n",
    "        self.one_df = None\n",
    "        \n",
    "    def compose(self, date):\n",
    "        if self.panel is None:\n",
    "            result = db['quotes_options_eod_bundled'].find({'tckr': {'$in': self.tickers}})  \n",
    "            #result = db['quotes_options_eod_bundled'].find({'idx': {'$in': list(range(len(self.tickers)))}})  \n",
    "            \n",
    "            res_dict = {}\n",
    "            for res in result:\n",
    "                res_dict[res['tckr']] = pickle.loads(res['data'])\n",
    "\n",
    "            self.panel = pd.Panel(res_dict)\n",
    "        return self.panel.major_xs(date)\n",
    "    \n",
    "    def get_one(self, tckr, date):\n",
    "        if self.one_df is None:\n",
    "            result = db['quotes_options_eod_bundled'].find_one({'tckr': tckr})        \n",
    "        \n",
    "            self.one_df = pickle.loads(result['data'])\n",
    "        return self.one_df.loc[date]\n",
    "        \n",
    "        \n",
    "        "
   ]
  },
  {
   "cell_type": "markdown",
   "metadata": {},
   "source": [
    "# Chaing composition benchmark"
   ]
  },
  {
   "cell_type": "code",
   "execution_count": 107,
   "metadata": {
    "collapsed": false
   },
   "outputs": [
    {
     "name": "stdout",
     "output_type": "stream",
     "text": [
      "100 loops, best of 3: 5.6 ms per loop\n"
     ]
    }
   ],
   "source": [
    "%%timeit \n",
    "chain1 = ChainSingle(options_tickers_list)\n",
    "chain1.compose(datetime(2011, 1, 2))"
   ]
  },
  {
   "cell_type": "code",
   "execution_count": 108,
   "metadata": {
    "collapsed": false,
    "scrolled": false
   },
   "outputs": [
    {
     "name": "stdout",
     "output_type": "stream",
     "text": [
      "10 loops, best of 3: 80.1 ms per loop\n"
     ]
    }
   ],
   "source": [
    "%%timeit\n",
    "chain2 = ChainBundled(options_tickers_list)\n",
    "chain2.compose(datetime(2011, 1, 2))"
   ]
  },
  {
   "cell_type": "code",
   "execution_count": 109,
   "metadata": {
    "collapsed": false
   },
   "outputs": [
    {
     "name": "stdout",
     "output_type": "stream",
     "text": [
      "100 loops, best of 3: 4.61 ms per loop\n"
     ]
    }
   ],
   "source": [
    "%timeit chain1.compose(datetime(2011, 1, 2))"
   ]
  },
  {
   "cell_type": "code",
   "execution_count": 115,
   "metadata": {
    "collapsed": false
   },
   "outputs": [
    {
     "name": "stdout",
     "output_type": "stream",
     "text": [
      "10000 loops, best of 3: 94.6 µs per loop\n"
     ]
    }
   ],
   "source": [
    "%timeit chain2.compose(datetime(2011, 1, 3))"
   ]
  },
  {
   "cell_type": "code",
   "execution_count": 116,
   "metadata": {
    "collapsed": false
   },
   "outputs": [
    {
     "name": "stdout",
     "output_type": "stream",
     "text": [
      "10 loops, best of 3: 99.9 ms per loop\n"
     ]
    }
   ],
   "source": [
    "%%timeit \n",
    "chain1 = ChainSingle(options_tickers_list)\n",
    "for i in range(20):\n",
    "    chain1.compose(datetime(2011, 1, 2) + timedelta(days=i))"
   ]
  },
  {
   "cell_type": "code",
   "execution_count": 117,
   "metadata": {
    "collapsed": false
   },
   "outputs": [
    {
     "name": "stdout",
     "output_type": "stream",
     "text": [
      "10 loops, best of 3: 80.4 ms per loop\n"
     ]
    }
   ],
   "source": [
    "%%timeit \n",
    "chain2 = ChainBundled(options_tickers_list)\n",
    "\n",
    "for i in range(20):\n",
    "    chain2.compose(datetime(2011, 1, 2) + timedelta(days=i))"
   ]
  },
  {
   "cell_type": "markdown",
   "metadata": {},
   "source": [
    "# Single element fetching benchmark"
   ]
  },
  {
   "cell_type": "code",
   "execution_count": 112,
   "metadata": {
    "collapsed": false
   },
   "outputs": [
    {
     "name": "stdout",
     "output_type": "stream",
     "text": [
      "100 loops, best of 3: 3.14 ms per loop\n"
     ]
    }
   ],
   "source": [
    "%%timeit \n",
    "chain1 = ChainSingle(options_tickers_list)\n",
    "chain1.get_one('T.C.F-TST-H11-110322.110322@50.0', datetime(2011, 1, 2))"
   ]
  },
  {
   "cell_type": "code",
   "execution_count": 113,
   "metadata": {
    "collapsed": false
   },
   "outputs": [
    {
     "name": "stdout",
     "output_type": "stream",
     "text": [
      "100 loops, best of 3: 2.34 ms per loop\n"
     ]
    }
   ],
   "source": [
    "%%timeit \n",
    "chain2 = ChainBundled(options_tickers_list)\n",
    "chain2.get_one('T.C.F-TST-H11-110322.110322@50.0', datetime(2011, 1, 2))"
   ]
  },
  {
   "cell_type": "code",
   "execution_count": 92,
   "metadata": {
    "collapsed": false
   },
   "outputs": [
    {
     "name": "stdout",
     "output_type": "stream",
     "text": [
      "10 loops, best of 3: 21.5 ms per loop\n"
     ]
    }
   ],
   "source": [
    "%%timeit \n",
    "chain1 = ChainSingle(options_tickers_list)\n",
    "for i in range(20):\n",
    "    chain1.get_one('T.C.F-TST-H11-110322.110322@50.0', datetime(2011, 1, 2) + timedelta(days=i))"
   ]
  },
  {
   "cell_type": "code",
   "execution_count": 93,
   "metadata": {
    "collapsed": false
   },
   "outputs": [
    {
     "name": "stdout",
     "output_type": "stream",
     "text": [
      "100 loops, best of 3: 6.29 ms per loop\n"
     ]
    }
   ],
   "source": [
    "%%timeit \n",
    "chain2 = ChainBundled(options_tickers_list)\n",
    "\n",
    "for i in range(20):\n",
    "    chain2.get_one('T.C.F-TST-H11-110322.110322@50.0', datetime(2011, 1, 2) + timedelta(days=i))"
   ]
  },
  {
   "cell_type": "code",
   "execution_count": 95,
   "metadata": {
    "collapsed": false
   },
   "outputs": [
    {
     "data": {
      "text/plain": [
       "iv       0.766215\n",
       "px       0.977808\n",
       "toexp    0.000000\n",
       "Name: 2011-01-02 00:00:00, dtype: float64"
      ]
     },
     "execution_count": 95,
     "metadata": {},
     "output_type": "execute_result"
    }
   ],
   "source": [
    "chain2 = ChainBundled(options_tickers_list)\n",
    "chain2.get_one('T.C.F-TST-H11-110322.110322@50.0', datetime(2011, 1, 2))"
   ]
  },
  {
   "cell_type": "markdown",
   "metadata": {
    "collapsed": true
   },
   "source": [
    "# Option chains benchmarks"
   ]
  },
  {
   "cell_type": "code",
   "execution_count": 141,
   "metadata": {
    "collapsed": false
   },
   "outputs": [],
   "source": [
    "#%%timeit \n",
    "cursor = db['asset_index'].aggregate([\n",
    "            {'$match': {\n",
    "                'underlying': 'US.F.ES.H11.110318',\n",
    "                'type': {'$in': ['P', 'C']},                \n",
    "            }},\n",
    "            \n",
    "            {'$sort': {'strike': 1}},\n",
    "            \n",
    "            {'$project': {'tckr': 1, 'exp': 1, 'strike': 1}\n",
    "            },\n",
    "            \n",
    "            {'$group': {\n",
    "                '_id': {'date': '$exp'},\n",
    "                'chain': {'$push': '$$ROOT'},\n",
    "            }\n",
    "            },\n",
    "            {'$sort': {\"_id.date\": 1}}          \n",
    "            ])\n",
    "chain_list = list(cursor)"
   ]
  },
  {
   "cell_type": "code",
   "execution_count": 143,
   "metadata": {
    "collapsed": false
   },
   "outputs": [],
   "source": [
    "with open(\"chain_list_es.pkl\", 'wb') as f:\n",
    "    pickle.dump(chain_list, f)"
   ]
  },
  {
   "cell_type": "code",
   "execution_count": 146,
   "metadata": {
    "collapsed": false
   },
   "outputs": [
    {
     "data": {
      "text/plain": [
       "[datetime.datetime(2011, 1, 21, 0, 0),\n",
       " datetime.datetime(2011, 2, 18, 0, 0),\n",
       " datetime.datetime(2011, 3, 18, 0, 0)]"
      ]
     },
     "execution_count": 146,
     "metadata": {},
     "output_type": "execute_result"
    }
   ],
   "source": [
    "[x['_id']['date'] for x in chain_list]"
   ]
  },
  {
   "cell_type": "code",
   "execution_count": null,
   "metadata": {
    "collapsed": true
   },
   "outputs": [],
   "source": []
  }
 ],
 "metadata": {
  "kernelspec": {
   "display_name": "Python 3",
   "language": "python",
   "name": "python3"
  },
  "language_info": {
   "codemirror_mode": {
    "name": "ipython",
    "version": 3
   },
   "file_extension": ".py",
   "mimetype": "text/x-python",
   "name": "python",
   "nbconvert_exporter": "python",
   "pygments_lexer": "ipython3",
   "version": "3.6.0"
  }
 },
 "nbformat": 4,
 "nbformat_minor": 2
}
