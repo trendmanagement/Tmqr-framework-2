{
 "cells": [
  {
   "cell_type": "code",
   "execution_count": null,
   "metadata": {},
   "outputs": [],
   "source": [
    "from pymongo import MongoClient\n",
    "import pymongo\n",
    "import numpy as np\n",
    "import pandas as pd\n",
    "from datetime import datetime, timedelta\n",
    "import pickle\n",
    "from tmqr.settings import *\n",
    "from tmqrfeed.contracts import OptionContract"
   ]
  },
  {
   "cell_type": "code",
   "execution_count": null,
   "metadata": {},
   "outputs": [],
   "source": [
    "%load_ext Cython\n",
    "%load_ext line_profiler\n",
    "%load_ext memory_profiler"
   ]
  },
  {
   "cell_type": "code",
   "execution_count": null,
   "metadata": {},
   "outputs": [],
   "source": [
    "instrument = 'TST'\n",
    "market = 'T'\n",
    "future = 'F-TST-H11-110322'\n",
    "opt_expiration = '110322'"
   ]
  },
  {
   "cell_type": "code",
   "execution_count": null,
   "metadata": {},
   "outputs": [],
   "source": [
    "options = ['C', 'P']\n",
    "N = 60"
   ]
  },
  {
   "cell_type": "code",
   "execution_count": null,
   "metadata": {},
   "outputs": [],
   "source": [
    "strikes = list(np.arange(50.0, 100.0, 1.0))"
   ]
  },
  {
   "cell_type": "code",
   "execution_count": null,
   "metadata": {},
   "outputs": [],
   "source": []
  },
  {
   "cell_type": "code",
   "execution_count": null,
   "metadata": {},
   "outputs": [],
   "source": [
    "options_tickers_list = []\n",
    "for opt_type in options:\n",
    "    for s in strikes:\n",
    "        #US.C.F-CL-H11-110322.110121@89.0\n",
    "        options_tickers_list.append(\"{0}.{1}.{2}.{3}@{4}\".format(market, opt_type, future,  opt_expiration, s))        "
   ]
  },
  {
   "cell_type": "code",
   "execution_count": null,
   "metadata": {},
   "outputs": [],
   "source": [
    "dates = [datetime(2011, 1, 2) + timedelta(days=x) for x in range(N)]\n",
    "\n",
    "client = MongoClient(MONGO_CONNSTR)\n",
    "db = client[MONGO_DB]"
   ]
  },
  {
   "cell_type": "code",
   "execution_count": null,
   "metadata": {},
   "outputs": [],
   "source": [
    "\n",
    "\n",
    "for i, opt in enumerate(options_tickers_list):\n",
    "    iv_arr = np.random.random(size=N)\n",
    "    price_arr = np.random.random(size=N)\n",
    "    to_exp = np.arange(N)\n",
    "    \n",
    "    df = pd.DataFrame({'iv': iv_arr, 'px': price_arr, 'toexp': to_exp}, index=dates)\n",
    "    #\n",
    "    # Writing bundled quotes\n",
    "    # \n",
    "    db['quotes_options_eod_bundled'].create_index([('tckr', pymongo.ASCENDING)])\n",
    "    db['quotes_options_eod_bundled'].create_index([('idx', pymongo.ASCENDING)])\n",
    "    db['quotes_options_eod_bundled'].replace_one({'tckr': opt},\n",
    "                                                 {'tckr': opt, \n",
    "                                                  'data': pickle.dumps(df),\n",
    "                                                  'idx': i,\n",
    "                                                 },\n",
    "                                                 upsert=True\n",
    "    )\n",
    "    #\n",
    "    # Writing single records\n",
    "    # \n",
    "    db['quotes_options_eod_single'].create_index([('tckr', pymongo.ASCENDING), ('dt', pymongo.ASCENDING)])\n",
    "    db['quotes_options_eod_single'].create_index([('idx', pymongo.ASCENDING)])\n",
    "    for i, dt in enumerate(dates):\n",
    "        \"\"\"print({\n",
    "            'tckr': opt,\n",
    "            'dt': dt,\n",
    "            'iv': iv_arr[i],\n",
    "            'px': price_arr[i],\n",
    "            'to_exp': to_exp[i]\n",
    "        })\n",
    "        \"\"\"\n",
    "        db['quotes_options_eod_single'].replace_one({'tckr': opt, 'dt': dt},\n",
    "            {\n",
    "                'tckr': opt,\n",
    "                'dt': dt,\n",
    "                'iv': iv_arr[i],\n",
    "                'px': price_arr[i],\n",
    "                'idx': i,\n",
    "                #'to_exp': to_exp[i]\n",
    "            }, upsert=True)\n",
    "    \n",
    "    \n",
    "    \n",
    "    "
   ]
  },
  {
   "cell_type": "code",
   "execution_count": null,
   "metadata": {},
   "outputs": [],
   "source": [
    "class ChainSingle:\n",
    "    def __init__(self, opt_tickers):\n",
    "        client = MongoClient(MONGO_CONNSTR)\n",
    "        self.db = client[MONGO_DB]\n",
    "        self.tickers = opt_tickers\n",
    "        \n",
    "    def compose(self, date):\n",
    "        result = db['quotes_options_eod_single'].find({'tckr': {'$in': self.tickers}, 'dt': date})\n",
    "        #result = db['quotes_options_eod_single'].find({'idx': {'$in': list(range(len(self.tickers)))}, 'dt': date})\n",
    "        return pd.DataFrame(list(result))\n",
    "    \n",
    "    def get_one(self, tckr, date):\n",
    "        result = db['quotes_options_eod_single'].find({'tckr': tckr, 'dt': date})\n",
    "        return pd.DataFrame(list(result))\n",
    "        \n",
    "class ChainBundled:\n",
    "    def __init__(self, opt_tickers):\n",
    "        client = MongoClient(MONGO_CONNSTR)\n",
    "        self.db = client[MONGO_DB]\n",
    "        self.tickers = opt_tickers\n",
    "        self.panel = None\n",
    "        self.one_df = None\n",
    "        \n",
    "    def compose(self, date):\n",
    "        if self.panel is None:\n",
    "            result = db['quotes_options_eod_bundled'].find({'tckr': {'$in': self.tickers}})  \n",
    "            #result = db['quotes_options_eod_bundled'].find({'idx': {'$in': list(range(len(self.tickers)))}})  \n",
    "            \n",
    "            res_dict = {}\n",
    "            for res in result:\n",
    "                res_dict[res['tckr']] = pickle.loads(res['data'])\n",
    "\n",
    "            self.panel = pd.Panel(res_dict)\n",
    "        return self.panel.major_xs(date)\n",
    "    \n",
    "    def get_one(self, tckr, date):\n",
    "        if self.one_df is None:\n",
    "            result = db['quotes_options_eod_bundled'].find_one({'tckr': tckr})        \n",
    "        \n",
    "            self.one_df = pickle.loads(result['data'])\n",
    "        return self.one_df.loc[date]\n",
    "        \n",
    "        \n",
    "        "
   ]
  },
  {
   "cell_type": "markdown",
   "metadata": {},
   "source": [
    "# Chaing composition benchmark"
   ]
  },
  {
   "cell_type": "code",
   "execution_count": null,
   "metadata": {},
   "outputs": [],
   "source": [
    "#%%timeit \n",
    "chain1 = ChainSingle(options_tickers_list)\n",
    "chain1.compose(datetime(2011, 1, 2))"
   ]
  },
  {
   "cell_type": "code",
   "execution_count": null,
   "metadata": {},
   "outputs": [],
   "source": [
    "#%%timeit\n",
    "chain2 = ChainBundled(options_tickers_list)\n",
    "chain2.compose(datetime(2011, 1, 2))"
   ]
  },
  {
   "cell_type": "code",
   "execution_count": null,
   "metadata": {},
   "outputs": [],
   "source": [
    "p = chain2.panel"
   ]
  },
  {
   "cell_type": "code",
   "execution_count": null,
   "metadata": {},
   "outputs": [],
   "source": []
  },
  {
   "cell_type": "code",
   "execution_count": null,
   "metadata": {},
   "outputs": [],
   "source": [
    "mem = 0\n",
    "for i in p:\n",
    "    mem += p.loc[i].memory_usage()\n",
    "print(mem)\n"
   ]
  },
  {
   "cell_type": "code",
   "execution_count": null,
   "metadata": {},
   "outputs": [],
   "source": [
    "%%timeit\n",
    "p.loc['T.C.F-TST-H11-110322.110322@50.0'].at[datetime(2011, 1, 2), 'iv']"
   ]
  },
  {
   "cell_type": "code",
   "execution_count": null,
   "metadata": {},
   "outputs": [],
   "source": [
    "%timeit chain1.compose()"
   ]
  },
  {
   "cell_type": "code",
   "execution_count": null,
   "metadata": {},
   "outputs": [],
   "source": [
    "%timeit chain2.compose(datetime(2011, 1, 3))"
   ]
  },
  {
   "cell_type": "code",
   "execution_count": null,
   "metadata": {},
   "outputs": [],
   "source": [
    "%%timeit \n",
    "chain1 = ChainSingle(options_tickers_list)\n",
    "for i in range(20):\n",
    "    chain1.compose(datetime(2011, 1, 2) + timedelta(days=i))"
   ]
  },
  {
   "cell_type": "code",
   "execution_count": null,
   "metadata": {},
   "outputs": [],
   "source": [
    "%%timeit \n",
    "chain2 = ChainBundled(options_tickers_list)\n",
    "\n",
    "for i in range(20):\n",
    "    chain2.compose(datetime(2011, 1, 2) + timedelta(days=i))"
   ]
  },
  {
   "cell_type": "markdown",
   "metadata": {},
   "source": [
    "# Single element fetching benchmark"
   ]
  },
  {
   "cell_type": "code",
   "execution_count": null,
   "metadata": {},
   "outputs": [],
   "source": [
    "%%timeit \n",
    "chain1 = ChainSingle(options_tickers_list)\n",
    "chain1.get_one('T.C.F-TST-H11-110322.110322@50.0', datetime(2011, 1, 2))"
   ]
  },
  {
   "cell_type": "code",
   "execution_count": null,
   "metadata": {},
   "outputs": [],
   "source": [
    "%%timeit \n",
    "chain2 = ChainBundled(options_tickers_list)\n",
    "chain2.get_one('T.C.F-TST-H11-110322.110322@50.0', datetime(2011, 1, 2))"
   ]
  },
  {
   "cell_type": "code",
   "execution_count": null,
   "metadata": {},
   "outputs": [],
   "source": [
    "%%timeit \n",
    "chain1 = ChainSingle(options_tickers_list)\n",
    "for i in range(20):\n",
    "    chain1.get_one('T.C.F-TST-H11-110322.110322@50.0', datetime(2011, 1, 2) + timedelta(days=i))"
   ]
  },
  {
   "cell_type": "code",
   "execution_count": null,
   "metadata": {},
   "outputs": [],
   "source": [
    "%%timeit \n",
    "chain2 = ChainBundled(options_tickers_list)\n",
    "\n",
    "for i in range(20):\n",
    "    chain2.get_one('T.C.F-TST-H11-110322.110322@50.0', datetime(2011, 1, 2) + timedelta(days=i))"
   ]
  },
  {
   "cell_type": "code",
   "execution_count": null,
   "metadata": {},
   "outputs": [],
   "source": [
    "chain2 = ChainBundled(options_tickers_list)\n",
    "chain2.get_one('T.C.F-TST-H11-110322.110322@50.0', datetime(2011, 1, 2))"
   ]
  },
  {
   "cell_type": "code",
   "execution_count": null,
   "metadata": {},
   "outputs": [],
   "source": []
  },
  {
   "cell_type": "markdown",
   "metadata": {},
   "source": [
    "# Option chains benchmarks"
   ]
  },
  {
   "cell_type": "code",
   "execution_count": null,
   "metadata": {},
   "outputs": [],
   "source": [
    "#%%timeit \n",
    "cursor = db['asset_index'].aggregate([\n",
    "            {'$match': {\n",
    "                'underlying': 'US.F.ES.H11.110318',\n",
    "                'type': {'$in': ['P', 'C']},                \n",
    "            }},\n",
    "            \n",
    "            {'$sort': {'strike': 1}},\n",
    "            \n",
    "            {'$project': {'tckr': 1, 'exp': 1, 'strike': 1, 'type': 1}\n",
    "            },\n",
    "            \n",
    "            {'$group': {\n",
    "                '_id': {'date': '$exp'},\n",
    "                'chain': {'$push': '$$ROOT'},\n",
    "            }\n",
    "            },\n",
    "            {'$sort': {\"_id.date\": 1}}          \n",
    "])\n",
    "chain_list = list(cursor)"
   ]
  },
  {
   "cell_type": "code",
   "execution_count": null,
   "metadata": {},
   "outputs": [],
   "source": [
    "%timeit [OptionContract(opt['tckr']) for opt in chain_list[0]['chain']]"
   ]
  },
  {
   "cell_type": "code",
   "execution_count": null,
   "metadata": {},
   "outputs": [],
   "source": [
    "chain_list"
   ]
  },
  {
   "cell_type": "code",
   "execution_count": null,
   "metadata": {},
   "outputs": [],
   "source": [
    "%timeit -n 1 'T.C.F-TST-H11-110322.110322@50.0'.__hash__()"
   ]
  },
  {
   "cell_type": "code",
   "execution_count": null,
   "metadata": {},
   "outputs": [],
   "source": [
    "%timeit float('nan')"
   ]
  },
  {
   "cell_type": "code",
   "execution_count": null,
   "metadata": {},
   "outputs": [],
   "source": [
    "%lprun -f OptionContract.__init__ [OptionContract(opt['tckr']) for opt in chain_list[0]['chain']]"
   ]
  },
  {
   "cell_type": "code",
   "execution_count": null,
   "metadata": {},
   "outputs": [],
   "source": [
    "#%%timeit \n",
    "from collections import OrderedDict\n",
    "\n",
    "chain_result = OrderedDict()\n",
    "\n",
    "strike_count = 0\n",
    "\n",
    "for exp in chain_list:\n",
    "    options = chain_result.setdefault(exp['_id']['date'], OrderedDict())\n",
    "    \n",
    "    prev_strike = 0.0\n",
    "    chain = exp['chain']\n",
    "    for i, strike_rec in enumerate(chain):\n",
    "        strike_count += 1\n",
    "        strike = strike_rec['strike']\n",
    "        if i == 0:\n",
    "            continue\n",
    "                \n",
    "        if strike == chain[i-1]['strike']:\n",
    "            # We have put call pair             \n",
    "            if strike_rec['type'] == 'C':\n",
    "                call_idx = i\n",
    "                put_idx = i-1\n",
    "            else:\n",
    "                call_idx = i-1\n",
    "                put_idx = i\n",
    "            \n",
    "            options[strike] = (chain[call_idx]['tckr'], chain[put_idx]['tckr'])    \n",
    "    "
   ]
  },
  {
   "cell_type": "code",
   "execution_count": null,
   "metadata": {},
   "outputs": [],
   "source": [
    "strike_count"
   ]
  },
  {
   "cell_type": "code",
   "execution_count": null,
   "metadata": {},
   "outputs": [],
   "source": [
    "with open(\"chain_list_es.pkl\", 'wb') as f:\n",
    "    pickle.dump(chain_list, f)"
   ]
  },
  {
   "cell_type": "code",
   "execution_count": null,
   "metadata": {},
   "outputs": [],
   "source": [
    "[x['_id']['date'] for x in chain_list]"
   ]
  },
  {
   "cell_type": "code",
   "execution_count": null,
   "metadata": {},
   "outputs": [],
   "source": [
    "%timeit chain2.panel.ix['T.C.F-TST-H11-110322.110322@50.0']"
   ]
  },
  {
   "cell_type": "code",
   "execution_count": null,
   "metadata": {},
   "outputs": [],
   "source": [
    "df = chain2.panel.ix['T.C.F-TST-H11-110322.110322@50.0']"
   ]
  },
  {
   "cell_type": "code",
   "execution_count": null,
   "metadata": {},
   "outputs": [],
   "source": [
    "%timeit df.at[datetime(2011,1, 2), 'iv']"
   ]
  },
  {
   "cell_type": "code",
   "execution_count": null,
   "metadata": {},
   "outputs": [],
   "source": [
    "[x for x in [1, 2, 3]]"
   ]
  },
  {
   "cell_type": "code",
   "execution_count": null,
   "metadata": {},
   "outputs": [],
   "source": []
  }
 ],
 "metadata": {
  "kernelspec": {
   "display_name": "Python 3",
   "language": "python",
   "name": "python3"
  },
  "language_info": {
   "codemirror_mode": {
    "name": "ipython",
    "version": 3
   },
   "file_extension": ".py",
   "mimetype": "text/x-python",
   "name": "python",
   "nbconvert_exporter": "python",
   "pygments_lexer": "ipython3",
   "version": "3.6.0"
  }
 },
 "nbformat": 4,
 "nbformat_minor": 2
}
