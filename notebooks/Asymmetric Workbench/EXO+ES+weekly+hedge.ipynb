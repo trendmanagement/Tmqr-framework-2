{
 "cells": [
  {
   "cell_type": "code",
   "execution_count": null,
   "metadata": {},
   "outputs": [],
   "source": [
    "%load_ext autoreload\n",
    "%autoreload 2\n",
    "%pylab inline"
   ]
  },
  {
   "cell_type": "code",
   "execution_count": null,
   "metadata": {},
   "outputs": [],
   "source": [
    "%load_ext Cython\n",
    "%load_ext line_profiler\n",
    "%load_ext memory_profiler"
   ]
  },
  {
   "cell_type": "code",
   "execution_count": null,
   "metadata": {},
   "outputs": [],
   "source": [
    "from tmqrfeed.manager import DataManager\n",
    "from tmqrindex.index_exo_base import IndexEXOBase\n",
    "from datetime import datetime"
   ]
  },
  {
   "cell_type": "code",
   "execution_count": null,
   "metadata": {},
   "outputs": [],
   "source": [
    "class EXOESWeeklyHedge(IndexEXOBase):\n",
    "    _description_short = \"Short front Puts long deeper\"\n",
    "    _description_long = \"\"\n",
    "\n",
    "    _index_name = \"EXOWeekly_Calendar_putspread\"\n",
    "    \n",
    "    def calc_exo_logic(self):\n",
    "        \"\"\"\n",
    "        Calculates SmartEXO logic.\n",
    "        NOTE: this method must use self.dm.quotes() or self.dm.quotes(series_key='for_secondary_series') to \n",
    "              calculate SmartEXO logic\n",
    "        :return: Pandas.DataFrame with index like in dm.quotes() (i.e. primary quotes)\n",
    "        \"\"\"\n",
    "        pass\n",
    "    \n",
    "    def manage_position(self, dt, pos, logic_df):\n",
    "        \"\"\"\n",
    "        Manages opened position (rollover checks/closing, delta hedging, etc)\n",
    "        :param dt: current datetime\n",
    "        :param pos: Position instance\n",
    "        :param logic_df: result of calc_exo_logic()[dt]  if applicable\n",
    "        :return: nothing, manages 'pos' in place\n",
    "        \"\"\"\n",
    "        if pos.almost_expired_ratio(dt) > 0:\n",
    "            pos.close(dt)\n",
    "\n",
    "    def construct_position(self, dt, pos, logic_df):\n",
    "        \"\"\"\n",
    "        EXO position construction method\n",
    "        :param dt: current datetime\n",
    "        :param pos: Position instance\n",
    "        :param logic_df: result of calc_exo_logic()[dt]  if applicable\n",
    "        :return: nothing, manages 'pos' in place\n",
    "        \"\"\"\n",
    "                \n",
    "        # Selling ATM call\n",
    "        fut, opt_chain = self.dm.chains_options_get(self.instrument, dt)\n",
    "        pos.add_transaction(dt, opt_chain.find(dt, -10, 'P'), -1.0)\n",
    "        \n",
    "\n",
    "        # Hedging with next series by delta 0.75 call\n",
    "        fut_next, opt_chain_next = self.dm.chains_options_get(self.instrument, dt, opt_offset=2)\n",
    "        pos.add_transaction(dt, opt_chain_next.find(dt, 0.05, 'P', how='delta'), 1.0)\n",
    "        \n",
    "        #fut_next, opt_chain_next = self.dm.chains_options_get(self.instrument, dt, opt_offset=4)\n",
    "        #pos.add_transaction(dt, opt_chain_next.find(dt, 0.25, 'P', how='delta'), 1.0)"
   ]
  },
  {
   "cell_type": "code",
   "execution_count": null,
   "metadata": {},
   "outputs": [],
   "source": [
    "dm = DataManager(date_start=datetime(2012, 5, 1))"
   ]
  },
  {
   "cell_type": "code",
   "execution_count": null,
   "metadata": {},
   "outputs": [],
   "source": [
    "index = EXOESWeeklyHedge(dm, instrument=\"US.ES\")"
   ]
  },
  {
   "cell_type": "code",
   "execution_count": null,
   "metadata": {},
   "outputs": [],
   "source": [
    "index.run()"
   ]
  },
  {
   "cell_type": "code",
   "execution_count": null,
   "metadata": {},
   "outputs": [],
   "source": [
    "index.data['equity_execution'].plot()"
   ]
  },
  {
   "cell_type": "code",
   "execution_count": null,
   "metadata": {},
   "outputs": [],
   "source": []
  },
  {
   "cell_type": "code",
   "execution_count": null,
   "metadata": {},
   "outputs": [],
   "source": []
  },
  {
   "cell_type": "code",
   "execution_count": null,
   "metadata": {},
   "outputs": [],
   "source": [
    "#index.save()"
   ]
  },
  {
   "cell_type": "code",
   "execution_count": null,
   "metadata": {},
   "outputs": [],
   "source": [
    "#loaded_index = EXOLongCall.load(dm, instrument='US.CL')"
   ]
  },
  {
   "cell_type": "code",
   "execution_count": null,
   "metadata": {},
   "outputs": [],
   "source": [
    "#loaded_index.data['equity_execution'].plot()"
   ]
  },
  {
   "cell_type": "code",
   "execution_count": null,
   "metadata": {},
   "outputs": [],
   "source": [
    "x = None"
   ]
  },
  {
   "cell_type": "code",
   "execution_count": null,
   "metadata": {},
   "outputs": [],
   "source": [
    "x['X']"
   ]
  },
  {
   "cell_type": "code",
   "execution_count": null,
   "metadata": {},
   "outputs": [],
   "source": []
  }
 ],
 "metadata": {
  "kernelspec": {
   "display_name": "Python 3",
   "language": "python",
   "name": "python3"
  },
  "language_info": {
   "codemirror_mode": {
    "name": "ipython",
    "version": 3
   },
   "file_extension": ".py",
   "mimetype": "text/x-python",
   "name": "python",
   "nbconvert_exporter": "python",
   "pygments_lexer": "ipython3",
   "version": "3.6.0"
  }
 },
 "nbformat": 4,
 "nbformat_minor": 1
}
