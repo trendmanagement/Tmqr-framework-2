{
 "cells": [
  {
   "cell_type": "code",
   "execution_count": null,
   "metadata": {},
   "outputs": [],
   "source": [
    "%pylab inline\n",
    "from tmqr.settings import *\n",
    "from tmqrfeed import DataManager\n",
    "from pymongo import MongoClient\n",
    "from tmqrindex.index_base import IndexBase\n",
    "from datetime import datetime\n",
    "import re\n",
    "import pandas as pd\n",
    "\n",
    "\n",
    "import seaborn as sns\n",
    "#import cufflinks as cf\n",
    "#cf.go_offline()\n",
    "\n",
    "import pandas as pd\n",
    "import numpy as np\n",
    "import scipy\n",
    "\n",
    "#import matplotlib\n",
    "#%matplotlib notebook\n",
    "\n",
    "figsize(15,7)"
   ]
  },
  {
   "cell_type": "code",
   "execution_count": null,
   "metadata": {},
   "outputs": [],
   "source": [
    "from sklearn import (pipeline, preprocessing, ensemble, neighbors, linear_model, neural_network, cluster, metrics, decomposition,\n",
    "                     naive_bayes, calibration, svm, multioutput,\n",
    "                     feature_selection, discriminant_analysis, model_selection, multiclass\n",
    "                    )"
   ]
  },
  {
   "cell_type": "code",
   "execution_count": null,
   "metadata": {},
   "outputs": [],
   "source": [
    "client = MongoClient(MONGO_CONNSTR)\n",
    "db = client[MONGO_DB]\n",
    "\n",
    "dm = DataManager()"
   ]
  },
  {
   "cell_type": "code",
   "execution_count": null,
   "metadata": {},
   "outputs": [],
   "source": [
    "def get_exo_list(exo_filter='*', return_names=True):\n",
    "    \"\"\"\n",
    "    Return EXO list stored in MongoDB V2\n",
    "    :param exo_filter: '*' - include all, wildcard is allowed (like, 'ES_Bullish*')\n",
    "    :param return_names: if True returns names list of EXO, otherwize returns MongoDB data collection list\n",
    "    :return: list of EXO names\n",
    "    \"\"\"\n",
    "    re_val = exo_filter.replace('*','.*')\n",
    "\n",
    "    data = db['index_data'].find({'name': re.compile(re_val, re.IGNORECASE)})\n",
    "    if return_names:\n",
    "        return [exo['name'] for exo in data]\n",
    "    else:\n",
    "        return list(data)"
   ]
  },
  {
   "cell_type": "code",
   "execution_count": null,
   "metadata": {},
   "outputs": [],
   "source": [
    "def universal_fisher_transform(series, transform_with='arctanh'):\n",
    "    '\"transform_with\" options - \"tanh\", \"arctanh\"'\n",
    "    \n",
    "    # Centering the series\n",
    "    series = series.expanding().apply(lambda x: preprocessing.StandardScaler().fit_transform(x.reshape(-1, 1)\n",
    "                                                                                                          ).ravel()[-1])\n",
    "\n",
    "    # limiting it to -0.999 > x < 0.999\n",
    "    series = series.expanding().apply(lambda x: preprocessing.MinMaxScaler(feature_range=(-0.999,0.999)\n",
    "                                                                                        ).fit_transform(x.reshape(-1, 1)).ravel()[-1])\n",
    "\n",
    "    if transform_with == 'arctanh':\n",
    "        ft_ser = np.arctanh(series)\n",
    "        \n",
    "    elif transform_with == 'tanh':\n",
    "        ft_ser = np.tanh(series)\n",
    "        \n",
    "    return ft_ser"
   ]
  },
  {
   "cell_type": "raw",
   "metadata": {},
   "source": [
    "def universal_fisher_transform(series, scaling_period, transform_with='arctanh'):\n",
    "    '\"transform_with\" options - \"tanh\", \"arctanh\"'\n",
    "    \n",
    "    # Centering the series\n",
    "    series = series.rolling(int(scaling_period/2)).apply(lambda x: \n",
    "                                                         preprocessing.StandardScaler().fit_transform(x.reshape(-1, 1)\n",
    "                                                                                                     ).ravel()[-1])\n",
    "\n",
    "    # limiting it to -0.999 > x < 0.999\n",
    "    series = series.rolling(int(scaling_period/2)).apply(lambda x: \n",
    "                                                         preprocessing.MinMaxScaler(feature_range=(-0.999,0.999)\n",
    "                                                                                   ).fit_transform(x.reshape(-1, 1)\n",
    "                                                                                                  ).ravel()[-1])\n",
    "\n",
    "    \n",
    "    #return series\n",
    "\n",
    "    if transform_with == 'arctanh':\n",
    "        ft_ser = np.arctanh(series)\n",
    "        #ft_ser += 0.25 * ft_ser.shift(1)\n",
    "        #ft_ser += 0.5 * ft_ser.shift(1)\n",
    "        \n",
    "    elif transform_with == 'tanh':\n",
    "        ft_ser = np.tanh(series)\n",
    "        #ft_ser += 0.25 * ft_ser.shift(1)\n",
    "        #ft_ser += 0.5 * ft_ser.shift(1)\n",
    "        \n",
    "    return ft_ser"
   ]
  },
  {
   "cell_type": "code",
   "execution_count": null,
   "metadata": {},
   "outputs": [],
   "source": [
    "#exo_filter = 'neutralOnly'     # All \n",
    "exo_filter = '*'  # ES only\n",
    "#exo_filter = '*'  # ES Collars (incl Bearish, Bullish, BW and vanilla)\n",
    "\n",
    "exo_dict = {}\n",
    "for exo in get_exo_list(exo_filter, return_names=False):\n",
    "    idx = IndexBase.deserialize(dm, exo, as_readonly=True)\n",
    "    exo_dict[idx.index_name] = idx"
   ]
  },
  {
   "cell_type": "code",
   "execution_count": null,
   "metadata": {},
   "outputs": [],
   "source": [
    "for exo_name, exo in exo_dict.items():\n",
    "    exo_df = exo.data\n",
    "    \n",
    "    if len(exo_df) < 200:\n",
    "        print(\"{0:<70} [NODATA DataLen: {1}]\".format(exo.index_name, len(exo_df)))\n",
    "    elif (datetime.now().date() - exo_df.index.date[-1]).days > 4:\n",
    "        print(\"{0:<70} [DELAYED: LastDate: {1}]\".format(exo.index_name, exo_df.index[-1]))\n",
    "    else:\n",
    "        print(\"{0:<70} [OK]\".format(exo.index_name))"
   ]
  },
  {
   "cell_type": "code",
   "execution_count": null,
   "metadata": {},
   "outputs": [],
   "source": [
    "exo_df = exo_dict['US.6C_ContFutEOD'].data"
   ]
  },
  {
   "cell_type": "code",
   "execution_count": null,
   "metadata": {},
   "outputs": [],
   "source": [
    "vwap = ((exo_df.c * exo_df.v).cumsum() / (exo_df.v).cumsum())"
   ]
  },
  {
   "cell_type": "code",
   "execution_count": null,
   "metadata": {},
   "outputs": [],
   "source": [
    "exo_df.c.plot()\n",
    "vwap.plot(label='VWAP', legend=True)\n",
    "exo_df.c.expanding().mean().plot(label='Expanding mean', legend=True);"
   ]
  },
  {
   "cell_type": "markdown",
   "metadata": {},
   "source": [
    "#### BBands style"
   ]
  },
  {
   "cell_type": "code",
   "execution_count": null,
   "metadata": {},
   "outputs": [],
   "source": [
    "exo_df.c.plot()\n",
    "\n",
    "#vwap.plot()\n",
    "#(vwap + 2*vwap.expanding(0).std()).plot()\n",
    "(vwap - 2*vwap.expanding(0).std()).plot()\n",
    "#(vwap + 4*vwap.expanding(20).std()).plot()\n",
    "(vwap - 4*vwap.expanding(0).std()).plot()\n",
    "'''(vwap + 6*vwap.expanding(20).std()).plot()\n",
    "(vwap - 6*vwap.expanding(20).std()).plot()\n",
    "(vwap + 8*vwap.expanding(20).std()).plot()\n",
    "(vwap - 8*vwap.expanding(20).std()).plot()\n",
    "(vwap + 10*vwap.expanding(20).std()).plot()\n",
    "(vwap - 10*vwap.expanding(20).std()).plot()'''\n",
    "\n",
    "plt.ylim([exo_df.c.min(), exo_df.c.max()])"
   ]
  },
  {
   "cell_type": "code",
   "execution_count": null,
   "metadata": {},
   "outputs": [],
   "source": [
    "close_px = exo_df.c\n",
    "\n",
    "vwap = ((exo_df.c * exo_df.v).cumsum() / exo_df.v.cumsum())\n",
    "\n",
    "vwapbands_df = pd.DataFrame()\n",
    "vwapbands_df['c'] = exo_df.c\n",
    "#vwapbands_df['v'] = exo_df.v\n",
    "\n",
    "vwapbands_df['vwap'] = vwap #= ((vwapbands_df['c'] * vwapbands_df['v']).cumsum() / vwapbands_df['v'].cumsum())\n",
    "\n",
    "bands_mult_maxval = 20# highest value for bands StDev multiplier\n",
    "bands_mult_step = 2\n",
    "\n",
    "vwap_exp_std = vwapbands_df['vwap'].expanding().std()\n",
    "#vwap_exp_std = vwapbands_df['vwap'].rolling(50).std()\n",
    "\n",
    "for m in np.arange(bands_mult_step, bands_mult_maxval+bands_mult_step, bands_mult_step):\n",
    "    vwapbands_df['vwap_band_+{}'.format(m)] = vwapbands_df['vwap'] + m * vwap_exp_std\n",
    "    vwapbands_df['vwap_band_-{}'.format(m)] = vwapbands_df['vwap'] - m * vwap_exp_std"
   ]
  },
  {
   "cell_type": "code",
   "execution_count": null,
   "metadata": {},
   "outputs": [],
   "source": [
    "vwapbands_df.plot(cmap='jet')\n",
    "plt.ylim([exo_df.c.min(), exo_df.c.max()]);"
   ]
  },
  {
   "cell_type": "code",
   "execution_count": null,
   "metadata": {},
   "outputs": [],
   "source": [
    "bands_vwap_df = vwapbands_df.filter(regex='band')\n",
    "bands_vwap_diff = bands_vwap_df.sub(vwapbands_df.c, axis=0) * -1"
   ]
  },
  {
   "cell_type": "code",
   "execution_count": null,
   "metadata": {},
   "outputs": [],
   "source": [
    "bands_vwap_diff_morethan0 = bands_vwap_diff[bands_vwap_diff >= 0]\n",
    "bands_vwap_diff_lessthan0 = bands_vwap_diff[bands_vwap_diff <= 0]\n",
    "\n",
    "for idx in vwapbands_df.index:\n",
    "    sup_level = bands_vwap_diff_morethan0.loc[idx].dropna().sort_values()\n",
    "    res_level = bands_vwap_diff_lessthan0.loc[idx].dropna().sort_values()\n",
    "    \n",
    "    if res_level.size != 0:\n",
    "        vwapbands_df.loc[idx, 'res_level'] = vwapbands_df[res_level.index[-1]].loc[idx]\n",
    "    \n",
    "    if sup_level.size != 0:\n",
    "        vwapbands_df.loc[idx, 'sup_level'] = vwapbands_df[sup_level.index[0]].loc[idx]"
   ]
  },
  {
   "cell_type": "code",
   "execution_count": null,
   "metadata": {},
   "outputs": [],
   "source": [
    "bands_vwap_diff_morethan0 = bands_vwap_diff[bands_vwap_diff >= 0]\n",
    "bands_vwap_diff_lessthan0 = bands_vwap_diff[bands_vwap_diff <= 0]\n",
    "\n",
    "vwapbands_df['res_level'] = bands_vwap_df[bands_vwap_diff.isin(bands_vwap_diff_morethan0.min(axis=1))].sum(1)\n",
    "\n",
    "vwapbands_df['sup_level'] = bands_vwap_df[bands_vwap_diff.isin(bands_vwap_diff_lessthan0.max(axis=1))].sum(1)"
   ]
  },
  {
   "cell_type": "code",
   "execution_count": null,
   "metadata": {},
   "outputs": [],
   "source": [
    "bands_vwap_diff.isin(bands_vwap_diff_lessthan0.max(axis=1))"
   ]
  },
  {
   "cell_type": "code",
   "execution_count": null,
   "metadata": {},
   "outputs": [],
   "source": [
    "vwapbands_df.c.iloc[-500:].plot()\n",
    "\n",
    "#(vwapbands_df.res_level.shift(1) - vwapbands_df.c.diff().expanding().std()).iloc[-500:].plot(c='r')\n",
    "vwapbands_df.res_level.shift(1).iloc[-500:].plot(c='r')\n",
    "vwapbands_df.sup_level.shift(1).iloc[-500:].plot(c='g')\n",
    "\n",
    "#bands_vwap_df[bands_vwap_diff.isin(bands_vwap_diff_lessthan0.max(axis=1))].sum(1).iloc[-500:].plot()\n",
    "#bands_vwap_df[bands_vwap_diff.isin(bands_vwap_diff_lessthan0.max(axis=1))].sum(1).iloc[-500:].plot()"
   ]
  },
  {
   "cell_type": "code",
   "execution_count": null,
   "metadata": {},
   "outputs": [],
   "source": [
    "#vwapbands_df.c.expanding().var().plot()\n",
    "vwapbands_df.c.diff().expanding().std().plot()"
   ]
  },
  {
   "cell_type": "code",
   "execution_count": null,
   "metadata": {},
   "outputs": [],
   "source": [
    "exo_df.c.iloc[-500:].plot()\n",
    "vwapbands_df.res_level.shift(1).iloc[-500:].plot()\n",
    "vwapbands_df.sup_level.shift(1).iloc[-500:].plot()\n",
    "\n",
    "((vwapbands_df.res_level.shift(1) + vwapbands_df.sup_level.shift(1))/2).iloc[-500:].plot()"
   ]
  },
  {
   "cell_type": "code",
   "execution_count": null,
   "metadata": {},
   "outputs": [],
   "source": [
    "vwapbands_df['c'].diff().expanding()"
   ]
  },
  {
   "cell_type": "code",
   "execution_count": null,
   "metadata": {},
   "outputs": [],
   "source": [
    "vwapbands_df[bands_vwap_diff[bands_vwap_diff <= 0].iloc[-1].dropna().sort_values().index[-1]].iloc[-1]"
   ]
  },
  {
   "cell_type": "code",
   "execution_count": null,
   "metadata": {},
   "outputs": [],
   "source": [
    "bands_vwap_diff[bands_vwap_diff <= 0].iloc[-1].dropna().sort_values().index[-1]"
   ]
  },
  {
   "cell_type": "code",
   "execution_count": null,
   "metadata": {},
   "outputs": [],
   "source": [
    "vwapbands_df.vwap - vwapbands_df.c"
   ]
  },
  {
   "cell_type": "code",
   "execution_count": null,
   "metadata": {},
   "outputs": [],
   "source": []
  }
 ],
 "metadata": {
  "kernelspec": {
   "display_name": "Python 3",
   "language": "python",
   "name": "python3"
  },
  "language_info": {
   "codemirror_mode": {
    "name": "ipython",
    "version": 3
   },
   "file_extension": ".py",
   "mimetype": "text/x-python",
   "name": "python",
   "nbconvert_exporter": "python",
   "pygments_lexer": "ipython3",
   "version": "3.6.0"
  }
 },
 "nbformat": 4,
 "nbformat_minor": 2
}
