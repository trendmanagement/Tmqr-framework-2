{
 "cells": [
  {
   "cell_type": "code",
   "execution_count": null,
   "metadata": {},
   "outputs": [],
   "source": [
    "%pylab inline"
   ]
  },
  {
   "cell_type": "code",
   "execution_count": null,
   "metadata": {},
   "outputs": [],
   "source": [
    "from tmqr.settings import *\n",
    "from tmqrfeed import DataManager\n",
    "from pymongo import MongoClient\n",
    "from tmqrindex.index_base import IndexBase\n",
    "from datetime import datetime\n",
    "import re\n",
    "import pandas as pd"
   ]
  },
  {
   "cell_type": "code",
   "execution_count": null,
   "metadata": {},
   "outputs": [],
   "source": [
    "client = MongoClient(MONGO_CONNSTR)\n",
    "db = client[MONGO_DB]\n",
    "\n",
    "dm = DataManager()"
   ]
  },
  {
   "cell_type": "code",
   "execution_count": null,
   "metadata": {},
   "outputs": [],
   "source": [
    "def get_exo_list(exo_filter='*', return_names=True):\n",
    "    \"\"\"\n",
    "    Return EXO list stored in MongoDB V2\n",
    "    :param exo_filter: '*' - include all, wildcard is allowed (like, 'ES_Bullish*')\n",
    "    :param return_names: if True returns names list of EXO, otherwize returns MongoDB data collection list\n",
    "    :return: list of EXO names\n",
    "    \"\"\"\n",
    "    re_val = exo_filter.replace('*','.*')\n",
    "\n",
    "    data = db['index_data'].find({'name': re.compile(re_val, re.IGNORECASE)})\n",
    "    if return_names:\n",
    "        return [exo['name'] for exo in data]\n",
    "    else:\n",
    "        return list(data)"
   ]
  },
  {
   "cell_type": "code",
   "execution_count": null,
   "metadata": {},
   "outputs": [],
   "source": [
    "#exo_filter = 'neutralOnly'     # All \n",
    "exo_filter = '*'  # ES only\n",
    "#exo_filter = '*'  # ES Collars (incl Bearish, Bullish, BW and vanilla)\n",
    "\n",
    "exo_dict = {}\n",
    "for exo in get_exo_list(exo_filter, return_names=False):\n",
    "    idx = IndexBase.deserialize(dm, exo, as_readonly=True)\n",
    "    exo_dict[idx.index_name] = idx"
   ]
  },
  {
   "cell_type": "code",
   "execution_count": null,
   "metadata": {},
   "outputs": [],
   "source": [
    "for exo_name, exo in exo_dict.items():\n",
    "    exo_df = exo.data\n",
    "    \n",
    "    if len(exo_df) < 200:\n",
    "        print(\"{0:<70} [NODATA DataLen: {1}]\".format(exo.index_name, len(exo_df)))\n",
    "    elif (datetime.now().date() - exo_df.index.date[-1]).days > 4:\n",
    "        print(\"{0:<70} [DELAYED: LastDate: {1}]\".format(exo.index_name, exo_df.index[-1]))\n",
    "    else:\n",
    "        print(\"{0:<70} [OK]\".format(exo.index_name))"
   ]
  },
  {
   "cell_type": "code",
   "execution_count": null,
   "metadata": {},
   "outputs": [],
   "source": [
    "#exo_dict['US.ES_ContFutEOD'].data"
   ]
  },
  {
   "cell_type": "markdown",
   "metadata": {},
   "source": [
    "# Single EXO view"
   ]
  },
  {
   "cell_type": "code",
   "execution_count": null,
   "metadata": {},
   "outputs": [],
   "source": [
    "EXO_NAME = 'US.CL_EXOSemiFuture_Delta20'"
   ]
  },
  {
   "cell_type": "code",
   "execution_count": null,
   "metadata": {},
   "outputs": [],
   "source": [
    "idx = exo_dict[EXO_NAME]"
   ]
  },
  {
   "cell_type": "code",
   "execution_count": null,
   "metadata": {},
   "outputs": [],
   "source": [
    "exo_df = idx.data\n",
    "figsize(8,10)\n",
    "if 'c' in exo_df:\n",
    "    # This is Quote* algorithm based index\n",
    "    exo_df['c'].plot(title=f'EXO (Close price): {EXO_NAME}');\n",
    "else:    \n",
    "    f, (ax1, ax2, ax3) = plt.subplots(3, gridspec_kw = {'height_ratios':[3, 1, 1]})\n",
    "    exo_df['equity_decision'].plot(ax=ax1);\n",
    "    ax1.set_title('EXO: {0}'.format(EXO_NAME));\n",
    "\n",
    "    exo_df['costs'].cumsum().plot(ax=ax2);\n",
    "    ax2.set_title('Cumulative costs');\n",
    "    ax2.set_xticklabels([]);\n",
    "\n",
    "    (exo_df['ncontracts_executed']+exo_df['noptions_executed']).plot(ax=ax3)\n",
    "    ax3.set_title(\"#Contracts executed\");\n",
    "    \n",
    "plt.tight_layout()"
   ]
  },
  {
   "cell_type": "markdown",
   "metadata": {},
   "source": [
    "## EXO Statistics"
   ]
  },
  {
   "cell_type": "code",
   "execution_count": null,
   "metadata": {},
   "outputs": [],
   "source": [
    "stdev_monthly = exo_df['equity_decision'].diff(22).std()\n",
    "stdev_daily = exo_df['equity_decision'].diff(1).std()\n",
    "nyears = (exo_df.index[-1] - exo_df.index[0]).days / 365.25\n",
    "contracts_executed_per_year = (exo_df['ncontracts_executed'].sum() + exo_df['noptions_executed'].sum()) / nyears\n",
    "\n",
    "print(\"EXO statistics\")\n",
    "print(\"{0:<20} {1:>10.1f}\".format('Daily StDev', stdev_daily))\n",
    "print(\"{0:<20} {1:>10.1f}\".format('Monthly StDev', stdev_monthly))\n",
    "print(\"{0:<20} {1:>10.1f}\".format('Contracts exec./ yr.', contracts_executed_per_year))"
   ]
  },
  {
   "cell_type": "code",
   "execution_count": null,
   "metadata": {},
   "outputs": [],
   "source": [
    "figsize(10, 5)\n",
    "f, (ax1, ax2) = plt.subplots(2)\n",
    "\n",
    "diff1 = exo_df['equity_decision'].diff(1).dropna()\n",
    "diff20 = exo_df['equity_decision'].diff(20).dropna()\n",
    "\n",
    "diff1.dropna().hist(bins=50, ax=ax1);\n",
    "ax1.set_title('1-day changes histogram');\n",
    "\n",
    "\n",
    "diff20.dropna().hist(bins=50, ax=ax2);\n",
    "ax2.set_title('20-day changes histogram');\n",
    "plt.tight_layout()"
   ]
  },
  {
   "cell_type": "code",
   "execution_count": null,
   "metadata": {},
   "outputs": [],
   "source": [
    "exo_df"
   ]
  },
  {
   "cell_type": "code",
   "execution_count": null,
   "metadata": {},
   "outputs": [],
   "source": []
  }
 ],
 "metadata": {
  "kernelspec": {
   "display_name": "Python 3",
   "language": "python",
   "name": "python3"
  },
  "language_info": {
   "codemirror_mode": {
    "name": "ipython",
    "version": 3
   },
   "file_extension": ".py",
   "mimetype": "text/x-python",
   "name": "python",
   "nbconvert_exporter": "python",
   "pygments_lexer": "ipython3",
   "version": "3.6.0"
  }
 },
 "nbformat": 4,
 "nbformat_minor": 2
}
