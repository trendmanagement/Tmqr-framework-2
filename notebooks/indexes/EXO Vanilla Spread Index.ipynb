{
 "cells": [
  {
   "cell_type": "code",
   "execution_count": null,
   "metadata": {},
   "outputs": [],
   "source": [
    "%load_ext autoreload\n",
    "%autoreload 2\n",
    "%pylab inline"
   ]
  },
  {
   "cell_type": "code",
   "execution_count": null,
   "metadata": {},
   "outputs": [],
   "source": [
    "%load_ext Cython\n",
    "%load_ext line_profiler\n",
    "%load_ext memory_profiler"
   ]
  },
  {
   "cell_type": "code",
   "execution_count": null,
   "metadata": {},
   "outputs": [],
   "source": [
    "from tmqrfeed.manager import DataManager\n",
    "from tmqrindex.index_exo_base import IndexEXOBase\n",
    "from datetime import datetime"
   ]
  },
  {
   "cell_type": "code",
   "execution_count": null,
   "metadata": {},
   "outputs": [],
   "source": [
    "from bdateutil import relativedelta\n",
    "from tmqr.logs import log\n",
    "\n",
    "\n",
    "class EXODeltaTargetGeneric(IndexEXOBase):\n",
    "    _description_short = \"EXO Vanilla DeltaTargeting ES 20 Delta Put Spread\"\n",
    "    _description_long = \"(dt, 0.35, 'P', how='delta'), -1.0),(dt, 0.15, 'P', how='delta'), 1.0)\"\n",
    "\n",
    "    _index_name = \"EXODeltaTargetGeneric_ES_20_Delta_Put_Spread\"\n",
    "    \n",
    "    def calc_exo_logic(self):\n",
    "        \"\"\"\n",
    "        Calculates SmartEXO logic.\n",
    "        NOTE: this method must use self.dm.quotes() or self.dm.quotes(series_key='for_secondary_series') to \n",
    "              calculate SmartEXO logic\n",
    "        :return: Pandas.DataFrame with index like in dm.quotes() (i.e. primary quotes)\n",
    "        \"\"\"\n",
    "        pass\n",
    "    \n",
    "    def manage_position(self, dt, pos, logic_df):\n",
    "        \"\"\"\n",
    "        Manages opened position (rollover checks/closing, delta hedging, etc)\n",
    "        :param dt: current datetime\n",
    "        :param pos: Position instance\n",
    "        :param logic_df: result of calc_exo_logic()[dt]  if applicable\n",
    "        :return: nothing, manages 'pos' in place\n",
    "        \"\"\"        \n",
    "        #\n",
    "        # Check expiration moment\n",
    "        #\n",
    "        if pos.almost_expired_ratio(dt) > 0:\n",
    "            pos.close(dt)\n",
    "        \n",
    "        #\n",
    "        # Check business days after last transaction\n",
    "        #\n",
    "        pos_last_transaction_date = pos.last_transaction_date(dt)        \n",
    "        log.debug(\"Last transaction date: {0}\".format(pos_last_transaction_date))\n",
    "        days_after_last_trans = relativedelta(dt, pos_last_transaction_date).bdays\n",
    "        \n",
    "        if days_after_last_trans > 3:\n",
    "            log.debug(\"Business days > 3, closing position\")\n",
    "            # Close the position\n",
    "            pos.close(dt)\n",
    "            # Avoid following checks            \n",
    "            return \n",
    "        \n",
    "        #\n",
    "        # Delta based rebalance\n",
    "        #\n",
    "        delta = pos.delta(dt)\n",
    "        if delta > 0.35:\n",
    "            log.debug(\"Delta > 0.35\")\n",
    "            # Close the position\n",
    "            pos.close(dt)\n",
    "            # Avoid following checks            \n",
    "            return \n",
    "        \n",
    "\n",
    "    def construct_position(self, dt, pos, logic_df):\n",
    "        \"\"\"\n",
    "        EXO position construction method\n",
    "        \n",
    "        NOTE!: this method only called when there is no active position for 'dt'\n",
    "        :param dt: current datetime\n",
    "        :param pos: Position instance\n",
    "        :param logic_df: result of calc_exo_logic()[dt]  if applicable\n",
    "        :return: nothing, manages 'pos' in place\n",
    "        \"\"\"\n",
    "        \n",
    "        fut, opt_chain = self.dm.chains_options_get(self.instrument, dt)\n",
    "        \n",
    "        #\n",
    "        # Help\n",
    "        # \n",
    "        \"\"\"\n",
    "        Find option contract in chain using 'how' criteria\n",
    "        :param dt: analysis date\n",
    "        :param item: search value\n",
    "        :param opttype: option type 'C' or 'P'\n",
    "        :param how: search method\n",
    "                    - 'offset' - by strike offset from ATM\n",
    "                    - 'strike' - by strike absolute value\n",
    "                    - 'delta'  - by delta\n",
    "                        Search option contract by delta value:\n",
    "                        If delta ==  0.5 - returns ATM call/put\n",
    "                        If delta > 0.5 - returns ITM call/put near target delta\n",
    "                        If delta < 0.5 - returns OTM call/put near target delta\n",
    "        :param kwargs:\n",
    "            * how == 'offset' kwargs:\n",
    "                - error_limit - how many QuoteNotFound errors occurred before raising exception (default: 5)\n",
    "            * how == 'delta' kwargs:\n",
    "                - error_limit - how many QuoteNotFound errors occurred before raising exception (default: 5)\n",
    "                - strike_limit - how many strikes to analyse from ATM (default: 30)\n",
    "        :return: OptionContract\n",
    "        Example:\n",
    "        pos.add_transaction(dt, opt_chain.find(dt, 0.15, 'C', how='delta'), 1.0)\n",
    "        \n",
    "        pos.add_transaction(dt, # Current date\n",
    "                            opt_chain.find( # Find option in chain by delta\n",
    "                                            dt,   # Current date     \n",
    "                                            0.15, # Delta value (because how='delta'), otherwise ATM offset\n",
    "                                            'C',  # Search for call\n",
    "                                            how='delta'), # Search by delta                            \n",
    "                            1.0 # Transaction Qty\n",
    "                            )\n",
    "        \n",
    "        \"\"\"        \n",
    "        #pos.add_transaction(dt, fut_primary, -1.0)\n",
    "        #pos.add_transaction(dt, opt_chain.find(dt, 0.15, 'C', how='delta'), 1.0)\n",
    "        #pos.add_transaction(dt, opt_chain.find(dt, 0.25, 'P', how='delta'), -1.0)\n",
    "        \n",
    "        pos.add_transaction(dt, opt_chain.find(dt, 0.45, 'C', how='delta'), -1.0)\n",
    "        pos.add_transaction(dt, opt_chain.find(dt, 0.35, 'C', how='delta'), 3.0)\n",
    "        pos.add_transaction(dt, opt_chain.find(dt, 0.05, 'C', how='delta'), -2.0)\n",
    "        \n",
    "        pos.add_transaction(dt, opt_chain.find(dt, 0.45, 'P', how='delta'), 1.0)\n",
    "        pos.add_transaction(dt, opt_chain.find(dt, 0.35, 'P', how='delta'), -3.0)\n",
    "        pos.add_transaction(dt, opt_chain.find(dt, 0.05, 'P', how='delta'), 2.0)"
   ]
  },
  {
   "cell_type": "code",
   "execution_count": null,
   "metadata": {},
   "outputs": [],
   "source": [
    "dm = DataManager(date_start=datetime(2012, 5, 1))"
   ]
  },
  {
   "cell_type": "code",
   "execution_count": null,
   "metadata": {},
   "outputs": [],
   "source": [
    "INDEX_CONTEXT = {\n",
    "    'instrument': \"US.ES\",\n",
    "    'costs_futures': 3.0,\n",
    "    'costs_options': 3.0,\n",
    "}\n",
    "index = EXODeltaTargetGeneric(dm, **INDEX_CONTEXT)\n",
    "\n",
    "#\n",
    "# BOTH index init code lines are equal\n",
    "#\n",
    "\n",
    "#index = EXODeltaTargetGeneric(dm, instrument=\"US.ES\", costs_futures=3.0, costs_options=3.0)"
   ]
  },
  {
   "cell_type": "code",
   "execution_count": null,
   "metadata": {},
   "outputs": [],
   "source": [
    "index.run()\n"
   ]
  },
  {
   "cell_type": "markdown",
   "metadata": {},
   "source": [
    "## Index equity"
   ]
  },
  {
   "cell_type": "code",
   "execution_count": null,
   "metadata": {},
   "outputs": [],
   "source": [
    "index.data['equity_execution'].plot()\n",
    "title(index.index_name)"
   ]
  },
  {
   "cell_type": "code",
   "execution_count": null,
   "metadata": {},
   "outputs": [],
   "source": [
    "#index.data['equity_decision']"
   ]
  },
  {
   "cell_type": "code",
   "execution_count": null,
   "metadata": {},
   "outputs": [],
   "source": [
    "index.index_name"
   ]
  },
  {
   "cell_type": "code",
   "execution_count": null,
   "metadata": {},
   "outputs": [],
   "source": [
    "#index.save()"
   ]
  }
 ],
 "metadata": {
  "kernelspec": {
   "display_name": "Python 3",
   "language": "python",
   "name": "python3"
  },
  "language_info": {
   "codemirror_mode": {
    "name": "ipython",
    "version": 3
   },
   "file_extension": ".py",
   "mimetype": "text/x-python",
   "name": "python",
   "nbconvert_exporter": "python",
   "pygments_lexer": "ipython3",
   "version": "3.6.0"
  }
 },
 "nbformat": 4,
 "nbformat_minor": 1
}
