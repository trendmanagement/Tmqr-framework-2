{
 "cells": [
  {
   "cell_type": "code",
   "execution_count": null,
   "metadata": {},
   "outputs": [],
   "source": [
    "%load_ext autoreload\n",
    "%autoreload 2\n",
    "%pylab inline"
   ]
  },
  {
   "cell_type": "code",
   "execution_count": null,
   "metadata": {},
   "outputs": [],
   "source": [
    "%load_ext Cython\n",
    "%load_ext line_profiler\n",
    "%load_ext memory_profiler"
   ]
  },
  {
   "cell_type": "code",
   "execution_count": null,
   "metadata": {},
   "outputs": [],
   "source": [
    "from tmqrfeed.manager import DataManager\n",
    "from tmqrindex.index_exo_base import IndexEXOBase\n",
    "from datetime import datetime"
   ]
  },
  {
   "cell_type": "code",
   "execution_count": null,
   "metadata": {},
   "outputs": [],
   "source": [
    "from bdateutil import relativedelta\n",
    "from tmqr.logs import log\n",
    "from tmqrfeed.quotes import QuoteContFut\n",
    "from tmqrfeed import Costs\n",
    "\n",
    "\n",
    "class EXOSpreadIndex(IndexEXOBase):\n",
    "    _description_short = \"EXO Vanilla Long/Short spread index\"\n",
    "    _description_long = \"\"\n",
    "\n",
    "    _index_name = \"EXOSpreadFixed\"\n",
    "    \n",
    "    def __init__(self, datamanager, **kwargs):\n",
    "        super().__init__(datamanager, **kwargs)\n",
    "        \n",
    "        self.PRIMARY_INSTRUMENT = 'US.ES'\n",
    "        self.SECONDARY_INSTRUMENT = 'US.CL'\n",
    "              \n",
    "        self.costs_futures = 3.0\n",
    "        self.costs_options = 3.0\n",
    "    \n",
    "    def setup(self):\n",
    "        \n",
    "        #\n",
    "        # IMPORTANT! Use trading session of self.PRIMARY_INSTRUMENT \n",
    "        #   All US.CL quotes and positions will use 'US.ES' decision and execution time\n",
    "        # \n",
    "        self.dm.session_set(self.PRIMARY_INSTRUMENT, session_instance=self.session)\n",
    "        \n",
    "        #\n",
    "        # Set primary quotes for 'US.ES' to align all data to its index\n",
    "        #\n",
    "        self.dm.series_primary_set(QuoteContFut, self.PRIMARY_INSTRUMENT,\n",
    "                                   timeframe='D', decision_time_shift=self.decision_time_shift)\n",
    "        \n",
    "        self.dm.series_extra_set(self.SECONDARY_INSTRUMENT, QuoteContFut, self.SECONDARY_INSTRUMENT,\n",
    "                                   timeframe='D', decision_time_shift=self.decision_time_shift)\n",
    "        #\n",
    "        # Set index costs (costs are calculated at the final stage, of index equirt calculation)\n",
    "        # \n",
    "        self.dm.costs_set(self.PRIMARY_INSTRUMENT.split('.')[0], Costs(per_contract=self.costs_futures,\n",
    "                                                               per_option=self.costs_options))\n",
    "        \n",
    "    \n",
    "    def calc_exo_logic(self):\n",
    "        \"\"\"\n",
    "        Calculates SmartEXO logic.\n",
    "        NOTE: this method must use self.dm.quotes() or self.dm.quotes(series_key='for_secondary_series') to \n",
    "              calculate SmartEXO logic\n",
    "        :return: Pandas.DataFrame with index like in dm.quotes() (i.e. primary quotes)\n",
    "        \"\"\"\n",
    "        pass\n",
    "    \n",
    "    def manage_position(self, dt, pos, logic_df):\n",
    "        \"\"\"\n",
    "        Manages opened position (rollover checks/closing, delta hedging, etc)\n",
    "        :param dt: current datetime\n",
    "        :param pos: Position instance\n",
    "        :param logic_df: result of calc_exo_logic()[dt]  if applicable\n",
    "        :return: nothing, manages 'pos' in place\n",
    "        \"\"\"        \n",
    "        #\n",
    "        # Check expiration moment\n",
    "        #\n",
    "        if pos.almost_expired_ratio(dt) > 0:\n",
    "            pos.close(dt)\n",
    "                \n",
    "\n",
    "    def construct_position(self, dt, pos, logic_df):\n",
    "        \"\"\"\n",
    "        EXO position construction method\n",
    "        \n",
    "        NOTE!: this method only called when there is no active position for 'dt'\n",
    "        :param dt: current datetime\n",
    "        :param pos: Position instance\n",
    "        :param logic_df: result of calc_exo_logic()[dt]  if applicable\n",
    "        :return: nothing, manages 'pos' in place\n",
    "        \"\"\"\n",
    "        \n",
    "        fut_primary, opt_chain_primary = self.dm.chains_options_get(self.PRIMARY_INSTRUMENT, dt)\n",
    "        fut_secondary, opt_chain_secondary = self.dm.chains_options_get(self.SECONDARY_INSTRUMENT, dt)\n",
    "        \n",
    "        \n",
    "        # PRIMARY long\n",
    "        #pos.add_transaction(dt, fut_primary, 1.0)\n",
    "        # we can use options too!\n",
    "        #pos.add_transaction(dt, opt_chain_primary.find(dt, 0.15, 'C', how='delta'), 1.0)\n",
    "        #pos.add_transaction(dt, opt_chain_primary.find(dt, 0.55, 'P', how='delta'), -1.0)\n",
    "        \n",
    "        pos.add_transaction(dt, opt_chain_primary.find(dt, 0.45, 'P', how='delta'), -1.0)\n",
    "        pos.add_transaction(dt, opt_chain_primary.find(dt, 0.35, 'C', how='delta'), 1.0)\n",
    "       \n",
    "        \n",
    "        # SECONDARY short\n",
    "        #pos.add_transaction(dt, fut_secondary, -1.0)\n",
    "        # we can use options too!\n",
    "        #pos.add_transaction(dt, opt_chain_secondary.find(dt, 0.25, 'P', how='delta'), -1.0)"
   ]
  },
  {
   "cell_type": "code",
   "execution_count": null,
   "metadata": {},
   "outputs": [],
   "source": [
    "dm = DataManager(date_start=datetime(2011, 5, 1))"
   ]
  },
  {
   "cell_type": "code",
   "execution_count": null,
   "metadata": {},
   "outputs": [],
   "source": [
    "INDEX_CONTEXT = {\n",
    "    'instrument': \"US.ES\",\n",
    "    'costs_futures': 3.0,\n",
    "    'costs_options': 3.0,\n",
    "}\n",
    "index = EXOSpreadIndex(dm, **INDEX_CONTEXT)\n",
    "\n",
    "#\n",
    "# BOTH index init code lines are equal\n",
    "#\n",
    "\n",
    "#index = EXODeltaTargetGeneric(dm, instrument=\"US.ES\", costs_futures=3.0, costs_options=3.0)"
   ]
  },
  {
   "cell_type": "code",
   "execution_count": null,
   "metadata": {},
   "outputs": [],
   "source": [
    "index.run()\n"
   ]
  },
  {
   "cell_type": "code",
   "execution_count": null,
   "metadata": {},
   "outputs": [],
   "source": [
    "index.index_name"
   ]
  },
  {
   "cell_type": "markdown",
   "metadata": {},
   "source": [
    "## Index equity"
   ]
  },
  {
   "cell_type": "code",
   "execution_count": null,
   "metadata": {},
   "outputs": [],
   "source": [
    "index.data['equity_execution'].plot()\n",
    "title(index.index_name)"
   ]
  },
  {
   "cell_type": "markdown",
   "metadata": {},
   "source": [
    "# Spread position"
   ]
  },
  {
   "cell_type": "markdown",
   "metadata": {},
   "source": [
    "Both of ES and CL have the same decision time and price\n",
    "\n"
   ]
  },
  {
   "cell_type": "code",
   "execution_count": null,
   "metadata": {},
   "outputs": [],
   "source": [
    "index.position"
   ]
  },
  {
   "cell_type": "markdown",
   "metadata": {},
   "source": [
    "# Save index"
   ]
  },
  {
   "cell_type": "code",
   "execution_count": null,
   "metadata": {},
   "outputs": [],
   "source": [
    "index.save()"
   ]
  },
  {
   "cell_type": "code",
   "execution_count": null,
   "metadata": {},
   "outputs": [],
   "source": [
    "index.position"
   ]
  },
  {
   "cell_type": "code",
   "execution_count": null,
   "metadata": {},
   "outputs": [],
   "source": []
  }
 ],
 "metadata": {
  "kernelspec": {
   "display_name": "Python 3",
   "language": "python",
   "name": "python3"
  },
  "language_info": {
   "codemirror_mode": {
    "name": "ipython",
    "version": 3
   },
   "file_extension": ".py",
   "mimetype": "text/x-python",
   "name": "python",
   "nbconvert_exporter": "python",
   "pygments_lexer": "ipython3",
   "version": "3.6.0"
  }
 },
 "nbformat": 4,
 "nbformat_minor": 1
}
