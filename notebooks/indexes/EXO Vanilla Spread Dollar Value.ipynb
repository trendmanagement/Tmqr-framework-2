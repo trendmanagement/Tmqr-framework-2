{
 "cells": [
  {
   "cell_type": "code",
   "execution_count": null,
   "metadata": {},
   "outputs": [],
   "source": [
    "%load_ext autoreload\n",
    "%autoreload 2\n",
    "%pylab inline"
   ]
  },
  {
   "cell_type": "code",
   "execution_count": null,
   "metadata": {},
   "outputs": [],
   "source": [
    "%load_ext Cython\n",
    "%load_ext line_profiler\n",
    "%load_ext memory_profiler"
   ]
  },
  {
   "cell_type": "code",
   "execution_count": null,
   "metadata": {},
   "outputs": [],
   "source": [
    "from tmqrfeed.manager import DataManager\n",
    "from tmqrindex.index_exo_base import IndexEXOBase\n",
    "from datetime import datetime"
   ]
  },
  {
   "cell_type": "code",
   "execution_count": null,
   "metadata": {},
   "outputs": [],
   "source": [
    "from bdateutil import relativedelta\n",
    "from tmqr.logs import log\n",
    "from tmqrfeed.quotes import QuoteContFut\n",
    "from tmqrfeed import Costs\n",
    "import pandas as pd\n",
    "\n",
    "class EXOSpreadIndex(IndexEXOBase):\n",
    "    _description_short = \"EXO Vanilla Long/Short spread index\"\n",
    "    _description_long = \"\"\n",
    "    _index_name = \"EXOSpreadFixed\"\n",
    "    \n",
    "    def __init__(self, datamanager, **kwargs):\n",
    "        super().__init__(datamanager, **kwargs)\n",
    "        \n",
    "        self.PRIMARY_INSTRUMENT = 'US.ES'\n",
    "        self.SECONDARY_INSTRUMENT = 'US.CL'\n",
    "              \n",
    "        self.costs_futures = 3.0\n",
    "        self.costs_options = 3.0\n",
    "    \n",
    "    def setup(self):\n",
    "        \n",
    "        #\n",
    "        # IMPORTANT! Use trading session of self.PRIMARY_INSTRUMENT \n",
    "        #   All US.CL quotes and positions will use 'US.ES' decision and execution time\n",
    "        # \n",
    "        self.dm.session_set(self.PRIMARY_INSTRUMENT, session_instance=self.session)\n",
    "        \n",
    "        #\n",
    "        # Set primary quotes for 'US.ES' to align all data to its index\n",
    "        #\n",
    "        self.dm.series_primary_set(QuoteContFut, self.PRIMARY_INSTRUMENT,\n",
    "                                   timeframe='D', decision_time_shift=self.decision_time_shift)\n",
    "        \n",
    "        self.dm.series_extra_set(self.SECONDARY_INSTRUMENT, QuoteContFut, self.SECONDARY_INSTRUMENT,\n",
    "                                   timeframe='D', decision_time_shift=self.decision_time_shift)\n",
    "        #\n",
    "        # Set index costs (costs are calculated at the final stage, of index equirt calculation)\n",
    "        # \n",
    "        self.dm.costs_set(self.PRIMARY_INSTRUMENT.split('.')[0], Costs(per_contract=self.costs_futures,\n",
    "                                                               per_option=self.costs_options))\n",
    "        \n",
    "    \n",
    "    def calc_exo_logic(self):\n",
    "        \"\"\"\n",
    "        Calculates SmartEXO logic.\n",
    "        NOTE: this method must use self.dm.quotes() or self.dm.quotes(series_key='for_secondary_series') to \n",
    "              calculate SmartEXO logic\n",
    "        :return: Pandas.DataFrame with index like in dm.quotes() (i.e. primary quotes)\n",
    "        \"\"\"\n",
    "        # Getting quotes\n",
    "        primary_quotes = self.dm.quotes()\n",
    "        secondary_quotes = self.dm.quotes(self.SECONDARY_INSTRUMENT)\n",
    "        \n",
    "        # Getting instrument information \n",
    "        primary_instrument_info = self.dm.instrument_info_get(self.PRIMARY_INSTRUMENT)\n",
    "        secondary_instrument_info = self.dm.instrument_info_get(self.SECONDARY_INSTRUMENT)\n",
    "        \n",
    "        # Calculating point value\n",
    "        primary_instrument_point_value = 1.0 / primary_instrument_info.ticksize * primary_instrument_info.tickvalue\n",
    "        secondary_instrument_point_value = 1.0 / secondary_instrument_info.ticksize * secondary_instrument_info.tickvalue\n",
    "        \n",
    "        # Calculating USD value price series\n",
    "        primary_usd_value = primary_quotes['c'] * primary_instrument_point_value\n",
    "        secondary_usd_value = secondary_quotes['c'] * secondary_instrument_point_value\n",
    "        \n",
    "        # Calculating USD value ratio per 10 contracts        \n",
    "        usd_ratio = primary_usd_value / secondary_usd_value\n",
    "        \n",
    "        # Add extra logic to illustrate how SmartEXO can be implemeted\n",
    "        # Define bull trend regime as close of primary > moving_average(primary, 20-periods)\n",
    "        primary_in_bull_trend = primary_quotes['c'] > primary_quotes['c'].rolling(20).mean()\n",
    "        \n",
    "        # We have to return pandas.DataFrame class\n",
    "        return pd.DataFrame({\n",
    "            'usd_ratio': usd_ratio,\n",
    "            # Optionally include spread prices\n",
    "            'primary_usd_value': primary_usd_value,\n",
    "            'secondary_usd_value': secondary_usd_value,\n",
    "            # Include SMART EXO regime\n",
    "            'primary_in_bull_trend': primary_in_bull_trend,\n",
    "        })\n",
    "    \n",
    "    def manage_position(self, dt, pos, logic_df):\n",
    "        \"\"\"\n",
    "        Manages opened position (rollover checks/closing, delta hedging, etc)\n",
    "        :param dt: current datetime\n",
    "        :param pos: Position instance\n",
    "        :param logic_df: result of calc_exo_logic()[dt]  if applicable\n",
    "        :return: nothing, manages 'pos' in place\n",
    "        \"\"\"        \n",
    "        #\n",
    "        # Check expiration moment\n",
    "        # Or you can check custom days to expiration values\n",
    "        #  pos.almost_expired_ratio(dt, rollover_days_before_fut=5, rollover_days_before_opt=7)\n",
    "        if pos.almost_expired_ratio(dt) > 0:                        \n",
    "            pos.close(dt)\n",
    "            \n",
    "        #\n",
    "        # Check business days after last transaction\n",
    "        #\n",
    "        pos_last_transaction_date = pos.last_transaction_date(dt)        \n",
    "        log.debug(\"Last transaction date: {0}\".format(pos_last_transaction_date))\n",
    "        days_after_last_trans = relativedelta(dt, pos_last_transaction_date).bdays\n",
    "        \n",
    "        if days_after_last_trans > 7:\n",
    "            log.debug(\"Business days > 7, closing position\")\n",
    "            # Close the position\n",
    "            pos.close(dt)\n",
    "            # Avoid following checks            \n",
    "            return \n",
    "        \n",
    "        #\n",
    "        # Delta based rebalance\n",
    "        #\n",
    "        delta = pos.delta(dt)\n",
    "        if delta > 0.7:\n",
    "            log.debug(\"Delta > 0.7\")\n",
    "            # Close the position\n",
    "            pos.close(dt)\n",
    "            # Avoid following checks            \n",
    "            return \n",
    "                \n",
    "        #\n",
    "        # logic_df based rebalance\n",
    "        #\n",
    "        primary_in_bull_trend = logic_df['primary_in_bull_trend']\n",
    "        \n",
    "        if not primary_in_bull_trend: \n",
    "            log.debug(\"not primary_in_bull_trend\")\n",
    "            # Close the position\n",
    "            pos.close(dt)\n",
    "            # Avoid following checks            \n",
    "            return \n",
    "\n",
    "    def construct_position(self, dt, pos, logic_df):\n",
    "        \"\"\"\n",
    "        EXO position construction method\n",
    "        \n",
    "        NOTE!: this method only called when there is no active position for 'dt'\n",
    "        :param dt: current datetime\n",
    "        :param pos: Position instance\n",
    "        :param logic_df: result of calc_exo_logic()[dt]  if applicable\n",
    "        :return: nothing, manages 'pos' in place\n",
    "        \"\"\"\n",
    "        # Getting active futures and options chains\n",
    "        fut_primary, opt_chain_primary = self.dm.chains_options_get(self.PRIMARY_INSTRUMENT, dt)\n",
    "        fut_secondary, opt_chain_secondary = self.dm.chains_options_get(self.SECONDARY_INSTRUMENT, dt)\n",
    "        \n",
    "        # Getting logic_df slice information\n",
    "        # Example of slice data:\n",
    "        \"\"\"\n",
    "        > print(logic_df)\n",
    "        primary_in_bull_trend      False\n",
    "        primary_usd_value         103788\n",
    "        secondary_usd_value        44880\n",
    "        usd_ratio                2.31256\n",
    "        Name: 2016-05-02 12:40:00-07:00, dtype: object        \n",
    "        \n",
    "        > print(logic_df['usd_ratio'])\n",
    "        2.31256\n",
    "        \n",
    "        > print(logic_df['primary_usd_value'])\n",
    "        103788        \n",
    "        \"\"\"\n",
    "        # You can easily access data calculated in calc_exo_logic() metod by\n",
    "        # logic_df['primary_usd_value']\n",
    "        # logic_df['some_column_name']\n",
    "        usd_ratio = logic_df['usd_ratio']\n",
    "        primary_in_bull_trend = logic_df['primary_in_bull_trend']\n",
    "        \n",
    "        # PRIMARY long\n",
    "        primary_qty = 5.0 \n",
    "        pos.add_transaction(dt, fut_primary, primary_qty)\n",
    "        # SECONDARY short\n",
    "        secondary_qty = round(primary_qty * usd_ratio)\n",
    "        pos.add_transaction(dt, fut_secondary, -secondary_qty)\n",
    "        \n",
    "        \n",
    "        # Usign SmartEXO hedge style\n",
    "        if primary_in_bull_trend:\n",
    "            # Add primary long call if primary_in_bull_trend\n",
    "            target_delta = 0.4\n",
    "            hedge_qty = round(primary_qty * target_delta)\n",
    "            \n",
    "            pos.add_transaction(dt, opt_chain_primary.find(dt, target_delta, 'C', how='delta'), hedge_qty)\n",
    "        "
   ]
  },
  {
   "cell_type": "code",
   "execution_count": null,
   "metadata": {},
   "outputs": [],
   "source": [
    "dm = DataManager(date_start=datetime(2016, 5, 1))"
   ]
  },
  {
   "cell_type": "code",
   "execution_count": null,
   "metadata": {},
   "outputs": [],
   "source": [
    "INDEX_CONTEXT = {\n",
    "    'instrument': \"US.ES\",\n",
    "    'costs_futures': 3.0,\n",
    "    'costs_options': 3.0,\n",
    "}\n",
    "index = EXOSpreadIndex(dm, **INDEX_CONTEXT)\n",
    "\n",
    "#\n",
    "# BOTH index init code lines are equal\n",
    "#\n",
    "\n",
    "#index = EXODeltaTargetGeneric(dm, instrument=\"US.ES\", costs_futures=3.0, costs_options=3.0)"
   ]
  },
  {
   "cell_type": "code",
   "execution_count": null,
   "metadata": {},
   "outputs": [],
   "source": [
    "#index.setup()\n",
    "#index.calc_exo_logic().tail()"
   ]
  },
  {
   "cell_type": "code",
   "execution_count": null,
   "metadata": {},
   "outputs": [],
   "source": []
  },
  {
   "cell_type": "code",
   "execution_count": null,
   "metadata": {},
   "outputs": [],
   "source": [
    "index.run()\n"
   ]
  },
  {
   "cell_type": "markdown",
   "metadata": {},
   "source": [
    "## Index equity"
   ]
  },
  {
   "cell_type": "code",
   "execution_count": null,
   "metadata": {},
   "outputs": [],
   "source": [
    "list(index.data.columns)"
   ]
  },
  {
   "cell_type": "markdown",
   "metadata": {},
   "source": [
    "# Spread position"
   ]
  },
  {
   "cell_type": "markdown",
   "metadata": {},
   "source": [
    "Both of ES and CL have the same decision time and price\n",
    "\n"
   ]
  },
  {
   "cell_type": "code",
   "execution_count": null,
   "metadata": {},
   "outputs": [],
   "source": [
    "index.position"
   ]
  },
  {
   "cell_type": "code",
   "execution_count": null,
   "metadata": {},
   "outputs": [],
   "source": [
    "index.data['equity_execution'].plot()\n",
    "title(index.index_name)"
   ]
  },
  {
   "cell_type": "code",
   "execution_count": null,
   "metadata": {},
   "outputs": [],
   "source": [
    "index.index_name"
   ]
  },
  {
   "cell_type": "code",
   "execution_count": null,
   "metadata": {},
   "outputs": [],
   "source": []
  }
 ],
 "metadata": {
  "kernelspec": {
   "display_name": "Python 3",
   "language": "python",
   "name": "python3"
  },
  "language_info": {
   "codemirror_mode": {
    "name": "ipython",
    "version": 3
   },
   "file_extension": ".py",
   "mimetype": "text/x-python",
   "name": "python",
   "nbconvert_exporter": "python",
   "pygments_lexer": "ipython3",
   "version": "3.6.0"
  }
 },
 "nbformat": 4,
 "nbformat_minor": 1
}
