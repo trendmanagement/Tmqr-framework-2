{
 "cells": [
  {
   "cell_type": "code",
   "execution_count": null,
   "metadata": {},
   "outputs": [],
   "source": [
    "%load_ext autoreload\n",
    "%autoreload 2\n",
    "%pylab inline"
   ]
  },
  {
   "cell_type": "code",
   "execution_count": null,
   "metadata": {},
   "outputs": [],
   "source": [
    "import sys, argparse, logging\n",
    "from datetime import datetime, time\n",
    "from decimal import Decimal\n",
    "import pymongo\n",
    "from pymongo import MongoClient\n",
    "from tqdm import tqdm, tnrange, tqdm_notebook\n",
    "import pandas as pd\n",
    "from tmqr.settings import *\n",
    "from tmqrfeed.assetsession import AssetSession\n",
    "import pickle\n",
    "import pytz\n",
    "\n",
    "import pyximport\n",
    "\n",
    "pyximport.install(setup_args={\"include_dirs\": np.get_include()})\n",
    "from tmqrfeed.quotes.compress_daily_ohlcv import compress_daily\n",
    "import os\n",
    "\n",
    "from tmqrfeed.assetsession import AssetSession\n",
    "from tmqrfeed.quotes.dataframegetter import DataFrameGetter\n",
    "from tmqrfeed.datafeed import DataFeed\n",
    "from tmqrfeed.manager import DataManager\n",
    "from tmqrfeed.contracts import FutureContract, OptionContract\n",
    "from tmqrfeed.quotes.quote_contfut import QuoteContFut\n",
    "from tmqr.errors import *"
   ]
  },
  {
   "cell_type": "code",
   "execution_count": null,
   "metadata": {},
   "outputs": [],
   "source": [
    "dm = DataManager()"
   ]
  },
  {
   "cell_type": "code",
   "execution_count": null,
   "metadata": {},
   "outputs": [],
   "source": []
  },
  {
   "cell_type": "code",
   "execution_count": null,
   "metadata": {},
   "outputs": [],
   "source": [
    "INSTRUMENT = \"US.CL\""
   ]
  },
  {
   "cell_type": "code",
   "execution_count": null,
   "metadata": {},
   "outputs": [],
   "source": [
    "dm.datafeed.get_instrument_info(INSTRUMENT)._info_dict"
   ]
  },
  {
   "cell_type": "markdown",
   "metadata": {},
   "source": [
    "# Check the future contract selection"
   ]
  },
  {
   "cell_type": "code",
   "execution_count": null,
   "metadata": {},
   "outputs": [],
   "source": [
    "\n",
    "\n",
    "\"\"\"\n",
    "        Get future contract from futures chains\n",
    "        :param instrument: Full-qualified instrument name\n",
    "        :param date: current date \n",
    "        :param offset: future expiration offset, 0 - front month, +1 - front+1, etc. (default: 0)\n",
    "        :return: Future contract\n",
    "\"\"\"\n",
    "dt = datetime(2011, 12, 1)\n",
    "dm.chains_futures_get(INSTRUMENT, dt, offset=0)"
   ]
  },
  {
   "cell_type": "markdown",
   "metadata": {},
   "source": [
    "### Full futures chains list (next 7 futures)"
   ]
  },
  {
   "cell_type": "code",
   "execution_count": null,
   "metadata": {},
   "outputs": [],
   "source": [
    "pd.DataFrame(dm.datafeed.get_fut_chain(INSTRUMENT).get_list(dt), columns=['Contract', 'StartDate', 'EndDate']).head(7)"
   ]
  },
  {
   "cell_type": "markdown",
   "metadata": {},
   "source": [
    "# Check the option contract selection"
   ]
  },
  {
   "cell_type": "code",
   "execution_count": null,
   "metadata": {},
   "outputs": [],
   "source": [
    "# You can play with opt_offset=1, opt_min_days=2 parameters\n",
    "\"\"\"\n",
    "        Find future+option chain by given criteria\n",
    "        :param instrument: Full-qualified instrument name\n",
    "        :param date: current date\n",
    "        :param kwargs: \n",
    "            - 'opt_offset' - option expiration offset, 0 - front month, +1 - front+1, etc. (default: 0)\n",
    "            - 'opt_min_days' - minimal days count until option expiration (default: 2)\n",
    "            - 'error_limit' - ChainNotFoundError error limit, useful to increase when you are trying to get far 'opt_offset' (default: 4)\n",
    "        :return: (tuple) FutureContract, OptionChain\n",
    "\"\"\"\n",
    "dt = datetime(2011, 12, 1)\n",
    "dm.chains_options_get(INSTRUMENT, dt, opt_offset=0, opt_min_days=2)"
   ]
  },
  {
   "cell_type": "markdown",
   "metadata": {},
   "source": [
    "### Full options chains for every future contract"
   ]
  },
  {
   "cell_type": "code",
   "execution_count": null,
   "metadata": {},
   "outputs": [],
   "source": [
    "futures_list = dm.datafeed.get_fut_chain(INSTRUMENT).get_list(dt, limit=4)\n",
    "for f in futures_list:\n",
    "    print(f\"Future contract: {f[0]}\")\n",
    "    print(\"Options:\")\n",
    "    print(dm.datafeed.get_option_chains(f[0]))\n",
    "    \n",
    "    "
   ]
  },
  {
   "cell_type": "code",
   "execution_count": null,
   "metadata": {},
   "outputs": [],
   "source": []
  }
 ],
 "metadata": {
  "kernelspec": {
   "display_name": "Python 3",
   "language": "python",
   "name": "python3"
  },
  "language_info": {
   "codemirror_mode": {
    "name": "ipython",
    "version": 3
   },
   "file_extension": ".py",
   "mimetype": "text/x-python",
   "name": "python",
   "nbconvert_exporter": "python",
   "pygments_lexer": "ipython3",
   "version": "3.6.0"
  }
 },
 "nbformat": 4,
 "nbformat_minor": 2
}
