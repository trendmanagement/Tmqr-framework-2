{
 "cells": [
  {
   "cell_type": "code",
   "execution_count": null,
   "metadata": {},
   "outputs": [],
   "source": [
    "%load_ext autoreload\n",
    "%pylab inline"
   ]
  },
  {
   "cell_type": "code",
   "execution_count": null,
   "metadata": {},
   "outputs": [],
   "source": [
    "from pymongo import MongoClient\n",
    "import pymongo\n",
    "import sys\n",
    "from datetime import datetime"
   ]
  },
  {
   "cell_type": "code",
   "execution_count": null,
   "metadata": {},
   "outputs": [],
   "source": [
    "from tmqr.settings import *"
   ]
  },
  {
   "cell_type": "code",
   "execution_count": null,
   "metadata": {},
   "outputs": [],
   "source": [
    "client = MongoClient(MONGO_CONNSTR)\n",
    "db = client[MONGO_DB]\n",
    "\n",
    "collection = db['asset_info']\n",
    "\n",
    "collection.create_index([('instrument', pymongo.ASCENDING)])"
   ]
  },
  {
   "cell_type": "markdown",
   "metadata": {},
   "source": [
    "## Exchange wide default settings"
   ]
  },
  {
   "cell_type": "code",
   "execution_count": null,
   "metadata": {},
   "outputs": [],
   "source": [
    "data = {\n",
    "    \"instrument\": 'US.$DEFAULT$',\n",
    "    'market': 'US',\n",
    "    'rollover_days_before': 2,\n",
    "    'rollover_days_before_options': 2,\n",
    "    'futures_months': [1, 2, 3, 4, 5, 6, 7, 8, 9, 10, 11, 12],\n",
    "    'trading_session': [\n",
    "        {'dt': datetime(1900, 1, 1), 'start': '00:32', 'decision': '10:40', 'execution': '10:45'}\n",
    "    ],\n",
    "    'timezone': 'US/Pacific',\n",
    "    'ticksize': 1.0,\n",
    "    'tickvalue': 1.0,\n",
    "    'ticksize_options': 1.0,\n",
    "    'tickvalue_options': 1.0,\n",
    "    'data_futures_src': SRC_INTRADAY,\n",
    "    'data_options_src': SRC_OPTIONS_EOD,\n",
    "    'data_options_use_prev_date': True,\n",
    "}\n",
    "\n",
    "collection.replace_one({'instrument': data['instrument']}, data, upsert=True)"
   ]
  },
  {
   "cell_type": "code",
   "execution_count": null,
   "metadata": {},
   "outputs": [],
   "source": [
    "data = {\n",
    "    'instrument': 'US.ES',\n",
    "    'market':  'US',\n",
    "    'futures_months': [3, 6, 9, 12],\n",
    "    'ticksize': 0.25,\n",
    "    'tickvalue': 12.5,\n",
    "    'tickvalue_options': 12.5,\n",
    "    'ticksize_options': 0.25,\n",
    "    'trading_session': [\n",
    "        {'dt': datetime(1900, 1, 1), 'start': '05:00', 'decision': '12:45', 'execution': '12:50'}\n",
    "    ],\n",
    "}\n",
    "collection.replace_one({'instrument': data['instrument']}, data, upsert=True)"
   ]
  },
  {
   "cell_type": "code",
   "execution_count": null,
   "metadata": {},
   "outputs": [],
   "source": [
    "data = {\n",
    "    'instrument': 'US.CL',\n",
    "    'market':  'US',\n",
    "    # use default 'futures_months': [3, 6, 9, 12],\n",
    "    'ticksize': 0.01,\n",
    "    'tickvalue': 10.0,\n",
    "    'tickvalue_options': 10.0,\n",
    "    'ticksize_options': 0.01,\n",
    "    'trading_session': [\n",
    "        {'dt': datetime(1900, 1, 1), 'start': '05:00', 'decision': '11:10', 'execution': '11:15'}\n",
    "    ],\n",
    "}\n",
    "collection.replace_one({'instrument': data['instrument']}, data, upsert=True)"
   ]
  },
  {
   "cell_type": "code",
   "execution_count": null,
   "metadata": {},
   "outputs": [],
   "source": [
    "data = {\n",
    "    'instrument': 'US.6C',\n",
    "    'market':  'US',\n",
    "    # use default 'futures_months': [3, 6, 9, 12],\n",
    "    'ticksize': 0.0001,\n",
    "    'tickvalue': 10.0,\n",
    "    'tickvalue_options': 10.0,\n",
    "    'ticksize_options': 0.0001,\n",
    "    'trading_session': [\n",
    "        {'dt': datetime(1900, 1, 1), 'start': '05:00', 'decision': '10:25', 'execution': '10:30'}\n",
    "    ],\n",
    "}\n",
    "collection.replace_one({'instrument': data['instrument']}, data, upsert=True)"
   ]
  },
  {
   "cell_type": "code",
   "execution_count": null,
   "metadata": {},
   "outputs": [],
   "source": [
    "data = {\n",
    "    'instrument': 'US.HO',\n",
    "    'market':  'US',\n",
    "    # use default 'futures_months': [3, 6, 9, 12],\n",
    "    'ticksize': 0.0001,\n",
    "    'tickvalue': 4.2,\n",
    "    'tickvalue_options': 4.2,\n",
    "    'ticksize_options': 0.0001,\n",
    "    'trading_session': [\n",
    "        {'dt': datetime(1900, 1, 1), 'start': '05:00', 'decision': '10:25', 'execution': '10:30'}\n",
    "    ],\n",
    "}\n",
    "collection.replace_one({'instrument': data['instrument']}, data, upsert=True)"
   ]
  },
  {
   "cell_type": "code",
   "execution_count": null,
   "metadata": {},
   "outputs": [],
   "source": [
    "data = {\n",
    "    'instrument': 'US.RB',\n",
    "    'market':  'US',\n",
    "    # use default 'futures_months': [3, 6, 9, 12],\n",
    "    'ticksize': 0.0001,\n",
    "    'tickvalue': 4.2,\n",
    "    'tickvalue_options': 4.2,\n",
    "    'ticksize_options': 0.0001,\n",
    "    'trading_session': [\n",
    "        {'dt': datetime(1900, 1, 1), 'start': '05:00', 'decision': '10:25', 'execution': '10:30'}\n",
    "    ],\n",
    "}\n",
    "collection.replace_one({'instrument': data['instrument']}, data, upsert=True)"
   ]
  },
  {
   "cell_type": "code",
   "execution_count": null,
   "metadata": {},
   "outputs": [],
   "source": [
    "data = {\n",
    "    'instrument': 'US.ZN',\n",
    "    'market':  'US',\n",
    "    # use default 'futures_months': [3, 6, 9, 12],\n",
    "    'ticksize': 0.015625,\n",
    "    'tickvalue': 15.625,\n",
    "    'tickvalue_options': 15.625,\n",
    "    'ticksize_options': 0.015625,\n",
    "    'trading_session': [\n",
    "        {'dt': datetime(1900, 1, 1), 'start': '05:00', 'decision': '11:00', 'execution': '11:05'}\n",
    "    ],\n",
    "}\n",
    "collection.replace_one({'instrument': data['instrument']}, data, upsert=True)"
   ]
  },
  {
   "cell_type": "code",
   "execution_count": null,
   "metadata": {},
   "outputs": [],
   "source": [
    "info = collection.find_one({'instrument': 'US.$DEFAULT$'})"
   ]
  },
  {
   "cell_type": "code",
   "execution_count": null,
   "metadata": {},
   "outputs": [],
   "source": [
    "info_es = collection.find_one({'instrument': 'US.ES'})"
   ]
  },
  {
   "cell_type": "code",
   "execution_count": null,
   "metadata": {},
   "outputs": [],
   "source": [
    "info.update(info_es)"
   ]
  },
  {
   "cell_type": "code",
   "execution_count": null,
   "metadata": {},
   "outputs": [],
   "source": [
    "info"
   ]
  },
  {
   "cell_type": "code",
   "execution_count": null,
   "metadata": {},
   "outputs": [],
   "source": []
  },
  {
   "cell_type": "code",
   "execution_count": null,
   "metadata": {},
   "outputs": [],
   "source": []
  }
 ],
 "metadata": {
  "anaconda-cloud": {},
  "kernelspec": {
   "display_name": "Python 3",
   "language": "python",
   "name": "python3"
  },
  "language_info": {
   "codemirror_mode": {
    "name": "ipython",
    "version": 3
   },
   "file_extension": ".py",
   "mimetype": "text/x-python",
   "name": "python",
   "nbconvert_exporter": "python",
   "pygments_lexer": "ipython3",
   "version": "3.6.0"
  }
 },
 "nbformat": 4,
 "nbformat_minor": 1
}
