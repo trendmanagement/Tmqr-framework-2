{
 "cells": [
  {
   "cell_type": "code",
   "execution_count": 1,
   "metadata": {
    "collapsed": false
   },
   "outputs": [
    {
     "name": "stdout",
     "output_type": "stream",
     "text": [
      "Populating the interactive namespace from numpy and matplotlib\n"
     ]
    }
   ],
   "source": [
    "%load_ext autoreload\n",
    "%pylab inline"
   ]
  },
  {
   "cell_type": "code",
   "execution_count": 2,
   "metadata": {
    "collapsed": false
   },
   "outputs": [],
   "source": [
    "from pymongo import MongoClient\n",
    "import pymongo\n",
    "import sys\n",
    "from datetime import datetime"
   ]
  },
  {
   "cell_type": "code",
   "execution_count": 3,
   "metadata": {
    "collapsed": true
   },
   "outputs": [],
   "source": [
    "from tmqr.settings import *"
   ]
  },
  {
   "cell_type": "code",
   "execution_count": 4,
   "metadata": {
    "collapsed": false
   },
   "outputs": [
    {
     "data": {
      "text/plain": [
       "'instrument_1'"
      ]
     },
     "execution_count": 4,
     "metadata": {},
     "output_type": "execute_result"
    }
   ],
   "source": [
    "client = MongoClient(MONGO_CONNSTR)\n",
    "db = client[MONGO_DB]\n",
    "\n",
    "collection = db['asset_info']\n",
    "\n",
    "collection.create_index([('instrument', pymongo.ASCENDING)])"
   ]
  },
  {
   "cell_type": "markdown",
   "metadata": {},
   "source": [
    "## Exchange wide default settings"
   ]
  },
  {
   "cell_type": "code",
   "execution_count": 5,
   "metadata": {
    "collapsed": false
   },
   "outputs": [
    {
     "data": {
      "text/plain": [
       "<pymongo.results.UpdateResult at 0x7f3ad963b678>"
      ]
     },
     "execution_count": 5,
     "metadata": {},
     "output_type": "execute_result"
    }
   ],
   "source": [
    "data = {\n",
    "    \"instrument\": 'US.$DEFAULT$',\n",
    "    'market': 'US',\n",
    "    'rollover_days_before': 2,\n",
    "    'trading_session': [\n",
    "        {'dt': datetime(1900, 1, 1), 'start': '00:32', 'decision': '10:40', 'execution': '10:45'}\n",
    "    ],\n",
    "    'timezone': 'US/Pacific',\n",
    "    'ticksize': 1.0,\n",
    "    'tickvalue': 1.0,\n",
    "    'data_futures_src': SRC_INTRADAY,\n",
    "    'data_options_src': SRC_OPTIONS,\n",
    "}\n",
    "\n",
    "collection.replace_one({'instrument': data['instrument']}, data, upsert=True)"
   ]
  },
  {
   "cell_type": "code",
   "execution_count": 19,
   "metadata": {
    "collapsed": false
   },
   "outputs": [
    {
     "data": {
      "text/plain": [
       "<pymongo.results.UpdateResult at 0x7fabdeff3cf0>"
      ]
     },
     "execution_count": 19,
     "metadata": {},
     "output_type": "execute_result"
    }
   ],
   "source": [
    "data = {\n",
    "    'instrument': 'US.ES',\n",
    "    'market':  'US',\n",
    "    'futures_months': [3, 6, 9, 12],\n",
    "    'ticksize': 0.25,\n",
    "    'tickvalue': 12.5,\n",
    "}\n",
    "collection.replace_one({'instrument': data['instrument']}, data, upsert=True)"
   ]
  },
  {
   "cell_type": "code",
   "execution_count": 20,
   "metadata": {
    "collapsed": false
   },
   "outputs": [],
   "source": [
    "info = collection.find_one({'instrument': 'US.$DEFAULT$'})"
   ]
  },
  {
   "cell_type": "code",
   "execution_count": 21,
   "metadata": {
    "collapsed": true
   },
   "outputs": [],
   "source": [
    "info_es = collection.find_one({'instrument': 'US.ES'})"
   ]
  },
  {
   "cell_type": "code",
   "execution_count": 22,
   "metadata": {
    "collapsed": false
   },
   "outputs": [],
   "source": [
    "info.update(info_es)"
   ]
  },
  {
   "cell_type": "code",
   "execution_count": 23,
   "metadata": {
    "collapsed": false
   },
   "outputs": [
    {
     "data": {
      "text/plain": [
       "{'_id': ObjectId('58afed11cbf5ba39d96adeb6'),\n",
       " 'futures_months': [3, 6, 9, 12],\n",
       " 'instrument': 'US.ES',\n",
       " 'market': 'US',\n",
       " 'rollover_days_before': 2,\n",
       " 'ticksize': 0.25,\n",
       " 'tickvalue': 12.5,\n",
       " 'timezone': 'US/Pacific',\n",
       " 'trading_session': [{'decision': '10:40',\n",
       "   'dt': datetime.datetime(1900, 1, 1, 0, 0),\n",
       "   'execution': '10:45',\n",
       "   'start': '00:32'}]}"
      ]
     },
     "execution_count": 23,
     "metadata": {},
     "output_type": "execute_result"
    }
   ],
   "source": [
    "info\n"
   ]
  },
  {
   "cell_type": "code",
   "execution_count": null,
   "metadata": {
    "collapsed": true
   },
   "outputs": [],
   "source": []
  },
  {
   "cell_type": "code",
   "execution_count": null,
   "metadata": {
    "collapsed": true
   },
   "outputs": [],
   "source": []
  }
 ],
 "metadata": {
  "anaconda-cloud": {},
  "kernelspec": {
   "display_name": "Python [Root]",
   "language": "python",
   "name": "Python [Root]"
  },
  "language_info": {
   "codemirror_mode": {
    "name": "ipython",
    "version": 3
   },
   "file_extension": ".py",
   "mimetype": "text/x-python",
   "name": "python",
   "nbconvert_exporter": "python",
   "pygments_lexer": "ipython3",
   "version": "3.5.2"
  }
 },
 "nbformat": 4,
 "nbformat_minor": 0
}
