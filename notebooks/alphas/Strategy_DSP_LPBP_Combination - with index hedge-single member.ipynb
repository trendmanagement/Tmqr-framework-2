{
 "cells": [
  {
   "cell_type": "code",
   "execution_count": null,
   "metadata": {},
   "outputs": [],
   "source": [
    "%load_ext autoreload\n",
    "%autoreload 2\n",
    "%pylab inline"
   ]
  },
  {
   "cell_type": "code",
   "execution_count": null,
   "metadata": {},
   "outputs": [],
   "source": [
    "%load_ext Cython\n",
    "%load_ext line_profiler\n",
    "%load_ext memory_profiler"
   ]
  },
  {
   "cell_type": "markdown",
   "metadata": {},
   "source": [
    "## Import framework main libs"
   ]
  },
  {
   "cell_type": "code",
   "execution_count": null,
   "metadata": {},
   "outputs": [],
   "source": [
    "from tmqrfeed.manager import DataManager\n",
    "from tmqrstrategy.optimizers import OptimizerBase, OptimizerGenetic\n"
   ]
  },
  {
   "cell_type": "markdown",
   "metadata": {},
   "source": [
    "## Import strategy from module"
   ]
  },
  {
   "cell_type": "code",
   "execution_count": null,
   "metadata": {},
   "outputs": [],
   "source": [
    "from tmqralphas.strategy_dsp_lpbp_combination import Strategy_DSP_LPBP_Combination"
   ]
  },
  {
   "cell_type": "markdown",
   "metadata": {},
   "source": [
    "# Strategy inheritance trick!"
   ]
  },
  {
   "cell_type": "markdown",
   "metadata": {},
   "source": [
    "We inherited Strategy_DSP_LPBP_Combination strategy the logic remains the same, but position management in different."
   ]
  },
  {
   "cell_type": "code",
   "execution_count": null,
   "metadata": {},
   "outputs": [],
   "source": [
    "import pandas as pd\n",
    "from tmqrfeed.quotes import QuoteIndex\n",
    "from tmqr.logs import log\n",
    "from tmqr.errors import PositionNotFoundError\n",
    "\n",
    "\n",
    "class Strategy_DSP_LPBP_HedgedByIndex(Strategy_DSP_LPBP_Combination):\n",
    "    def setup(self):\n",
    "        # Call parent Strategy_DSP_LPBP_Combination.setup() -> tmqrstrategy.strategy_alpha.StrategyAlpha.setup()\n",
    "        super().setup()\n",
    "        \n",
    "        #\n",
    "        # We have to add index we wanted to hedge by\n",
    "        #\n",
    "        HEDGE_IDX_NAME = self.context['index_hedge_name']        \n",
    "        self.dm.series_extra_set('index_hedge', QuoteIndex, HEDGE_IDX_NAME, set_session=True, check_session=True)\n",
    "    \n",
    "    #\n",
    "    # This is exact copy/paste of souce code of tmqrstrategy.strategy_alpha.StrategyAlpha.calculate_position() method\n",
    "    #\n",
    "    def calculate_position(self, date: datetime, exposure_record: pd.DataFrame):\n",
    "        \"\"\"\n",
    "        This alpha just replicates EXO/SmartEXO index position\n",
    "\n",
    "\n",
    "        This method used for position construction based on exposure information returned from calculate(),\n",
    "        here you can initiate (replicate) EXO index position or setup any custom position you want.\n",
    "        \"\"\"\n",
    "        # Get the position of Quote algo (in this case current cont futures)\n",
    "        primary_quotes_position = self.dm.position()\n",
    "\n",
    "        # ALSO you can get secondary positions\n",
    "        # secondary_position = self.dm.position('CONTFUT')\n",
    "\n",
    "        # get net exposure for all members\n",
    "        # exposure_record - is a slice of exposures results of picked alphas at 'date'\n",
    "\n",
    "        # We are calling sum() because we have multiple records of 'exposure'\n",
    "        # 1-alpha member of best in the swarm per row\n",
    "        if 'exposure' not in exposure_record:\n",
    "            raise StrategyError(\n",
    "                \"'exposure_record' expected to have 'exposure' column, check alpha's calculate(...) method \"\n",
    "                \"to make sure that it returns valid pandas.DataFrame with exposure column or just check \"\n",
    "                \"for 'return self.exposure(...)' in the last line\")\n",
    "        exposure = exposure_record['exposure'].sum()\n",
    "\n",
    "        #\n",
    "        # Just replicate primary quotes position\n",
    "        #\n",
    "        replicated_pos = primary_quotes_position.get_net_position(date)\n",
    "        self.position.add_net_position(date, replicated_pos, qty=exposure)\n",
    "        \n",
    "        \n",
    "        #\n",
    "        # Do new position management magic here\n",
    "        #\n",
    "        index_hedge_position = self.dm.position('index_hedge')\n",
    "        try:\n",
    "            hedge_position_rec = index_hedge_position.get_net_position(date)\n",
    "            # Add index position as hedge\n",
    "            # NOTE: exposure - is a alpha's exporure of trade, when alpha is out of market\n",
    "            #                  exposure equals 0, this means that means no position and hedge\n",
    "            # NOTE: self.context['index_hedge_direction'] allowed 1, -1, or even 0 - i.e. no hedge\n",
    "            self.position.add_net_position(date, hedge_position_rec, qty=abs(exposure)*self.context['index_hedge_direction'])\n",
    "        except PositionNotFoundError as exc:\n",
    "            log.error(f\"Couldn't find hedged index position! {exc}\")\n",
    "            \n",
    "        #print(f'Exposure: {exposure}')\n",
    "        #print(self.position)\n",
    "        \n",
    "    "
   ]
  },
  {
   "cell_type": "code",
   "execution_count": null,
   "metadata": {},
   "outputs": [],
   "source": [
    "ALPHA_CONTEXT = {\n",
    "        'name': 'ES_NewStrategy_DSP_LPBP_Combination_With_IndexHedge', # Global alpha name, which be used for load/save from DB\n",
    "        'context': { # Strategy specific settings\n",
    "            # These settings only applycable for alphas derived from StrategyAlpha strategy \n",
    "            # StrategyAlpha - is a classic EXO/SmartEXO based alpha\n",
    "            'index_name': 'US.ES_ContFutEOD',      # Name of EXO index to trade\n",
    "            \n",
    "            # !!! NEW RECORD\n",
    "            'index_hedge_name': 'US.ES_EXOSpreadFixed', # Name of the index used for hedge\n",
    "            'index_hedge_direction':0, # ALLOWED 1, -1, or even 0 - i.e. no hedge\n",
    "            #\n",
    "            \n",
    "            'costs_per_option': 3.0,\n",
    "            'costs_per_contract': 3.0,\n",
    "        },\n",
    "        'wfo_params': {\n",
    "            'window_type': 'rolling',  # Rolling window for IIS values: rolling or expanding\n",
    "            'period': 'M',  # Period of rolling window 'M' - monthly or 'W' - weekly\n",
    "            'oos_periods': 3,  # Number of months is OOS period\n",
    "            'iis_periods': 12,\n",
    "            # Number of months in IIS rolling window (only applicable for 'window_type' == 'rolling')\n",
    "        },\n",
    "        'wfo_optimizer_class': OptimizerBase, \n",
    "        'wfo_optimizer_class_kwargs': {\n",
    "            'nbest_count': 1,\n",
    "            'nbest_fitness_method': 'max'\n",
    "        },\n",
    "          'wfo_opt_params': [\n",
    "                ('Direction', [1]),\n",
    "                ('LP order',[1,2,3,4,5,6,7,8,9]),\n",
    "                ('LP freq',[0.5982, 0.5924, 0.5937, 0.5938, 0.5908]), # 0 > f < 1\n",
    "                ('BP order',[0,1,2,3,4,5,6]),\n",
    "                ('BP start freq', [0.2986, 0.296, 0.297, 0.2944, 0.2995]),\n",
    "                ('BP stop freq',   [0.2514, 0.2548, 0.2535, 0.2569, 0.2509]),\n",
    "                ('BP multiplier',[-4, -3] ),\n",
    "                ('Rule index',   [2] ),                        \n",
    "            ],\n",
    "        'wfo_members_count': 1,\n",
    "        'wfo_costs_per_contract': 0.0,\n",
    "        'wfo_scoring_type': 'netprofit'\n",
    "    }"
   ]
  },
  {
   "cell_type": "markdown",
   "metadata": {},
   "source": [
    "# Run the alpha"
   ]
  },
  {
   "cell_type": "code",
   "execution_count": null,
   "metadata": {},
   "outputs": [],
   "source": [
    "# DataManager is a core class of the framework\n",
    "dm = DataManager()\n",
    "\n",
    "# Init alpha class and run\n",
    "alpha = Strategy_DSP_LPBP_HedgedByIndex(dm, **ALPHA_CONTEXT)    "
   ]
  },
  {
   "cell_type": "code",
   "execution_count": null,
   "metadata": {},
   "outputs": [],
   "source": [
    "alpha.run()"
   ]
  },
  {
   "cell_type": "markdown",
   "metadata": {},
   "source": [
    "# Equity"
   ]
  },
  {
   "cell_type": "code",
   "execution_count": null,
   "metadata": {},
   "outputs": [],
   "source": [
    "alpha.stats['series']['equity'].plot()"
   ]
  },
  {
   "cell_type": "markdown",
   "metadata": {},
   "source": [
    "# Position holdings"
   ]
  },
  {
   "cell_type": "markdown",
   "metadata": {},
   "source": [
    "#### Position hedge proof: alpha uses ES furues as primary position and options (from index position) as hedge"
   ]
  },
  {
   "cell_type": "code",
   "execution_count": null,
   "metadata": {},
   "outputs": [],
   "source": [
    "for asset, pos_rec in alpha.position.get_net_position(pd.Timestamp('2017-05-02 12:45:00-07:00')).items():\n",
    "    print(f'{asset} qty: {pos_rec[2]}')"
   ]
  },
  {
   "cell_type": "code",
   "execution_count": null,
   "metadata": {},
   "outputs": [],
   "source": []
  }
 ],
 "metadata": {
  "kernelspec": {
   "display_name": "Python 3",
   "language": "python",
   "name": "python3"
  },
  "language_info": {
   "codemirror_mode": {
    "name": "ipython",
    "version": 3
   },
   "file_extension": ".py",
   "mimetype": "text/x-python",
   "name": "python",
   "nbconvert_exporter": "python",
   "pygments_lexer": "ipython3",
   "version": "3.6.0"
  }
 },
 "nbformat": 4,
 "nbformat_minor": 2
}
