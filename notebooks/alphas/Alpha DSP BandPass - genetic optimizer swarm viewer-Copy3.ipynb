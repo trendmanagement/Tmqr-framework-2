{
 "cells": [
  {
   "cell_type": "code",
   "execution_count": null,
   "metadata": {},
   "outputs": [],
   "source": [
    "%load_ext autoreload\n",
    "%autoreload 2\n",
    "%pylab inline"
   ]
  },
  {
   "cell_type": "code",
   "execution_count": null,
   "metadata": {},
   "outputs": [],
   "source": [
    "%load_ext Cython\n",
    "%load_ext line_profiler\n",
    "%load_ext memory_profiler"
   ]
  },
  {
   "cell_type": "markdown",
   "metadata": {},
   "source": [
    "## Import framework main libs"
   ]
  },
  {
   "cell_type": "code",
   "execution_count": null,
   "metadata": {},
   "outputs": [],
   "source": [
    "from tmqrfeed.manager import DataManager\n",
    "from tmqrstrategy.optimizers import OptimizerBase, OptimizerGenetic\n",
    "import pandas as pd"
   ]
  },
  {
   "cell_type": "markdown",
   "metadata": {},
   "source": [
    "## Import strategy from module"
   ]
  },
  {
   "cell_type": "code",
   "execution_count": null,
   "metadata": {},
   "outputs": [],
   "source": [
    "from tmqralphas.strategy_dsp_bandpass import Strategy_DSP_BandPass"
   ]
  },
  {
   "cell_type": "code",
   "execution_count": null,
   "metadata": {},
   "outputs": [],
   "source": [
    "ALPHA_CONTEXT = {\n",
    "        'name': 'ES_NewFramework_DSP_BandPass', # Global alpha name, which be used for load/save from DB\n",
    "        'context': { # Strategy specific settings\n",
    "            # These settings only applycable for alphas derived from StrategyAlpha strategy \n",
    "            # StrategyAlpha - is a classic EXO/SmartEXO based alpha\n",
    "            'index_name': 'US.ES_ContFutEOD',      # Name of EXO index to trade\n",
    "            'costs_per_option': 3.0,\n",
    "            'costs_per_contract': 3.0,\n",
    "        },\n",
    "        'wfo_params': {\n",
    "            'window_type': 'expanding',  # Rolling window for IIS values: rolling or expanding\n",
    "            'period': 'W',  # Period of rolling window 'M' - monthly or 'W' - weekly\n",
    "            'oos_periods': 2,  # Number of months is OOS period\n",
    "            'iis_periods': 12,\n",
    "            # Number of months in IIS rolling window (only applicable for 'window_type' == 'rolling')\n",
    "        },\n",
    "        'wfo_optimizer_class': OptimizerBase, \n",
    "        'wfo_optimizer_class_kwargs': {\n",
    "            'nbest_count': 3,\n",
    "            'nbest_fitness_method': 'max',\n",
    "            'population_size': 10, \n",
    "            'number_generations': 3, \n",
    "            'rand_seed': 1, # Uncomment this parameter to make genetic results repeatable\n",
    "        },\n",
    "        'wfo_opt_params': [\n",
    "            ('direction', [-1]),\n",
    "            ('Filter order',  [3, 5, 4]),\n",
    "            ('Filter start freq', [0.5366, 0.4979, 0.4491, 0.4675, 0.5364]), # 0 > f < 1\n",
    "            ('Filter stop freq', [0.5511, 0.6529, 0.5595, 0.5406, 0.6116]), # 0 > f < 1\n",
    "            ('Filter sigma', [0.7413, 0.71, 0.7967, 0.7616, 0.7488]),\n",
    "            ('Rule index', [3, 2]),\n",
    "        ],\n",
    "        'wfo_members_count': 1,\n",
    "        'wfo_costs_per_contract': 0.0,\n",
    "        'wfo_scoring_type': 'modsharpe'\n",
    "    }"
   ]
  },
  {
   "cell_type": "markdown",
   "metadata": {},
   "source": [
    "# Run the alpha"
   ]
  },
  {
   "cell_type": "code",
   "execution_count": null,
   "metadata": {},
   "outputs": [],
   "source": [
    "# DataManager is a core class of the framework\n",
    "dm = DataManager()\n",
    "\n",
    "# Init alpha class and run\n",
    "alpha = Strategy_DSP_BandPass(dm, **ALPHA_CONTEXT)    "
   ]
  },
  {
   "cell_type": "code",
   "execution_count": null,
   "metadata": {},
   "outputs": [],
   "source": [
    "#alpha.setup()\n",
    "alpha.run()"
   ]
  },
  {
   "cell_type": "code",
   "execution_count": null,
   "metadata": {},
   "outputs": [],
   "source": [
    "alpha.stats['series']['equity'].plot()"
   ]
  },
  {
   "cell_type": "markdown",
   "metadata": {},
   "source": [
    "# Genetic optimizer swarms view"
   ]
  },
  {
   "cell_type": "code",
   "execution_count": null,
   "metadata": {},
   "outputs": [],
   "source": [
    "from tmqrstrategy.reports import GeneticSwarmViewer\n",
    "\n",
    "#\n",
    "# Replace compatible opt_params of the alpha here\n",
    "#\n",
    "'''opt_params = [\n",
    "            ('direction', [1]),\n",
    "            ('Filter order',  [2]),\n",
    "            ('Filter start freq', [0.8081, 0.8077, 0.809, 0.8211, 0.8085]), # 0 > f < 1\n",
    "            ('Filter stop freq', [0.4902, 0.4903, 0.4902, 0.4894, 0.4902]), # 0 > f < 1\n",
    "            ('Filter sigma', [0.5088, 0.5169, 0.5184, 0.646, 0.6539]),\n",
    "            ('Rule index', [2]),\n",
    "        ]\n",
    "'''\n",
    "#\n",
    "# OR JUST USE ALPHA_CONTEXT\n",
    "#\n",
    "# !!! Comment next line if you want to use manual opt_params settings above\n",
    "opt_params = ALPHA_CONTEXT['wfo_opt_params']\n",
    "\n",
    "gsv = GeneticSwarmViewer(alpha, opt_params,                          \n",
    "                         oos_period_ratio=0.5,    # OOS period as of % of full history\n",
    "                         nbest_count=1,         # Number of best swarm members to select\n",
    "                         population_size=10,     # Number of randomly selected swarm members per population\n",
    "                         number_generations=30)   # Number of generations of population\n",
    "\n",
    "gsv.run()\n",
    "\n",
    "# Set report graphs size\n",
    "figsize(7, 3)\n",
    "\n",
    "# Show report\n",
    "gsv.report()"
   ]
  },
  {
   "cell_type": "code",
   "execution_count": null,
   "metadata": {},
   "outputs": [],
   "source": [
    "gsv.df_full_swarm.shape"
   ]
  },
  {
   "cell_type": "code",
   "execution_count": null,
   "metadata": {},
   "outputs": [],
   "source": []
  },
  {
   "cell_type": "code",
   "execution_count": null,
   "metadata": {},
   "outputs": [],
   "source": [
    "for i in range(100):\n",
    "    print(uniform(0,1))"
   ]
  },
  {
   "cell_type": "code",
   "execution_count": null,
   "metadata": {},
   "outputs": [],
   "source": []
  }
 ],
 "metadata": {
  "kernelspec": {
   "display_name": "Python 3",
   "language": "python",
   "name": "python3"
  },
  "language_info": {
   "codemirror_mode": {
    "name": "ipython",
    "version": 3
   },
   "file_extension": ".py",
   "mimetype": "text/x-python",
   "name": "python",
   "nbconvert_exporter": "python",
   "pygments_lexer": "ipython3",
   "version": "3.6.0"
  }
 },
 "nbformat": 4,
 "nbformat_minor": 2
}
