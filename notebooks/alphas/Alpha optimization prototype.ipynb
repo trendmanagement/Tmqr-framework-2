{
 "cells": [
  {
   "cell_type": "code",
   "execution_count": null,
   "metadata": {},
   "outputs": [],
   "source": [
    "%load_ext autoreload\n",
    "%autoreload 2\n",
    "%pylab inline"
   ]
  },
  {
   "cell_type": "code",
   "execution_count": null,
   "metadata": {},
   "outputs": [],
   "source": [
    "%load_ext Cython\n",
    "%load_ext line_profiler\n",
    "%load_ext memory_profiler"
   ]
  },
  {
   "cell_type": "code",
   "execution_count": null,
   "metadata": {},
   "outputs": [],
   "source": [
    "from tmqrfeed.manager import DataManager\n",
    "from tmqrfeed.quotes.quote_contfut import QuoteContFut\n",
    "from tmqrfeed.costs import Costs\n",
    "from datetime import datetime\n",
    "import pandas as pd"
   ]
  },
  {
   "cell_type": "code",
   "execution_count": null,
   "metadata": {},
   "outputs": [],
   "source": [
    "dm = DataManager(date_start=datetime(2011, 6, 1))"
   ]
  },
  {
   "cell_type": "code",
   "execution_count": null,
   "metadata": {},
   "outputs": [],
   "source": [
    "dm.series_primary_set(QuoteContFut, 'US.ES',\n",
    "                      timeframe='D')\n",
    "dm.costs_set('US', Costs())"
   ]
  },
  {
   "cell_type": "code",
   "execution_count": null,
   "metadata": {},
   "outputs": [],
   "source": [
    "ohlc = dm.quotes()"
   ]
  },
  {
   "cell_type": "code",
   "execution_count": null,
   "metadata": {},
   "outputs": [],
   "source": [
    "dt = datetime(2017, 1, 1)"
   ]
  },
  {
   "cell_type": "code",
   "execution_count": null,
   "metadata": {},
   "outputs": [],
   "source": [
    "ohlc.index[ohlc.index > dt]"
   ]
  },
  {
   "cell_type": "code",
   "execution_count": null,
   "metadata": {},
   "outputs": [],
   "source": [
    "%%cython\n",
    "cimport cython\n",
    "import numpy as np\n",
    "import pandas as pd\n",
    "cimport numpy as np\n",
    "DTYPE_float = np.float\n",
    "ctypedef np.float64_t DTYPE_t_float\n",
    "ctypedef np.uint64_t DTYPE_t_uint64\n",
    "ctypedef np.uint8_t DTYPE_t_uint8\n",
    "from libc.math cimport abs, isnan\n",
    "import warnings\n",
    "\n",
    "np.import_array()\n",
    "\n",
    "def exposure(data,\n",
    "             np.ndarray[DTYPE_t_uint8, ndim=1, cast=True] entry_rule,\n",
    "             np.ndarray[DTYPE_t_uint8, ndim=1, cast=True] exit_rule,\n",
    "             int direction):\n",
    "    \"\"\"\n",
    "    Backtester routine calculate equity based on data['exo'] and entry/exit rules\n",
    "    :param data: raw data for backtesting\n",
    "    :param entry_rule: 1/0 array of entry points\n",
    "    :param exit_rule: 1/0 array of exit points\n",
    "    :param direction: Direction of trades, 1 - for long, -1 - for shorts\n",
    "    :return: tuple(pl, inposition)\n",
    "        pl - profit-loss inside a particular trade\n",
    "        inposition - 1/0 array indicating whether the EXO is in or out of the market at the end of the day\n",
    "    \"\"\"\n",
    "    cdef np.ndarray[DTYPE_t_float, ndim=1] price = data.values\n",
    "\n",
    "    cdef int inpos = 0\n",
    "    cdef int i = 0\n",
    "    cdef float pnl = 0.0\n",
    "    cdef float px = 0.0\n",
    "    cdef int barcount = price.shape[0]\n",
    "\n",
    "\n",
    "    cdef np.ndarray[DTYPE_t_float, ndim=1] pl = np.zeros(barcount)\n",
    "    cdef np.ndarray[DTYPE_t_uint8, ndim=1] inpositon = np.zeros(barcount, dtype=np.uint8)\n",
    "\n",
    "    for i in range(barcount):\n",
    "        if inpos == 0:\n",
    "            # We have a signal, let's open position\n",
    "            if entry_rule[i] == 1:\n",
    "                inpos = 1\n",
    "                inpositon[i] = 1\n",
    "            else:\n",
    "                inpositon[i] = 0\n",
    "\n",
    "        else:\n",
    "            # Calculate pl\n",
    "            if exit_rule[i] == 1:\n",
    "                inpos = 0\n",
    "                inpositon[i] = 0\n",
    "            else:\n",
    "                inpositon[i] = 1\n",
    "\n",
    "    return pd.Series(inpositon, index=data.index)\n",
    "\n",
    "def calc_costs(float transaction_costs,float rollover_costs, float prev_exp, float current_exp):\n",
    "    # If rollover occurred\n",
    "    cdef float _costs_value = 0.0\n",
    "    if rollover_costs != 0:\n",
    "        _costs_value += (-abs(rollover_costs) * abs(prev_exp))\n",
    "\n",
    "    _costs_value += (-abs(transaction_costs) * abs(prev_exp - current_exp))\n",
    "\n",
    "    return _costs_value\n",
    "\n",
    "\n",
    "@cython.cdivision(True)\n",
    "@cython.boundscheck(False)\n",
    "def score_netprofit(np.ndarray[DTYPE_t_float, ndim=1] price_series, \n",
    "                    exposure, \n",
    "                    costs=None):\n",
    "    # Calculate trade-by-trade payoffs\n",
    "    cdef float profit = 0.0\n",
    "    cdef int entry_i = -1\n",
    "\n",
    "    cdef np.ndarray[DTYPE_t_float, ndim=1] _price = price_series\n",
    "\n",
    "    try:\n",
    "        _exposure = exposure.values\n",
    "    except AttributeError:\n",
    "        _exposure = exposure\n",
    "\n",
    "    cdef int barcount = _price.shape[0]\n",
    "\n",
    "    cdef int i = 0\n",
    "    cdef int v = 0\n",
    "    cdef float _costs_value = 0.0\n",
    "    cdef float current_exp = 0.0\n",
    "    cdef float prev_exp = 0.0\n",
    "\n",
    "    cdef int has_costs = costs is not None\n",
    "\n",
    "\n",
    "    cdef np.ndarray[DTYPE_t_float, ndim=1] rollover_costs\n",
    "    cdef np.ndarray[DTYPE_t_float, ndim=1] transaction_costs\n",
    "\n",
    "    if has_costs:\n",
    "        transaction_costs = costs\n",
    "\n",
    "    for i in range(1, barcount):\n",
    "        # Calculate cumulative profit inside particular trade\n",
    "        current_exp = _exposure[i]\n",
    "        prev_exp = _exposure[i-1]\n",
    "\n",
    "        profit += (_price[i] - _price[i-1]) * prev_exp\n",
    "\n",
    "        # Apply transaction costs\n",
    "        if has_costs:\n",
    "            _costs_value = calc_costs(transaction_costs[i], 0, prev_exp, current_exp)\n",
    "            profit += _costs_value\n",
    "\n",
    "    return profit\n"
   ]
  },
  {
   "cell_type": "code",
   "execution_count": null,
   "metadata": {},
   "outputs": [],
   "source": [
    "from backtester.analysis import *\n",
    "\n",
    "class AlphaGeneric:\n",
    "    def __init__(self, dm):\n",
    "        self.dm = dm\n",
    "        \n",
    "    def calculate(self, *args, **kwargs):\n",
    "        direction = 1\n",
    "        period_slow, period_fast = args\n",
    "       \n",
    "        # Defining EXO price\n",
    "        px = self.dm.quotes()['c']\n",
    "\n",
    "        #\n",
    "        #\n",
    "        # Indicator calculation\n",
    "        #\n",
    "        #\n",
    "        slow_ma = px.rolling(period_slow).mean()\n",
    "        fast_ma = px.rolling(period_fast).mean()\n",
    "\n",
    "        # Enry/exit rules\n",
    "        entry_rule = CrossDown(fast_ma, slow_ma)\n",
    "        exit_rule = (CrossUp(fast_ma, slow_ma))\n",
    "        \n",
    "        return exposure(px, entry_rule.values, exit_rule.values, direction)\n",
    "    \n",
    "           \n",
    "        "
   ]
  },
  {
   "cell_type": "code",
   "execution_count": null,
   "metadata": {},
   "outputs": [],
   "source": [
    "a = AlphaGeneric(dm)"
   ]
  },
  {
   "cell_type": "code",
   "execution_count": null,
   "metadata": {},
   "outputs": [],
   "source": [
    "strategy_exposure = a.calculate(10, 5)"
   ]
  },
  {
   "cell_type": "code",
   "execution_count": null,
   "metadata": {},
   "outputs": [],
   "source": [
    "%%timeit\n",
    "score_netprofit(ohlc['c'].values, strategy_exposure.values)"
   ]
  },
  {
   "cell_type": "code",
   "execution_count": null,
   "metadata": {},
   "outputs": [],
   "source": [
    "import itertools\n",
    "from collections import OrderedDict"
   ]
  },
  {
   "cell_type": "code",
   "execution_count": null,
   "metadata": {},
   "outputs": [],
   "source": [
    "PARAMS = [\n",
    "    #('direction', [1, -1]),\n",
    "    ('period_fast', list(range(1, 50))),\n",
    "    ('period_slow', list(range(10, 200))),\n",
    "]"
   ]
  },
  {
   "cell_type": "markdown",
   "metadata": {},
   "source": [
    "# Brute force optimization"
   ]
  },
  {
   "cell_type": "code",
   "execution_count": null,
   "metadata": {},
   "outputs": [],
   "source": [
    "results = []\n",
    "for p in params_universe:\n",
    "    net_profit = a.eval_net_profit(p)\n",
    "    results.append({'rule': p, 'x': p[0], 'y': p[1], 'net_profit': net_profit[0]})\n",
    "    \n",
    "\n",
    "    "
   ]
  },
  {
   "cell_type": "code",
   "execution_count": null,
   "metadata": {},
   "outputs": [],
   "source": [
    "df = pd.DataFrame(results)# .sort_values('net_profit')"
   ]
  },
  {
   "cell_type": "code",
   "execution_count": null,
   "metadata": {},
   "outputs": [],
   "source": [
    "plt.scatter(df.x, df.y, s = 100,  c = df.net_profit, cmap = 'rainbow')\n",
    "c = plt.colorbar()\n",
    "#fig = plt.figure()\n",
    "#ax = fig.gca(projection='3d')\n",
    "##ax = fig.add_subplot(111, projection='3d')\n",
    "#ax.plot_surface(df.x, df.y, df.net_profit)"
   ]
  },
  {
   "cell_type": "code",
   "execution_count": null,
   "metadata": {},
   "outputs": [],
   "source": [
    "df.sort_values('net_profit').tail()"
   ]
  },
  {
   "cell_type": "code",
   "execution_count": null,
   "metadata": {},
   "outputs": [],
   "source": [
    "import numpy as np\n",
    "\n",
    "class GeneticGeneric:\n",
    "    def __init__(self, strategy_instance, params_list, **kwargs):\n",
    "        random.seed(kwargs.get('rand_seed', None))\n",
    "        \n",
    "        self.strategy = strategy_instance\n",
    "        self.params_list = params_list\n",
    "        self.params_universe = list(itertools.product(*[range(len(x[1])) for x in params_list]))\n",
    "        self.params_weights = [np.zeros((len(x[1]), 2)) for x in self.params_list]\n",
    "        \n",
    "    def mutate(self, individual, params_uni):\n",
    "        rnd_gene_idx = random.randint(0, len(individual)-1)        \n",
    "        new_gene = random.choice(params_uni)        \n",
    "\n",
    "        individual[rnd_gene_idx] = new_gene[rnd_gene_idx]\n",
    "\n",
    "        return individual,\n",
    "    \n",
    "    def mate(self, ind1, ind2):\n",
    "        return tools.cxOnePoint(ind1, ind2)\n",
    "    \n",
    "    def mate_strongest(self, ind1, ind2, pbstrongest=0.6):\n",
    "        def gene_weight(param_idx, gene_idx):\n",
    "            score_sum, score_cnt = self.params_weights[param_idx][gene_idx]\n",
    "            if score_cnt == 0:\n",
    "                return 0.0\n",
    "            else:\n",
    "                return score_sum/score_cnt\n",
    "        \n",
    "        for param_i, genes in enumerate(zip(ind1, ind2)):            \n",
    "            gene_ind1 = genes[0]\n",
    "            gene_ind2 = genes[1]\n",
    "            \n",
    "            if random.random() <= pbstrongest:\n",
    "                w1 = gene_weight(param_i, gene_ind1)                \n",
    "                w2 = gene_weight(param_i, gene_ind2)\n",
    "                \n",
    "                if w1 < w2:\n",
    "                    # Swap genes if ind2 has stronger gene than ind1\n",
    "                    tmp_gene = gene_ind1\n",
    "                    ind1[param_i] = gene_ind2\n",
    "                    ind2[param_i] = tmp_gene\n",
    "                    \n",
    "        return ind1, ind2        \n",
    "        \n",
    "    \n",
    "    def evaluate(self, individual):\n",
    "        args = [self.params_list[i][1][p] for i,p in enumerate(individual)]        \n",
    "        strategy_exposure = self.strategy.calculate(*args)\n",
    "        score = score_netprofit(self.strategy.dm.quotes()['c'].values, strategy_exposure.values)\n",
    "        \n",
    "        # Updating the weights\n",
    "        for i, p in enumerate(individual):\n",
    "            self.params_weights[i][p][0] += score\n",
    "            self.params_weights[i][p][1] += 1.0\n",
    "            \n",
    "        \n",
    "        return (score,)\n",
    "    \n",
    "    def run(self):\n",
    "        creator.create(\"FitnessMax\", base.Fitness, weights=(1.0,))\n",
    "        creator.create(\"Individual\", list, fitness=creator.FitnessMax)\n",
    "\n",
    "\n",
    "        toolbox = base.Toolbox()\n",
    "        toolbox.register(\"rules\", random.choice, self.params_universe)\n",
    "        toolbox.register(\"individual\", tools.initIterate, creator.Individual, toolbox.rules)\n",
    "        toolbox.register(\"population\", tools.initRepeat, list, toolbox.individual)\n",
    "\n",
    "\n",
    "        toolbox.register(\"evaluate\", self.evaluate)\n",
    "        #toolbox.register(\"mate\", self.mate)\n",
    "        toolbox.register(\"mate\", self.mate_strongest)\n",
    "        toolbox.register(\"mutate\", self.mutate,  params_uni=self.params_universe)\n",
    "        toolbox.register(\"select\", tools.selTournament, tournsize=5)\n",
    "        \n",
    "        pop = toolbox.population(n=200)\n",
    "        \n",
    "        stats = tools.Statistics(key=lambda ind: ind.fitness.values)\n",
    "        \n",
    "        stats.register(\"avg\", np.mean)\n",
    "        stats.register(\"std\", np.std)\n",
    "        stats.register(\"min\", np.min)\n",
    "        stats.register(\"max\", np.max)\n",
    "        #stats.register(\"cnt\", len)\n",
    "\n",
    "        self.hof = deap.tools.HallOfFame(10)\n",
    "        self.pop, self.logbook = algorithms.eaSimple(pop, toolbox, cxpb=0.5, mutpb=0.2, \n",
    "                             ngen=50, verbose=True, stats=stats, halloffame=self.hof)\n",
    "        \n",
    "    def plot(self):\n",
    "        gen = self.logbook.select(\"gen\")\n",
    "        fit_mins = self.logbook.select(\"min\")\n",
    "        size_avgs = self.logbook.select(\"avg\")\n",
    "\n",
    "        fig, ax1 = plt.subplots()\n",
    "        line1 = ax1.plot(gen, fit_mins, \"b-\", label=\"Minimum Fitness\")\n",
    "        ax1.set_xlabel(\"Generation\")\n",
    "        ax1.set_ylabel(\"Fitness\", color=\"b\")\n",
    "        for tl in ax1.get_yticklabels():\n",
    "            tl.set_color(\"b\")\n",
    "\n",
    "        ax2 = ax1.twinx()\n",
    "        line2 = ax2.plot(gen, size_avgs, \"r-\", label=\"Average Fitness\")\n",
    "        ax2.set_ylabel(\"Size\", color=\"r\")\n",
    "        for tl in ax2.get_yticklabels():\n",
    "            tl.set_color(\"r\")\n",
    "\n",
    "        lns = line1 + line2\n",
    "        labs = [l.get_label() for l in lns]\n",
    "        ax1.legend(lns, labs, loc=\"lower right\", frameon=True)\n",
    "\n",
    "        plt.show()"
   ]
  },
  {
   "cell_type": "code",
   "execution_count": null,
   "metadata": {},
   "outputs": [],
   "source": [
    "[(i, z) for i,z in enumerate(zip([1,2, 3], [3, 4, 5]))]"
   ]
  },
  {
   "cell_type": "code",
   "execution_count": null,
   "metadata": {},
   "outputs": [],
   "source": [
    "gen = GeneticGeneric(a, PARAMS) #, rand_seed=10)"
   ]
  },
  {
   "cell_type": "code",
   "execution_count": null,
   "metadata": {},
   "outputs": [],
   "source": [
    "\n",
    "gen.run()"
   ]
  },
  {
   "cell_type": "code",
   "execution_count": null,
   "metadata": {},
   "outputs": [],
   "source": [
    "for i, pwght in enumerate(gen.params_weights):\n",
    "    param_name = gen.params_list[i][0]\n",
    "    \n",
    "    avg = pwght[:, 0] / pwght[:, 1]\n",
    "    #print(avg)\n",
    "    \n",
    "    fig, ax = plt.subplots()\n",
    "    rects1 = ax.bar(gen.params_list[i][1], avg, 0.35, color='r')\n",
    "    \n",
    "    ax.set_ylabel('Scores')\n",
    "    ax.set_title(f'Mean scores by {param_name}')\n",
    "    "
   ]
  },
  {
   "cell_type": "markdown",
   "metadata": {},
   "source": [
    "# TODO: hall of fame optimization"
   ]
  },
  {
   "cell_type": "code",
   "execution_count": null,
   "metadata": {},
   "outputs": [],
   "source": [
    "gen.plot()\n"
   ]
  },
  {
   "cell_type": "code",
   "execution_count": null,
   "metadata": {},
   "outputs": [],
   "source": [
    "[x for x in gen.hof]"
   ]
  },
  {
   "cell_type": "code",
   "execution_count": null,
   "metadata": {},
   "outputs": [],
   "source": [
    "gen.pop"
   ]
  },
  {
   "cell_type": "code",
   "execution_count": null,
   "metadata": {},
   "outputs": [],
   "source": [
    "import calendar"
   ]
  },
  {
   "cell_type": "code",
   "execution_count": null,
   "metadata": {},
   "outputs": [],
   "source": [
    "calendar.monthcalendar(2017, 1)"
   ]
  },
  {
   "cell_type": "code",
   "execution_count": null,
   "metadata": {},
   "outputs": [],
   "source": [
    "from datetime import datetime"
   ]
  },
  {
   "cell_type": "code",
   "execution_count": null,
   "metadata": {},
   "outputs": [],
   "source": [
    "datetime.now().time()"
   ]
  },
  {
   "cell_type": "code",
   "execution_count": null,
   "metadata": {},
   "outputs": [],
   "source": [
    "datetime.combine()"
   ]
  },
  {
   "cell_type": "code",
   "execution_count": null,
   "metadata": {},
   "outputs": [],
   "source": [
    "from dateutil.rrule import rrule, MONTHLY, WEEKLY\n",
    "from datetime import datetime\n",
    "import pytz \n",
    "tz = pytz.UTC\n",
    "\n",
    "\n",
    "start_date = tz.localize(datetime(2017, 1, 1, 12, 45))\n",
    "list(rrule(freq=MONTHLY, count=4, dtstart=start_date + relativedelta(months=11), bysetpos=-1, byweekday=5, interval=12))"
   ]
  },
  {
   "cell_type": "code",
   "execution_count": null,
   "metadata": {},
   "outputs": [],
   "source": []
  },
  {
   "cell_type": "code",
   "execution_count": null,
   "metadata": {},
   "outputs": [],
   "source": [
    "from dateutil.relativedelta import relativedelta"
   ]
  },
  {
   "cell_type": "code",
   "execution_count": null,
   "metadata": {},
   "outputs": [],
   "source": [
    "start_date = tz.localize(datetime(2017, 1, 1, 12, 45)).date()\n",
    "end_date = tz.localize(datetime(2017, 5, 28, 12, 45)).date()\n",
    "\n",
    "d = relativedelta(end_date, start_date)"
   ]
  },
  {
   "cell_type": "code",
   "execution_count": null,
   "metadata": {},
   "outputs": [],
   "source": [
    "d.months + 2"
   ]
  },
  {
   "cell_type": "code",
   "execution_count": null,
   "metadata": {},
   "outputs": [],
   "source": [
    "start_date + relativedelta(month=4)"
   ]
  },
  {
   "cell_type": "code",
   "execution_count": null,
   "metadata": {},
   "outputs": [],
   "source": []
  }
 ],
 "metadata": {
  "kernelspec": {
   "display_name": "Python 3",
   "language": "python",
   "name": "python3"
  },
  "language_info": {
   "codemirror_mode": {
    "name": "ipython",
    "version": 3
   },
   "file_extension": ".py",
   "mimetype": "text/x-python",
   "name": "python",
   "nbconvert_exporter": "python",
   "pygments_lexer": "ipython3",
   "version": "3.6.0"
  }
 },
 "nbformat": 4,
 "nbformat_minor": 2
}
