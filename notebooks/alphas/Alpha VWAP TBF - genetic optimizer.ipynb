{
 "cells": [
  {
   "cell_type": "code",
   "execution_count": null,
   "metadata": {},
   "outputs": [],
   "source": [
    "%load_ext autoreload\n",
    "%autoreload 2\n",
    "%pylab inline"
   ]
  },
  {
   "cell_type": "code",
   "execution_count": null,
   "metadata": {},
   "outputs": [],
   "source": [
    "%load_ext Cython\n",
    "%load_ext line_profiler\n",
    "%load_ext memory_profiler"
   ]
  },
  {
   "cell_type": "markdown",
   "metadata": {},
   "source": [
    "## Import framework main libs"
   ]
  },
  {
   "cell_type": "code",
   "execution_count": null,
   "metadata": {},
   "outputs": [],
   "source": [
    "from tmqrfeed.manager import DataManager\n",
    "from tmqrstrategy.optimizers import OptimizerBase, OptimizerGenetic"
   ]
  },
  {
   "cell_type": "markdown",
   "metadata": {},
   "source": [
    "## Import strategy from module"
   ]
  },
  {
   "cell_type": "code",
   "execution_count": null,
   "metadata": {},
   "outputs": [],
   "source": [
    "from tmqralphas.strategy_dsp_bandpass import Strategy_DSP_BandPass"
   ]
  },
  {
   "cell_type": "code",
   "execution_count": null,
   "metadata": {},
   "outputs": [],
   "source": [
    "from tmqrstrategy import StrategyAlpha\n",
    "import pandas as pd\n",
    "import numpy as np\n",
    "\n",
    "\n",
    "def CrossUp(a, b):\n",
    "    \"\"\"\n",
    "    A crosses up B\n",
    "    \"\"\"\n",
    "    return (a.shift(1) < b.shift(1)) & (a > b)\n",
    "\n",
    "\n",
    "def CrossDown(a, b):\n",
    "    \"\"\"\n",
    "    A crosses down B\n",
    "    \"\"\"\n",
    "    return (a.shift(1) > b.shift(1)) & (a < b)\n",
    "\n",
    "\n",
    "class Strategy_VWAP_TBF(StrategyAlpha):\n",
    "    def calc_entryexit_rules(self, rolling_window_period, rule_index):\n",
    "        try:\n",
    "            exo_df = self.dm.quotes()\n",
    "        except KeyError:\n",
    "            # In case of index based quotes\n",
    "            raise Exception('Use only with ContFut!')\n",
    "            #px_ser = self.dm.quotes()['equity_decision']\n",
    "\n",
    "        high_rollingmax = exo_df.h.rolling(int(rolling_window_period)).max()\n",
    "        low_rollingmin = exo_df.l.rolling(int(rolling_window_period)).min()\n",
    "\n",
    "        topfinder_ser = pd.Series(index=exo_df.index)\n",
    "        botfinder_ser = pd.Series(index=exo_df.index)\n",
    "\n",
    "        highest_high = exo_df.h >= high_rollingmax\n",
    "        lowest_low = exo_df.l <= low_rollingmin\n",
    "\n",
    "        highest_high = highest_high[highest_high == True]\n",
    "        lowest_low = lowest_low[lowest_low == True]\n",
    "\n",
    "        for i in range(highest_high.size):\n",
    "            if highest_high[i] == True:\n",
    "                if i == 0:\n",
    "                    midas_close = (exo_df.h.ix[:highest_high.index[i]] + exo_df.l.ix[:highest_high.index[i]]) / 2\n",
    "                    midas_volume = exo_df.v.ix[:highest_high.index[i]]\n",
    "\n",
    "                    price_volume_onstart = pd.Series((midas_close[0] * midas_volume[0]), index=midas_close.index)\n",
    "                    volume_onstart = pd.Series(midas_volume[0], index=midas_close.index)\n",
    "\n",
    "                    midas_vwap = (((midas_close * midas_volume).cumsum() - price_volume_onstart) / \n",
    "                                  (midas_volume.cumsum() - volume_onstart))\n",
    "\n",
    "                    topfinder_ser[midas_vwap.index] = midas_vwap\n",
    "\n",
    "                else:\n",
    "                    midas_close = (exo_df.h.ix[highest_high.index[i-1]: highest_high.index[i]] + \n",
    "                                   exo_df.l.ix[highest_high.index[i-1]: highest_high.index[i]]) / 2\n",
    "\n",
    "                    midas_volume = exo_df.v.ix[highest_high.index[i-1]: highest_high.index[i]]\n",
    "\n",
    "                    price_volume_onstart = pd.Series((midas_close[0] * midas_volume[0]), index=midas_close.index)\n",
    "                    volume_onstart = pd.Series(midas_volume[0], index=midas_close.index)\n",
    "\n",
    "                    midas_vwap = (((midas_close * midas_volume).cumsum() - price_volume_onstart) / \n",
    "                                  (midas_volume.cumsum() - volume_onstart))\n",
    "\n",
    "\n",
    "                    topfinder_ser[midas_vwap.index] = midas_vwap\n",
    "\n",
    "\n",
    "        for i in range(lowest_low.size):\n",
    "            if lowest_low[i] == True:\n",
    "                if i == 0:\n",
    "                    midas_close = (exo_df.h.ix[:lowest_low.index[i]] + exo_df.l.ix[:lowest_low.index[i]]) / 2\n",
    "                    midas_volume = exo_df.v.ix[:lowest_low.index[i]]\n",
    "\n",
    "                    price_volume_onstart = pd.Series((midas_close[0] * midas_volume[0]), index=midas_close.index)\n",
    "                    volume_onstart = pd.Series(midas_volume[0], index=midas_close.index)\n",
    "\n",
    "                    midas_vwap = (((midas_close * midas_volume).cumsum() - price_volume_onstart) / \n",
    "                                  (midas_volume.cumsum() - volume_onstart))\n",
    "\n",
    "                    topfinder_ser[midas_vwap.index] = midas_vwap\n",
    "\n",
    "                else:\n",
    "                    midas_close = (exo_df.h.ix[lowest_low.index[i-1]: lowest_low.index[i]] + \n",
    "                                   exo_df.l.ix[lowest_low.index[i-1]: lowest_low.index[i]]) / 2\n",
    "\n",
    "                    midas_volume = exo_df.v.ix[lowest_low.index[i-1]: lowest_low.index[i]]\n",
    "\n",
    "                    price_volume_onstart = pd.Series((midas_close[0] * midas_volume[0]), index=midas_close.index)\n",
    "                    volume_onstart = pd.Series(midas_volume[0], index=midas_close.index)\n",
    "\n",
    "                    midas_vwap = (((midas_close * midas_volume).cumsum() - price_volume_onstart) / \n",
    "                                  (midas_volume.cumsum() - volume_onstart))\n",
    "\n",
    "\n",
    "                    botfinder_ser[midas_vwap.index] = midas_vwap\n",
    "\n",
    "        avg_hl_price = (exo_df.h + exo_df.l) / 2            \n",
    "        \n",
    "        if rule_index == 0:\n",
    "            entry_rule = CrossUp(avg_hl_price, topfinder_ser)\n",
    "            exit_rule = CrossDown(avg_hl_price, botfinder_ser)\n",
    "\n",
    "            return entry_rule, exit_rule\n",
    "\n",
    "\n",
    "    def calculate(self, *args):\n",
    "        (direction, rolling_window_period, rule_index) = args\n",
    "\n",
    "        entry_rule, exit_rule = self.calc_entryexit_rules(rolling_window_period, rule_index)\n",
    "        return self.exposure(entry_rule, exit_rule, direction)"
   ]
  },
  {
   "cell_type": "code",
   "execution_count": null,
   "metadata": {},
   "outputs": [],
   "source": [
    "ALPHA_CONTEXT = {\n",
    "        'name': 'ES_NewFramework_VWAP_TBF_Test', # Global alpha name, which be used for load/save from DB\n",
    "        'context': { # Strategy specific settings\n",
    "            # These settings only applycable for alphas derived from StrategyAlpha strategy \n",
    "            # StrategyAlpha - is a classic EXO/SmartEXO based alpha\n",
    "            'index_name': 'US.ES_ContFutEOD',      # Name of EXO index to trade\n",
    "            'costs_per_option': 3.0,\n",
    "            'costs_per_contract': 3.0,\n",
    "        },\n",
    "        'wfo_params': {\n",
    "            'window_type': 'rolling',  # Rolling window for IIS values: rolling or expanding\n",
    "            'period': 'M',  # Period of rolling window 'M' - monthly or 'W' - weekly\n",
    "            'oos_periods': 2,  # Number of months is OOS period\n",
    "            'iis_periods': 12,\n",
    "            # Number of months in IIS rolling window (only applicable for 'window_type' == 'rolling')\n",
    "        },\n",
    "        'wfo_optimizer_class': OptimizerGenetic, \n",
    "        'wfo_optimizer_class_kwargs': {\n",
    "            'nbest_count': 3,\n",
    "            'nbest_fitness_method': 'max',\n",
    "            'population_size': 10, \n",
    "            'number_generations': 3, \n",
    "            # 'rand_seed': 1, # Uncomment this parameter to make genetic results repeatable\n",
    "        },\n",
    "        'wfo_opt_params': [\n",
    "            ('direction', [1]),\n",
    "            ('Rolling Window Period',  list(np.arange(10,200,10))),\n",
    "            ('Rule index', [0]),\n",
    "        ],\n",
    "        'wfo_members_count': 1,\n",
    "        'wfo_costs_per_contract': 0.0,\n",
    "        'wfo_scoring_type': 'modsharpe'\n",
    "    }"
   ]
  },
  {
   "cell_type": "code",
   "execution_count": null,
   "metadata": {},
   "outputs": [],
   "source": [
    "list(np.arange(10,200,50))"
   ]
  },
  {
   "cell_type": "code",
   "execution_count": null,
   "metadata": {},
   "outputs": [],
   "source": []
  },
  {
   "cell_type": "markdown",
   "metadata": {},
   "source": [
    "# Run the alpha"
   ]
  },
  {
   "cell_type": "code",
   "execution_count": null,
   "metadata": {},
   "outputs": [],
   "source": [
    "# DataManager is a core class of the framework\n",
    "dm = DataManager()\n",
    "\n",
    "# Init alpha class and run\n",
    "alpha = Strategy_VWAP_TBF(dm, **ALPHA_CONTEXT)    "
   ]
  },
  {
   "cell_type": "code",
   "execution_count": null,
   "metadata": {},
   "outputs": [],
   "source": [
    "alpha.run()"
   ]
  },
  {
   "cell_type": "markdown",
   "metadata": {},
   "source": [
    "# Equity"
   ]
  },
  {
   "cell_type": "code",
   "execution_count": null,
   "metadata": {},
   "outputs": [],
   "source": [
    "alpha.stats['series']['equity'].plot();"
   ]
  },
  {
   "cell_type": "code",
   "execution_count": null,
   "metadata": {},
   "outputs": [],
   "source": [
    "type(alpha.stats)"
   ]
  },
  {
   "cell_type": "code",
   "execution_count": null,
   "metadata": {},
   "outputs": [],
   "source": [
    "alpha.stats['series']['costs'].cumsum().plot()"
   ]
  },
  {
   "cell_type": "code",
   "execution_count": null,
   "metadata": {},
   "outputs": [],
   "source": []
  },
  {
   "cell_type": "code",
   "execution_count": null,
   "metadata": {},
   "outputs": [],
   "source": []
  }
 ],
 "metadata": {
  "kernelspec": {
   "display_name": "Python 3",
   "language": "python",
   "name": "python3"
  },
  "language_info": {
   "codemirror_mode": {
    "name": "ipython",
    "version": 3
   },
   "file_extension": ".py",
   "mimetype": "text/x-python",
   "name": "python",
   "nbconvert_exporter": "python",
   "pygments_lexer": "ipython3",
   "version": "3.6.0"
  }
 },
 "nbformat": 4,
 "nbformat_minor": 2
}
