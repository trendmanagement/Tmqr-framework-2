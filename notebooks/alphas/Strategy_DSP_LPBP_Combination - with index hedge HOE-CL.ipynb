{
 "cells": [
  {
   "cell_type": "code",
   "execution_count": null,
   "metadata": {},
   "outputs": [],
   "source": [
    "%load_ext autoreload\n",
    "%autoreload 2\n",
    "%pylab inline"
   ]
  },
  {
   "cell_type": "code",
   "execution_count": null,
   "metadata": {},
   "outputs": [],
   "source": [
    "%load_ext Cython\n",
    "%load_ext line_profiler\n",
    "%load_ext memory_profiler"
   ]
  },
  {
   "cell_type": "markdown",
   "metadata": {},
   "source": [
    "## Import framework main libs"
   ]
  },
  {
   "cell_type": "code",
   "execution_count": null,
   "metadata": {},
   "outputs": [],
   "source": [
    "from tmqrfeed.manager import DataManager\n",
    "from tmqrstrategy.optimizers import OptimizerBase, OptimizerGenetic\n"
   ]
  },
  {
   "cell_type": "markdown",
   "metadata": {},
   "source": [
    "## Import strategy from module"
   ]
  },
  {
   "cell_type": "code",
   "execution_count": null,
   "metadata": {},
   "outputs": [],
   "source": [
    "from tmqralphas.strategy_dsp_lpbp_combination import Strategy_DSP_LPBP_Combination"
   ]
  },
  {
   "cell_type": "markdown",
   "metadata": {},
   "source": [
    "# Strategy inheritance trick!"
   ]
  },
  {
   "cell_type": "markdown",
   "metadata": {},
   "source": [
    "We inherited Strategy_DSP_LPBP_Combination strategy the logic remains the same, but position management in different."
   ]
  },
  {
   "cell_type": "code",
   "execution_count": null,
   "metadata": {},
   "outputs": [],
   "source": [
    "import pandas as pd\n",
    "from tmqrfeed.quotes import QuoteIndex\n",
    "from tmqr.logs import log\n",
    "from tmqr.errors import PositionNotFoundError\n",
    "\n",
    "\n",
    "class Strategy_DSP_LPBP_HedgedByIndex(Strategy_DSP_LPBP_Combination):\n",
    "    def setup(self):\n",
    "        # Call parent Strategy_DSP_LPBP_Combination.setup() -> tmqrstrategy.strategy_alpha.StrategyAlpha.setup()\n",
    "        super().setup()\n",
    "        \n",
    "        #\n",
    "        # We have to add index we wanted to hedge by\n",
    "        #        \n",
    "        \n",
    "        HEDGE_IDX_NAME = self.context['index_hedge_name']        \n",
    "        self.dm.series_extra_set('index_hedge', QuoteIndex, HEDGE_IDX_NAME, set_session=True, check_session=True)\n",
    "        \n",
    "        #\n",
    "        # Pre-calculate hedge ratios\n",
    "        #\n",
    "        try:\n",
    "            primary_quotes = self.dm.quotes()['c']\n",
    "\n",
    "            # Adjusting primary quotes to dollars for raw future prices (in case of Continuous future EXO)\n",
    "            instrument_name = self.context['index_name'].split('_')[0]\n",
    "            \n",
    "            instrument_info = self.dm.instrument_info_get(instrument_name)\n",
    "            instrument_point_value = 1.0 / instrument_info.ticksize * instrument_info.tickvalue\n",
    "            \n",
    "            primary_quotes *= instrument_point_value\n",
    "        except KeyError:\n",
    "            # Use RAW EXO prices because they are already in dollars!\n",
    "            primary_quotes = self.dm.quotes()['equity_decision']\n",
    "            \n",
    "        try:\n",
    "            secondary_quotes = self.dm.quotes('index_hedge')['c']\n",
    "            \n",
    "            # Adjusting hedge index quotes to dollars for raw future prices (in case of Continuous future EXO)\n",
    "            instrument_name = HEDGE_IDX_NAME.split('_')[0]\n",
    "            \n",
    "            instrument_info = self.dm.instrument_info_get(instrument_name)\n",
    "            instrument_point_value = 1.0 / instrument_info.ticksize * instrument_info.tickvalue\n",
    "            \n",
    "            secondary_quotes *= instrument_point_value\n",
    "        except KeyError:\n",
    "            # Use RAW EXO prices because they are already in dollars!\n",
    "            secondary_quotes = self.dm.quotes('index_hedge')['equity_decision']\n",
    "        \n",
    "        hedge_type = self.context.get('hedge_type', '')\n",
    "        hedge_window = self.context.get('hedge_window', None)\n",
    "\n",
    "        if hedge_type == 'vola':\n",
    "            # Volatility based hedging\n",
    "            primary_usd_vola = (primary_quotes.diff()).rolling(hedge_window).std()\n",
    "            secondary_usd_vola = (secondary_quotes.diff()).rolling(hedge_window).std()\n",
    "\n",
    "            # Calculating USD value ratio per 10 contracts        \n",
    "            self.hedge_ratio = primary_usd_vola / secondary_usd_vola\n",
    "        elif hedge_type == 'beta':\n",
    "            # Beta based hedging\n",
    "            rets_primary = primary_quotes.diff()\n",
    "            rets_secondary = secondary_quotes.diff()\n",
    "\n",
    "            sigma_primary = rets_primary.rolling(hedge_window).std()\n",
    "            sigma_secondary = rets_secondary.rolling(hedge_window).std()\n",
    "\n",
    "            cor = rets_primary.rolling(hedge_window).corr(rets_secondary)\n",
    "\n",
    "            # Calculating hedge ratio, i.e. BETA = Correlation(A, B) * (StDev(A) / StDev(B))\n",
    "            self.hedge_ratio = cor * (sigma_primary / sigma_secondary)\n",
    "        else:\n",
    "            raise SettingsError(f\"Unexpected hedge type: '{hedge_type}', only 'vola' and 'beta' allowed\")\n",
    "    \n",
    "    #\n",
    "    # This is exact copy/paste of souce code of tmqrstrategy.strategy_alpha.StrategyAlpha.calculate_position() method\n",
    "    #\n",
    "    def calculate_position(self, date: datetime, exposure_record: pd.DataFrame):\n",
    "        \"\"\"\n",
    "        This alpha just replicates EXO/SmartEXO index position\n",
    "\n",
    "\n",
    "        This method used for position construction based on exposure information returned from calculate(),\n",
    "        here you can initiate (replicate) EXO index position or setup any custom position you want.\n",
    "        \"\"\"\n",
    "        # Get the position of Quote algo (in this case current cont futures)\n",
    "        primary_quotes_position = self.dm.position()\n",
    "\n",
    "        # ALSO you can get secondary positions\n",
    "        # secondary_position = self.dm.position('CONTFUT')\n",
    "\n",
    "        # get net exposure for all members\n",
    "        # exposure_record - is a slice of exposures results of picked alphas at 'date'\n",
    "\n",
    "        # We are calling sum() because we have multiple records of 'exposure'\n",
    "        # 1-alpha member of best in the swarm per row\n",
    "        if 'exposure' not in exposure_record:\n",
    "            raise StrategyError(\n",
    "                \"'exposure_record' expected to have 'exposure' column, check alpha's calculate(...) method \"\n",
    "                \"to make sure that it returns valid pandas.DataFrame with exposure column or just check \"\n",
    "                \"for 'return self.exposure(...)' in the last line\")\n",
    "        exposure = exposure_record['exposure'].sum()\n",
    "\n",
    "        #\n",
    "        # Just replicate primary quotes position\n",
    "        #\n",
    "        replicated_pos = primary_quotes_position.get_net_position(date)\n",
    "        self.position.add_net_position(date, replicated_pos, qty=exposure)\n",
    "        \n",
    "        \n",
    "        #\n",
    "        # Do new position management magic here\n",
    "        #\n",
    "        index_hedge_position = self.dm.position('index_hedge')\n",
    "        try:\n",
    "            hedge_position_rec = index_hedge_position.get_net_position(date)\n",
    "            \n",
    "            hedge_ratio = self.hedge_ratio.loc[date]\n",
    "            \n",
    "            if math.isnan(hedge_ratio) or hedge_ratio == 0:\n",
    "                # Skipping 'NaN' hedge ratios (usualy days before full hedge_window)\n",
    "                log.debug(f\"{date}: Skipping 'NaN' or zero hedge ratios\")\n",
    "                return\n",
    "            \n",
    "            hedge_size = round(abs(exposure)*hedge_ratio*self.context['index_hedge_direction'])\n",
    "            \n",
    "            # Add index position as hedge\n",
    "            # NOTE: exposure - is a alpha's exporure of trade, when alpha is out of market\n",
    "            #                  exposure equals 0, this means that means no position and hedge\n",
    "            # NOTE: self.context['index_hedge_direction'] allowed 1, -1, or even 0 - i.e. no hedge\n",
    "            self.position.add_net_position(date, hedge_position_rec, qty=hedge_size)\n",
    "        except PositionNotFoundError as exc:\n",
    "            log.error(f\"Couldn't find hedged index position! {exc}\")\n",
    "            \n",
    "        #print(f'Exposure: {exposure}')\n",
    "        #print(self.position)\n",
    "        \n",
    "    "
   ]
  },
  {
   "cell_type": "code",
   "execution_count": null,
   "metadata": {},
   "outputs": [],
   "source": [
    "ALPHA_CONTEXT = {\n",
    "        'name': 'HO_NewStrategy_DSP_LPBP_Combination_With_IndexHedge', # Global alpha name, which be used for load/save from DB\n",
    "        'context': { # Strategy specific settings\n",
    "            # These settings only applycable for alphas derived from StrategyAlpha strategy \n",
    "            # StrategyAlpha - is a classic EXO/SmartEXO based alpha\n",
    "            'index_name': 'US.HO-US.CL_EXOSpreadHedged',      # Name of EXO index to trade\n",
    "            \n",
    "            # !!! NEW RECORD\n",
    "            'index_hedge_name': 'US.CL_EXOSemiFuture_Delta25', # Name of the index used for hedge\n",
    "            'index_hedge_direction': 0, # ALLOWED 1, -1, or even 0 - i.e. no hedge\n",
    "            'hedge_type': 'beta', # 'vola' - stdev(returns) volatility hedge, 'beta' - Beta coef. hedge,\n",
    "            'hedge_window': 200,  # number of periods to calculate hedge coef. \n",
    "            #\n",
    "            \n",
    "            'costs_per_option': 3.0,\n",
    "            'costs_per_contract': 3.0,\n",
    "        },\n",
    "        'wfo_params': {\n",
    "            'window_type': 'rolling',  # Rolling window for IIS values: rolling or expanding\n",
    "            'period': 'M',  # Period of rolling window 'M' - monthly or 'W' - weekly\n",
    "            'oos_periods': 12,  # Number of months is OOS period\n",
    "            'iis_periods': 4,\n",
    "            # Number of months in IIS rolling window (only applicable for 'window_type' == 'rolling')\n",
    "        },\n",
    "        'wfo_optimizer_class': OptimizerGenetic, \n",
    "        'wfo_optimizer_class_kwargs': {\n",
    "            'nbest_count': 1,\n",
    "            'nbest_fitness_method': 'max',\n",
    "            'population_size': 15, \n",
    "            'number_generations': 2, \n",
    "            'rand_seed': 1, # Uncomment this parameter to make genetic results repeatable\n",
    "        },\n",
    "        'wfo_opt_params': [\n",
    "                ('Direction', [1]),\n",
    "                ('LP order',[2]),\n",
    "                ('LP freq',[0.5982, 0.5924, 0.5937, 0.5938, 0.5908]), # 0 > f < 1\n",
    "                ('BP order',[12]),\n",
    "                ('BP start freq', [0.1986]),\n",
    "                ('BP stop freq',   [0.2]),\n",
    "                ('BP multiplier',[-4, -3] ),\n",
    "                ('Rule index',   [3] ),                        \n",
    "            ],\n",
    "        'wfo_members_count': 1,\n",
    "        'wfo_costs_per_contract': 0.0,\n",
    "        'wfo_scoring_type': 'netprofit'\n",
    "    }"
   ]
  },
  {
   "cell_type": "markdown",
   "metadata": {},
   "source": [
    "# Run the alpha"
   ]
  },
  {
   "cell_type": "code",
   "execution_count": null,
   "metadata": {},
   "outputs": [],
   "source": [
    "# DataManager is a core class of the framework\n",
    "dm = DataManager()\n",
    "\n",
    "# Init alpha class and run\n",
    "alpha = Strategy_DSP_LPBP_HedgedByIndex(dm, **ALPHA_CONTEXT)    "
   ]
  },
  {
   "cell_type": "code",
   "execution_count": null,
   "metadata": {},
   "outputs": [],
   "source": [
    "alpha.run()"
   ]
  },
  {
   "cell_type": "markdown",
   "metadata": {},
   "source": [
    "# Equity"
   ]
  },
  {
   "cell_type": "code",
   "execution_count": null,
   "metadata": {},
   "outputs": [],
   "source": [
    "alpha.stats['series']['equity'].plot()"
   ]
  },
  {
   "cell_type": "markdown",
   "metadata": {},
   "source": [
    "# Hedging information\n"
   ]
  },
  {
   "cell_type": "markdown",
   "metadata": {},
   "source": [
    "### Hedge ratios"
   ]
  },
  {
   "cell_type": "code",
   "execution_count": null,
   "metadata": {},
   "outputs": [],
   "source": [
    "alpha.hedge_ratio.plot()"
   ]
  },
  {
   "cell_type": "markdown",
   "metadata": {},
   "source": [
    "### Index hedge price"
   ]
  },
  {
   "cell_type": "code",
   "execution_count": null,
   "metadata": {},
   "outputs": [],
   "source": [
    "alpha.dm.quotes('index_hedge')['equity_decision'].plot()"
   ]
  },
  {
   "cell_type": "markdown",
   "metadata": {},
   "source": [
    "# Position holdings"
   ]
  },
  {
   "cell_type": "markdown",
   "metadata": {},
   "source": [
    "#### Position hedge proof: alpha uses ES furues as primary position and options (from index position) as hedge"
   ]
  },
  {
   "cell_type": "code",
   "execution_count": null,
   "metadata": {},
   "outputs": [],
   "source": [
    "for dt, pos_rec in alpha.position._position.items():\n",
    "    print(f'\\n{dt}')\n",
    "    for asset, rec in pos_rec.items():\n",
    "        print('\\t{0:<50} {1:>5g}'.format(str(asset), rec[2]))"
   ]
  },
  {
   "cell_type": "code",
   "execution_count": null,
   "metadata": {},
   "outputs": [],
   "source": []
  }
 ],
 "metadata": {
  "kernelspec": {
   "display_name": "Python 3",
   "language": "python",
   "name": "python3"
  },
  "language_info": {
   "codemirror_mode": {
    "name": "ipython",
    "version": 3
   },
   "file_extension": ".py",
   "mimetype": "text/x-python",
   "name": "python",
   "nbconvert_exporter": "python",
   "pygments_lexer": "ipython3",
   "version": "3.6.0"
  }
 },
 "nbformat": 4,
 "nbformat_minor": 2
}
