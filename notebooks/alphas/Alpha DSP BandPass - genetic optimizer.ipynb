{
 "cells": [
  {
   "cell_type": "code",
   "execution_count": null,
   "metadata": {},
   "outputs": [],
   "source": [
    "%load_ext autoreload\n",
    "%autoreload 2\n",
    "%pylab inline"
   ]
  },
  {
   "cell_type": "code",
   "execution_count": null,
   "metadata": {},
   "outputs": [],
   "source": [
    "%load_ext Cython\n",
    "%load_ext line_profiler\n",
    "%load_ext memory_profiler"
   ]
  },
  {
   "cell_type": "markdown",
   "metadata": {},
   "source": [
    "## Import framework main libs"
   ]
  },
  {
   "cell_type": "code",
   "execution_count": null,
   "metadata": {},
   "outputs": [],
   "source": [
    "from tmqrfeed.manager import DataManager\n",
    "from tmqrstrategy.optimizers import OptimizerBase, OptimizerGenetic\n"
   ]
  },
  {
   "cell_type": "markdown",
   "metadata": {},
   "source": [
    "## Import strategy from module"
   ]
  },
  {
   "cell_type": "code",
   "execution_count": null,
   "metadata": {},
   "outputs": [],
   "source": [
    "from tmqralphas.strategy_dsp_bandpass import Strategy_DSP_BandPass"
   ]
  },
  {
   "cell_type": "markdown",
   "metadata": {},
   "source": [
    "## How to port old strategy code to the new framework\n",
    "\n",
    "[Strategy_DSP_BandPass changes on the GitHub (difference)](https://github.com/trendmanagement/Tmqr-framework-2/commit/5ea55ae6c278d2d3d5d467df8a553b2139c97bc9#diff-090ba08782479b6b92ffe93d6fe6e167)\n",
    "\n",
    "[New code](https://github.com/trendmanagement/Tmqr-framework-2/blob/5ea55ae6c278d2d3d5d467df8a553b2139c97bc9/tmqralphas/strategy_dsp_bandpass.py)\n",
    "\n",
    "[Old code](https://github.com/trendmanagement/tmqrexo_alexveden/blob/new_mongo/strategies/strategy_dsp_bandpass.py)"
   ]
  },
  {
   "cell_type": "markdown",
   "metadata": {},
   "source": [
    "### How to convert old opt_params to the new format\n",
    "\n",
    "#### Old version\n",
    "    'opt_params': [\n",
    "                            OptParamArray('Direction', [-1]),\n",
    "                            OptParamArray('Filter order',  [3]),\n",
    "                            OptParamArray('Filter start freq', [0.8878, 0.8881, 0.8889]), # 0 > f < 1\n",
    "                            OptParamArray('Filter stop freq', [0.7166, 0.7131, 0.6335]), # 0 > f < 1\n",
    "                            OptParamArray('Filter sigma', [0.8111, 0.8022, 0.8127]),\n",
    "                            OptParamArray('Rule index', [0]),\n",
    "\n",
    "                ],\n",
    "    \n",
    "#### New version\n",
    "**Just copy/paste** text after OptParamArray, and keep the params order!\n",
    "\n",
    "    'wfo_opt_params': [\n",
    "        ('direction', [-1]),\n",
    "        ('Filter order',  [3]),\n",
    "        ('Filter start freq', [0.8878, 0.8881, 0.8889]), # 0 > f < 1\n",
    "        ('Filter stop freq', [0.7166, 0.7131, 0.6335]), # 0 > f < 1\n",
    "        ('Filter sigma', [0.8111, 0.8022, 0.8127]),\n",
    "        ('Rule index', [0]),\n",
    "    ]"
   ]
  },
  {
   "cell_type": "code",
   "execution_count": null,
   "metadata": {},
   "outputs": [],
   "source": [
    "ALPHA_CONTEXT = {\n",
    "        'name': '6C_NewFramework_DSP_BandPass', # Global alpha name, which be used for load/save from DB\n",
    "        'context': { # Strategy specific settings\n",
    "            # These settings only applycable for alphas derived from StrategyAlpha strategy \n",
    "            # StrategyAlpha - is a classic EXO/SmartEXO based alpha\n",
    "            'index_name': 'US.6C_ContFutEOD',      # Name of EXO index to trade\n",
    "            'costs_per_option': 3.0,\n",
    "            'costs_per_contract': 3.0,\n",
    "        },\n",
    "        'wfo_params': {\n",
    "            'window_type': 'rolling',  # Rolling window for IIS values: rolling or expanding\n",
    "            'period': 'M',  # Period of rolling window 'M' - monthly or 'W' - weekly\n",
    "            'oos_periods': 2,  # Number of months is OOS period\n",
    "            'iis_periods': 12,\n",
    "            # Number of months in IIS rolling window (only applicable for 'window_type' == 'rolling')\n",
    "        },\n",
    "        'wfo_optimizer_class': OptimizerGenetic, \n",
    "        'wfo_optimizer_class_kwargs': {\n",
    "            'nbest_count': 5,\n",
    "            'nbest_fitness_method': 'max',\n",
    "            'population_size': 50, \n",
    "            'number_generations': 30, \n",
    "            # 'rand_seed': 1, # Uncomment this parameter to make genetic results repeatable\n",
    "        },\n",
    "        'wfo_opt_params': [\n",
    "            ('direction', [1]),\n",
    "            ('Filter order',  [3]),\n",
    "            ('Filter start freq', [0.8878, 0.8881, 0.8889]), # 0 > f < 1\n",
    "            ('Filter stop freq', [0.7166, 0.7131, 0.6335]), # 0 > f < 1\n",
    "            ('Filter sigma', [0.8111, 0.8022, 0.8127]),\n",
    "            ('Rule index', [0]),\n",
    "        ],\n",
    "        'wfo_members_count': 1,\n",
    "        'wfo_costs_per_contract': 0.0,\n",
    "        'wfo_scoring_type': 'netprofit'\n",
    "    }"
   ]
  },
  {
   "cell_type": "markdown",
   "metadata": {},
   "source": [
    "# Run the alpha"
   ]
  },
  {
   "cell_type": "code",
   "execution_count": null,
   "metadata": {},
   "outputs": [],
   "source": [
    "# DataManager is a core class of the framework\n",
    "dm = DataManager()\n",
    "\n",
    "# Init alpha class and run\n",
    "alpha = Strategy_DSP_BandPass(dm, **ALPHA_CONTEXT)    "
   ]
  },
  {
   "cell_type": "code",
   "execution_count": null,
   "metadata": {},
   "outputs": [],
   "source": [
    "alpha.run()"
   ]
  },
  {
   "cell_type": "markdown",
   "metadata": {},
   "source": [
    "# Equity"
   ]
  },
  {
   "cell_type": "code",
   "execution_count": null,
   "metadata": {},
   "outputs": [],
   "source": [
    "alpha.stats['series']['equity'].plot()"
   ]
  },
  {
   "cell_type": "code",
   "execution_count": null,
   "metadata": {},
   "outputs": [],
   "source": []
  }
 ],
 "metadata": {
  "kernelspec": {
   "display_name": "Python 3",
   "language": "python",
   "name": "python3"
  },
  "language_info": {
   "codemirror_mode": {
    "name": "ipython",
    "version": 3
   },
   "file_extension": ".py",
   "mimetype": "text/x-python",
   "name": "python",
   "nbconvert_exporter": "python",
   "pygments_lexer": "ipython3",
   "version": "3.6.0"
  }
 },
 "nbformat": 4,
 "nbformat_minor": 2
}
