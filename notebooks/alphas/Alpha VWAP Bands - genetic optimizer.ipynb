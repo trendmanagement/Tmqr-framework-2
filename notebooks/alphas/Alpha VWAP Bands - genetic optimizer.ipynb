{
 "cells": [
  {
   "cell_type": "code",
   "execution_count": null,
   "metadata": {},
   "outputs": [],
   "source": [
    "%load_ext autoreload\n",
    "%autoreload 2\n",
    "%pylab inline"
   ]
  },
  {
   "cell_type": "code",
   "execution_count": null,
   "metadata": {},
   "outputs": [],
   "source": [
    "%load_ext Cython\n",
    "%load_ext line_profiler\n",
    "%load_ext memory_profiler"
   ]
  },
  {
   "cell_type": "markdown",
   "metadata": {},
   "source": [
    "## Import framework main libs"
   ]
  },
  {
   "cell_type": "code",
   "execution_count": null,
   "metadata": {},
   "outputs": [],
   "source": [
    "from tmqrfeed.manager import DataManager\n",
    "from tmqrstrategy.optimizers import OptimizerBase, OptimizerGenetic"
   ]
  },
  {
   "cell_type": "markdown",
   "metadata": {},
   "source": [
    "## Import strategy from module"
   ]
  },
  {
   "cell_type": "code",
   "execution_count": null,
   "metadata": {},
   "outputs": [],
   "source": [
    "from tmqrstrategy import StrategyAlpha\n",
    "import pandas as pd\n",
    "import numpy as np\n",
    "\n",
    "\n",
    "def CrossUp(a, b):\n",
    "    \"\"\"\n",
    "    A crosses up B\n",
    "    \"\"\"\n",
    "    return (a.shift(1) < b.shift(1)) & (a > b)\n",
    "\n",
    "\n",
    "def CrossDown(a, b):\n",
    "    \"\"\"\n",
    "    A crosses down B\n",
    "    \"\"\"\n",
    "    return (a.shift(1) > b.shift(1)) & (a < b)\n",
    "\n",
    "\n",
    "class Strategy_VWAP_Bands(StrategyAlpha):\n",
    "    def calc_entryexit_rules(self, bands_mult_maxval, bands_mult_step, rule_index):\n",
    "        try:\n",
    "            px_df = self.dm.quotes()\n",
    "            \n",
    "            check = px_df['v']\n",
    "        except Exception:\n",
    "            # In case of index based quotes\n",
    "            raise Exception('Use only with ContFut!')\n",
    "            #px_ser = self.dm.quotes()['equity_decision']\n",
    "\n",
    "        vwap = ((px_df.c * px_df.v).cumsum() / px_df.v.cumsum())\n",
    "\n",
    "        vwapbands_df = pd.DataFrame()\n",
    "        vwapbands_df['c'] = px_df.c\n",
    "\n",
    "        vwapbands_df['vwap'] = vwap #= ((vwapbands_df['c'] * vwapbands_df['v']).cumsum() / vwapbands_df['v'].cumsum())\n",
    "\n",
    "        #bands_mult_maxval = bands_mult_maxval # highest value for bands StDev multiplier\n",
    "        #bands_mult_step = bands_mult_step\n",
    "\n",
    "        vwap_exp_std = vwapbands_df['vwap'].expanding().std()\n",
    "\n",
    "        for m in np.arange(bands_mult_step, bands_mult_maxval+bands_mult_step, bands_mult_step):\n",
    "            vwapbands_df['vwap_band_+{}'.format(m)] = vwapbands_df['vwap'] + m * vwap_exp_std\n",
    "            vwapbands_df['vwap_band_-{}'.format(m)] = vwapbands_df['vwap'] - m * vwap_exp_std            \n",
    "        \n",
    "        bands_vwap_df = vwapbands_df.filter(regex='band')\n",
    "        bands_vwap_diff = bands_vwap_df.sub(vwapbands_df.c, axis=0) * -1\n",
    "\n",
    "        bands_vwap_diff_morethan0 = bands_vwap_diff[bands_vwap_diff >= 0]\n",
    "        bands_vwap_diff_lessthan0 = bands_vwap_diff[bands_vwap_diff <= 0]\n",
    "\n",
    "        vwapbands_df['res_level'] = bands_vwap_df[bands_vwap_diff.isin(bands_vwap_diff_morethan0.min(axis=1))].sum(1)\n",
    "\n",
    "        vwapbands_df['sup_level'] = bands_vwap_df[bands_vwap_diff.isin(bands_vwap_diff_lessthan0.max(axis=1))].sum(1)\n",
    "        \n",
    "        if rule_index == 0:\n",
    "            entry_rule = CrossUp(px_df.h, vwapbands_df.res_level.shift(1))\n",
    "            exit_rule = CrossDown(px_df.l, vwapbands_df.sup_level.shift(1))\n",
    "\n",
    "            return entry_rule, exit_rule\n",
    "        \n",
    "        \n",
    "        if rule_index == 1:\n",
    "            entry_rule = CrossDown(px_df.l, vwapbands_df.res_level.shift(1))\n",
    "            exit_rule = CrossUp(px_df.h, vwapbands_df.sup_level.shift(1))\n",
    "\n",
    "            return entry_rule, exit_rule\n",
    "        \n",
    "\n",
    "\n",
    "    def calculate(self, *args):\n",
    "        (direction, bands_mult_maxval, bands_mult_step, rule_index) = args\n",
    "\n",
    "        entry_rule, exit_rule = self.calc_entryexit_rules(bands_mult_maxval, bands_mult_step, rule_index)\n",
    "        return self.exposure(entry_rule, exit_rule, direction)"
   ]
  },
  {
   "cell_type": "code",
   "execution_count": null,
   "metadata": {},
   "outputs": [],
   "source": [
    "ALPHA_CONTEXT = {\n",
    "        'name': 'ES_NewFramework_VWAP_Bands_Test', # Global alpha name, which be used for load/save from DB\n",
    "        'context': { # Strategy specific settings\n",
    "            # These settings only applycable for alphas derived from StrategyAlpha strategy \n",
    "            # StrategyAlpha - is a classic EXO/SmartEXO based alpha\n",
    "            'index_name': 'US.6C_ContFutEOD',      # Name of EXO index to trade\n",
    "            'costs_per_option': 3.0,\n",
    "            'costs_per_contract': 3.0,\n",
    "        },\n",
    "        'wfo_params': {\n",
    "            'window_type': 'rolling',  # Rolling window for IIS values: rolling or expanding\n",
    "            'period': 'M',  # Period of rolling window 'M' - monthly or 'W' - weekly\n",
    "            'oos_periods': 2,  # Number of months is OOS period\n",
    "            'iis_periods': 12,\n",
    "            # Number of months in IIS rolling window (only applicable for 'window_type' == 'rolling')\n",
    "        },\n",
    "        'wfo_optimizer_class': OptimizerGenetic, \n",
    "        'wfo_optimizer_class_kwargs': {\n",
    "            'nbest_count': 3,\n",
    "            'nbest_fitness_method': 'max',\n",
    "            'population_size': 10, \n",
    "            'number_generations': 3, \n",
    "            # 'rand_seed': 1, # Uncomment this parameter to make genetic results repeatable\n",
    "        },\n",
    "        'wfo_opt_params': [\n",
    "            ('direction', [-1]),\n",
    "            ('Bands Multiplier Max Value',  [10,20]),\n",
    "            ('Bands Multiplier Step',  [0.25,1,2]),\n",
    "            ('Rule index', [0,1]),\n",
    "        ],\n",
    "        'wfo_members_count': 1,\n",
    "        'wfo_costs_per_contract': 0.0,\n",
    "        'wfo_scoring_type': 'modsharpe'\n",
    "    }"
   ]
  },
  {
   "cell_type": "markdown",
   "metadata": {},
   "source": [
    "# Run the alpha"
   ]
  },
  {
   "cell_type": "code",
   "execution_count": null,
   "metadata": {},
   "outputs": [],
   "source": [
    "# DataManager is a core class of the framework\n",
    "dm = DataManager()\n",
    "\n",
    "# Init alpha class and run\n",
    "alpha = Strategy_VWAP_Bands(dm, **ALPHA_CONTEXT)    "
   ]
  },
  {
   "cell_type": "code",
   "execution_count": null,
   "metadata": {},
   "outputs": [],
   "source": [
    "alpha.run()"
   ]
  },
  {
   "cell_type": "markdown",
   "metadata": {},
   "source": [
    "# Equity"
   ]
  },
  {
   "cell_type": "code",
   "execution_count": null,
   "metadata": {},
   "outputs": [],
   "source": [
    "alpha.stats['series']['equity'].plot();"
   ]
  },
  {
   "cell_type": "code",
   "execution_count": null,
   "metadata": {},
   "outputs": [],
   "source": [
    "type(alpha.stats)"
   ]
  },
  {
   "cell_type": "code",
   "execution_count": null,
   "metadata": {},
   "outputs": [],
   "source": [
    "alpha.stats['series']['costs'].cumsum().plot()"
   ]
  },
  {
   "cell_type": "code",
   "execution_count": null,
   "metadata": {},
   "outputs": [],
   "source": []
  },
  {
   "cell_type": "code",
   "execution_count": null,
   "metadata": {},
   "outputs": [],
   "source": []
  }
 ],
 "metadata": {
  "kernelspec": {
   "display_name": "Python 3",
   "language": "python",
   "name": "python3"
  },
  "language_info": {
   "codemirror_mode": {
    "name": "ipython",
    "version": 3
   },
   "file_extension": ".py",
   "mimetype": "text/x-python",
   "name": "python",
   "nbconvert_exporter": "python",
   "pygments_lexer": "ipython3",
   "version": "3.6.0"
  }
 },
 "nbformat": 4,
 "nbformat_minor": 2
}
