{
 "cells": [
  {
   "cell_type": "code",
   "execution_count": null,
   "metadata": {},
   "outputs": [],
   "source": [
    "%load_ext autoreload\n",
    "%autoreload 2\n",
    "%pylab inline"
   ]
  },
  {
   "cell_type": "code",
   "execution_count": null,
   "metadata": {},
   "outputs": [],
   "source": [
    "%load_ext Cython\n",
    "%load_ext line_profiler\n",
    "%load_ext memory_profiler"
   ]
  },
  {
   "cell_type": "code",
   "execution_count": null,
   "metadata": {},
   "outputs": [],
   "source": [
    "from tmqrfeed.manager import DataManager\n",
    "from tmqrfeed.quotes.quote_contfut import QuoteContFut\n",
    "from tmqrfeed.costs import Costs\n",
    "from datetime import datetime\n",
    "import pandas as pd\n",
    "from tmqrstrategy import StrategyBase\n",
    "from tmqrstrategy.optimizers import OptimizerBase, OptimizerGenetic\n",
    "\n",
    "\n",
    "\n",
    "def CrossUp(a, b):\n",
    "    \"\"\"\n",
    "    A crosses up B\n",
    "    \"\"\"\n",
    "    return (a.shift(1) < b.shift(1)) & (a > b)\n",
    "\n",
    "\n",
    "def CrossDown(a, b):\n",
    "    \"\"\"\n",
    "    A crosses down B\n",
    "    \"\"\"\n",
    "    return (a.shift(1) > b.shift(1)) & (a < b)\n",
    "\n",
    "\n",
    "class AlphaGeneric(StrategyBase):\n",
    "    def __init__(self, datamanager: DataManager, **kwargs):\n",
    "        super().__init__(datamanager, **kwargs)\n",
    "\n",
    "        self.temp = datetime.now()  # type: pd.DataFrame\n",
    "\n",
    "    def setup(self):\n",
    "        self.dm.series_primary_set(QuoteContFut, 'US.ES',\n",
    "                                   timeframe='D')\n",
    "        self.dm.costs_set('US', Costs())\n",
    "\n",
    "    def calculate(self, *args):\n",
    "        direction = 1\n",
    "        period_slow, period_fast = args\n",
    "\n",
    "        # Defining EXO price\n",
    "        px = self.dm.quotes()['c']\n",
    "\n",
    "        #\n",
    "        #\n",
    "        # Indicator calculation\n",
    "        #\n",
    "        #\n",
    "        slow_ma = px.rolling(period_slow).mean()\n",
    "        fast_ma = px.rolling(period_fast).mean()\n",
    "\n",
    "        # Enry/exit rules\n",
    "        entry_rule = CrossDown(fast_ma, slow_ma)\n",
    "        exit_rule = (CrossUp(fast_ma, slow_ma))\n",
    "\n",
    "        return self.exposure(entry_rule, exit_rule, direction)\n",
    "\n",
    "    def calculate_position(self, date: datetime, exposure_record: pd.DataFrame):\n",
    "        primary_quotes_position = self.dm.position()\n",
    "                \n",
    "\n",
    "        # get net exposure for all members\n",
    "        exposure = exposure_record['exposure'].sum()\n",
    "\n",
    "        # Just replicate primary quotes position\n",
    "        self.position.add_net_position(date, primary_quotes_position.get_net_position(date), qty=exposure)"
   ]
  },
  {
   "cell_type": "code",
   "execution_count": null,
   "metadata": {},
   "outputs": [],
   "source": [
    "import logging\n",
    "from tmqr.logs import log\n",
    "logging.basicConfig(format='%(levelname)s: %(message)s', level=logging.INFO)"
   ]
  },
  {
   "cell_type": "code",
   "execution_count": null,
   "metadata": {},
   "outputs": [],
   "source": [
    "dm = DataManager()\n",
    "\n",
    "ALPHA_CONTEXT = {\n",
    "    'wfo_params': {\n",
    "        'window_type': 'rolling',  # Rolling window for IIS values: rolling or expanding\n",
    "        'period': 'M',  # Period of rolling window 'M' - monthly or 'W' - weekly\n",
    "        'oos_periods': 2,  # Number of months is OOS period\n",
    "        'iis_periods': 12,  # Number of months in IIS rolling window (only applicable for 'window_type' == 'rolling')\n",
    "    },\n",
    "    'optimizer_class': OptimizerBase,\n",
    "    'optimizer_class_kwargs': {\n",
    "        'nbest_count': 3,\n",
    "        'nbest_fitness_method': 'max'\n",
    "    },\n",
    "    'opt_params': [\n",
    "        ('period_slow', [10, 30, 40, 50, 70, 90, 110]),\n",
    "        ('period_fast', [1, 3, 10, 15, 20, 30])\n",
    "    ],\n",
    "    'members_count': 1,\n",
    "    'costs_per_contract': 0.0,\n",
    "    'scoring_type': 'netprofit'\n",
    "}\n",
    "\n",
    "alpha = AlphaGeneric(dm, **ALPHA_CONTEXT)\n",
    "\n",
    "#alpha.run()"
   ]
  },
  {
   "cell_type": "code",
   "execution_count": null,
   "metadata": {},
   "outputs": [],
   "source": [
    "#%lprun -f alpha.run alpha.run()\n",
    "alpha.run()"
   ]
  },
  {
   "cell_type": "code",
   "execution_count": null,
   "metadata": {},
   "outputs": [],
   "source": [
    "equity = alpha.position.get_pnl_series()"
   ]
  },
  {
   "cell_type": "code",
   "execution_count": null,
   "metadata": {},
   "outputs": [],
   "source": [
    "equity.equity_decision.plot()"
   ]
  },
  {
   "cell_type": "code",
   "execution_count": null,
   "metadata": {},
   "outputs": [],
   "source": []
  }
 ],
 "metadata": {
  "kernelspec": {
   "display_name": "Python 3",
   "language": "python",
   "name": "python3"
  },
  "language_info": {
   "codemirror_mode": {
    "name": "ipython",
    "version": 3
   },
   "file_extension": ".py",
   "mimetype": "text/x-python",
   "name": "python",
   "nbconvert_exporter": "python",
   "pygments_lexer": "ipython3",
   "version": "3.6.0"
  }
 },
 "nbformat": 4,
 "nbformat_minor": 2
}
