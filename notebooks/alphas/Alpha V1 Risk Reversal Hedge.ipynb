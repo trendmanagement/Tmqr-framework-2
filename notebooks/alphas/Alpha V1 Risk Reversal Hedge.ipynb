{
 "cells": [
  {
   "cell_type": "code",
   "execution_count": null,
   "metadata": {},
   "outputs": [],
   "source": [
    "%load_ext autoreload\n",
    "%autoreload 2\n",
    "%pylab inline"
   ]
  },
  {
   "cell_type": "code",
   "execution_count": null,
   "metadata": {},
   "outputs": [],
   "source": [
    "%load_ext Cython\n",
    "%load_ext line_profiler\n",
    "%load_ext memory_profiler"
   ]
  },
  {
   "cell_type": "code",
   "execution_count": null,
   "metadata": {},
   "outputs": [],
   "source": [
    "from tmqrfeed.manager import DataManager\n",
    "from tmqralphas.strategy_v1_hedge_with_index import AlphaV1HedgeWithIndex\n",
    "from tmqrstrategy.optimizers import OptimizerBase, OptimizerGenetic\n",
    "            "
   ]
  },
  {
   "cell_type": "code",
   "execution_count": null,
   "metadata": {},
   "outputs": [],
   "source": [
    "import logging\n",
    "from tmqr.logs import log\n",
    "logging.basicConfig(format='%(levelname)s: %(message)s', level=logging.INFO)"
   ]
  },
  {
   "cell_type": "code",
   "execution_count": null,
   "metadata": {},
   "outputs": [],
   "source": [
    "dm = DataManager()\n",
    "\n",
    "ALPHA_CONTEXT = {\n",
    "    'name': 'AlphaV1Exposure_HedgedBy_V2_Index_CL_Long_Aug_21',\n",
    "    'wfo_params': {\n",
    "        'window_type': 'rolling',  # Rolling window for IIS values: rolling or expanding\n",
    "        'period': 'M',  # Period of rolling window 'M' - monthly or 'W' - weekly\n",
    "        'oos_periods': 2,  # Number of months is OOS period\n",
    "        'iis_periods': 12,  # Number of months in IIS rolling window (only applicable for 'window_type' == 'rolling')\n",
    "    },\n",
    "    'wfo_optimizer_class': OptimizerBase,\n",
    "    'wfo_optimizer_class_kwargs': {\n",
    "        'nbest_count': 1,\n",
    "        'nbest_fitness_method': 'max'\n",
    "    },\n",
    "    'wfo_opt_params': [\n",
    "        ('direction', [1]),\n",
    "    ],\n",
    "    'wfo_members_count': 1,\n",
    "    'wfo_costs_per_contract': 0.0,\n",
    "    'wfo_scoring_type': 'netprofit',\n",
    "    \n",
    "    \n",
    "    'context': {\n",
    "        'index_hedge_name': 'US.CL_EXOSemiFuture_Delta25', # Name of the index used for hedge\n",
    "        'index_hedge_direction': -1, # ALLOWED 1, -1, or even 0 - i.e. no hedge\n",
    "        \n",
    "        'instrument': 'US.CL',\n",
    "        'v1_alphas': [\n",
    "            #'CL_ContFut_Short_Strategy_DSP_LPBP_Combination__Bearish_Aug_21_custom',\n",
    "            #'CL_ContFut_Long_Strategy_DSP_LPBP_Combination__Bullish_2_Aug_21_custom',\n",
    "            'CL_ContFut_Long_Strategy_DSP_LPBP_Combination__Bullish_Aug_21_custom',\n",
    "            #'CL_ContFut_Long_IchimokuCloud__Bullish_Jan17custom',\n",
    "        ]\n",
    "    }\n",
    "}\n",
    "\n",
    "alpha = AlphaV1HedgeWithIndex(dm, **ALPHA_CONTEXT)\n",
    "\n",
    "alpha.run()"
   ]
  },
  {
   "cell_type": "markdown",
   "metadata": {},
   "source": [
    "# Cumulative AlphaV1 + V2 Index equity"
   ]
  },
  {
   "cell_type": "code",
   "execution_count": null,
   "metadata": {},
   "outputs": [],
   "source": [
    "figsize(15, 8)\n",
    "\n",
    "equity = alpha.position.get_pnl_series()\n",
    "\n",
    "alpha_equity = alpha.v1_equity.sum(axis=1)\n",
    "hedge_equity = equity.equity_decision\n",
    "\n",
    "hedge_equity.plot(label='V2 Hedge')\n",
    "alpha_equity.plot(label='V1 alphas')\n",
    "\n",
    "#Cumulative\n",
    "(alpha_equity + hedge_equity).plot(label='Cumulative')\n",
    "\n",
    "legend(loc=2)"
   ]
  },
  {
   "cell_type": "markdown",
   "metadata": {},
   "source": [
    "# Framework v1 alpha exposures"
   ]
  },
  {
   "cell_type": "code",
   "execution_count": null,
   "metadata": {},
   "outputs": [],
   "source": [
    "\n",
    "alpha.v1_exposure.sum(axis=1).plot()"
   ]
  },
  {
   "cell_type": "markdown",
   "metadata": {},
   "source": [
    "# Framework v1 alphas  equities"
   ]
  },
  {
   "cell_type": "code",
   "execution_count": null,
   "metadata": {},
   "outputs": [],
   "source": [
    "alpha.v1_equity.plot()\n"
   ]
  },
  {
   "cell_type": "markdown",
   "metadata": {},
   "source": [
    "### Cumulative v1 alphas equity"
   ]
  },
  {
   "cell_type": "code",
   "execution_count": null,
   "metadata": {},
   "outputs": [],
   "source": [
    "alpha.v1_equity.sum(axis=1).plot()"
   ]
  },
  {
   "cell_type": "code",
   "execution_count": null,
   "metadata": {},
   "outputs": [],
   "source": [
    "alpha.save()"
   ]
  },
  {
   "cell_type": "code",
   "execution_count": null,
   "metadata": {},
   "outputs": [],
   "source": []
  },
  {
   "cell_type": "code",
   "execution_count": null,
   "metadata": {},
   "outputs": [],
   "source": []
  }
 ],
 "metadata": {
  "kernelspec": {
   "display_name": "Python 3",
   "language": "python",
   "name": "python3"
  },
  "language_info": {
   "codemirror_mode": {
    "name": "ipython",
    "version": 3
   },
   "file_extension": ".py",
   "mimetype": "text/x-python",
   "name": "python",
   "nbconvert_exporter": "python",
   "pygments_lexer": "ipython3",
   "version": "3.6.0"
  }
 },
 "nbformat": 4,
 "nbformat_minor": 2
}
