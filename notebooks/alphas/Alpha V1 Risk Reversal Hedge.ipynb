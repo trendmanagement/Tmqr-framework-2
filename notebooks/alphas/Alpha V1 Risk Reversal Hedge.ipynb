{
 "cells": [
  {
   "cell_type": "code",
   "execution_count": null,
   "metadata": {},
   "outputs": [],
   "source": [
    "%load_ext autoreload\n",
    "%autoreload 2\n",
    "%pylab inline"
   ]
  },
  {
   "cell_type": "code",
   "execution_count": null,
   "metadata": {},
   "outputs": [],
   "source": [
    "%load_ext Cython\n",
    "%load_ext line_profiler\n",
    "%load_ext memory_profiler"
   ]
  },
  {
   "cell_type": "code",
   "execution_count": null,
   "metadata": {},
   "outputs": [],
   "source": [
    "\n",
    "\n",
    "storage = EXOStorage(MONGO_CONNSTR, MONGO_EXO_DB)\n",
    "\n",
    "alphas = [\n",
    "    'ES_ContFut_Long_DMI_exit_on_indicator__Bullish_0_Feb02_custom',\n",
    "    'ES_ContFut_Long_DMI_exit_on_indicator__Bullish_1_Feb02_custom',\n",
    "    'ES_ContFut_Long_Strategy_Seasonality_DailySeasTracking__Seasonal_Bullish_0_Feb_20_custom',\n",
    "]\n"
   ]
  },
  {
   "cell_type": "code",
   "execution_count": null,
   "metadata": {},
   "outputs": [],
   "source": [
    "dm = DataManager()\n",
    "dm.session_set('US.ES')\n",
    "dm.series_primary_set(QuoteContFut, 'US.ES', timeframe='D')\n"
   ]
  },
  {
   "cell_type": "code",
   "execution_count": null,
   "metadata": {},
   "outputs": [],
   "source": [
    "swarms = storage.swarms_data( alphas)\n",
    "exposure_df = pd.DataFrame({k: v['swarm_series']['exposure'] for k,v in swarms.items()})"
   ]
  },
  {
   "cell_type": "code",
   "execution_count": null,
   "metadata": {},
   "outputs": [],
   "source": [
    "px = dm.quotes()"
   ]
  },
  {
   "cell_type": "code",
   "execution_count": null,
   "metadata": {},
   "outputs": [],
   "source": []
  },
  {
   "cell_type": "code",
   "execution_count": null,
   "metadata": {},
   "outputs": [],
   "source": []
  },
  {
   "cell_type": "code",
   "execution_count": null,
   "metadata": {},
   "outputs": [],
   "source": [
    "from tmqrfeed.manager import DataManager\n",
    "from tmqrfeed.quotes.quote_contfut import QuoteContFut\n",
    "from tmqrfeed.costs import Costs\n",
    "from datetime import datetime\n",
    "import pandas as pd\n",
    "from tmqrstrategy import StrategyBase\n",
    "from tmqrstrategy.optimizers import OptimizerBase, OptimizerGenetic\n",
    "from tmqrfeed.quotes import QuoteIndex\n",
    "\n",
    "# \n",
    "# Using some of V1 libs\n",
    "#\n",
    "from exobuilder.data.exostorage import EXOStorage\n",
    "from scripts.settings import *\n",
    "\n",
    "\n",
    "\n",
    "class AlphaRiskReversalHedge(StrategyBase):\n",
    "    def __init__(self, datamanager: DataManager, **kwargs):\n",
    "        super().__init__(datamanager, **kwargs)\n",
    "\n",
    "\n",
    "    def setup(self):\n",
    "        swarms = storage.swarms_data(self.context['v1_alphas'])\n",
    "        self.exposure_df = pd.DataFrame({k: v['swarm_series']['exposure'] for k,v in swarms.items()})\n",
    "        \n",
    "        \n",
    "        self.dm.session_set(self.context['instrument'])\n",
    "        \n",
    "        self.dm.series_primary_set(QuoteContFut, self.context['instrument'],\n",
    "                                   timeframe='D')        \n",
    "        \n",
    "        HEDGE_IDX_NAME = self.context['index_hedge_name']        \n",
    "        self.dm.series_extra_set('index_hedge', QuoteIndex, HEDGE_IDX_NAME, set_session=True, check_session=True)\n",
    "        \n",
    "        self.dm.costs_set('US', Costs())\n",
    "\n",
    "    def calculate(self, *args):\n",
    "        direction, = args\n",
    "\n",
    "        # Defining EXO price\n",
    "        px = self.dm.quotes()['c']\n",
    "        \n",
    "        #\n",
    "        # Calculating exposure of V1 alphas\n",
    "        #\n",
    "        exposure = self.exposure_df.sum(axis=1)\n",
    "        exposure.index = exposure.index.tz_localize(px.index.tz)\n",
    "        exposure = exposure.reindex(px.index, method='ffill')\n",
    "        \n",
    "        return pd.DataFrame({'exposure': exposure})\n",
    "\n",
    "    def calculate_position(self, date: datetime, exposure_record: pd.DataFrame):\n",
    "        primary_quotes_position = self.dm.position()\n",
    "                \n",
    "\n",
    "        # get net exposure for all members\n",
    "        exposure = exposure_record['exposure'].sum()\n",
    "        \n",
    "        #\n",
    "        # Do new position management magic here\n",
    "        #\n",
    "        index_hedge_position = self.dm.position('index_hedge')\n",
    "        try:\n",
    "            hedge_position_rec = index_hedge_position.get_net_position(date)\n",
    "            # Add index position as hedge\n",
    "            # NOTE: exposure - is a alpha's exporure of trade, when alpha is out of market\n",
    "            #                  exposure equals 0, this means that means no position and hedge\n",
    "            # NOTE: self.context['index_hedge_direction'] allowed 1, -1, or even 0 - i.e. no hedge\n",
    "            self.position.add_net_position(date, hedge_position_rec, qty=abs(exposure)*self.context['index_hedge_direction'])\n",
    "        except PositionNotFoundError as exc:\n",
    "            log.error(f\"Couldn't find hedged index position! {exc}\")\n"
   ]
  },
  {
   "cell_type": "code",
   "execution_count": null,
   "metadata": {},
   "outputs": [],
   "source": [
    "import logging\n",
    "from tmqr.logs import log\n",
    "logging.basicConfig(format='%(levelname)s: %(message)s', level=logging.INFO)"
   ]
  },
  {
   "cell_type": "code",
   "execution_count": null,
   "metadata": {},
   "outputs": [],
   "source": [
    "dm = DataManager()\n",
    "\n",
    "ALPHA_CONTEXT = {\n",
    "    'name': 'AlphaV1Exposure_HedgedBy_V2_Index',\n",
    "    'wfo_params': {\n",
    "        'window_type': 'rolling',  # Rolling window for IIS values: rolling or expanding\n",
    "        'period': 'M',  # Period of rolling window 'M' - monthly or 'W' - weekly\n",
    "        'oos_periods': 2,  # Number of months is OOS period\n",
    "        'iis_periods': 12,  # Number of months in IIS rolling window (only applicable for 'window_type' == 'rolling')\n",
    "    },\n",
    "    'wfo_optimizer_class': OptimizerBase,\n",
    "    'wfo_optimizer_class_kwargs': {\n",
    "        'nbest_count': 1,\n",
    "        'nbest_fitness_method': 'max'\n",
    "    },\n",
    "    'wfo_opt_params': [\n",
    "        ('direction', [1]),\n",
    "    ],\n",
    "    'wfo_members_count': 1,\n",
    "    'wfo_costs_per_contract': 0.0,\n",
    "    'wfo_scoring_type': 'netprofit',\n",
    "    \n",
    "    \n",
    "    'context': {\n",
    "        'index_hedge_name': 'US.CL_EXOSemiFuture_Delta25', # Name of the index used for hedge\n",
    "        'index_hedge_direction': 1, # ALLOWED 1, -1, or even 0 - i.e. no hedge\n",
    "        \n",
    "        'instrument': 'US.CL',\n",
    "        'v1_alphas': [\n",
    "            'CL_ContFut_Long_IchimokuCloud__Bearish_Jan17_2custom',\n",
    "            'CL_ContFut_Long_IchimokuCloud__Bearish_Jan17custom',\n",
    "            'CL_ContFut_Long_IchimokuCloud__Bullish_Jan17_2custom',\n",
    "            'CL_ContFut_Long_IchimokuCloud__Bullish_Jan17custom',\n",
    "        ]\n",
    "    }\n",
    "}\n",
    "\n",
    "alpha = AlphaRiskReversalHedge(dm, **ALPHA_CONTEXT)\n",
    "\n",
    "alpha.run()"
   ]
  },
  {
   "cell_type": "code",
   "execution_count": null,
   "metadata": {},
   "outputs": [],
   "source": [
    "equity = alpha.position.get_pnl_series()"
   ]
  },
  {
   "cell_type": "code",
   "execution_count": null,
   "metadata": {},
   "outputs": [],
   "source": [
    "equity.equity_decision.plot()"
   ]
  },
  {
   "cell_type": "code",
   "execution_count": null,
   "metadata": {},
   "outputs": [],
   "source": []
  }
 ],
 "metadata": {
  "kernelspec": {
   "display_name": "Python 3",
   "language": "python",
   "name": "python3"
  },
  "language_info": {
   "codemirror_mode": {
    "name": "ipython",
    "version": 3
   },
   "file_extension": ".py",
   "mimetype": "text/x-python",
   "name": "python",
   "nbconvert_exporter": "python",
   "pygments_lexer": "ipython3",
   "version": "3.6.0"
  }
 },
 "nbformat": 4,
 "nbformat_minor": 2
}
