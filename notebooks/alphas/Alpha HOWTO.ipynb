{
 "cells": [
  {
   "cell_type": "code",
   "execution_count": null,
   "metadata": {},
   "outputs": [],
   "source": [
    "%load_ext autoreload\n",
    "%autoreload 2\n",
    "%pylab inline"
   ]
  },
  {
   "cell_type": "code",
   "execution_count": null,
   "metadata": {},
   "outputs": [],
   "source": [
    "%load_ext Cython\n",
    "%load_ext line_profiler\n",
    "%load_ext memory_profiler"
   ]
  },
  {
   "cell_type": "markdown",
   "metadata": {},
   "source": [
    "# Alpha development guidelines"
   ]
  },
  {
   "cell_type": "markdown",
   "metadata": {},
   "source": [
    "### Alpha structure \n",
    "Each alpha should implement 3 main methods:\n",
    "- **setup()**\n",
    "In this method you should implement quotes fetching and commissions settings, and any preparations for alpha calculations.\n",
    "\n",
    "- **calculate()**\n",
    "This is main alpha calculation method, this method must return alpha exposure dataframe, you can use self.exposure() helper method to produce exposure from entry/exit rules, or make it by your own.\n",
    "\n",
    "- **calculate_position()**\n",
    "This method used for position construction based on exposure information returned from calculate(), here you can initiate (replicate) EXO index position or setup any custom position you want."
   ]
  },
  {
   "cell_type": "code",
   "execution_count": null,
   "metadata": {},
   "outputs": [],
   "source": [
    "from tmqrfeed.manager import DataManager\n",
    "from tmqrfeed.quotes.quote_contfut import QuoteContFut\n",
    "from tmqrfeed.costs import Costs\n",
    "from datetime import datetime\n",
    "import pandas as pd\n",
    "from tmqrstrategy import StrategyAlpha\n",
    "from tmqrstrategy.optimizers import OptimizerBase, OptimizerGenetic\n",
    "\n",
    "\n",
    "\n",
    "def CrossUp(a, b):\n",
    "    \"\"\"\n",
    "    A crosses up B\n",
    "    \"\"\"\n",
    "    return (a.shift(1) < b.shift(1)) & (a > b)\n",
    "\n",
    "\n",
    "def CrossDown(a, b):\n",
    "    \"\"\"\n",
    "    A crosses down B\n",
    "    \"\"\"\n",
    "    return (a.shift(1) > b.shift(1)) & (a < b)\n",
    "\n",
    "\n",
    "class AlphaSampleHowto(StrategyAlpha):\n",
    "    def __init__(self, datamanager: DataManager, **kwargs):\n",
    "        \n",
    "        # Call parent class __init__ this is always REQUIRED\n",
    "        super().__init__(datamanager, **kwargs)\n",
    "        \n",
    "        # Set some internal alphas parameters if it's required\n",
    "        self.temp = datetime.now()\n",
    "\n",
    "    def setup(self):\n",
    "        # Set the primary quotes in this case this is ContinousFutures US.ES EOD\n",
    "        self.dm.series_primary_set(QuoteContFut, 'US.ES', timeframe='D')\n",
    "        \n",
    "        # Set secondary series for alpha\n",
    "        # For example used same continuous futures series, but any Quote algo can be used\n",
    "        # for example EXO index\n",
    "        self.dm.series_extra_set('CONTFUT', QuoteContFut, 'US.ES', timeframe='D')\n",
    "        \n",
    "        # Set the costs\n",
    "        # COSTS ARE REQUIRED\n",
    "        #self.dm.costs_set('US', Costs()) # This sets zero costs\n",
    "        self.dm.costs_set('US', Costs(per_option=3.0,\n",
    "                                      per_contract=3.0)) # This 3.0 / 3.0 per future and options\n",
    "\n",
    "    def calculate(self, *args):\n",
    "        \"\"\"\n",
    "        Calculate main alpha logic\n",
    "        \"\"\"\n",
    "        direction = 1\n",
    "        \n",
    "        ## *args - is a list of values stored in 'wfo_opt_params' of alpha's context\n",
    "        \n",
    "        # 1-st way to fetch params\n",
    "        period_slow, period_fast = args\n",
    "        \n",
    "        # 2-nd way to fetch params\n",
    "        period_slow = args[0]\n",
    "        period_fast = args[1]\n",
    "\n",
    "        \n",
    "        # self.dm.quotes() - returs pandas.DataFrame with ['o','h','l','c','v'] columns\n",
    "        # Colums names may be diffenernt depending of Quote* algo used in 'def setup(self)' method\n",
    "        \n",
    "        px = self.dm.quotes()['c']\n",
    "        \n",
    "        #\n",
    "        # Fetching extra series set in self.setup()\n",
    "        # \n",
    "        extra_ohlc = self.dm.quotes('CONTFUT')\n",
    "\n",
    "        #\n",
    "        #\n",
    "        # Indicator calculation\n",
    "        #\n",
    "        #\n",
    "        slow_ma = px.rolling(period_slow).mean()\n",
    "        fast_ma = px.rolling(period_fast).mean()\n",
    "\n",
    "        # Enry/exit rules\n",
    "        entry_rule = CrossDown(fast_ma, slow_ma)\n",
    "        exit_rule = (CrossUp(fast_ma, slow_ma))\n",
    "        \n",
    "        #\n",
    "        # IMPORTANT:\n",
    "        #   each alpha should return exposure dataframe (i.e. opened volume of position)\n",
    "        #   - you can use own exposure calculation\n",
    "        #   or\n",
    "        #   - you can use self.exposure() shortcut (refer to the docstrings in the source code) \n",
    "        return self.exposure(entry_rule, exit_rule, direction)\n",
    "\n",
    "    def calculate_position(self, date: datetime, exposure_record: pd.DataFrame):\n",
    "        \"\"\"\n",
    "        This method used for position construction based on exposure information returned from calculate(), \n",
    "        here you can initiate (replicate) EXO index position or setup any custom position you want.\n",
    "        \"\"\"\n",
    "        # Get the position of Quote algo (in this case current cont futures)\n",
    "        primary_quotes_position = self.dm.position()\n",
    "        \n",
    "        # ALSO you can get secondary positions \n",
    "        # secondary_position = self.dm.position('CONTFUT')       \n",
    "\n",
    "        # get net exposure for all members\n",
    "        # exposure_record - is a slice of exposures results of picked alphas at 'date' \n",
    "        \n",
    "        # We are calling sum() because we have multiple records of 'exposure'\n",
    "        # 1-alpha member of best in the swarm per row\n",
    "        exposure = exposure_record['exposure'].sum()\n",
    "\n",
    "        #\n",
    "        # Just replicate primary quotes position\n",
    "        #\n",
    "        replicated_pos = primary_quotes_position.get_net_position(date)\n",
    "        self.position.add_net_position(date, replicated_pos, qty=exposure)"
   ]
  },
  {
   "cell_type": "markdown",
   "metadata": {},
   "source": [
    "# Alpha load/save/run"
   ]
  },
  {
   "cell_type": "markdown",
   "metadata": {},
   "source": [
    "** Simple steps to run/load/save alphas **"
   ]
  },
  {
   "cell_type": "markdown",
   "metadata": {},
   "source": [
    "## Step 1: Load modules"
   ]
  },
  {
   "cell_type": "code",
   "execution_count": null,
   "metadata": {},
   "outputs": [],
   "source": [
    "from tmqrfeed.manager import DataManager\n",
    "from tmqrstrategy.optimizers import OptimizerBase, OptimizerGenetic\n",
    "\n",
    "#\n",
    "# IMPORTANT! To save alpha you must deploy it as stand-alone module\n",
    "#            saving of alphas from notebooks in not allowed!\n",
    "#\n",
    "\n",
    "# Load deployed alpha module\n",
    "from tmqrstrategy.tests.debug_alpha_prototype import AlphaGeneric"
   ]
  },
  {
   "cell_type": "markdown",
   "metadata": {},
   "source": [
    "## Step 2: Set the context and params"
   ]
  },
  {
   "cell_type": "markdown",
   "metadata": {},
   "source": [
    "**WARNING** You should set the context only once at the first time alpha is deployed, then the context will \n",
    "be loaded automatically on each alpha.load() call.\n",
    "\n",
    "So you need set all of the parameters only once, if you would like to change params of deployed alpha you should rerun this alpha ommitting alpha.load() call. \n",
    "\n",
    "**NOTE** Due to stochastic (random) nature of some algorithms (like ML or GeneticOptimizer), there is no guarantee that you will get same results. It's very dangerous to rewrite and rerun alphas which are already deployed and in the production, better to create new version of alpha and gracefully disengage old version."
   ]
  },
  {
   "cell_type": "markdown",
   "metadata": {},
   "source": [
    "### Alpha context settings how to"
   ]
  },
  {
   "cell_type": "markdown",
   "metadata": {},
   "source": [
    "### General settings\n",
    "    'name': 'ES_NewFramework_MACross_Genetic', # Global alpha name, which be used for load/save to DB\n",
    "    \n",
    "    'context': { # Strategy specific settings\n",
    "            # These settings only applycable for alphas derived from StrategyAlpha strategy \n",
    "            # StrategyAlpha - is a classic EXO/SmartEXO based alpha\n",
    "            'index_name': 'US.ES_ContFutEOD',      # Name of EXO index to trade\n",
    "            'costs_per_option': 3.0,\n",
    "            'costs_per_contract': 3.0,\n",
    "        },"
   ]
  },
  {
   "cell_type": "markdown",
   "metadata": {},
   "source": [
    "### Walk-forward optimization parameters:\n",
    "\n",
    "    'wfo_params': {\n",
    "            'window_type': 'rolling',  # Rolling window for IIS values: rolling or expanding\n",
    "            'period': 'M',             # Period of rolling window 'M' - monthly or 'W' - weekly\n",
    "            'oos_periods': 2,          # Number of months is OOS period\n",
    "            'iis_periods': 12,         # Number of months in IIS rolling window and minimal test period len\n",
    "                                       # (only applicable for 'window_type' == 'rolling')\n",
    "        },"
   ]
  },
  {
   "cell_type": "markdown",
   "metadata": {},
   "source": [
    "### Optimizer class parameters\n",
    "By design alpha can use any optimization algorithm, OptimizerClass permutates 'opt_params' and calculate alphas using these params, then it select best alphas by alpha.score() method results, and finally call alpha.pick() to \n",
    "select best performing alphas for each WFO step.\n",
    "\n",
    "'optimizer_class_kwargs' - OptimizerClass parameters, refer to source code to get more info.\n",
    "\n",
    "\n",
    "        'wfo_optimizer_class': OptimizerGenetic,\n",
    "        'wfo_optimizer_class_kwargs': {\n",
    "            'nbest_count': 3,\n",
    "            'nbest_fitness_method': 'max',\n",
    "            'population_size': 50, \n",
    "            'number_generations': 30, \n",
    "            # 'rand_seed': 1, # Uncomment this parameter to make genetic results repeatable\n",
    "        },"
   ]
  },
  {
   "cell_type": "markdown",
   "metadata": {},
   "source": [
    "### Alpha's optimization parameters\n",
    "The order of 'opt_params' list should be the same as arguments order in alpha.calculate() method for particular alpha.\n",
    "\n",
    "        'wfo_opt_params': [\n",
    "            ('period_slow', [10, 30, 40, 50, 70, 90, 110]),\n",
    "            ('period_fast', [1, 3, 10, 15, 20, 30])\n",
    "        ],"
   ]
  },
  {
   "cell_type": "markdown",
   "metadata": {},
   "source": [
    "### WFO Scoring functions params\n",
    "- 'wfo_members_count' - number of picked alphas at each out-of-sample WFO step\n",
    "- 'wfo_costs_per_contract' - costs in USD per contract used in WFO scoring functions (used only for alphas picking!, you should set costs explicitly for each alpha in the alpha.setup() method)\n",
    "- 'wfo_scoring_type' - type of scoring function to rank alphas on in-sample period of WFO\n",
    "\n",
    "\n",
    "        'wfo_members_count': 1,\n",
    "        'wfo_costs_per_contract': 0.0,\n",
    "        'wfo_scoring_type': 'netprofit'"
   ]
  },
  {
   "cell_type": "code",
   "execution_count": null,
   "metadata": {},
   "outputs": [],
   "source": [
    "ALPHA_CONTEXT = {\n",
    "        'name': 'ES_NewFramework_MACross_Genetic', # Global alpha name, which be used for load/save from DB\n",
    "        'context': { # Strategy specific settings\n",
    "            # These settings only applycable for alphas derived from StrategyAlpha strategy \n",
    "            # StrategyAlpha - is a classic EXO/SmartEXO based alpha\n",
    "            'index_name': 'US.ES_ContFutEOD',      # Name of EXO index to trade\n",
    "            'costs_per_option': 3.0,\n",
    "            'costs_per_contract': 3.0,\n",
    "        },\n",
    "        'wfo_params': {\n",
    "            'window_type': 'rolling',  # Rolling window for IIS values: rolling or expanding\n",
    "            'period': 'M',  # Period of rolling window 'M' - monthly or 'W' - weekly\n",
    "            'oos_periods': 2,  # Number of months is OOS period\n",
    "            'iis_periods': 12,\n",
    "            # Number of months in IIS rolling window (only applicable for 'window_type' == 'rolling')\n",
    "        },\n",
    "        'wfo_optimizer_class': OptimizerBase,\n",
    "        'wfo_optimizer_class_kwargs': {\n",
    "            'nbest_count': 3,\n",
    "            'nbest_fitness_method': 'max'\n",
    "        },\n",
    "        'wfo_opt_params': [\n",
    "            ('period_slow', [10, 30, 40, 50, 70, 90, 110]),\n",
    "            ('period_fast', [1, 3, 10, 15, 20, 30])\n",
    "        ],\n",
    "        'wfo_members_count': 1,\n",
    "        'wfo_costs_per_contract': 0.0,\n",
    "        'wfo_scoring_type': 'netprofit'\n",
    "    }"
   ]
  },
  {
   "cell_type": "markdown",
   "metadata": {},
   "source": [
    "### Step 3: Init and run alpha (first run / development / first deployment case)"
   ]
  },
  {
   "cell_type": "code",
   "execution_count": null,
   "metadata": {},
   "outputs": [],
   "source": [
    "# DataManager is a core class of the framework\n",
    "dm = DataManager()\n",
    "\n",
    "# Init alpha class and run\n",
    "alpha = AlphaGeneric(dm, **ALPHA_CONTEXT)    "
   ]
  },
  {
   "cell_type": "code",
   "execution_count": null,
   "metadata": {},
   "outputs": [],
   "source": [
    "# Run alpha's WFO optimization from scratch\n",
    "alpha.run()"
   ]
  },
  {
   "cell_type": "markdown",
   "metadata": {},
   "source": [
    "## Step 4: now we are ready to save"
   ]
  },
  {
   "cell_type": "code",
   "execution_count": null,
   "metadata": {},
   "outputs": [],
   "source": [
    "alpha.save()\n",
    "\n",
    "print(f\"Saved alpha with name: {ALPHA_CONTEXT['name']}\")"
   ]
  },
  {
   "cell_type": "markdown",
   "metadata": {},
   "source": [
    "## Step 5: Ready for online use"
   ]
  },
  {
   "cell_type": "code",
   "execution_count": null,
   "metadata": {},
   "outputs": [],
   "source": [
    "# Load deployed alpha module\n",
    "from tmqrstrategy.tests.debug_alpha_prototype import AlphaGeneric\n",
    "\n",
    "# Or load Strategy base\n",
    "from tmqrstrategy import StrategyBase"
   ]
  },
  {
   "cell_type": "code",
   "execution_count": null,
   "metadata": {},
   "outputs": [],
   "source": [
    "# Init the environment\n",
    "dm2 = DataManager()\n",
    "\n",
    "# Do first run\n",
    "alpha_name = ALPHA_CONTEXT['name']\n",
    "\n",
    "# Call <AlphaClass>.load(datamanager, alpha_name)\n",
    "saved_alpha = AlphaGeneric.load(dm2, alpha_name)\n",
    "\n",
    "# BOTH METHODS ARE EQUAL!\n",
    "\n",
    "# Call StrategyBase.load(datamanager, alpha_name)\n",
    "# StrategyBase - can be more usefun in online scripts\n",
    "saved_alpha = StrategyBase.load(dm2, alpha_name)\n",
    "\n",
    "# The alpha.run() - only calculate recent data, and do another WFO step if required\n",
    "saved_alpha.run()\n",
    "\n",
    "# Save it again!\n",
    "saved_alpha.save()\n",
    "\n",
    "\n",
    "#\n",
    "# Finally you are ready to process alpha's positions for campaings!\n",
    "#"
   ]
  },
  {
   "cell_type": "markdown",
   "metadata": {},
   "source": [
    "# Alpha information"
   ]
  },
  {
   "cell_type": "markdown",
   "metadata": {},
   "source": [
    "After alpha has been run, you can get some information about the process."
   ]
  },
  {
   "cell_type": "markdown",
   "metadata": {},
   "source": [
    "## Alpha equity and position"
   ]
  },
  {
   "cell_type": "markdown",
   "metadata": {},
   "source": [
    "### Option 1: generate equity from alpha's position (dynamicaly)"
   ]
  },
  {
   "cell_type": "code",
   "execution_count": null,
   "metadata": {},
   "outputs": [],
   "source": [
    "equity_data = alpha.position.get_pnl_series()"
   ]
  },
  {
   "cell_type": "code",
   "execution_count": null,
   "metadata": {},
   "outputs": [],
   "source": [
    "equity_data.tail()"
   ]
  },
  {
   "cell_type": "code",
   "execution_count": null,
   "metadata": {},
   "outputs": [],
   "source": [
    "# Equity based on decision price\n",
    "equity_data['equity_decision'].plot();"
   ]
  },
  {
   "cell_type": "code",
   "execution_count": null,
   "metadata": {},
   "outputs": [],
   "source": [
    "# Equity based on execution price\n",
    "equity_data['equity_execution'].plot();"
   ]
  },
  {
   "cell_type": "markdown",
   "metadata": {},
   "source": [
    "### Option 2: get equity from stats (statically - i.e. this field saved in the DB)"
   ]
  },
  {
   "cell_type": "code",
   "execution_count": null,
   "metadata": {},
   "outputs": [],
   "source": [
    "alpha.stats['series'].tail()"
   ]
  },
  {
   "cell_type": "code",
   "execution_count": null,
   "metadata": {},
   "outputs": [],
   "source": [
    "alpha.stats['series']['equity'].plot();"
   ]
  },
  {
   "cell_type": "markdown",
   "metadata": {},
   "source": [
    "## Alpha position fetching"
   ]
  },
  {
   "cell_type": "code",
   "execution_count": null,
   "metadata": {},
   "outputs": [],
   "source": [
    "alpha.position"
   ]
  },
  {
   "cell_type": "code",
   "execution_count": null,
   "metadata": {},
   "outputs": [],
   "source": [
    "position_last_date = alpha.position.last_date\n",
    "print(position_last_date)"
   ]
  },
  {
   "cell_type": "code",
   "execution_count": null,
   "metadata": {},
   "outputs": [],
   "source": [
    "# Delta of the alpha at last date \n",
    "alpha.position.delta(position_last_date)"
   ]
  },
  {
   "cell_type": "markdown",
   "metadata": {},
   "source": [
    "## Alpha exposure"
   ]
  },
  {
   "cell_type": "markdown",
   "metadata": {},
   "source": [
    "This a historical series of 'exposure' dataframe returned by calculate only at out-of-sample step of WFO. "
   ]
  },
  {
   "cell_type": "code",
   "execution_count": null,
   "metadata": {},
   "outputs": [],
   "source": [
    "alpha.exposure_series.tail()"
   ]
  },
  {
   "cell_type": "code",
   "execution_count": null,
   "metadata": {},
   "outputs": [],
   "source": []
  }
 ],
 "metadata": {
  "kernelspec": {
   "display_name": "Python 3",
   "language": "python",
   "name": "python3"
  },
  "language_info": {
   "codemirror_mode": {
    "name": "ipython",
    "version": 3
   },
   "file_extension": ".py",
   "mimetype": "text/x-python",
   "name": "python",
   "nbconvert_exporter": "python",
   "pygments_lexer": "ipython3",
   "version": "3.6.0"
  }
 },
 "nbformat": 4,
 "nbformat_minor": 2
}
