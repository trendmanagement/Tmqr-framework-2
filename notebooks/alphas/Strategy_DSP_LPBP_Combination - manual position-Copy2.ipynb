{
 "cells": [
  {
   "cell_type": "code",
   "execution_count": null,
   "metadata": {},
   "outputs": [],
   "source": [
    "%load_ext autoreload\n",
    "%autoreload 2\n",
    "%pylab inline"
   ]
  },
  {
   "cell_type": "code",
   "execution_count": null,
   "metadata": {},
   "outputs": [],
   "source": [
    "%load_ext Cython\n",
    "%load_ext line_profiler\n",
    "%load_ext memory_profiler"
   ]
  },
  {
   "cell_type": "markdown",
   "metadata": {},
   "source": [
    "## Import framework main libs"
   ]
  },
  {
   "cell_type": "code",
   "execution_count": null,
   "metadata": {},
   "outputs": [],
   "source": [
    "from tmqrfeed.manager import DataManager\n",
    "from tmqrstrategy.optimizers import OptimizerBase, OptimizerGenetic\n"
   ]
  },
  {
   "cell_type": "markdown",
   "metadata": {},
   "source": [
    "## Import strategy from module"
   ]
  },
  {
   "cell_type": "code",
   "execution_count": null,
   "metadata": {},
   "outputs": [],
   "source": [
    "from tmqralphas.strategy_dsp_lpbp_combination import Strategy_DSP_LPBP_Combination"
   ]
  },
  {
   "cell_type": "markdown",
   "metadata": {},
   "source": [
    "# Strategy inheritance trick!"
   ]
  },
  {
   "cell_type": "markdown",
   "metadata": {},
   "source": [
    "We inherited Strategy_DSP_LPBP_Combination strategy the logic remains the same, but position management in different."
   ]
  },
  {
   "cell_type": "code",
   "execution_count": null,
   "metadata": {},
   "outputs": [],
   "source": [
    "import pandas as pd\n",
    "from tmqrfeed.quotes import QuoteIndex\n",
    "from tmqr.logs import log\n",
    "from tmqr.errors import PositionNotFoundError\n",
    "\n",
    "\n",
    "class Strategy_DSP_LPBP_ManualPositionHedge(Strategy_DSP_LPBP_Combination):    \n",
    "    #\n",
    "    # Manually compose position of alpha\n",
    "    #\n",
    "    def calculate_position(self, date: datetime, exposure_record: pd.DataFrame):\n",
    "\n",
    "        # We are calling sum() because we have multiple records of 'exposure'\n",
    "        # 1-alpha member of best in the swarm per row\n",
    "        if 'exposure' not in exposure_record:\n",
    "            raise StrategyError(\n",
    "                \"'exposure_record' expected to have 'exposure' column, check alpha's calculate(...) method \"\n",
    "                \"to make sure that it returns valid pandas.DataFrame with exposure column or just check \"\n",
    "                \"for 'return self.exposure(...)' in the last line\")\n",
    "        exposure = exposure_record['exposure'].sum()\n",
    "        \n",
    "        #\n",
    "        # Keep previous position\n",
    "        #     Otherwise you have to construct position from scratch at the beginning of each day\n",
    "        self.position.keep_previous_position(date)\n",
    "        \n",
    "        # You MUST also manage expired position \n",
    "        if self.position.almost_expired_ratio(date) > 0:\n",
    "            self.position.close(date)\n",
    "        \n",
    "        if not self.position.has_position(date):\n",
    "            if exposure != 0:\n",
    "                # Getting instrument name from index name \n",
    "                # 'US.ES_ContFutEOD' -> 'US.ES'\n",
    "                instrument_name = self.context['index_name'].split('_')[0]\n",
    "                \n",
    "                fut, opt_chain = self.dm.chains_options_get(instrument_name, date)\n",
    "                \n",
    "                # set the primary position\n",
    "                self.position.add_transaction(date, fut, exposure)        \n",
    "                \n",
    "                \n",
    "                if exposure > 0:\n",
    "                    # Hedgind long alphas exposures by long put\n",
    "                    #self.position.add_transaction(date, opt_chain.find(date, 0.25, 'P', how='delta'), -3.0 * exposure) \n",
    "                    self.position.add_transaction(date, opt_chain.find(date, 0.55, 'P', how='delta'), -1.0 * exposure) \n",
    "                elif exposure < 0:\n",
    "                    # Hedgind short alphas exposures by long put\n",
    "                    self.position.add_transaction(date, opt_chain.find(date, 0.15, 'C', how='delta'), -2.0 * exposure)        \n",
    "        else:\n",
    "            if exposure == 0:\n",
    "                # Close all\n",
    "                self.position.close(date)\n",
    "    "
   ]
  },
  {
   "cell_type": "code",
   "execution_count": null,
   "metadata": {},
   "outputs": [],
   "source": [
    "ALPHA_CONTEXT = {\n",
    "        'name': 'ES_NewStrategy_DSP_LPBP_Combination_With_ManualHedge', # Global alpha name, which be used for load/save from DB\n",
    "        'context': { # Strategy specific settings\n",
    "            # These settings only applycable for alphas derived from StrategyAlpha strategy \n",
    "            # StrategyAlpha - is a classic EXO/SmartEXO based alpha\n",
    "            'index_name': 'US.ES_ContFutEOD',      # Name of EXO index to trade         \n",
    "            'costs_per_option': 3.0,\n",
    "            'costs_per_contract': 3.0,\n",
    "        },\n",
    "        'wfo_params': {\n",
    "            'window_type': 'rolling',  # Rolling window for IIS values: rolling or expanding\n",
    "            'period': 'M',  # Period of rolling window 'M' - monthly or 'W' - weekly\n",
    "            'oos_periods': 2,  # Number of months is OOS period\n",
    "            'iis_periods': 20,\n",
    "            # Number of months in IIS rolling window (only applicable for 'window_type' == 'rolling')\n",
    "        },\n",
    "        'wfo_optimizer_class': OptimizerGenetic, \n",
    "        'wfo_optimizer_class_kwargs': {\n",
    "            'nbest_count': 3,\n",
    "            'nbest_fitness_method': 'max',\n",
    "            'population_size': 4, \n",
    "            'number_generations': 30, \n",
    "             'rand_seed': 1, # Uncomment this parameter to make genetic results repeatable\n",
    "        },\n",
    "        'wfo_opt_params': [\n",
    "                ('Direction', [1]),\n",
    "                ('LP order',[0,1,2,3,4,5,6,7,8,9,10,11,12,13]),\n",
    "                ('LP freq',[0.7]), # 0 > f < 1\n",
    "                ('BP order',[0,1,2,3,4,5,6,7,8,9]),\n",
    "                ('BP start freq', [0.2986, 0.296, 0.297, 0.2944, 0.2995]),\n",
    "                ('BP stop freq',   [0.01]),\n",
    "                ('BP multiplier',[-10,-9,-8,-7,-6,-5,-4, -3,-2,-1,0,1,2,3,4,5,6,7,8,9,10] ),\n",
    "                ('Rule index',   [3] ),                        \n",
    "            ],\n",
    "        'wfo_members_count': 1,\n",
    "        'wfo_costs_per_contract': 0.0,\n",
    "        'wfo_scoring_type': 'netprofit'\n",
    "    }"
   ]
  },
  {
   "cell_type": "markdown",
   "metadata": {},
   "source": [
    "# Run the alpha"
   ]
  },
  {
   "cell_type": "code",
   "execution_count": null,
   "metadata": {},
   "outputs": [],
   "source": [
    "# DataManager is a core class of the framework\n",
    "dm = DataManager(start_date=datetime.datetime(2016, 4, 1))\n",
    "#dm = DataManager()\n",
    "\n",
    "# Init alpha class and run\n",
    "alpha = Strategy_DSP_LPBP_ManualPositionHedge(dm, **ALPHA_CONTEXT)    "
   ]
  },
  {
   "cell_type": "code",
   "execution_count": null,
   "metadata": {},
   "outputs": [],
   "source": [
    "alpha.run()"
   ]
  },
  {
   "cell_type": "markdown",
   "metadata": {},
   "source": [
    "# Equity"
   ]
  },
  {
   "cell_type": "code",
   "execution_count": null,
   "metadata": {},
   "outputs": [],
   "source": [
    "alpha.stats['series']['equity'].plot()"
   ]
  },
  {
   "cell_type": "code",
   "execution_count": null,
   "metadata": {},
   "outputs": [],
   "source": [
    "#alpha.save()"
   ]
  },
  {
   "cell_type": "markdown",
   "metadata": {},
   "source": [
    "# Position holdings"
   ]
  },
  {
   "cell_type": "code",
   "execution_count": null,
   "metadata": {},
   "outputs": [],
   "source": []
  },
  {
   "cell_type": "markdown",
   "metadata": {},
   "source": [
    "#### Position hedge proof: alpha uses ES furues as primary position and options (from index position) as hedge"
   ]
  },
  {
   "cell_type": "code",
   "execution_count": null,
   "metadata": {},
   "outputs": [],
   "source": [
    "for asset, pos_rec in alpha.position.get_net_position(pd.Timestamp('2017-05-02 12:45:00-07:00')).items():\n",
    "    print(f'{asset} qty: {pos_rec[2]}')"
   ]
  },
  {
   "cell_type": "code",
   "execution_count": null,
   "metadata": {},
   "outputs": [],
   "source": []
  }
 ],
 "metadata": {
  "kernelspec": {
   "display_name": "Python 3",
   "language": "python",
   "name": "python3"
  },
  "language_info": {
   "codemirror_mode": {
    "name": "ipython",
    "version": 3
   },
   "file_extension": ".py",
   "mimetype": "text/x-python",
   "name": "python",
   "nbconvert_exporter": "python",
   "pygments_lexer": "ipython3",
   "version": "3.6.0"
  }
 },
 "nbformat": 4,
 "nbformat_minor": 2
}
